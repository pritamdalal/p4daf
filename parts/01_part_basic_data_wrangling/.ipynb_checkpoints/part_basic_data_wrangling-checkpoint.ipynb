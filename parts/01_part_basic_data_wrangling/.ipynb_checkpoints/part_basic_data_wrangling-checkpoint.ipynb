{
 "cells": [
  {
   "cell_type": "markdown",
   "id": "66f7e33d-5614-4487-953a-3f21af5d5c80",
   "metadata": {},
   "source": [
    "# Basic Data Wrangling"
   ]
  },
  {
   "cell_type": "code",
   "execution_count": null,
   "id": "d70e8fc5-c3b8-4992-8a92-2fee386d616d",
   "metadata": {},
   "outputs": [],
   "source": []
  }
 ],
 "metadata": {
  "kernelspec": {
   "display_name": "python3",
   "language": "python",
   "name": "python3"
  }
 },
 "nbformat": 4,
 "nbformat_minor": 5
}
