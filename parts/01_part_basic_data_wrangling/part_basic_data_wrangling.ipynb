{
 "cells": [
  {
   "cell_type": "markdown",
   "id": "66f7e33d-5614-4487-953a-3f21af5d5c80",
   "metadata": {},
   "source": [
    "# Basic Data Wrangling"
   ]
  },
  {
   "cell_type": "markdown",
   "id": "b8d803d8-f1a8-4a0e-a03d-fd7b96c40f35",
   "metadata": {},
   "source": [
    "---"
   ]
  }
 ],
 "metadata": {
  "kernelspec": {
   "display_name": "python3",
   "language": "python",
   "name": "python3"
  }
 },
 "nbformat": 4,
 "nbformat_minor": 5
}
