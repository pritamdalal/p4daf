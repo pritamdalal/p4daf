{
 "cells": [
  {
   "cell_type": "markdown",
   "id": "07d5832a-a247-4b70-a22b-b58237642387",
   "metadata": {},
   "source": [
    "# Visualization"
   ]
  },
  {
   "cell_type": "markdown",
   "id": "843fb3c2-419e-4a60-a774-24556b1c9487",
   "metadata": {},
   "source": [
    "---"
   ]
  },
  {
   "cell_type": "markdown",
   "id": "f7099e71-0602-4a8e-a8f0-aa97a8608b02",
   "metadata": {},
   "source": [
    "Unlike R, in which a single package (**ggplot2**) has become the de facto standard for visualization, in Python there are a variety of packages that form a visualization ecosystem.  The **matplotlib** package is the foundation of much of this ecosystem, and many elements of this ecosystem can be thought of as wrappers around **matplotlib**.  Such packages include **seaborn** and also the visualization tools in **pandas** which we discuss here."
   ]
  }
 ],
 "metadata": {
  "kernelspec": {
   "display_name": "python3",
   "language": "python",
   "name": "python3"
  }
 },
 "nbformat": 4,
 "nbformat_minor": 5
}
