{
 "cells": [
  {
   "cell_type": "markdown",
   "id": "1bfe08b9-4752-4430-9c99-8ce28ef4d030",
   "metadata": {},
   "source": [
    "# Neural Networks"
   ]
  },
  {
   "cell_type": "markdown",
   "id": "3949a246-df47-4a24-9069-549bee6f9068",
   "metadata": {},
   "source": [
    "---"
   ]
  },
  {
   "cell_type": "code",
   "execution_count": null,
   "id": "074d66b8-e7b5-408e-a950-10c6593a372e",
   "metadata": {},
   "outputs": [],
   "source": []
  }
 ],
 "metadata": {
  "kernelspec": {
   "display_name": "python3",
   "language": "python",
   "name": "python3"
  }
 },
 "nbformat": 4,
 "nbformat_minor": 5
}
