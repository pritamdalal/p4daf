{
 "cells": [
  {
   "cell_type": "markdown",
   "id": "d38f071a-39da-4601-a74c-59460ba0298a",
   "metadata": {},
   "source": [
    "# Natural Language Processing"
   ]
  },
  {
   "cell_type": "markdown",
   "id": "d3a5a733-990b-41c8-90d9-e40a77607444",
   "metadata": {},
   "source": [
    "---"
   ]
  }
 ],
 "metadata": {
  "kernelspec": {
   "display_name": "python3",
   "language": "python",
   "name": "python3"
  }
 },
 "nbformat": 4,
 "nbformat_minor": 5
}
