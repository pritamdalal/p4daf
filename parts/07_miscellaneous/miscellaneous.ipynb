{
 "cells": [
  {
   "cell_type": "markdown",
   "id": "a2571b0f-a524-496d-a2d7-ea0933f44e49",
   "metadata": {},
   "source": [
    "# Miscellaneous"
   ]
  },
  {
   "cell_type": "markdown",
   "id": "36ef5693-f92c-491f-b0bd-2a87d50f3668",
   "metadata": {},
   "source": [
    "---"
   ]
  },
  {
   "cell_type": "code",
   "execution_count": null,
   "id": "9a125e63-2dcf-4c37-963d-e40d0c7f5a0b",
   "metadata": {},
   "outputs": [],
   "source": []
  }
 ],
 "metadata": {
  "kernelspec": {
   "display_name": "python3",
   "language": "python",
   "name": "python3"
  }
 },
 "nbformat": 4,
 "nbformat_minor": 5
}
