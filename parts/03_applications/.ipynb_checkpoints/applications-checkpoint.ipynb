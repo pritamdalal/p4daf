{
 "cells": [
  {
   "cell_type": "markdown",
   "id": "07d5832a-a247-4b70-a22b-b58237642387",
   "metadata": {},
   "source": [
    "# Applications"
   ]
  },
  {
   "cell_type": "markdown",
   "id": "843fb3c2-419e-4a60-a774-24556b1c9487",
   "metadata": {},
   "source": [
    "---"
   ]
  }
 ],
 "metadata": {
  "kernelspec": {
   "display_name": "python3",
   "language": "python",
   "name": "python3"
  }
 },
 "nbformat": 4,
 "nbformat_minor": 5
}
