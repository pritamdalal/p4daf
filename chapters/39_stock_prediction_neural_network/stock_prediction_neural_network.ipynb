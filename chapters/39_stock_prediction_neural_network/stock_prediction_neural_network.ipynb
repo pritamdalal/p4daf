{
 "cells": [
  {
   "cell_type": "markdown",
   "metadata": {},
   "source": [
    "# Stock Returns: Neural Network"
   ]
  },
  {
   "cell_type": "markdown",
   "metadata": {},
   "source": [
    "Our objective in this chapter is to predict stock returns using dense feed-forward neural networks.  Specifically, we will try to predict the daily returns of MSFT from the returns of various correlated assets including stock indices, currencies, and other stocks.\n",
    "\n",
    "We will begin by first reviewing our previous work in which we use linear regression and nearest neighbors to predict MSFT returns."
   ]
  },
  {
   "cell_type": "markdown",
   "metadata": {},
   "source": [
    "## Import Packages"
   ]
  },
  {
   "cell_type": "markdown",
   "metadata": {},
   "source": [
    "Let's begin by importing the initial packages that we will need."
   ]
  },
  {
   "cell_type": "code",
   "execution_count": null,
   "metadata": {},
   "outputs": [],
   "source": [
    "import numpy as np\n",
    "import pandas as pd\n",
    "import yfinance as yf\n",
    "yf.pdr_override()\n",
    "from pandas_datareader import data as pdr\n",
    "import sklearn"
   ]
  },
  {
   "cell_type": "markdown",
   "metadata": {},
   "source": [
    "## Read-In Data"
   ]
  },
  {
   "cell_type": "markdown",
   "metadata": {},
   "source": [
    "Next, let's read-in our data.  We will start the stocks, whose data we will get from Yahoo."
   ]
  },
  {
   "cell_type": "code",
   "execution_count": null,
   "metadata": {},
   "outputs": [
    {
     "name": "stdout",
     "output_type": "stream",
     "text": [
      "[*********************100%***********************]  3 of 3 completed\n"
     ]
    },
    {
     "data": {
      "text/html": [
       "<div>\n",
       "<style scoped>\n",
       "    .dataframe tbody tr th:only-of-type {\n",
       "        vertical-align: middle;\n",
       "    }\n",
       "\n",
       "    .dataframe tbody tr th {\n",
       "        vertical-align: top;\n",
       "    }\n",
       "\n",
       "    .dataframe thead th {\n",
       "        text-align: right;\n",
       "    }\n",
       "</style>\n",
       "<table border=\"1\" class=\"dataframe\">\n",
       "  <thead>\n",
       "    <tr style=\"text-align: right;\">\n",
       "      <th></th>\n",
       "      <th>googl</th>\n",
       "      <th>ibm</th>\n",
       "      <th>msft</th>\n",
       "    </tr>\n",
       "    <tr>\n",
       "      <th>trade_date</th>\n",
       "      <th></th>\n",
       "      <th></th>\n",
       "      <th></th>\n",
       "    </tr>\n",
       "  </thead>\n",
       "  <tbody>\n",
       "    <tr>\n",
       "      <th>2005-01-03</th>\n",
       "      <td>5.072823</td>\n",
       "      <td>53.707935</td>\n",
       "      <td>18.733006</td>\n",
       "    </tr>\n",
       "    <tr>\n",
       "      <th>2005-01-04</th>\n",
       "      <td>4.867367</td>\n",
       "      <td>53.131031</td>\n",
       "      <td>18.803051</td>\n",
       "    </tr>\n",
       "    <tr>\n",
       "      <th>2005-01-05</th>\n",
       "      <td>4.842593</td>\n",
       "      <td>53.021145</td>\n",
       "      <td>18.761021</td>\n",
       "    </tr>\n",
       "    <tr>\n",
       "      <th>2005-01-06</th>\n",
       "      <td>4.718468</td>\n",
       "      <td>52.856293</td>\n",
       "      <td>18.740004</td>\n",
       "    </tr>\n",
       "    <tr>\n",
       "      <th>2005-01-07</th>\n",
       "      <td>4.851101</td>\n",
       "      <td>52.625534</td>\n",
       "      <td>18.683964</td>\n",
       "    </tr>\n",
       "    <tr>\n",
       "      <th>...</th>\n",
       "      <td>...</td>\n",
       "      <td>...</td>\n",
       "      <td>...</td>\n",
       "    </tr>\n",
       "    <tr>\n",
       "      <th>2021-07-26</th>\n",
       "      <td>134.035004</td>\n",
       "      <td>122.236855</td>\n",
       "      <td>283.364075</td>\n",
       "    </tr>\n",
       "    <tr>\n",
       "      <th>2021-07-27</th>\n",
       "      <td>131.899994</td>\n",
       "      <td>122.219727</td>\n",
       "      <td>280.903473</td>\n",
       "    </tr>\n",
       "    <tr>\n",
       "      <th>2021-07-28</th>\n",
       "      <td>136.093994</td>\n",
       "      <td>121.380669</td>\n",
       "      <td>280.589752</td>\n",
       "    </tr>\n",
       "    <tr>\n",
       "      <th>2021-07-29</th>\n",
       "      <td>135.777496</td>\n",
       "      <td>121.517654</td>\n",
       "      <td>280.864166</td>\n",
       "    </tr>\n",
       "    <tr>\n",
       "      <th>2021-07-30</th>\n",
       "      <td>134.726501</td>\n",
       "      <td>120.687180</td>\n",
       "      <td>279.305511</td>\n",
       "    </tr>\n",
       "  </tbody>\n",
       "</table>\n",
       "<p>4173 rows × 3 columns</p>\n",
       "</div>"
      ],
      "text/plain": [
       "                 googl         ibm        msft\n",
       "trade_date                                    \n",
       "2005-01-03    5.072823   53.707935   18.733006\n",
       "2005-01-04    4.867367   53.131031   18.803051\n",
       "2005-01-05    4.842593   53.021145   18.761021\n",
       "2005-01-06    4.718468   52.856293   18.740004\n",
       "2005-01-07    4.851101   52.625534   18.683964\n",
       "...                ...         ...         ...\n",
       "2021-07-26  134.035004  122.236855  283.364075\n",
       "2021-07-27  131.899994  122.219727  280.903473\n",
       "2021-07-28  136.093994  121.380669  280.589752\n",
       "2021-07-29  135.777496  121.517654  280.864166\n",
       "2021-07-30  134.726501  120.687180  279.305511\n",
       "\n",
       "[4173 rows x 3 columns]"
      ]
     },
     "execution_count": null,
     "metadata": {},
     "output_type": "execute_result"
    }
   ],
   "source": [
    "stock_tickers = ['MSFT', 'IBM', 'GOOGL'] # define tickers\n",
    "df_stock = pdr.get_data_yahoo(stock_tickers, start='2005-01-01', end='2021-07-31') # grab the data\n",
    "df_stock = df_stock['Adj Close'] # select only the adjusted close price\n",
    "df_stock.columns = df_stock.columns.str.lower() # clean-up column names\n",
    "df_stock.rename_axis('trade_date', inplace=True) # clean-up index name\n",
    "df_stock.rename_axis('', axis=1, inplace=True) # clean-up index name\n",
    "df_stock"
   ]
  },
  {
   "cell_type": "markdown",
   "metadata": {},
   "source": [
    "Next, we'll grab the currency data from FRED."
   ]
  },
  {
   "cell_type": "code",
   "execution_count": null,
   "metadata": {},
   "outputs": [
    {
     "data": {
      "text/html": [
       "<div>\n",
       "<style scoped>\n",
       "    .dataframe tbody tr th:only-of-type {\n",
       "        vertical-align: middle;\n",
       "    }\n",
       "\n",
       "    .dataframe tbody tr th {\n",
       "        vertical-align: top;\n",
       "    }\n",
       "\n",
       "    .dataframe thead th {\n",
       "        text-align: right;\n",
       "    }\n",
       "</style>\n",
       "<table border=\"1\" class=\"dataframe\">\n",
       "  <thead>\n",
       "    <tr style=\"text-align: right;\">\n",
       "      <th></th>\n",
       "      <th>dexjpus</th>\n",
       "      <th>dexusuk</th>\n",
       "    </tr>\n",
       "    <tr>\n",
       "      <th>trade_date</th>\n",
       "      <th></th>\n",
       "      <th></th>\n",
       "    </tr>\n",
       "  </thead>\n",
       "  <tbody>\n",
       "    <tr>\n",
       "      <th>2005-01-03</th>\n",
       "      <td>102.83</td>\n",
       "      <td>1.9058</td>\n",
       "    </tr>\n",
       "    <tr>\n",
       "      <th>2005-01-04</th>\n",
       "      <td>104.27</td>\n",
       "      <td>1.8834</td>\n",
       "    </tr>\n",
       "    <tr>\n",
       "      <th>2005-01-05</th>\n",
       "      <td>103.95</td>\n",
       "      <td>1.8875</td>\n",
       "    </tr>\n",
       "    <tr>\n",
       "      <th>2005-01-06</th>\n",
       "      <td>104.87</td>\n",
       "      <td>1.8751</td>\n",
       "    </tr>\n",
       "    <tr>\n",
       "      <th>2005-01-07</th>\n",
       "      <td>104.93</td>\n",
       "      <td>1.8702</td>\n",
       "    </tr>\n",
       "    <tr>\n",
       "      <th>...</th>\n",
       "      <td>...</td>\n",
       "      <td>...</td>\n",
       "    </tr>\n",
       "    <tr>\n",
       "      <th>2021-07-26</th>\n",
       "      <td>110.31</td>\n",
       "      <td>1.3829</td>\n",
       "    </tr>\n",
       "    <tr>\n",
       "      <th>2021-07-27</th>\n",
       "      <td>109.64</td>\n",
       "      <td>1.3884</td>\n",
       "    </tr>\n",
       "    <tr>\n",
       "      <th>2021-07-28</th>\n",
       "      <td>110.06</td>\n",
       "      <td>1.3884</td>\n",
       "    </tr>\n",
       "    <tr>\n",
       "      <th>2021-07-29</th>\n",
       "      <td>109.53</td>\n",
       "      <td>1.3966</td>\n",
       "    </tr>\n",
       "    <tr>\n",
       "      <th>2021-07-30</th>\n",
       "      <td>109.70</td>\n",
       "      <td>1.3913</td>\n",
       "    </tr>\n",
       "  </tbody>\n",
       "</table>\n",
       "<p>4325 rows × 2 columns</p>\n",
       "</div>"
      ],
      "text/plain": [
       "            dexjpus  dexusuk\n",
       "trade_date                  \n",
       "2005-01-03   102.83   1.9058\n",
       "2005-01-04   104.27   1.8834\n",
       "2005-01-05   103.95   1.8875\n",
       "2005-01-06   104.87   1.8751\n",
       "2005-01-07   104.93   1.8702\n",
       "...             ...      ...\n",
       "2021-07-26   110.31   1.3829\n",
       "2021-07-27   109.64   1.3884\n",
       "2021-07-28   110.06   1.3884\n",
       "2021-07-29   109.53   1.3966\n",
       "2021-07-30   109.70   1.3913\n",
       "\n",
       "[4325 rows x 2 columns]"
      ]
     },
     "execution_count": null,
     "metadata": {},
     "output_type": "execute_result"
    }
   ],
   "source": [
    "currency_tickers = ['DEXJPUS', 'DEXUSUK']\n",
    "df_currency = pdr.get_data_fred(currency_tickers, start='2005-01-01', end='2021-07-31')\n",
    "df_currency = df_currency\n",
    "df_currency.columns = df_currency.columns.str.lower()\n",
    "df_currency.rename_axis('trade_date', inplace=True)\n",
    "df_currency.rename_axis('', axis=1, inplace=True)\n",
    "df_currency"
   ]
  },
  {
   "cell_type": "markdown",
   "metadata": {},
   "source": [
    "Finally, we'll grab the index data Yahoo."
   ]
  },
  {
   "cell_type": "code",
   "execution_count": null,
   "metadata": {},
   "outputs": [
    {
     "name": "stdout",
     "output_type": "stream",
     "text": [
      "[*********************100%***********************]  3 of 3 completed\n"
     ]
    },
    {
     "data": {
      "text/html": [
       "<div>\n",
       "<style scoped>\n",
       "    .dataframe tbody tr th:only-of-type {\n",
       "        vertical-align: middle;\n",
       "    }\n",
       "\n",
       "    .dataframe tbody tr th {\n",
       "        vertical-align: top;\n",
       "    }\n",
       "\n",
       "    .dataframe thead th {\n",
       "        text-align: right;\n",
       "    }\n",
       "</style>\n",
       "<table border=\"1\" class=\"dataframe\">\n",
       "  <thead>\n",
       "    <tr style=\"text-align: right;\">\n",
       "      <th></th>\n",
       "      <th>dia</th>\n",
       "      <th>spy</th>\n",
       "      <th>vix</th>\n",
       "    </tr>\n",
       "    <tr>\n",
       "      <th>trade_date</th>\n",
       "      <th></th>\n",
       "      <th></th>\n",
       "      <th></th>\n",
       "    </tr>\n",
       "  </thead>\n",
       "  <tbody>\n",
       "    <tr>\n",
       "      <th>2005-01-03</th>\n",
       "      <td>70.050148</td>\n",
       "      <td>84.258560</td>\n",
       "      <td>14.080000</td>\n",
       "    </tr>\n",
       "    <tr>\n",
       "      <th>2005-01-04</th>\n",
       "      <td>69.384392</td>\n",
       "      <td>83.228973</td>\n",
       "      <td>13.980000</td>\n",
       "    </tr>\n",
       "    <tr>\n",
       "      <th>2005-01-05</th>\n",
       "      <td>68.999321</td>\n",
       "      <td>82.654678</td>\n",
       "      <td>14.090000</td>\n",
       "    </tr>\n",
       "    <tr>\n",
       "      <th>2005-01-06</th>\n",
       "      <td>69.214645</td>\n",
       "      <td>83.074921</td>\n",
       "      <td>13.580000</td>\n",
       "    </tr>\n",
       "    <tr>\n",
       "      <th>2005-01-07</th>\n",
       "      <td>69.084099</td>\n",
       "      <td>82.955818</td>\n",
       "      <td>13.490000</td>\n",
       "    </tr>\n",
       "    <tr>\n",
       "      <th>...</th>\n",
       "      <td>...</td>\n",
       "      <td>...</td>\n",
       "      <td>...</td>\n",
       "    </tr>\n",
       "    <tr>\n",
       "      <th>2021-07-26</th>\n",
       "      <td>337.707458</td>\n",
       "      <td>427.850830</td>\n",
       "      <td>17.580000</td>\n",
       "    </tr>\n",
       "    <tr>\n",
       "      <th>2021-07-27</th>\n",
       "      <td>336.948181</td>\n",
       "      <td>425.900787</td>\n",
       "      <td>19.360001</td>\n",
       "    </tr>\n",
       "    <tr>\n",
       "      <th>2021-07-28</th>\n",
       "      <td>335.737305</td>\n",
       "      <td>425.726135</td>\n",
       "      <td>18.309999</td>\n",
       "    </tr>\n",
       "    <tr>\n",
       "      <th>2021-07-29</th>\n",
       "      <td>337.140350</td>\n",
       "      <td>427.491821</td>\n",
       "      <td>17.700001</td>\n",
       "    </tr>\n",
       "    <tr>\n",
       "      <th>2021-07-30</th>\n",
       "      <td>335.852692</td>\n",
       "      <td>425.415771</td>\n",
       "      <td>18.240000</td>\n",
       "    </tr>\n",
       "  </tbody>\n",
       "</table>\n",
       "<p>4173 rows × 3 columns</p>\n",
       "</div>"
      ],
      "text/plain": [
       "                   dia         spy        vix\n",
       "trade_date                                   \n",
       "2005-01-03   70.050148   84.258560  14.080000\n",
       "2005-01-04   69.384392   83.228973  13.980000\n",
       "2005-01-05   68.999321   82.654678  14.090000\n",
       "2005-01-06   69.214645   83.074921  13.580000\n",
       "2005-01-07   69.084099   82.955818  13.490000\n",
       "...                ...         ...        ...\n",
       "2021-07-26  337.707458  427.850830  17.580000\n",
       "2021-07-27  336.948181  425.900787  19.360001\n",
       "2021-07-28  335.737305  425.726135  18.309999\n",
       "2021-07-29  337.140350  427.491821  17.700001\n",
       "2021-07-30  335.852692  425.415771  18.240000\n",
       "\n",
       "[4173 rows x 3 columns]"
      ]
     },
     "execution_count": null,
     "metadata": {},
     "output_type": "execute_result"
    }
   ],
   "source": [
    "index_tickers = ['SPY', 'DIA', '^VIX'] \n",
    "df_index = pdr.get_data_yahoo(index_tickers, start='2005-01-01', end='2021-07-31')\n",
    "df_index = df_index['Adj Close']\n",
    "df_index.columns = df_index.columns.str.lower().str.replace('^', '')\n",
    "df_index.rename_axis('trade_date', inplace=True)\n",
    "df_index.rename_axis('', axis=1, inplace=True)\n",
    "df_index"
   ]
  },
  {
   "cell_type": "markdown",
   "metadata": {},
   "source": [
    "## Join and Clean Data"
   ]
  },
  {
   "cell_type": "markdown",
   "metadata": {},
   "source": [
    "Now we can join together our price data and convert it into returns and differences (for VIX, as these are more stationary).  Notice that we are implicitly adding a time series component to our regression by adding lagged `msft` returns as a feature."
   ]
  },
  {
   "cell_type": "code",
   "execution_count": null,
   "metadata": {},
   "outputs": [
    {
     "data": {
      "text/html": [
       "<div>\n",
       "<style scoped>\n",
       "    .dataframe tbody tr th:only-of-type {\n",
       "        vertical-align: middle;\n",
       "    }\n",
       "\n",
       "    .dataframe tbody tr th {\n",
       "        vertical-align: top;\n",
       "    }\n",
       "\n",
       "    .dataframe thead th {\n",
       "        text-align: right;\n",
       "    }\n",
       "</style>\n",
       "<table border=\"1\" class=\"dataframe\">\n",
       "  <thead>\n",
       "    <tr style=\"text-align: right;\">\n",
       "      <th></th>\n",
       "      <th>googl</th>\n",
       "      <th>ibm</th>\n",
       "      <th>msft</th>\n",
       "      <th>dia</th>\n",
       "      <th>spy</th>\n",
       "      <th>vix</th>\n",
       "      <th>dexjpus</th>\n",
       "      <th>dexusuk</th>\n",
       "      <th>msft_lag_0</th>\n",
       "      <th>msft_lag_1</th>\n",
       "    </tr>\n",
       "    <tr>\n",
       "      <th>trade_date</th>\n",
       "      <th></th>\n",
       "      <th></th>\n",
       "      <th></th>\n",
       "      <th></th>\n",
       "      <th></th>\n",
       "      <th></th>\n",
       "      <th></th>\n",
       "      <th></th>\n",
       "      <th></th>\n",
       "      <th></th>\n",
       "    </tr>\n",
       "  </thead>\n",
       "  <tbody>\n",
       "    <tr>\n",
       "      <th>2005-01-05</th>\n",
       "      <td>-0.005090</td>\n",
       "      <td>-0.002068</td>\n",
       "      <td>-0.002235</td>\n",
       "      <td>-0.005550</td>\n",
       "      <td>-0.006900</td>\n",
       "      <td>0.110001</td>\n",
       "      <td>-0.003069</td>\n",
       "      <td>0.002177</td>\n",
       "      <td>-0.002235</td>\n",
       "      <td>0.003739</td>\n",
       "    </tr>\n",
       "    <tr>\n",
       "      <th>2005-01-06</th>\n",
       "      <td>-0.025632</td>\n",
       "      <td>-0.003109</td>\n",
       "      <td>-0.001120</td>\n",
       "      <td>0.003121</td>\n",
       "      <td>0.005084</td>\n",
       "      <td>-0.510000</td>\n",
       "      <td>0.008850</td>\n",
       "      <td>-0.006570</td>\n",
       "      <td>-0.001120</td>\n",
       "      <td>-0.002235</td>\n",
       "    </tr>\n",
       "    <tr>\n",
       "      <th>2005-01-07</th>\n",
       "      <td>0.028109</td>\n",
       "      <td>-0.004366</td>\n",
       "      <td>-0.002990</td>\n",
       "      <td>-0.001886</td>\n",
       "      <td>-0.001434</td>\n",
       "      <td>-0.090000</td>\n",
       "      <td>0.000572</td>\n",
       "      <td>-0.002613</td>\n",
       "      <td>-0.002990</td>\n",
       "      <td>-0.001120</td>\n",
       "    </tr>\n",
       "    <tr>\n",
       "      <th>2005-01-10</th>\n",
       "      <td>0.006242</td>\n",
       "      <td>-0.001044</td>\n",
       "      <td>0.004874</td>\n",
       "      <td>0.003402</td>\n",
       "      <td>0.004728</td>\n",
       "      <td>-0.260000</td>\n",
       "      <td>-0.005813</td>\n",
       "      <td>0.002620</td>\n",
       "      <td>0.004874</td>\n",
       "      <td>-0.002990</td>\n",
       "    </tr>\n",
       "    <tr>\n",
       "      <th>2005-01-11</th>\n",
       "      <td>-0.007793</td>\n",
       "      <td>-0.007107</td>\n",
       "      <td>-0.002612</td>\n",
       "      <td>-0.006404</td>\n",
       "      <td>-0.006891</td>\n",
       "      <td>-0.040000</td>\n",
       "      <td>-0.008627</td>\n",
       "      <td>0.002400</td>\n",
       "      <td>-0.002612</td>\n",
       "      <td>0.004874</td>\n",
       "    </tr>\n",
       "    <tr>\n",
       "      <th>...</th>\n",
       "      <td>...</td>\n",
       "      <td>...</td>\n",
       "      <td>...</td>\n",
       "      <td>...</td>\n",
       "      <td>...</td>\n",
       "      <td>...</td>\n",
       "      <td>...</td>\n",
       "      <td>...</td>\n",
       "      <td>...</td>\n",
       "      <td>...</td>\n",
       "    </tr>\n",
       "    <tr>\n",
       "      <th>2021-07-26</th>\n",
       "      <td>0.007668</td>\n",
       "      <td>0.010117</td>\n",
       "      <td>-0.002140</td>\n",
       "      <td>0.002396</td>\n",
       "      <td>0.002455</td>\n",
       "      <td>0.379999</td>\n",
       "      <td>-0.001900</td>\n",
       "      <td>0.005819</td>\n",
       "      <td>-0.002140</td>\n",
       "      <td>0.012337</td>\n",
       "    </tr>\n",
       "    <tr>\n",
       "      <th>2021-07-27</th>\n",
       "      <td>-0.015929</td>\n",
       "      <td>-0.000140</td>\n",
       "      <td>-0.008684</td>\n",
       "      <td>-0.002248</td>\n",
       "      <td>-0.004558</td>\n",
       "      <td>1.780001</td>\n",
       "      <td>-0.006074</td>\n",
       "      <td>0.003977</td>\n",
       "      <td>-0.008684</td>\n",
       "      <td>-0.002140</td>\n",
       "    </tr>\n",
       "    <tr>\n",
       "      <th>2021-07-28</th>\n",
       "      <td>0.031797</td>\n",
       "      <td>-0.006865</td>\n",
       "      <td>-0.001117</td>\n",
       "      <td>-0.003594</td>\n",
       "      <td>-0.000410</td>\n",
       "      <td>-1.050001</td>\n",
       "      <td>0.003831</td>\n",
       "      <td>0.000000</td>\n",
       "      <td>-0.001117</td>\n",
       "      <td>-0.008684</td>\n",
       "    </tr>\n",
       "    <tr>\n",
       "      <th>2021-07-29</th>\n",
       "      <td>-0.002326</td>\n",
       "      <td>0.001129</td>\n",
       "      <td>0.000978</td>\n",
       "      <td>0.004179</td>\n",
       "      <td>0.004147</td>\n",
       "      <td>-0.609999</td>\n",
       "      <td>-0.004816</td>\n",
       "      <td>0.005906</td>\n",
       "      <td>0.000978</td>\n",
       "      <td>-0.001117</td>\n",
       "    </tr>\n",
       "    <tr>\n",
       "      <th>2021-07-30</th>\n",
       "      <td>-0.007741</td>\n",
       "      <td>-0.006834</td>\n",
       "      <td>-0.005549</td>\n",
       "      <td>-0.003819</td>\n",
       "      <td>-0.004856</td>\n",
       "      <td>0.539999</td>\n",
       "      <td>0.001552</td>\n",
       "      <td>-0.003795</td>\n",
       "      <td>-0.005549</td>\n",
       "      <td>0.000978</td>\n",
       "    </tr>\n",
       "  </tbody>\n",
       "</table>\n",
       "<p>4132 rows × 10 columns</p>\n",
       "</div>"
      ],
      "text/plain": [
       "               googl       ibm      msft       dia       spy       vix   \n",
       "trade_date                                                               \n",
       "2005-01-05 -0.005090 -0.002068 -0.002235 -0.005550 -0.006900  0.110001  \\\n",
       "2005-01-06 -0.025632 -0.003109 -0.001120  0.003121  0.005084 -0.510000   \n",
       "2005-01-07  0.028109 -0.004366 -0.002990 -0.001886 -0.001434 -0.090000   \n",
       "2005-01-10  0.006242 -0.001044  0.004874  0.003402  0.004728 -0.260000   \n",
       "2005-01-11 -0.007793 -0.007107 -0.002612 -0.006404 -0.006891 -0.040000   \n",
       "...              ...       ...       ...       ...       ...       ...   \n",
       "2021-07-26  0.007668  0.010117 -0.002140  0.002396  0.002455  0.379999   \n",
       "2021-07-27 -0.015929 -0.000140 -0.008684 -0.002248 -0.004558  1.780001   \n",
       "2021-07-28  0.031797 -0.006865 -0.001117 -0.003594 -0.000410 -1.050001   \n",
       "2021-07-29 -0.002326  0.001129  0.000978  0.004179  0.004147 -0.609999   \n",
       "2021-07-30 -0.007741 -0.006834 -0.005549 -0.003819 -0.004856  0.539999   \n",
       "\n",
       "             dexjpus   dexusuk  msft_lag_0  msft_lag_1  \n",
       "trade_date                                              \n",
       "2005-01-05 -0.003069  0.002177   -0.002235    0.003739  \n",
       "2005-01-06  0.008850 -0.006570   -0.001120   -0.002235  \n",
       "2005-01-07  0.000572 -0.002613   -0.002990   -0.001120  \n",
       "2005-01-10 -0.005813  0.002620    0.004874   -0.002990  \n",
       "2005-01-11 -0.008627  0.002400   -0.002612    0.004874  \n",
       "...              ...       ...         ...         ...  \n",
       "2021-07-26 -0.001900  0.005819   -0.002140    0.012337  \n",
       "2021-07-27 -0.006074  0.003977   -0.008684   -0.002140  \n",
       "2021-07-28  0.003831  0.000000   -0.001117   -0.008684  \n",
       "2021-07-29 -0.004816  0.005906    0.000978   -0.001117  \n",
       "2021-07-30  0.001552 -0.003795   -0.005549    0.000978  \n",
       "\n",
       "[4132 rows x 10 columns]"
      ]
     },
     "execution_count": null,
     "metadata": {},
     "output_type": "execute_result"
    }
   ],
   "source": [
    "df_data = \\\n",
    "    (\n",
    "    df_stock\n",
    "        .merge(df_index, how='left', left_index=True, right_index=True) # join currency data\n",
    "        .merge(df_currency, how='left', left_index=True, right_index=True) # join index data\n",
    "        .dropna()\n",
    "        .assign(msft = lambda df: df['msft'].pct_change())   # percent change\n",
    "        .assign(msft_lag_0 = lambda df: df['msft'].shift(0)) #\n",
    "        .assign(msft_lag_1 = lambda df: df['msft'].shift(1)) #\n",
    "        .assign(ibm = lambda df: df['ibm'].pct_change())     #\n",
    "        .assign(googl = lambda df: df['googl'].pct_change()) #\n",
    "        .assign(spy = lambda df: df['spy'].pct_change())     #\n",
    "        .assign(dia = lambda df: df['dia'].pct_change())     #\n",
    "        .assign(vix = lambda df: df['vix'].diff())           # absolute change\n",
    "        .assign(dexjpus = lambda df: df['dexjpus'].pct_change()) # percent change\n",
    "        .assign(dexusuk = lambda df: df['dexusuk'].pct_change()) #\n",
    "        .dropna()\n",
    "    )\n",
    "df_data"
   ]
  },
  {
   "cell_type": "markdown",
   "metadata": {},
   "source": [
    "## Training Set and Testing Set"
   ]
  },
  {
   "cell_type": "markdown",
   "metadata": {},
   "source": [
    "We'll train our models on data prior to 2016, and then we'll use data from 2016 onward for testing.  So let's separate out these two subsets of data."
   ]
  },
  {
   "cell_type": "code",
   "execution_count": null,
   "metadata": {},
   "outputs": [
    {
     "data": {
      "text/html": [
       "<div>\n",
       "<style scoped>\n",
       "    .dataframe tbody tr th:only-of-type {\n",
       "        vertical-align: middle;\n",
       "    }\n",
       "\n",
       "    .dataframe tbody tr th {\n",
       "        vertical-align: top;\n",
       "    }\n",
       "\n",
       "    .dataframe thead th {\n",
       "        text-align: right;\n",
       "    }\n",
       "</style>\n",
       "<table border=\"1\" class=\"dataframe\">\n",
       "  <thead>\n",
       "    <tr style=\"text-align: right;\">\n",
       "      <th></th>\n",
       "      <th>googl</th>\n",
       "      <th>ibm</th>\n",
       "      <th>msft</th>\n",
       "      <th>dia</th>\n",
       "      <th>spy</th>\n",
       "      <th>vix</th>\n",
       "      <th>dexjpus</th>\n",
       "      <th>dexusuk</th>\n",
       "      <th>msft_lag_0</th>\n",
       "      <th>msft_lag_1</th>\n",
       "    </tr>\n",
       "    <tr>\n",
       "      <th>trade_date</th>\n",
       "      <th></th>\n",
       "      <th></th>\n",
       "      <th></th>\n",
       "      <th></th>\n",
       "      <th></th>\n",
       "      <th></th>\n",
       "      <th></th>\n",
       "      <th></th>\n",
       "      <th></th>\n",
       "      <th></th>\n",
       "    </tr>\n",
       "  </thead>\n",
       "  <tbody>\n",
       "    <tr>\n",
       "      <th>2005-01-05</th>\n",
       "      <td>-0.005090</td>\n",
       "      <td>-0.002068</td>\n",
       "      <td>-0.002235</td>\n",
       "      <td>-0.005550</td>\n",
       "      <td>-0.006900</td>\n",
       "      <td>0.110001</td>\n",
       "      <td>-0.003069</td>\n",
       "      <td>0.002177</td>\n",
       "      <td>-0.002235</td>\n",
       "      <td>0.003739</td>\n",
       "    </tr>\n",
       "    <tr>\n",
       "      <th>2005-01-06</th>\n",
       "      <td>-0.025632</td>\n",
       "      <td>-0.003109</td>\n",
       "      <td>-0.001120</td>\n",
       "      <td>0.003121</td>\n",
       "      <td>0.005084</td>\n",
       "      <td>-0.510000</td>\n",
       "      <td>0.008850</td>\n",
       "      <td>-0.006570</td>\n",
       "      <td>-0.001120</td>\n",
       "      <td>-0.002235</td>\n",
       "    </tr>\n",
       "    <tr>\n",
       "      <th>2005-01-07</th>\n",
       "      <td>0.028109</td>\n",
       "      <td>-0.004366</td>\n",
       "      <td>-0.002990</td>\n",
       "      <td>-0.001886</td>\n",
       "      <td>-0.001434</td>\n",
       "      <td>-0.090000</td>\n",
       "      <td>0.000572</td>\n",
       "      <td>-0.002613</td>\n",
       "      <td>-0.002990</td>\n",
       "      <td>-0.001120</td>\n",
       "    </tr>\n",
       "    <tr>\n",
       "      <th>2005-01-10</th>\n",
       "      <td>0.006242</td>\n",
       "      <td>-0.001044</td>\n",
       "      <td>0.004874</td>\n",
       "      <td>0.003402</td>\n",
       "      <td>0.004728</td>\n",
       "      <td>-0.260000</td>\n",
       "      <td>-0.005813</td>\n",
       "      <td>0.002620</td>\n",
       "      <td>0.004874</td>\n",
       "      <td>-0.002990</td>\n",
       "    </tr>\n",
       "    <tr>\n",
       "      <th>2005-01-11</th>\n",
       "      <td>-0.007793</td>\n",
       "      <td>-0.007107</td>\n",
       "      <td>-0.002612</td>\n",
       "      <td>-0.006404</td>\n",
       "      <td>-0.006891</td>\n",
       "      <td>-0.040000</td>\n",
       "      <td>-0.008627</td>\n",
       "      <td>0.002400</td>\n",
       "      <td>-0.002612</td>\n",
       "      <td>0.004874</td>\n",
       "    </tr>\n",
       "    <tr>\n",
       "      <th>...</th>\n",
       "      <td>...</td>\n",
       "      <td>...</td>\n",
       "      <td>...</td>\n",
       "      <td>...</td>\n",
       "      <td>...</td>\n",
       "      <td>...</td>\n",
       "      <td>...</td>\n",
       "      <td>...</td>\n",
       "      <td>...</td>\n",
       "      <td>...</td>\n",
       "    </tr>\n",
       "    <tr>\n",
       "      <th>2015-12-24</th>\n",
       "      <td>-0.003474</td>\n",
       "      <td>-0.002093</td>\n",
       "      <td>-0.002687</td>\n",
       "      <td>-0.003356</td>\n",
       "      <td>-0.001650</td>\n",
       "      <td>0.170000</td>\n",
       "      <td>-0.005127</td>\n",
       "      <td>0.005382</td>\n",
       "      <td>-0.002687</td>\n",
       "      <td>0.008491</td>\n",
       "    </tr>\n",
       "    <tr>\n",
       "      <th>2015-12-28</th>\n",
       "      <td>0.021414</td>\n",
       "      <td>-0.004629</td>\n",
       "      <td>0.005030</td>\n",
       "      <td>-0.001370</td>\n",
       "      <td>-0.002285</td>\n",
       "      <td>1.170000</td>\n",
       "      <td>-0.000166</td>\n",
       "      <td>-0.004015</td>\n",
       "      <td>0.005030</td>\n",
       "      <td>-0.002687</td>\n",
       "    </tr>\n",
       "    <tr>\n",
       "      <th>2015-12-29</th>\n",
       "      <td>0.014983</td>\n",
       "      <td>0.015769</td>\n",
       "      <td>0.010724</td>\n",
       "      <td>0.011430</td>\n",
       "      <td>0.010672</td>\n",
       "      <td>-0.830000</td>\n",
       "      <td>0.001164</td>\n",
       "      <td>-0.005980</td>\n",
       "      <td>0.010724</td>\n",
       "      <td>0.005030</td>\n",
       "    </tr>\n",
       "    <tr>\n",
       "      <th>2015-12-30</th>\n",
       "      <td>-0.004610</td>\n",
       "      <td>-0.003148</td>\n",
       "      <td>-0.004244</td>\n",
       "      <td>-0.006667</td>\n",
       "      <td>-0.007088</td>\n",
       "      <td>1.210001</td>\n",
       "      <td>0.001328</td>\n",
       "      <td>0.002569</td>\n",
       "      <td>-0.004244</td>\n",
       "      <td>0.010724</td>\n",
       "    </tr>\n",
       "    <tr>\n",
       "      <th>2015-12-31</th>\n",
       "      <td>-0.015551</td>\n",
       "      <td>-0.012344</td>\n",
       "      <td>-0.014740</td>\n",
       "      <td>-0.010296</td>\n",
       "      <td>-0.010003</td>\n",
       "      <td>0.919998</td>\n",
       "      <td>-0.002736</td>\n",
       "      <td>-0.005798</td>\n",
       "      <td>-0.014740</td>\n",
       "      <td>-0.004244</td>\n",
       "    </tr>\n",
       "  </tbody>\n",
       "</table>\n",
       "<p>2745 rows × 10 columns</p>\n",
       "</div>"
      ],
      "text/plain": [
       "               googl       ibm      msft       dia       spy       vix   \n",
       "trade_date                                                               \n",
       "2005-01-05 -0.005090 -0.002068 -0.002235 -0.005550 -0.006900  0.110001  \\\n",
       "2005-01-06 -0.025632 -0.003109 -0.001120  0.003121  0.005084 -0.510000   \n",
       "2005-01-07  0.028109 -0.004366 -0.002990 -0.001886 -0.001434 -0.090000   \n",
       "2005-01-10  0.006242 -0.001044  0.004874  0.003402  0.004728 -0.260000   \n",
       "2005-01-11 -0.007793 -0.007107 -0.002612 -0.006404 -0.006891 -0.040000   \n",
       "...              ...       ...       ...       ...       ...       ...   \n",
       "2015-12-24 -0.003474 -0.002093 -0.002687 -0.003356 -0.001650  0.170000   \n",
       "2015-12-28  0.021414 -0.004629  0.005030 -0.001370 -0.002285  1.170000   \n",
       "2015-12-29  0.014983  0.015769  0.010724  0.011430  0.010672 -0.830000   \n",
       "2015-12-30 -0.004610 -0.003148 -0.004244 -0.006667 -0.007088  1.210001   \n",
       "2015-12-31 -0.015551 -0.012344 -0.014740 -0.010296 -0.010003  0.919998   \n",
       "\n",
       "             dexjpus   dexusuk  msft_lag_0  msft_lag_1  \n",
       "trade_date                                              \n",
       "2005-01-05 -0.003069  0.002177   -0.002235    0.003739  \n",
       "2005-01-06  0.008850 -0.006570   -0.001120   -0.002235  \n",
       "2005-01-07  0.000572 -0.002613   -0.002990   -0.001120  \n",
       "2005-01-10 -0.005813  0.002620    0.004874   -0.002990  \n",
       "2005-01-11 -0.008627  0.002400   -0.002612    0.004874  \n",
       "...              ...       ...         ...         ...  \n",
       "2015-12-24 -0.005127  0.005382   -0.002687    0.008491  \n",
       "2015-12-28 -0.000166 -0.004015    0.005030   -0.002687  \n",
       "2015-12-29  0.001164 -0.005980    0.010724    0.005030  \n",
       "2015-12-30  0.001328  0.002569   -0.004244    0.010724  \n",
       "2015-12-31 -0.002736 -0.005798   -0.014740   -0.004244  \n",
       "\n",
       "[2745 rows x 10 columns]"
      ]
     },
     "execution_count": null,
     "metadata": {},
     "output_type": "execute_result"
    }
   ],
   "source": [
    "df_train = df_data.query('trade_date < \"2016-01-01\"')\n",
    "df_train"
   ]
  },
  {
   "cell_type": "code",
   "execution_count": null,
   "metadata": {},
   "outputs": [
    {
     "data": {
      "text/html": [
       "<div>\n",
       "<style scoped>\n",
       "    .dataframe tbody tr th:only-of-type {\n",
       "        vertical-align: middle;\n",
       "    }\n",
       "\n",
       "    .dataframe tbody tr th {\n",
       "        vertical-align: top;\n",
       "    }\n",
       "\n",
       "    .dataframe thead th {\n",
       "        text-align: right;\n",
       "    }\n",
       "</style>\n",
       "<table border=\"1\" class=\"dataframe\">\n",
       "  <thead>\n",
       "    <tr style=\"text-align: right;\">\n",
       "      <th></th>\n",
       "      <th>googl</th>\n",
       "      <th>ibm</th>\n",
       "      <th>msft</th>\n",
       "      <th>dia</th>\n",
       "      <th>spy</th>\n",
       "      <th>vix</th>\n",
       "      <th>dexjpus</th>\n",
       "      <th>dexusuk</th>\n",
       "      <th>msft_lag_0</th>\n",
       "      <th>msft_lag_1</th>\n",
       "    </tr>\n",
       "    <tr>\n",
       "      <th>trade_date</th>\n",
       "      <th></th>\n",
       "      <th></th>\n",
       "      <th></th>\n",
       "      <th></th>\n",
       "      <th></th>\n",
       "      <th></th>\n",
       "      <th></th>\n",
       "      <th></th>\n",
       "      <th></th>\n",
       "      <th></th>\n",
       "    </tr>\n",
       "  </thead>\n",
       "  <tbody>\n",
       "    <tr>\n",
       "      <th>2016-01-04</th>\n",
       "      <td>-0.023869</td>\n",
       "      <td>-0.012135</td>\n",
       "      <td>-0.012256</td>\n",
       "      <td>-0.015518</td>\n",
       "      <td>-0.013980</td>\n",
       "      <td>2.490002</td>\n",
       "      <td>-0.008065</td>\n",
       "      <td>-0.004069</td>\n",
       "      <td>-0.012256</td>\n",
       "      <td>-0.014740</td>\n",
       "    </tr>\n",
       "    <tr>\n",
       "      <th>2016-01-05</th>\n",
       "      <td>0.002752</td>\n",
       "      <td>-0.000736</td>\n",
       "      <td>0.004562</td>\n",
       "      <td>0.000584</td>\n",
       "      <td>0.001692</td>\n",
       "      <td>-1.360001</td>\n",
       "      <td>-0.002934</td>\n",
       "      <td>-0.001498</td>\n",
       "      <td>0.004562</td>\n",
       "      <td>-0.012256</td>\n",
       "    </tr>\n",
       "    <tr>\n",
       "      <th>2016-01-06</th>\n",
       "      <td>-0.002889</td>\n",
       "      <td>-0.005005</td>\n",
       "      <td>-0.018165</td>\n",
       "      <td>-0.014294</td>\n",
       "      <td>-0.012614</td>\n",
       "      <td>1.250000</td>\n",
       "      <td>-0.003447</td>\n",
       "      <td>-0.002591</td>\n",
       "      <td>-0.018165</td>\n",
       "      <td>0.004562</td>\n",
       "    </tr>\n",
       "    <tr>\n",
       "      <th>2016-01-07</th>\n",
       "      <td>-0.024140</td>\n",
       "      <td>-0.017090</td>\n",
       "      <td>-0.034782</td>\n",
       "      <td>-0.023559</td>\n",
       "      <td>-0.023992</td>\n",
       "      <td>4.400000</td>\n",
       "      <td>-0.004555</td>\n",
       "      <td>-0.003213</td>\n",
       "      <td>-0.034782</td>\n",
       "      <td>-0.018165</td>\n",
       "    </tr>\n",
       "    <tr>\n",
       "      <th>2016-01-08</th>\n",
       "      <td>-0.013617</td>\n",
       "      <td>-0.009258</td>\n",
       "      <td>0.003067</td>\n",
       "      <td>-0.010427</td>\n",
       "      <td>-0.010976</td>\n",
       "      <td>2.020000</td>\n",
       "      <td>-0.002203</td>\n",
       "      <td>-0.003841</td>\n",
       "      <td>0.003067</td>\n",
       "      <td>-0.034782</td>\n",
       "    </tr>\n",
       "    <tr>\n",
       "      <th>...</th>\n",
       "      <td>...</td>\n",
       "      <td>...</td>\n",
       "      <td>...</td>\n",
       "      <td>...</td>\n",
       "      <td>...</td>\n",
       "      <td>...</td>\n",
       "      <td>...</td>\n",
       "      <td>...</td>\n",
       "      <td>...</td>\n",
       "      <td>...</td>\n",
       "    </tr>\n",
       "    <tr>\n",
       "      <th>2021-07-26</th>\n",
       "      <td>0.007668</td>\n",
       "      <td>0.010117</td>\n",
       "      <td>-0.002140</td>\n",
       "      <td>0.002396</td>\n",
       "      <td>0.002455</td>\n",
       "      <td>0.379999</td>\n",
       "      <td>-0.001900</td>\n",
       "      <td>0.005819</td>\n",
       "      <td>-0.002140</td>\n",
       "      <td>0.012337</td>\n",
       "    </tr>\n",
       "    <tr>\n",
       "      <th>2021-07-27</th>\n",
       "      <td>-0.015929</td>\n",
       "      <td>-0.000140</td>\n",
       "      <td>-0.008684</td>\n",
       "      <td>-0.002248</td>\n",
       "      <td>-0.004558</td>\n",
       "      <td>1.780001</td>\n",
       "      <td>-0.006074</td>\n",
       "      <td>0.003977</td>\n",
       "      <td>-0.008684</td>\n",
       "      <td>-0.002140</td>\n",
       "    </tr>\n",
       "    <tr>\n",
       "      <th>2021-07-28</th>\n",
       "      <td>0.031797</td>\n",
       "      <td>-0.006865</td>\n",
       "      <td>-0.001117</td>\n",
       "      <td>-0.003594</td>\n",
       "      <td>-0.000410</td>\n",
       "      <td>-1.050001</td>\n",
       "      <td>0.003831</td>\n",
       "      <td>0.000000</td>\n",
       "      <td>-0.001117</td>\n",
       "      <td>-0.008684</td>\n",
       "    </tr>\n",
       "    <tr>\n",
       "      <th>2021-07-29</th>\n",
       "      <td>-0.002326</td>\n",
       "      <td>0.001129</td>\n",
       "      <td>0.000978</td>\n",
       "      <td>0.004179</td>\n",
       "      <td>0.004147</td>\n",
       "      <td>-0.609999</td>\n",
       "      <td>-0.004816</td>\n",
       "      <td>0.005906</td>\n",
       "      <td>0.000978</td>\n",
       "      <td>-0.001117</td>\n",
       "    </tr>\n",
       "    <tr>\n",
       "      <th>2021-07-30</th>\n",
       "      <td>-0.007741</td>\n",
       "      <td>-0.006834</td>\n",
       "      <td>-0.005549</td>\n",
       "      <td>-0.003819</td>\n",
       "      <td>-0.004856</td>\n",
       "      <td>0.539999</td>\n",
       "      <td>0.001552</td>\n",
       "      <td>-0.003795</td>\n",
       "      <td>-0.005549</td>\n",
       "      <td>0.000978</td>\n",
       "    </tr>\n",
       "  </tbody>\n",
       "</table>\n",
       "<p>1387 rows × 10 columns</p>\n",
       "</div>"
      ],
      "text/plain": [
       "               googl       ibm      msft       dia       spy       vix   \n",
       "trade_date                                                               \n",
       "2016-01-04 -0.023869 -0.012135 -0.012256 -0.015518 -0.013980  2.490002  \\\n",
       "2016-01-05  0.002752 -0.000736  0.004562  0.000584  0.001692 -1.360001   \n",
       "2016-01-06 -0.002889 -0.005005 -0.018165 -0.014294 -0.012614  1.250000   \n",
       "2016-01-07 -0.024140 -0.017090 -0.034782 -0.023559 -0.023992  4.400000   \n",
       "2016-01-08 -0.013617 -0.009258  0.003067 -0.010427 -0.010976  2.020000   \n",
       "...              ...       ...       ...       ...       ...       ...   \n",
       "2021-07-26  0.007668  0.010117 -0.002140  0.002396  0.002455  0.379999   \n",
       "2021-07-27 -0.015929 -0.000140 -0.008684 -0.002248 -0.004558  1.780001   \n",
       "2021-07-28  0.031797 -0.006865 -0.001117 -0.003594 -0.000410 -1.050001   \n",
       "2021-07-29 -0.002326  0.001129  0.000978  0.004179  0.004147 -0.609999   \n",
       "2021-07-30 -0.007741 -0.006834 -0.005549 -0.003819 -0.004856  0.539999   \n",
       "\n",
       "             dexjpus   dexusuk  msft_lag_0  msft_lag_1  \n",
       "trade_date                                              \n",
       "2016-01-04 -0.008065 -0.004069   -0.012256   -0.014740  \n",
       "2016-01-05 -0.002934 -0.001498    0.004562   -0.012256  \n",
       "2016-01-06 -0.003447 -0.002591   -0.018165    0.004562  \n",
       "2016-01-07 -0.004555 -0.003213   -0.034782   -0.018165  \n",
       "2016-01-08 -0.002203 -0.003841    0.003067   -0.034782  \n",
       "...              ...       ...         ...         ...  \n",
       "2021-07-26 -0.001900  0.005819   -0.002140    0.012337  \n",
       "2021-07-27 -0.006074  0.003977   -0.008684   -0.002140  \n",
       "2021-07-28  0.003831  0.000000   -0.001117   -0.008684  \n",
       "2021-07-29 -0.004816  0.005906    0.000978   -0.001117  \n",
       "2021-07-30  0.001552 -0.003795   -0.005549    0.000978  \n",
       "\n",
       "[1387 rows x 10 columns]"
      ]
     },
     "execution_count": null,
     "metadata": {},
     "output_type": "execute_result"
    }
   ],
   "source": [
    "df_test = df_data.query('trade_date > \"2016-01-01\"')\n",
    "df_test"
   ]
  },
  {
   "cell_type": "markdown",
   "metadata": {},
   "source": [
    "## Training Linear Regression and K-Nearest Neighbors"
   ]
  },
  {
   "cell_type": "markdown",
   "metadata": {},
   "source": [
    "In order to train our model, we first put our training features into `X_train` and our training labels into `y_train`"
   ]
  },
  {
   "cell_type": "code",
   "execution_count": null,
   "metadata": {},
   "outputs": [
    {
     "data": {
      "text/html": [
       "<div>\n",
       "<style scoped>\n",
       "    .dataframe tbody tr th:only-of-type {\n",
       "        vertical-align: middle;\n",
       "    }\n",
       "\n",
       "    .dataframe tbody tr th {\n",
       "        vertical-align: top;\n",
       "    }\n",
       "\n",
       "    .dataframe thead th {\n",
       "        text-align: right;\n",
       "    }\n",
       "</style>\n",
       "<table border=\"1\" class=\"dataframe\">\n",
       "  <thead>\n",
       "    <tr style=\"text-align: right;\">\n",
       "      <th></th>\n",
       "      <th>googl</th>\n",
       "      <th>ibm</th>\n",
       "      <th>dia</th>\n",
       "      <th>spy</th>\n",
       "      <th>vix</th>\n",
       "      <th>dexjpus</th>\n",
       "      <th>dexusuk</th>\n",
       "      <th>msft_lag_0</th>\n",
       "      <th>msft_lag_1</th>\n",
       "    </tr>\n",
       "    <tr>\n",
       "      <th>trade_date</th>\n",
       "      <th></th>\n",
       "      <th></th>\n",
       "      <th></th>\n",
       "      <th></th>\n",
       "      <th></th>\n",
       "      <th></th>\n",
       "      <th></th>\n",
       "      <th></th>\n",
       "      <th></th>\n",
       "    </tr>\n",
       "  </thead>\n",
       "  <tbody>\n",
       "    <tr>\n",
       "      <th>2005-01-05</th>\n",
       "      <td>-0.005090</td>\n",
       "      <td>-0.002068</td>\n",
       "      <td>-0.005550</td>\n",
       "      <td>-0.006900</td>\n",
       "      <td>0.110001</td>\n",
       "      <td>-0.003069</td>\n",
       "      <td>0.002177</td>\n",
       "      <td>-0.002235</td>\n",
       "      <td>0.003739</td>\n",
       "    </tr>\n",
       "    <tr>\n",
       "      <th>2005-01-06</th>\n",
       "      <td>-0.025632</td>\n",
       "      <td>-0.003109</td>\n",
       "      <td>0.003121</td>\n",
       "      <td>0.005084</td>\n",
       "      <td>-0.510000</td>\n",
       "      <td>0.008850</td>\n",
       "      <td>-0.006570</td>\n",
       "      <td>-0.001120</td>\n",
       "      <td>-0.002235</td>\n",
       "    </tr>\n",
       "    <tr>\n",
       "      <th>2005-01-07</th>\n",
       "      <td>0.028109</td>\n",
       "      <td>-0.004366</td>\n",
       "      <td>-0.001886</td>\n",
       "      <td>-0.001434</td>\n",
       "      <td>-0.090000</td>\n",
       "      <td>0.000572</td>\n",
       "      <td>-0.002613</td>\n",
       "      <td>-0.002990</td>\n",
       "      <td>-0.001120</td>\n",
       "    </tr>\n",
       "    <tr>\n",
       "      <th>2005-01-10</th>\n",
       "      <td>0.006242</td>\n",
       "      <td>-0.001044</td>\n",
       "      <td>0.003402</td>\n",
       "      <td>0.004728</td>\n",
       "      <td>-0.260000</td>\n",
       "      <td>-0.005813</td>\n",
       "      <td>0.002620</td>\n",
       "      <td>0.004874</td>\n",
       "      <td>-0.002990</td>\n",
       "    </tr>\n",
       "    <tr>\n",
       "      <th>2005-01-11</th>\n",
       "      <td>-0.007793</td>\n",
       "      <td>-0.007107</td>\n",
       "      <td>-0.006404</td>\n",
       "      <td>-0.006891</td>\n",
       "      <td>-0.040000</td>\n",
       "      <td>-0.008627</td>\n",
       "      <td>0.002400</td>\n",
       "      <td>-0.002612</td>\n",
       "      <td>0.004874</td>\n",
       "    </tr>\n",
       "    <tr>\n",
       "      <th>...</th>\n",
       "      <td>...</td>\n",
       "      <td>...</td>\n",
       "      <td>...</td>\n",
       "      <td>...</td>\n",
       "      <td>...</td>\n",
       "      <td>...</td>\n",
       "      <td>...</td>\n",
       "      <td>...</td>\n",
       "      <td>...</td>\n",
       "    </tr>\n",
       "    <tr>\n",
       "      <th>2015-12-23</th>\n",
       "      <td>0.001799</td>\n",
       "      <td>0.004423</td>\n",
       "      <td>0.010344</td>\n",
       "      <td>0.012383</td>\n",
       "      <td>-1.030001</td>\n",
       "      <td>0.000000</td>\n",
       "      <td>0.003511</td>\n",
       "      <td>0.008491</td>\n",
       "      <td>0.009484</td>\n",
       "    </tr>\n",
       "    <tr>\n",
       "      <th>2015-12-24</th>\n",
       "      <td>-0.003474</td>\n",
       "      <td>-0.002093</td>\n",
       "      <td>-0.003356</td>\n",
       "      <td>-0.001650</td>\n",
       "      <td>0.170000</td>\n",
       "      <td>-0.005127</td>\n",
       "      <td>0.005382</td>\n",
       "      <td>-0.002687</td>\n",
       "      <td>0.008491</td>\n",
       "    </tr>\n",
       "    <tr>\n",
       "      <th>2015-12-28</th>\n",
       "      <td>0.021414</td>\n",
       "      <td>-0.004629</td>\n",
       "      <td>-0.001370</td>\n",
       "      <td>-0.002285</td>\n",
       "      <td>1.170000</td>\n",
       "      <td>-0.000166</td>\n",
       "      <td>-0.004015</td>\n",
       "      <td>0.005030</td>\n",
       "      <td>-0.002687</td>\n",
       "    </tr>\n",
       "    <tr>\n",
       "      <th>2015-12-29</th>\n",
       "      <td>0.014983</td>\n",
       "      <td>0.015769</td>\n",
       "      <td>0.011430</td>\n",
       "      <td>0.010672</td>\n",
       "      <td>-0.830000</td>\n",
       "      <td>0.001164</td>\n",
       "      <td>-0.005980</td>\n",
       "      <td>0.010724</td>\n",
       "      <td>0.005030</td>\n",
       "    </tr>\n",
       "    <tr>\n",
       "      <th>2015-12-30</th>\n",
       "      <td>-0.004610</td>\n",
       "      <td>-0.003148</td>\n",
       "      <td>-0.006667</td>\n",
       "      <td>-0.007088</td>\n",
       "      <td>1.210001</td>\n",
       "      <td>0.001328</td>\n",
       "      <td>0.002569</td>\n",
       "      <td>-0.004244</td>\n",
       "      <td>0.010724</td>\n",
       "    </tr>\n",
       "  </tbody>\n",
       "</table>\n",
       "<p>2744 rows × 9 columns</p>\n",
       "</div>"
      ],
      "text/plain": [
       "               googl       ibm       dia       spy       vix   dexjpus   \n",
       "trade_date                                                               \n",
       "2005-01-05 -0.005090 -0.002068 -0.005550 -0.006900  0.110001 -0.003069  \\\n",
       "2005-01-06 -0.025632 -0.003109  0.003121  0.005084 -0.510000  0.008850   \n",
       "2005-01-07  0.028109 -0.004366 -0.001886 -0.001434 -0.090000  0.000572   \n",
       "2005-01-10  0.006242 -0.001044  0.003402  0.004728 -0.260000 -0.005813   \n",
       "2005-01-11 -0.007793 -0.007107 -0.006404 -0.006891 -0.040000 -0.008627   \n",
       "...              ...       ...       ...       ...       ...       ...   \n",
       "2015-12-23  0.001799  0.004423  0.010344  0.012383 -1.030001  0.000000   \n",
       "2015-12-24 -0.003474 -0.002093 -0.003356 -0.001650  0.170000 -0.005127   \n",
       "2015-12-28  0.021414 -0.004629 -0.001370 -0.002285  1.170000 -0.000166   \n",
       "2015-12-29  0.014983  0.015769  0.011430  0.010672 -0.830000  0.001164   \n",
       "2015-12-30 -0.004610 -0.003148 -0.006667 -0.007088  1.210001  0.001328   \n",
       "\n",
       "             dexusuk  msft_lag_0  msft_lag_1  \n",
       "trade_date                                    \n",
       "2005-01-05  0.002177   -0.002235    0.003739  \n",
       "2005-01-06 -0.006570   -0.001120   -0.002235  \n",
       "2005-01-07 -0.002613   -0.002990   -0.001120  \n",
       "2005-01-10  0.002620    0.004874   -0.002990  \n",
       "2005-01-11  0.002400   -0.002612    0.004874  \n",
       "...              ...         ...         ...  \n",
       "2015-12-23  0.003511    0.008491    0.009484  \n",
       "2015-12-24  0.005382   -0.002687    0.008491  \n",
       "2015-12-28 -0.004015    0.005030   -0.002687  \n",
       "2015-12-29 -0.005980    0.010724    0.005030  \n",
       "2015-12-30  0.002569   -0.004244    0.010724  \n",
       "\n",
       "[2744 rows x 9 columns]"
      ]
     },
     "execution_count": null,
     "metadata": {},
     "output_type": "execute_result"
    }
   ],
   "source": [
    "X_train = df_train.drop(columns=['msft'])[0:len(df_train)-1]\n",
    "X_train"
   ]
  },
  {
   "cell_type": "markdown",
   "metadata": {},
   "source": [
    "Notice that the label we are predicting is the *next* day `msft` return; the features we are using to predict are the *current* day returns of the various correlated assets. "
   ]
  },
  {
   "cell_type": "code",
   "execution_count": null,
   "metadata": {},
   "outputs": [
    {
     "data": {
      "text/html": [
       "<div>\n",
       "<style scoped>\n",
       "    .dataframe tbody tr th:only-of-type {\n",
       "        vertical-align: middle;\n",
       "    }\n",
       "\n",
       "    .dataframe tbody tr th {\n",
       "        vertical-align: top;\n",
       "    }\n",
       "\n",
       "    .dataframe thead th {\n",
       "        text-align: right;\n",
       "    }\n",
       "</style>\n",
       "<table border=\"1\" class=\"dataframe\">\n",
       "  <thead>\n",
       "    <tr style=\"text-align: right;\">\n",
       "      <th></th>\n",
       "      <th>msft</th>\n",
       "    </tr>\n",
       "    <tr>\n",
       "      <th>trade_date</th>\n",
       "      <th></th>\n",
       "    </tr>\n",
       "  </thead>\n",
       "  <tbody>\n",
       "    <tr>\n",
       "      <th>2005-01-06</th>\n",
       "      <td>-0.001120</td>\n",
       "    </tr>\n",
       "    <tr>\n",
       "      <th>2005-01-07</th>\n",
       "      <td>-0.002990</td>\n",
       "    </tr>\n",
       "    <tr>\n",
       "      <th>2005-01-10</th>\n",
       "      <td>0.004874</td>\n",
       "    </tr>\n",
       "    <tr>\n",
       "      <th>2005-01-11</th>\n",
       "      <td>-0.002612</td>\n",
       "    </tr>\n",
       "    <tr>\n",
       "      <th>2005-01-12</th>\n",
       "      <td>0.001870</td>\n",
       "    </tr>\n",
       "    <tr>\n",
       "      <th>...</th>\n",
       "      <td>...</td>\n",
       "    </tr>\n",
       "    <tr>\n",
       "      <th>2015-12-24</th>\n",
       "      <td>-0.002687</td>\n",
       "    </tr>\n",
       "    <tr>\n",
       "      <th>2015-12-28</th>\n",
       "      <td>0.005030</td>\n",
       "    </tr>\n",
       "    <tr>\n",
       "      <th>2015-12-29</th>\n",
       "      <td>0.010724</td>\n",
       "    </tr>\n",
       "    <tr>\n",
       "      <th>2015-12-30</th>\n",
       "      <td>-0.004244</td>\n",
       "    </tr>\n",
       "    <tr>\n",
       "      <th>2015-12-31</th>\n",
       "      <td>-0.014740</td>\n",
       "    </tr>\n",
       "  </tbody>\n",
       "</table>\n",
       "<p>2744 rows × 1 columns</p>\n",
       "</div>"
      ],
      "text/plain": [
       "                msft\n",
       "trade_date          \n",
       "2005-01-06 -0.001120\n",
       "2005-01-07 -0.002990\n",
       "2005-01-10  0.004874\n",
       "2005-01-11 -0.002612\n",
       "2005-01-12  0.001870\n",
       "...              ...\n",
       "2015-12-24 -0.002687\n",
       "2015-12-28  0.005030\n",
       "2015-12-29  0.010724\n",
       "2015-12-30 -0.004244\n",
       "2015-12-31 -0.014740\n",
       "\n",
       "[2744 rows x 1 columns]"
      ]
     },
     "execution_count": null,
     "metadata": {},
     "output_type": "execute_result"
    }
   ],
   "source": [
    "y_train = df_train[['msft']][1:len(df_train)]\n",
    "y_train"
   ]
  },
  {
   "cell_type": "markdown",
   "metadata": {},
   "source": [
    "### Linear Regression"
   ]
  },
  {
   "cell_type": "markdown",
   "metadata": {},
   "source": [
    "Let's first fit a simple linear regression to our training data."
   ]
  },
  {
   "cell_type": "code",
   "execution_count": null,
   "metadata": {},
   "outputs": [
    {
     "data": {
      "text/html": [
       "<style>#sk-container-id-1 {color: black;background-color: white;}#sk-container-id-1 pre{padding: 0;}#sk-container-id-1 div.sk-toggleable {background-color: white;}#sk-container-id-1 label.sk-toggleable__label {cursor: pointer;display: block;width: 100%;margin-bottom: 0;padding: 0.3em;box-sizing: border-box;text-align: center;}#sk-container-id-1 label.sk-toggleable__label-arrow:before {content: \"▸\";float: left;margin-right: 0.25em;color: #696969;}#sk-container-id-1 label.sk-toggleable__label-arrow:hover:before {color: black;}#sk-container-id-1 div.sk-estimator:hover label.sk-toggleable__label-arrow:before {color: black;}#sk-container-id-1 div.sk-toggleable__content {max-height: 0;max-width: 0;overflow: hidden;text-align: left;background-color: #f0f8ff;}#sk-container-id-1 div.sk-toggleable__content pre {margin: 0.2em;color: black;border-radius: 0.25em;background-color: #f0f8ff;}#sk-container-id-1 input.sk-toggleable__control:checked~div.sk-toggleable__content {max-height: 200px;max-width: 100%;overflow: auto;}#sk-container-id-1 input.sk-toggleable__control:checked~label.sk-toggleable__label-arrow:before {content: \"▾\";}#sk-container-id-1 div.sk-estimator input.sk-toggleable__control:checked~label.sk-toggleable__label {background-color: #d4ebff;}#sk-container-id-1 div.sk-label input.sk-toggleable__control:checked~label.sk-toggleable__label {background-color: #d4ebff;}#sk-container-id-1 input.sk-hidden--visually {border: 0;clip: rect(1px 1px 1px 1px);clip: rect(1px, 1px, 1px, 1px);height: 1px;margin: -1px;overflow: hidden;padding: 0;position: absolute;width: 1px;}#sk-container-id-1 div.sk-estimator {font-family: monospace;background-color: #f0f8ff;border: 1px dotted black;border-radius: 0.25em;box-sizing: border-box;margin-bottom: 0.5em;}#sk-container-id-1 div.sk-estimator:hover {background-color: #d4ebff;}#sk-container-id-1 div.sk-parallel-item::after {content: \"\";width: 100%;border-bottom: 1px solid gray;flex-grow: 1;}#sk-container-id-1 div.sk-label:hover label.sk-toggleable__label {background-color: #d4ebff;}#sk-container-id-1 div.sk-serial::before {content: \"\";position: absolute;border-left: 1px solid gray;box-sizing: border-box;top: 0;bottom: 0;left: 50%;z-index: 0;}#sk-container-id-1 div.sk-serial {display: flex;flex-direction: column;align-items: center;background-color: white;padding-right: 0.2em;padding-left: 0.2em;position: relative;}#sk-container-id-1 div.sk-item {position: relative;z-index: 1;}#sk-container-id-1 div.sk-parallel {display: flex;align-items: stretch;justify-content: center;background-color: white;position: relative;}#sk-container-id-1 div.sk-item::before, #sk-container-id-1 div.sk-parallel-item::before {content: \"\";position: absolute;border-left: 1px solid gray;box-sizing: border-box;top: 0;bottom: 0;left: 50%;z-index: -1;}#sk-container-id-1 div.sk-parallel-item {display: flex;flex-direction: column;z-index: 1;position: relative;background-color: white;}#sk-container-id-1 div.sk-parallel-item:first-child::after {align-self: flex-end;width: 50%;}#sk-container-id-1 div.sk-parallel-item:last-child::after {align-self: flex-start;width: 50%;}#sk-container-id-1 div.sk-parallel-item:only-child::after {width: 0;}#sk-container-id-1 div.sk-dashed-wrapped {border: 1px dashed gray;margin: 0 0.4em 0.5em 0.4em;box-sizing: border-box;padding-bottom: 0.4em;background-color: white;}#sk-container-id-1 div.sk-label label {font-family: monospace;font-weight: bold;display: inline-block;line-height: 1.2em;}#sk-container-id-1 div.sk-label-container {text-align: center;}#sk-container-id-1 div.sk-container {/* jupyter's `normalize.less` sets `[hidden] { display: none; }` but bootstrap.min.css set `[hidden] { display: none !important; }` so we also need the `!important` here to be able to override the default hidden behavior on the sphinx rendered scikit-learn.org. See: https://github.com/scikit-learn/scikit-learn/issues/21755 */display: inline-block !important;position: relative;}#sk-container-id-1 div.sk-text-repr-fallback {display: none;}</style><div id=\"sk-container-id-1\" class=\"sk-top-container\"><div class=\"sk-text-repr-fallback\"><pre>LinearRegression()</pre><b>In a Jupyter environment, please rerun this cell to show the HTML representation or trust the notebook. <br />On GitHub, the HTML representation is unable to render, please try loading this page with nbviewer.org.</b></div><div class=\"sk-container\" hidden><div class=\"sk-item\"><div class=\"sk-estimator sk-toggleable\"><input class=\"sk-toggleable__control sk-hidden--visually\" id=\"sk-estimator-id-1\" type=\"checkbox\" checked><label for=\"sk-estimator-id-1\" class=\"sk-toggleable__label sk-toggleable__label-arrow\">LinearRegression</label><div class=\"sk-toggleable__content\"><pre>LinearRegression()</pre></div></div></div></div></div>"
      ],
      "text/plain": [
       "LinearRegression()"
      ]
     },
     "execution_count": null,
     "metadata": {},
     "output_type": "execute_result"
    }
   ],
   "source": [
    "from sklearn.linear_model import LinearRegression\n",
    "linear_regression = LinearRegression()\n",
    "linear_regression.fit(X_train, y_train)"
   ]
  },
  {
   "cell_type": "markdown",
   "metadata": {},
   "source": [
    "Recall that the `.score()` of a `LinearRegression` gives the $R^2$."
   ]
  },
  {
   "cell_type": "code",
   "execution_count": null,
   "metadata": {},
   "outputs": [
    {
     "data": {
      "text/plain": [
       "0.017817678886197896"
      ]
     },
     "execution_count": null,
     "metadata": {},
     "output_type": "execute_result"
    }
   ],
   "source": [
    "linear_regression.score(X_train, y_train)"
   ]
  },
  {
   "cell_type": "markdown",
   "metadata": {},
   "source": [
    "We can also examine the coefficients of our model."
   ]
  },
  {
   "cell_type": "code",
   "execution_count": null,
   "metadata": {},
   "outputs": [
    {
     "data": {
      "text/plain": [
       "array([[ 0.004, -0.027,  0.288, -0.432,  0.   ,  0.105, -0.006,  0.031,\n",
       "        -0.027]])"
      ]
     },
     "execution_count": null,
     "metadata": {},
     "output_type": "execute_result"
    }
   ],
   "source": [
    "np.round(linear_regression.coef_, 3)"
   ]
  },
  {
   "cell_type": "markdown",
   "metadata": {},
   "source": [
    "### KNN"
   ]
  },
  {
   "cell_type": "markdown",
   "metadata": {},
   "source": [
    "Next, let's fit a KNN to our model.  As you can see, the in-sample $R^2$ is higher for KNN over Linear Regression."
   ]
  },
  {
   "cell_type": "code",
   "execution_count": null,
   "metadata": {},
   "outputs": [
    {
     "data": {
      "text/plain": [
       "0.10833741669884545"
      ]
     },
     "execution_count": null,
     "metadata": {},
     "output_type": "execute_result"
    }
   ],
   "source": [
    "from sklearn.neighbors import KNeighborsRegressor\n",
    "knn = KNeighborsRegressor(n_neighbors=10)\n",
    "knn.fit(X_train, y_train)\n",
    "knn.score(X_train, y_train)"
   ]
  },
  {
   "cell_type": "markdown",
   "metadata": {},
   "source": [
    "#### Mean-Squared Error"
   ]
  },
  {
   "cell_type": "markdown",
   "metadata": {},
   "source": [
    "Another goodness-of-fit metric is the mean squared error.  As you can see the models are close on this metric."
   ]
  },
  {
   "cell_type": "code",
   "execution_count": null,
   "metadata": {},
   "outputs": [
    {
     "data": {
      "text/plain": [
       "0.0002835387032450793"
      ]
     },
     "execution_count": null,
     "metadata": {},
     "output_type": "execute_result"
    }
   ],
   "source": [
    "sklearn.metrics.mean_squared_error(y_train, linear_regression.predict(X_train))"
   ]
  },
  {
   "cell_type": "code",
   "execution_count": null,
   "metadata": {},
   "outputs": [
    {
     "data": {
      "text/plain": [
       "0.00025740725236702097"
      ]
     },
     "execution_count": null,
     "metadata": {},
     "output_type": "execute_result"
    }
   ],
   "source": [
    "sklearn.metrics.mean_squared_error(y_train, knn.predict(X_train))"
   ]
  },
  {
   "cell_type": "markdown",
   "metadata": {},
   "source": [
    "## Testing Linear Regression and K-Nearest Neighbors"
   ]
  },
  {
   "cell_type": "markdown",
   "metadata": {},
   "source": [
    "Let's now test the model with the data after 2016."
   ]
  },
  {
   "cell_type": "code",
   "execution_count": null,
   "metadata": {},
   "outputs": [
    {
     "data": {
      "text/html": [
       "<div>\n",
       "<style scoped>\n",
       "    .dataframe tbody tr th:only-of-type {\n",
       "        vertical-align: middle;\n",
       "    }\n",
       "\n",
       "    .dataframe tbody tr th {\n",
       "        vertical-align: top;\n",
       "    }\n",
       "\n",
       "    .dataframe thead th {\n",
       "        text-align: right;\n",
       "    }\n",
       "</style>\n",
       "<table border=\"1\" class=\"dataframe\">\n",
       "  <thead>\n",
       "    <tr style=\"text-align: right;\">\n",
       "      <th></th>\n",
       "      <th>googl</th>\n",
       "      <th>ibm</th>\n",
       "      <th>dia</th>\n",
       "      <th>spy</th>\n",
       "      <th>vix</th>\n",
       "      <th>dexjpus</th>\n",
       "      <th>dexusuk</th>\n",
       "      <th>msft_lag_0</th>\n",
       "      <th>msft_lag_1</th>\n",
       "    </tr>\n",
       "    <tr>\n",
       "      <th>trade_date</th>\n",
       "      <th></th>\n",
       "      <th></th>\n",
       "      <th></th>\n",
       "      <th></th>\n",
       "      <th></th>\n",
       "      <th></th>\n",
       "      <th></th>\n",
       "      <th></th>\n",
       "      <th></th>\n",
       "    </tr>\n",
       "  </thead>\n",
       "  <tbody>\n",
       "    <tr>\n",
       "      <th>2016-01-04</th>\n",
       "      <td>-0.023869</td>\n",
       "      <td>-0.012135</td>\n",
       "      <td>-0.015518</td>\n",
       "      <td>-0.013980</td>\n",
       "      <td>2.490002</td>\n",
       "      <td>-0.008065</td>\n",
       "      <td>-0.004069</td>\n",
       "      <td>-0.012256</td>\n",
       "      <td>-0.014740</td>\n",
       "    </tr>\n",
       "    <tr>\n",
       "      <th>2016-01-05</th>\n",
       "      <td>0.002752</td>\n",
       "      <td>-0.000736</td>\n",
       "      <td>0.000584</td>\n",
       "      <td>0.001692</td>\n",
       "      <td>-1.360001</td>\n",
       "      <td>-0.002934</td>\n",
       "      <td>-0.001498</td>\n",
       "      <td>0.004562</td>\n",
       "      <td>-0.012256</td>\n",
       "    </tr>\n",
       "    <tr>\n",
       "      <th>2016-01-06</th>\n",
       "      <td>-0.002889</td>\n",
       "      <td>-0.005005</td>\n",
       "      <td>-0.014294</td>\n",
       "      <td>-0.012614</td>\n",
       "      <td>1.250000</td>\n",
       "      <td>-0.003447</td>\n",
       "      <td>-0.002591</td>\n",
       "      <td>-0.018165</td>\n",
       "      <td>0.004562</td>\n",
       "    </tr>\n",
       "    <tr>\n",
       "      <th>2016-01-07</th>\n",
       "      <td>-0.024140</td>\n",
       "      <td>-0.017090</td>\n",
       "      <td>-0.023559</td>\n",
       "      <td>-0.023992</td>\n",
       "      <td>4.400000</td>\n",
       "      <td>-0.004555</td>\n",
       "      <td>-0.003213</td>\n",
       "      <td>-0.034782</td>\n",
       "      <td>-0.018165</td>\n",
       "    </tr>\n",
       "    <tr>\n",
       "      <th>2016-01-08</th>\n",
       "      <td>-0.013617</td>\n",
       "      <td>-0.009258</td>\n",
       "      <td>-0.010427</td>\n",
       "      <td>-0.010976</td>\n",
       "      <td>2.020000</td>\n",
       "      <td>-0.002203</td>\n",
       "      <td>-0.003841</td>\n",
       "      <td>0.003067</td>\n",
       "      <td>-0.034782</td>\n",
       "    </tr>\n",
       "    <tr>\n",
       "      <th>...</th>\n",
       "      <td>...</td>\n",
       "      <td>...</td>\n",
       "      <td>...</td>\n",
       "      <td>...</td>\n",
       "      <td>...</td>\n",
       "      <td>...</td>\n",
       "      <td>...</td>\n",
       "      <td>...</td>\n",
       "      <td>...</td>\n",
       "    </tr>\n",
       "    <tr>\n",
       "      <th>2021-07-23</th>\n",
       "      <td>0.035769</td>\n",
       "      <td>0.004477</td>\n",
       "      <td>0.006633</td>\n",
       "      <td>0.010288</td>\n",
       "      <td>-0.490000</td>\n",
       "      <td>0.003815</td>\n",
       "      <td>-0.000073</td>\n",
       "      <td>0.012337</td>\n",
       "      <td>0.016845</td>\n",
       "    </tr>\n",
       "    <tr>\n",
       "      <th>2021-07-26</th>\n",
       "      <td>0.007668</td>\n",
       "      <td>0.010117</td>\n",
       "      <td>0.002396</td>\n",
       "      <td>0.002455</td>\n",
       "      <td>0.379999</td>\n",
       "      <td>-0.001900</td>\n",
       "      <td>0.005819</td>\n",
       "      <td>-0.002140</td>\n",
       "      <td>0.012337</td>\n",
       "    </tr>\n",
       "    <tr>\n",
       "      <th>2021-07-27</th>\n",
       "      <td>-0.015929</td>\n",
       "      <td>-0.000140</td>\n",
       "      <td>-0.002248</td>\n",
       "      <td>-0.004558</td>\n",
       "      <td>1.780001</td>\n",
       "      <td>-0.006074</td>\n",
       "      <td>0.003977</td>\n",
       "      <td>-0.008684</td>\n",
       "      <td>-0.002140</td>\n",
       "    </tr>\n",
       "    <tr>\n",
       "      <th>2021-07-28</th>\n",
       "      <td>0.031797</td>\n",
       "      <td>-0.006865</td>\n",
       "      <td>-0.003594</td>\n",
       "      <td>-0.000410</td>\n",
       "      <td>-1.050001</td>\n",
       "      <td>0.003831</td>\n",
       "      <td>0.000000</td>\n",
       "      <td>-0.001117</td>\n",
       "      <td>-0.008684</td>\n",
       "    </tr>\n",
       "    <tr>\n",
       "      <th>2021-07-29</th>\n",
       "      <td>-0.002326</td>\n",
       "      <td>0.001129</td>\n",
       "      <td>0.004179</td>\n",
       "      <td>0.004147</td>\n",
       "      <td>-0.609999</td>\n",
       "      <td>-0.004816</td>\n",
       "      <td>0.005906</td>\n",
       "      <td>0.000978</td>\n",
       "      <td>-0.001117</td>\n",
       "    </tr>\n",
       "  </tbody>\n",
       "</table>\n",
       "<p>1386 rows × 9 columns</p>\n",
       "</div>"
      ],
      "text/plain": [
       "               googl       ibm       dia       spy       vix   dexjpus   \n",
       "trade_date                                                               \n",
       "2016-01-04 -0.023869 -0.012135 -0.015518 -0.013980  2.490002 -0.008065  \\\n",
       "2016-01-05  0.002752 -0.000736  0.000584  0.001692 -1.360001 -0.002934   \n",
       "2016-01-06 -0.002889 -0.005005 -0.014294 -0.012614  1.250000 -0.003447   \n",
       "2016-01-07 -0.024140 -0.017090 -0.023559 -0.023992  4.400000 -0.004555   \n",
       "2016-01-08 -0.013617 -0.009258 -0.010427 -0.010976  2.020000 -0.002203   \n",
       "...              ...       ...       ...       ...       ...       ...   \n",
       "2021-07-23  0.035769  0.004477  0.006633  0.010288 -0.490000  0.003815   \n",
       "2021-07-26  0.007668  0.010117  0.002396  0.002455  0.379999 -0.001900   \n",
       "2021-07-27 -0.015929 -0.000140 -0.002248 -0.004558  1.780001 -0.006074   \n",
       "2021-07-28  0.031797 -0.006865 -0.003594 -0.000410 -1.050001  0.003831   \n",
       "2021-07-29 -0.002326  0.001129  0.004179  0.004147 -0.609999 -0.004816   \n",
       "\n",
       "             dexusuk  msft_lag_0  msft_lag_1  \n",
       "trade_date                                    \n",
       "2016-01-04 -0.004069   -0.012256   -0.014740  \n",
       "2016-01-05 -0.001498    0.004562   -0.012256  \n",
       "2016-01-06 -0.002591   -0.018165    0.004562  \n",
       "2016-01-07 -0.003213   -0.034782   -0.018165  \n",
       "2016-01-08 -0.003841    0.003067   -0.034782  \n",
       "...              ...         ...         ...  \n",
       "2021-07-23 -0.000073    0.012337    0.016845  \n",
       "2021-07-26  0.005819   -0.002140    0.012337  \n",
       "2021-07-27  0.003977   -0.008684   -0.002140  \n",
       "2021-07-28  0.000000   -0.001117   -0.008684  \n",
       "2021-07-29  0.005906    0.000978   -0.001117  \n",
       "\n",
       "[1386 rows x 9 columns]"
      ]
     },
     "execution_count": null,
     "metadata": {},
     "output_type": "execute_result"
    }
   ],
   "source": [
    "X_test = df_test.drop(columns=['msft'])[0:len(df_test)-1]\n",
    "X_test"
   ]
  },
  {
   "cell_type": "code",
   "execution_count": null,
   "metadata": {},
   "outputs": [
    {
     "data": {
      "text/html": [
       "<div>\n",
       "<style scoped>\n",
       "    .dataframe tbody tr th:only-of-type {\n",
       "        vertical-align: middle;\n",
       "    }\n",
       "\n",
       "    .dataframe tbody tr th {\n",
       "        vertical-align: top;\n",
       "    }\n",
       "\n",
       "    .dataframe thead th {\n",
       "        text-align: right;\n",
       "    }\n",
       "</style>\n",
       "<table border=\"1\" class=\"dataframe\">\n",
       "  <thead>\n",
       "    <tr style=\"text-align: right;\">\n",
       "      <th></th>\n",
       "      <th>msft</th>\n",
       "    </tr>\n",
       "    <tr>\n",
       "      <th>trade_date</th>\n",
       "      <th></th>\n",
       "    </tr>\n",
       "  </thead>\n",
       "  <tbody>\n",
       "    <tr>\n",
       "      <th>2016-01-05</th>\n",
       "      <td>0.004562</td>\n",
       "    </tr>\n",
       "    <tr>\n",
       "      <th>2016-01-06</th>\n",
       "      <td>-0.018165</td>\n",
       "    </tr>\n",
       "    <tr>\n",
       "      <th>2016-01-07</th>\n",
       "      <td>-0.034782</td>\n",
       "    </tr>\n",
       "    <tr>\n",
       "      <th>2016-01-08</th>\n",
       "      <td>0.003067</td>\n",
       "    </tr>\n",
       "    <tr>\n",
       "      <th>2016-01-11</th>\n",
       "      <td>-0.000573</td>\n",
       "    </tr>\n",
       "    <tr>\n",
       "      <th>...</th>\n",
       "      <td>...</td>\n",
       "    </tr>\n",
       "    <tr>\n",
       "      <th>2021-07-26</th>\n",
       "      <td>-0.002140</td>\n",
       "    </tr>\n",
       "    <tr>\n",
       "      <th>2021-07-27</th>\n",
       "      <td>-0.008684</td>\n",
       "    </tr>\n",
       "    <tr>\n",
       "      <th>2021-07-28</th>\n",
       "      <td>-0.001117</td>\n",
       "    </tr>\n",
       "    <tr>\n",
       "      <th>2021-07-29</th>\n",
       "      <td>0.000978</td>\n",
       "    </tr>\n",
       "    <tr>\n",
       "      <th>2021-07-30</th>\n",
       "      <td>-0.005549</td>\n",
       "    </tr>\n",
       "  </tbody>\n",
       "</table>\n",
       "<p>1386 rows × 1 columns</p>\n",
       "</div>"
      ],
      "text/plain": [
       "                msft\n",
       "trade_date          \n",
       "2016-01-05  0.004562\n",
       "2016-01-06 -0.018165\n",
       "2016-01-07 -0.034782\n",
       "2016-01-08  0.003067\n",
       "2016-01-11 -0.000573\n",
       "...              ...\n",
       "2021-07-26 -0.002140\n",
       "2021-07-27 -0.008684\n",
       "2021-07-28 -0.001117\n",
       "2021-07-29  0.000978\n",
       "2021-07-30 -0.005549\n",
       "\n",
       "[1386 rows x 1 columns]"
      ]
     },
     "execution_count": null,
     "metadata": {},
     "output_type": "execute_result"
    }
   ],
   "source": [
    "y_test = df_test[['msft']][1:len(df_test)]\n",
    "y_test"
   ]
  },
  {
   "cell_type": "markdown",
   "metadata": {},
   "source": [
    "In terms of $R^2$, the `LinearRegression` performs better than KNN on the testing data."
   ]
  },
  {
   "cell_type": "code",
   "execution_count": null,
   "metadata": {},
   "outputs": [
    {
     "data": {
      "text/plain": [
       "0.027206970357722238"
      ]
     },
     "execution_count": null,
     "metadata": {},
     "output_type": "execute_result"
    }
   ],
   "source": [
    "linear_regression.score(X_test, y_test)"
   ]
  },
  {
   "cell_type": "code",
   "execution_count": null,
   "metadata": {},
   "outputs": [
    {
     "data": {
      "text/plain": [
       "0.008540678618186859"
      ]
     },
     "execution_count": null,
     "metadata": {},
     "output_type": "execute_result"
    }
   ],
   "source": [
    "knn.score(X_test, y_test)"
   ]
  },
  {
   "cell_type": "markdown",
   "metadata": {},
   "source": [
    "On the testing data, the models are again quite similar from an mean squared error perspective."
   ]
  },
  {
   "cell_type": "code",
   "execution_count": null,
   "metadata": {},
   "outputs": [
    {
     "data": {
      "text/plain": [
       "0.00028311321268821647"
      ]
     },
     "execution_count": null,
     "metadata": {},
     "output_type": "execute_result"
    }
   ],
   "source": [
    "sklearn.metrics.mean_squared_error(y_test, linear_regression.predict(X_test))"
   ]
  },
  {
   "cell_type": "code",
   "execution_count": null,
   "metadata": {},
   "outputs": [
    {
     "data": {
      "text/plain": [
       "0.00028854568769813577"
      ]
     },
     "execution_count": null,
     "metadata": {},
     "output_type": "execute_result"
    }
   ],
   "source": [
    "sklearn.metrics.mean_squared_error(y_test, knn.predict(X_test))"
   ]
  },
  {
   "cell_type": "markdown",
   "metadata": {},
   "source": [
    "## Neural Network"
   ]
  },
  {
   "cell_type": "markdown",
   "metadata": {},
   "source": [
    "Let's now fit our first neural network.  We begin by importing some addition packages and functions."
   ]
  },
  {
   "cell_type": "code",
   "execution_count": null,
   "metadata": {},
   "outputs": [
    {
     "name": "stderr",
     "output_type": "stream",
     "text": [
      "2023-09-02 09:27:09.434767: I tensorflow/tsl/cuda/cudart_stub.cc:28] Could not find cuda drivers on your machine, GPU will not be used.\n",
      "2023-09-02 09:27:09.482296: I tensorflow/tsl/cuda/cudart_stub.cc:28] Could not find cuda drivers on your machine, GPU will not be used.\n",
      "2023-09-02 09:27:09.483301: I tensorflow/core/platform/cpu_feature_guard.cc:182] This TensorFlow binary is optimized to use available CPU instructions in performance-critical operations.\n",
      "To enable the following instructions: AVX2 FMA, in other operations, rebuild TensorFlow with the appropriate compiler flags.\n",
      "2023-09-02 09:27:10.202041: W tensorflow/compiler/tf2tensorrt/utils/py_utils.cc:38] TF-TRT Warning: Could not find TensorRT\n"
     ]
    }
   ],
   "source": [
    "import random\n",
    "import tensorflow as tf\n",
    "from keras.layers import Dense\n",
    "from keras.models import Sequential\n",
    "from keras.optimizers import Adam"
   ]
  },
  {
   "cell_type": "markdown",
   "metadata": {},
   "source": [
    "In order to make our results reproducible, we'll use the following user defined function to set the various seeds for random number generation (this doesn't seem to fully work for some reason, although in previous chapters it seems to work, I'm not sure what the difference is)."
   ]
  },
  {
   "cell_type": "code",
   "execution_count": null,
   "metadata": {},
   "outputs": [],
   "source": [
    "def set_seeds(seed=100):\n",
    "    random.seed(seed)\n",
    "    np.random.seed(seed)\n",
    "    tf.random.set_seed(seed)"
   ]
  },
  {
   "cell_type": "code",
   "execution_count": null,
   "metadata": {},
   "outputs": [],
   "source": [
    "set_seeds()"
   ]
  },
  {
   "cell_type": "markdown",
   "metadata": {},
   "source": [
    "Now we can build and compile our model."
   ]
  },
  {
   "cell_type": "code",
   "execution_count": null,
   "metadata": {},
   "outputs": [],
   "source": [
    "model = Sequential()\n",
    "model.add(Dense(units=128, input_dim=len(X_train.columns), activation='relu'))\n",
    "model.add(Dense(units=128, activation='relu'))\n",
    "model.add(Dense(1))\n",
    "model.compile(optimizer='rmsprop', loss='mse', metrics=['mae'])"
   ]
  },
  {
   "cell_type": "markdown",
   "metadata": {},
   "source": [
    "Let's fit our model."
   ]
  },
  {
   "cell_type": "code",
   "execution_count": null,
   "metadata": {},
   "outputs": [
    {
     "name": "stdout",
     "output_type": "stream",
     "text": [
      "CPU times: user 5.83 s, sys: 211 ms, total: 6.04 s\n",
      "Wall time: 4.09 s\n"
     ]
    }
   ],
   "source": [
    "%%time\n",
    "model.fit(X_train, y_train, epochs=50, batch_size=32, verbose=0);"
   ]
  },
  {
   "cell_type": "markdown",
   "metadata": {},
   "source": [
    "As we can see from our two metrics, this baseline neural network performs better than `LinearRegression` and k-nearest neighbors."
   ]
  },
  {
   "cell_type": "code",
   "execution_count": null,
   "metadata": {},
   "outputs": [
    {
     "name": "stdout",
     "output_type": "stream",
     "text": [
      "44/44 [==============================] - 0s 1ms/step\n"
     ]
    },
    {
     "data": {
      "text/plain": [
       "0.09966924824345269"
      ]
     },
     "execution_count": null,
     "metadata": {},
     "output_type": "execute_result"
    }
   ],
   "source": [
    "sklearn.metrics.r2_score(y_test, model.predict(X_test))"
   ]
  },
  {
   "cell_type": "code",
   "execution_count": null,
   "metadata": {},
   "outputs": [
    {
     "name": "stdout",
     "output_type": "stream",
     "text": [
      "44/44 [==============================] - 0s 856us/step\n"
     ]
    },
    {
     "data": {
      "text/plain": [
       "0.00026202442230237316"
      ]
     },
     "execution_count": null,
     "metadata": {},
     "output_type": "execute_result"
    }
   ],
   "source": [
    "sklearn.metrics.mean_squared_error(y_test, model.predict(X_test))"
   ]
  },
  {
   "cell_type": "markdown",
   "metadata": {},
   "source": [
    "## Normalization"
   ]
  },
  {
   "cell_type": "markdown",
   "metadata": {},
   "source": [
    "Next, let's normalize our data and refit."
   ]
  },
  {
   "cell_type": "code",
   "execution_count": null,
   "metadata": {},
   "outputs": [],
   "source": [
    "mu = X_train.mean()\n",
    "std = X_train.std()"
   ]
  },
  {
   "cell_type": "code",
   "execution_count": null,
   "metadata": {},
   "outputs": [],
   "source": [
    "X_train_scaled = (X_train - mu) / std\n",
    "X_test_scaled = (X_test - mu) / std"
   ]
  },
  {
   "cell_type": "code",
   "execution_count": null,
   "metadata": {},
   "outputs": [],
   "source": [
    "set_seeds()"
   ]
  },
  {
   "cell_type": "code",
   "execution_count": null,
   "metadata": {},
   "outputs": [],
   "source": [
    "model = Sequential()\n",
    "model.add(Dense(units=128, input_dim=len(X_train_scaled.columns), activation='relu'))\n",
    "model.add(Dense(units=128, activation='relu'))\n",
    "model.add(Dense(1))\n",
    "model.compile(optimizer='rmsprop', loss='mse', metrics=['mae'])"
   ]
  },
  {
   "cell_type": "code",
   "execution_count": null,
   "metadata": {},
   "outputs": [
    {
     "name": "stdout",
     "output_type": "stream",
     "text": [
      "CPU times: user 5.63 s, sys: 213 ms, total: 5.84 s\n",
      "Wall time: 3.88 s\n"
     ]
    }
   ],
   "source": [
    "%%time\n",
    "model.fit(X_train_scaled, y_train, epochs=50, batch_size=32, verbose=0);"
   ]
  },
  {
   "cell_type": "markdown",
   "metadata": {},
   "source": [
    "This seems to have a drastically negative impact on model performance.  So we won't use normalization as we proceed."
   ]
  },
  {
   "cell_type": "code",
   "execution_count": null,
   "metadata": {},
   "outputs": [
    {
     "name": "stdout",
     "output_type": "stream",
     "text": [
      "44/44 [==============================] - 0s 875us/step\n"
     ]
    },
    {
     "data": {
      "text/plain": [
       "-0.55854923530846"
      ]
     },
     "execution_count": null,
     "metadata": {},
     "output_type": "execute_result"
    }
   ],
   "source": [
    "sklearn.metrics.r2_score(y_test, model.predict(X_test_scaled))"
   ]
  },
  {
   "cell_type": "code",
   "execution_count": null,
   "metadata": {},
   "outputs": [
    {
     "name": "stdout",
     "output_type": "stream",
     "text": [
      "44/44 [==============================] - 0s 939us/step\n"
     ]
    },
    {
     "data": {
      "text/plain": [
       "0.0004535865982748655"
      ]
     },
     "execution_count": null,
     "metadata": {},
     "output_type": "execute_result"
    }
   ],
   "source": [
    "sklearn.metrics.mean_squared_error(y_test, model.predict(X_test_scaled))"
   ]
  },
  {
   "cell_type": "markdown",
   "metadata": {},
   "source": [
    "## Dropout"
   ]
  },
  {
   "cell_type": "markdown",
   "metadata": {},
   "source": [
    "In this section, we perform dropout regularization."
   ]
  },
  {
   "cell_type": "code",
   "execution_count": null,
   "metadata": {},
   "outputs": [],
   "source": [
    "from keras.layers import Dropout"
   ]
  },
  {
   "cell_type": "code",
   "execution_count": null,
   "metadata": {},
   "outputs": [],
   "source": [
    "set_seeds()"
   ]
  },
  {
   "cell_type": "code",
   "execution_count": null,
   "metadata": {},
   "outputs": [],
   "source": [
    "model = Sequential()\n",
    "model.add(Dense(units=128, input_dim=len(X_train.columns), activation='relu'))\n",
    "model.add(Dropout(rate=0.3, seed=100))\n",
    "model.add(Dense(units=128, activation='relu'))\n",
    "model.add(Dropout(rate=0.3, seed=100))\n",
    "model.add(Dense(1))\n",
    "model.compile(optimizer='rmsprop', loss='mse', metrics=['mae'])"
   ]
  },
  {
   "cell_type": "code",
   "execution_count": null,
   "metadata": {},
   "outputs": [
    {
     "name": "stdout",
     "output_type": "stream",
     "text": [
      "CPU times: user 6.33 s, sys: 320 ms, total: 6.65 s\n",
      "Wall time: 4.44 s\n"
     ]
    }
   ],
   "source": [
    "%%time\n",
    "model.fit(X_train, y_train, epochs=50, batch_size=32, verbose=0);"
   ]
  },
  {
   "cell_type": "markdown",
   "metadata": {},
   "source": [
    "With dropout regularization, the model performs poorly relative to linear regression, nearest neighbors, and the baseline neural network."
   ]
  },
  {
   "cell_type": "code",
   "execution_count": null,
   "metadata": {},
   "outputs": [
    {
     "name": "stdout",
     "output_type": "stream",
     "text": [
      "44/44 [==============================] - 0s 926us/step\n"
     ]
    },
    {
     "data": {
      "text/plain": [
       "0.006088222751992722"
      ]
     },
     "execution_count": null,
     "metadata": {},
     "output_type": "execute_result"
    }
   ],
   "source": [
    "sklearn.metrics.r2_score(y_test, model.predict(X_test))"
   ]
  },
  {
   "cell_type": "code",
   "execution_count": null,
   "metadata": {},
   "outputs": [
    {
     "name": "stdout",
     "output_type": "stream",
     "text": [
      "44/44 [==============================] - 0s 942us/step\n"
     ]
    },
    {
     "data": {
      "text/plain": [
       "0.0002892594290985132"
      ]
     },
     "execution_count": null,
     "metadata": {},
     "output_type": "execute_result"
    }
   ],
   "source": [
    "sklearn.metrics.mean_squared_error(y_test, model.predict(X_test))"
   ]
  },
  {
   "cell_type": "markdown",
   "metadata": {},
   "source": [
    "## Regularization"
   ]
  },
  {
   "cell_type": "markdown",
   "metadata": {},
   "source": [
    "Now let's try `l2` (ridge) regularization. "
   ]
  },
  {
   "cell_type": "code",
   "execution_count": null,
   "metadata": {},
   "outputs": [],
   "source": [
    "from keras.regularizers import l2"
   ]
  },
  {
   "cell_type": "code",
   "execution_count": null,
   "metadata": {},
   "outputs": [],
   "source": [
    "set_seeds()"
   ]
  },
  {
   "cell_type": "code",
   "execution_count": null,
   "metadata": {},
   "outputs": [],
   "source": [
    "model = Sequential()\n",
    "model.add(Dense(units=128, input_dim=len(X_train.columns), activation='relu', activity_regularizer=l2(0.0005)))\n",
    "model.add(Dense(units=128, activation='relu', activity_regularizer=l2(0.0005)))\n",
    "model.add(Dense(1))\n",
    "model.compile(optimizer='rmsprop', loss='mse', metrics=['mae'])"
   ]
  },
  {
   "cell_type": "code",
   "execution_count": null,
   "metadata": {},
   "outputs": [
    {
     "name": "stdout",
     "output_type": "stream",
     "text": [
      "CPU times: user 6.06 s, sys: 307 ms, total: 6.36 s\n",
      "Wall time: 4.04 s\n"
     ]
    }
   ],
   "source": [
    "%%time\n",
    "model.fit(X_train, y_train, epochs=50, batch_size=32, verbose=0);"
   ]
  },
  {
   "cell_type": "markdown",
   "metadata": {},
   "source": [
    "Using `l2` doesn't improve the model compared to linear regression, nearest neighbors, and the baseline linear regression."
   ]
  },
  {
   "cell_type": "code",
   "execution_count": null,
   "metadata": {},
   "outputs": [
    {
     "name": "stdout",
     "output_type": "stream",
     "text": [
      "44/44 [==============================] - 0s 860us/step\n"
     ]
    },
    {
     "data": {
      "text/plain": [
       "0.07948509431099182"
      ]
     },
     "execution_count": null,
     "metadata": {},
     "output_type": "execute_result"
    }
   ],
   "source": [
    "sklearn.metrics.r2_score(y_test, model.predict(X_test))"
   ]
  },
  {
   "cell_type": "code",
   "execution_count": null,
   "metadata": {},
   "outputs": [
    {
     "name": "stdout",
     "output_type": "stream",
     "text": [
      "44/44 [==============================] - 0s 927us/step\n"
     ]
    },
    {
     "data": {
      "text/plain": [
       "0.00026789864270803726"
      ]
     },
     "execution_count": null,
     "metadata": {},
     "output_type": "execute_result"
    }
   ],
   "source": [
    "sklearn.metrics.mean_squared_error(y_test, model.predict(X_test))"
   ]
  },
  {
   "cell_type": "markdown",
   "metadata": {},
   "source": [
    "## Classification"
   ]
  },
  {
   "cell_type": "markdown",
   "metadata": {},
   "source": [
    "Finally, let's recast this as a classification problem where we are simply trying to predict gains and losses.  First we have to change our labels to binary outcomes."
   ]
  },
  {
   "cell_type": "code",
   "execution_count": null,
   "metadata": {},
   "outputs": [],
   "source": [
    "y_train_classification = np.where(y_train['msft'] > 0, 1, 0)\n",
    "y_test_classification = np.where(y_test['msft'] > 0, 1, 0)"
   ]
  },
  {
   "cell_type": "code",
   "execution_count": null,
   "metadata": {},
   "outputs": [],
   "source": [
    "set_seeds()"
   ]
  },
  {
   "cell_type": "code",
   "execution_count": null,
   "metadata": {},
   "outputs": [],
   "source": [
    "model = Sequential()\n",
    "model.add(Dense(units=128, input_dim=len(X_train.columns), activation='relu'))\n",
    "model.add(Dense(units=64, activation='relu'))\n",
    "model.add(Dense(units=32, activation='relu'))\n",
    "model.add(Dense(1, activation='sigmoid'))\n",
    "model.compile(optimizer='rmsprop', loss='binary_crossentropy', metrics=['accuracy'])"
   ]
  },
  {
   "cell_type": "code",
   "execution_count": null,
   "metadata": {},
   "outputs": [
    {
     "name": "stdout",
     "output_type": "stream",
     "text": [
      "CPU times: user 6.03 s, sys: 297 ms, total: 6.33 s\n",
      "Wall time: 4.19 s\n"
     ]
    }
   ],
   "source": [
    "%%time\n",
    "model.fit(X_train, y_train_classification, epochs=50, batch_size=32, verbose=0);"
   ]
  },
  {
   "cell_type": "markdown",
   "metadata": {},
   "source": [
    "The binary classification is right about 50% of the time.."
   ]
  },
  {
   "cell_type": "code",
   "execution_count": null,
   "metadata": {},
   "outputs": [
    {
     "name": "stdout",
     "output_type": "stream",
     "text": [
      "44/44 [==============================] - 0s 2ms/step - loss: 0.6899 - accuracy: 0.5036\n"
     ]
    },
    {
     "data": {
      "text/plain": [
       "[0.689908504486084, 0.5036075115203857]"
      ]
     },
     "execution_count": null,
     "metadata": {},
     "output_type": "execute_result"
    }
   ],
   "source": [
    "model.evaluate(X_test, y_test_classification)"
   ]
  },
  {
   "cell_type": "markdown",
   "metadata": {},
   "source": [
    "Guessing that MSFT will rise everyday is right 55% of the time."
   ]
  },
  {
   "cell_type": "code",
   "execution_count": null,
   "metadata": {},
   "outputs": [
    {
     "data": {
      "text/plain": [
       "0.5526695526695526"
      ]
     },
     "execution_count": null,
     "metadata": {},
     "output_type": "execute_result"
    }
   ],
   "source": [
    "y_test_classification.mean()"
   ]
  }
 ],
 "metadata": {
  "kernelspec": {
   "display_name": "python3",
   "language": "python",
   "name": "python3"
  }
 },
 "nbformat": 4,
 "nbformat_minor": 4
}
