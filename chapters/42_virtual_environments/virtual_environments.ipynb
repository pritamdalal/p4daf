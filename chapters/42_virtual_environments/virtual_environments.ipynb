{
 "cells": [
  {
   "cell_type": "markdown",
   "metadata": {},
   "source": [
    "# Virtual Enviroments"
   ]
  },
  {
   "cell_type": "markdown",
   "metadata": {},
   "source": [
    "Many data scientists aren't particularly careful about knowing *where* their packages live on their machine.  They usually just install their packages at the system level and then get on with their data analysis.\n",
    "\n",
    "In a high stakes context, you will want to make sure that your work is completely reproducible.  Insuring reproducibility will also be important when you start collaborating with others.\n",
    "\n",
    "*Virtual environments* are a way to insure reproducibility of your work; they are a specific example of the general concept of a *project specific library*."
   ]
  },
  {
   "cell_type": "markdown",
   "metadata": {},
   "source": [
    "## Where Do Packages Live on Your Machine?"
   ]
  },
  {
   "cell_type": "markdown",
   "metadata": {},
   "source": [
    "Where does Python look for packages to use in your projects?  You can see the default set of paths that it looks for using the following code."
   ]
  },
  {
   "cell_type": "code",
   "execution_count": null,
   "metadata": {},
   "outputs": [
    {
     "data": {
      "text/plain": [
       "['/home/pritam/Desktop/p4dsf/chapters/42_virtual_environments',\n",
       " '/usr/lib/python310.zip',\n",
       " '/usr/lib/python3.10',\n",
       " '/usr/lib/python3.10/lib-dynload',\n",
       " '',\n",
       " '/home/pritam/.local/lib/python3.10/site-packages',\n",
       " '/usr/local/lib/python3.10/dist-packages',\n",
       " '/usr/lib/python3/dist-packages']"
      ]
     },
     "execution_count": null,
     "metadata": {},
     "output_type": "execute_result"
    }
   ],
   "source": [
    "import sys\n",
    "sys.path"
   ]
  },
  {
   "cell_type": "markdown",
   "metadata": {},
   "source": [
    "## Dist-packages and Site-packages"
   ]
  },
  {
   "cell_type": "markdown",
   "metadata": {},
   "source": [
    "There are two types of packages: *dist-packages* and *site-packages*.  Dist-packages are the *standard library* that comes out-of-the-box with every Python distribution.  Site-packages are the third party packages that you install using `pip`.\n",
    "\n",
    "From what I can tell, dist-packages *mostly* live in `/usr/lib/python3.10`.  And site-packages *mostly* live in `/home/pritam/.local/lib/python3.10/site-packages`.\n",
    "\n",
    "Let's hop into the terminal and take a look."
   ]
  },
  {
   "cell_type": "markdown",
   "metadata": {},
   "source": [
    "```shell\n",
    "$$ ls /usr/lib/python3.8\n",
    "\n",
    "$$ ls /home/pritam/.local/lib/python3.8/site-packages\n",
    "```"
   ]
  },
  {
   "cell_type": "markdown",
   "metadata": {},
   "source": [
    "(Of course, the specific file paths will be different on your machine.)"
   ]
  },
  {
   "cell_type": "markdown",
   "metadata": {},
   "source": [
    "## The Need for Virtual Environments"
   ]
  },
  {
   "cell_type": "markdown",
   "metadata": {},
   "source": [
    "Consider the following scenario where you have two projects: ProjectA and ProjectB, both of which have a dependency on the same library, ProjectC. The problem becomes apparent when we start requiring different versions of ProjectC. Maybe ProjectA needs v1.0.0, while ProjectB requires the newer v2.0.0, for example.\n",
    "\n",
    "This is a real problem for Python since it can’t differentiate between versions in the site-packages directory. So both v1.0.0 and v2.0.0 would reside in the same directory with the same name\n",
    "\n",
    "A virtual envorionment will solve this problem."
   ]
  },
  {
   "cell_type": "markdown",
   "metadata": {},
   "source": [
    "## What is a Virtual Environment?"
   ]
  },
  {
   "cell_type": "markdown",
   "metadata": {},
   "source": [
    "A virtual environment is simply a directory with three important components:\n",
    "\n",
    "- A `site-packages/` folder where third party libraries are installed.\n",
    "- Symlinks to Python executables installed on your system.\n",
    "- Scripts that ensure executed Python code uses the Python interpreter and site packages installed inside the given virtual environment."
   ]
  },
  {
   "cell_type": "markdown",
   "metadata": {},
   "source": [
    "## Creating a Virtual Environment"
   ]
  },
  {
   "cell_type": "markdown",
   "metadata": {},
   "source": [
    "Let's begin by creating a simple project to demonstrate these concepts."
   ]
  },
  {
   "cell_type": "markdown",
   "metadata": {},
   "source": [
    "```shell\n",
    "$$ mkdir test_project\n",
    "\n",
    "$$ cd test_project\n",
    "```"
   ]
  },
  {
   "cell_type": "markdown",
   "metadata": {},
   "source": [
    "Next, let's create a simple script inside our project and call it `script.py`:"
   ]
  },
  {
   "cell_type": "markdown",
   "metadata": {},
   "source": [
    "```\n",
    "import pandas as pd\n",
    "import yfinance as yf\n",
    "yf.pdr_override()\n",
    "from pandas_datareader import data as pdr\n",
    "\n",
    "df = pdr.get_data_yahoo('SPY')\n",
    "print(df)\n",
    "```"
   ]
  },
  {
   "cell_type": "markdown",
   "metadata": {},
   "source": [
    "Let's try running our script at the terminal:"
   ]
  },
  {
   "cell_type": "markdown",
   "metadata": {},
   "source": [
    "```shell\n",
    "$$ python3 script.py\n",
    "```"
   ]
  },
  {
   "cell_type": "markdown",
   "metadata": {},
   "source": [
    "This runs just fine because our project is looking for system-wide installations of `pandas-datareader`.\n",
    "\n",
    "We can see a list of all site-packages with the following:"
   ]
  },
  {
   "cell_type": "markdown",
   "metadata": {},
   "source": [
    "```shell\n",
    "$$ pip list\n",
    "```"
   ]
  },
  {
   "cell_type": "markdown",
   "metadata": {},
   "source": [
    "Notice that `pandas-datareader` is in this list."
   ]
  },
  {
   "cell_type": "markdown",
   "metadata": {},
   "source": [
    "## Creating a Virtual Environment"
   ]
  },
  {
   "cell_type": "markdown",
   "metadata": {},
   "source": [
    "Now let's create a virtual environment in `test_project`.  There are many different ways of creating virtual environments in Python.  We are going to use the **venv** package which is part of the standard library.\n",
    "\n",
    "The command for creating a virtual environment is simply:"
   ]
  },
  {
   "cell_type": "markdown",
   "metadata": {},
   "source": [
    "```shell\n",
    "$$ python3 -m venv .venv\n",
    "```"
   ]
  },
  {
   "cell_type": "markdown",
   "metadata": {},
   "source": [
    "Let's take a look at the contents of our project directory with `ls -la`.  As you can see, there is a new directory called `.venv`.  If we look at the content of `.venv` we see a number of subdirectories.\n",
    "\n",
    "Here is what the important folders contains:\n",
    "\n",
    "- `bin`: files that interact with the virtual environment\n",
    "- `include`: C headers that compile the Python packages\n",
    "- `lib`: a copy of the Python version along with a site-packages folder where each dependency is installed"
   ]
  },
  {
   "cell_type": "markdown",
   "metadata": {},
   "source": [
    "Now that we have created our virtual environment inside our `test_project`, let's try rerunning our script.  As you can see it works fine."
   ]
  },
  {
   "cell_type": "markdown",
   "metadata": {},
   "source": [
    "```shell\n",
    "$$ python3 script.py\n",
    "```"
   ]
  },
  {
   "cell_type": "markdown",
   "metadata": {},
   "source": [
    "As you can see the script still runs fine."
   ]
  },
  {
   "cell_type": "markdown",
   "metadata": {},
   "source": [
    "## Activating the Virtual Environment"
   ]
  },
  {
   "cell_type": "markdown",
   "metadata": {},
   "source": [
    "Even though we have created our virtual environment, we still have not activated it.  Let's do so now."
   ]
  },
  {
   "cell_type": "markdown",
   "metadata": {},
   "source": [
    "```shell\n",
    "$$ source .venv/bin/activate\n",
    "\n",
    "(venv) $$\n",
    "```"
   ]
  },
  {
   "cell_type": "markdown",
   "metadata": {},
   "source": [
    "Notice the `(.venv)` decorator at the terminal prompt.  This indicates that the virtual environment has been activated.\n",
    "\n",
    "Let's try running our script again:"
   ]
  },
  {
   "cell_type": "markdown",
   "metadata": {},
   "source": [
    "```shell\n",
    "$$ python3 script.py\n",
    "```"
   ]
  },
  {
   "cell_type": "markdown",
   "metadata": {},
   "source": [
    "This time it fails.  To see why, let's look at the search path in the Python console."
   ]
  },
  {
   "cell_type": "markdown",
   "metadata": {},
   "source": [
    "```shell\n",
    ">>> import sys\n",
    ">>> import pprint\n",
    ">>> pprint.pprint(sys.path)\n",
    "```"
   ]
  },
  {
   "cell_type": "markdown",
   "metadata": {},
   "source": [
    "As you can see, `sys.path` is much shorter now.  Now, all the site packages associated with the project are in `/home/pritam/Desktop/test_project/.venv/lib/python3.8/site-packages`.\n",
    "\n",
    "In the terminal, let's look at the contents of this directory with `ls -la`.  As you can see, the content of this directory are minimal and, in particular, `pandas-datareader` is not present.\n",
    "\n",
    "Another way to verify this is to run:"
   ]
  },
  {
   "cell_type": "markdown",
   "metadata": {},
   "source": [
    "```shell\n",
    "$$ pip list\n",
    "```"
   ]
  },
  {
   "cell_type": "markdown",
   "metadata": {},
   "source": [
    "## Installing Packages into a Virtual Environment"
   ]
  },
  {
   "cell_type": "markdown",
   "metadata": {},
   "source": [
    "Let's now use `pip` to install `pandas-datareader` into our virtual environment."
   ]
  },
  {
   "cell_type": "markdown",
   "metadata": {},
   "source": [
    "```shell\n",
    "$$ pip install pandas-datareader\n",
    "\n",
    "$$ ls /home/pritam/Desktop/test_project/.venv/lib/python3.10/site-packages\n",
    "```"
   ]
  },
  {
   "cell_type": "markdown",
   "metadata": {},
   "source": [
    "Now we can see that `/home/pritam/Desktop/test_project/venv/lib/python3.8/site-packages` contains `pandas-datareader` and all its dependencies.  We also have a longer `pip list`."
   ]
  },
  {
   "cell_type": "markdown",
   "metadata": {},
   "source": [
    "```shell\n",
    "$$ pip list\n",
    "```"
   ]
  },
  {
   "cell_type": "markdown",
   "metadata": {},
   "source": [
    "If we try to rerun our script, it now works."
   ]
  },
  {
   "cell_type": "markdown",
   "metadata": {},
   "source": [
    "```shell\n",
    "$$ python3 script.py\n",
    "```"
   ]
  },
  {
   "cell_type": "markdown",
   "metadata": {},
   "source": [
    "## Creating a `requirements.txt`"
   ]
  },
  {
   "cell_type": "markdown",
   "metadata": {},
   "source": [
    "In order to make our project reproducible we will need to make a `requirements.txt` which will detail all the packages in our virtual environment.  This is done as follows:"
   ]
  },
  {
   "cell_type": "markdown",
   "metadata": {},
   "source": [
    "```shell\n",
    "$$ pip freeze > requirements.txt\n",
    "```"
   ]
  },
  {
   "cell_type": "markdown",
   "metadata": {},
   "source": [
    "We now have a text file called `requirements.txt` which details all the packages in our project as well as their version numbers.  Let's check the contents of this text file:"
   ]
  },
  {
   "cell_type": "markdown",
   "metadata": {},
   "source": [
    "```shell\n",
    "$$ cat requirements.txt\n",
    "```"
   ]
  },
  {
   "cell_type": "markdown",
   "metadata": {},
   "source": [
    "## Deactivating a Virtual Environment"
   ]
  },
  {
   "cell_type": "markdown",
   "metadata": {},
   "source": [
    "Deactivating a virtual enviroment is straight forward."
   ]
  },
  {
   "cell_type": "markdown",
   "metadata": {},
   "source": [
    "```shell\n",
    "(venv) $$ deactivate\n",
    "\n",
    "$$\n",
    "```"
   ]
  },
  {
   "cell_type": "markdown",
   "metadata": {},
   "source": [
    "We can verify that our virtual environment is deactivated by running:"
   ]
  },
  {
   "cell_type": "markdown",
   "metadata": {},
   "source": [
    "```shell\n",
    "$$ pip list\n",
    "```"
   ]
  },
  {
   "cell_type": "markdown",
   "metadata": {},
   "source": [
    "Notice the much longer list of system-wide site package installations."
   ]
  },
  {
   "cell_type": "markdown",
   "metadata": {},
   "source": [
    "## Reproducing a Development Environment with `requirements.txt`"
   ]
  },
  {
   "cell_type": "markdown",
   "metadata": {},
   "source": [
    "Let's delete the `.venv/` virtual enviroment in our `test_project` and pretend that we cloned this project from github.  (Conventional wisdom is that it is best to put virtual environments in your `.gitignore`)"
   ]
  },
  {
   "cell_type": "markdown",
   "metadata": {},
   "source": [
    "```shell\n",
    "$$ rm -rf .venv\n",
    "```"
   ]
  },
  {
   "cell_type": "markdown",
   "metadata": {},
   "source": [
    "Because we have the `requirements.txt` we can reproduce the set of site package installations that we had before.\n",
    "\n",
    "First, let's create a new virtual enviroment and activate it:"
   ]
  },
  {
   "cell_type": "markdown",
   "metadata": {},
   "source": [
    "```shell\n",
    "$$ python3 -m venv .venv/\n",
    "\n",
    "$$ source .venv/bin/activate\n",
    "\n",
    "(venv) $ \n",
    "```"
   ]
  },
  {
   "cell_type": "markdown",
   "metadata": {},
   "source": [
    "We can see that we once again have a minimal number of site-packages in our virtual environment."
   ]
  },
  {
   "cell_type": "markdown",
   "metadata": {},
   "source": [
    "```shell\n",
    "$$ pip list\n",
    "```"
   ]
  },
  {
   "cell_type": "markdown",
   "metadata": {},
   "source": [
    "Also, our `script.py` once again doesn't run because `pandas-datareader` is not in the virtual environments site library."
   ]
  },
  {
   "cell_type": "markdown",
   "metadata": {},
   "source": [
    "```shell\n",
    "$$ python3 script.py\n",
    "```"
   ]
  },
  {
   "cell_type": "markdown",
   "metadata": {},
   "source": [
    "All we have to do to reproduce the development environment is run the following code:"
   ]
  },
  {
   "cell_type": "markdown",
   "metadata": {},
   "source": [
    "```shell\n",
    "$$ pip install -r requirements.txt\n",
    "```"
   ]
  },
  {
   "cell_type": "markdown",
   "metadata": {},
   "source": [
    "Now we can check `pip list` and also verify that our code runs."
   ]
  },
  {
   "cell_type": "markdown",
   "metadata": {},
   "source": [
    "```shell\n",
    "$$ pip list\n",
    "\n",
    "$$ python3 script.py\n",
    "```"
   ]
  },
  {
   "cell_type": "markdown",
   "metadata": {},
   "source": [
    "## Virtual Environments in Jupyter Notebooks"
   ]
  },
  {
   "cell_type": "markdown",
   "metadata": {},
   "source": [
    "Working with virtual environments in Jupyter is a little more tricky.\n",
    "\n",
    "Let's begin by creating fresh virtual environment in our project and activating it."
   ]
  },
  {
   "cell_type": "markdown",
   "metadata": {},
   "source": [
    "```shell\n",
    "$$ deactivate\n",
    "\n",
    "$$ rm -rf .venv/\n",
    "\n",
    "$$ python3 -m venv .venv\n",
    "\n",
    "$$ source .venv/bin/activate\n",
    "```"
   ]
  },
  {
   "cell_type": "markdown",
   "metadata": {},
   "source": [
    "You can verify that our script once again does not run in the project."
   ]
  },
  {
   "cell_type": "markdown",
   "metadata": {},
   "source": [
    "Next, let's create a blank Jupyter notebook in our project and call it `notebook.ipynb`.  And let's type the following code in a cell and run it:"
   ]
  },
  {
   "cell_type": "markdown",
   "metadata": {},
   "source": [
    "```python\n",
    "import pandas as pd\n",
    "import yfinance as yf\n",
    "yf.pdr_override()\n",
    "from pandas_datareader import data as pdr\n",
    "\n",
    "df = pdr.get_data_yahoo('SPY')\n",
    "print(df)\n",
    "```"
   ]
  },
  {
   "cell_type": "markdown",
   "metadata": {},
   "source": [
    "Notice that this is the same code that is in `script.py`, yet it runs even though the virtual environment is activated and `script.py` doesn't run.  \n",
    "\n",
    "The reason for this is that behind the scenes of a Jupyter notebook, the computational engine is an *IPython kernel*.  In order to use a virtual environment in a Jupyter notebook you have to take the extra step of registering it as a kernel.  That is what we will do next with the following commands:"
   ]
  },
  {
   "cell_type": "markdown",
   "metadata": {},
   "source": [
    "```shell\n",
    "$$ pip install ipykernel\n",
    "\n",
    "$$ python3 -m ipykernel install --user --name=.venv\n",
    "\n",
    "$$ cat /home/pritam/.local/share/jupyter/kernels/.venv/kernel.json\n",
    "```"
   ]
  },
  {
   "cell_type": "markdown",
   "metadata": {},
   "source": [
    "Notice that `.venv` is now available in the JupyterLab launcher."
   ]
  },
  {
   "cell_type": "markdown",
   "metadata": {},
   "source": [
    "Go into `notebook.ipynb` and choose the `.venv` kernel that appears in the drop down menu.  Now, rerun the code chunk from above and you will find that it doesn't work.  This is because we are now working in the context of `.venv` which doesn't have `pandas-datareader` in it."
   ]
  },
  {
   "cell_type": "markdown",
   "metadata": {},
   "source": [
    "## Removing a Virtual Environment from a Jupyter Notebook"
   ]
  },
  {
   "cell_type": "markdown",
   "metadata": {},
   "source": [
    "It is straight forward to remove a virtual environment kernel.  To see all the available kernels run the following:"
   ]
  },
  {
   "cell_type": "markdown",
   "metadata": {},
   "source": [
    "```shell\n",
    "$$ jupyter kernelspec list\n",
    "```"
   ]
  },
  {
   "cell_type": "markdown",
   "metadata": {},
   "source": [
    "Notice that `.venv` isn't the list.\n",
    "\n",
    "To remove the `.venv` kernel simply run the following code:"
   ]
  },
  {
   "cell_type": "markdown",
   "metadata": {},
   "source": [
    "```shell\n",
    "$$ jupyter kernelspec uninstall .venv\n",
    "```"
   ]
  },
  {
   "cell_type": "markdown",
   "metadata": {},
   "source": [
    "You can rerun `jupyter kernelspec list` to verify that the kernel has been removed.  It is also no longer available in the JupyterLab launcher."
   ]
  }
 ],
 "metadata": {
  "kernelspec": {
   "display_name": "python3",
   "language": "python",
   "name": "python3"
  }
 },
 "nbformat": 4,
 "nbformat_minor": 4
}
