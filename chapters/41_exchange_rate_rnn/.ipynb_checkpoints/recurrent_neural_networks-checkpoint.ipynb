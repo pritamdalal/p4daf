{
 "cells": [
  {
   "cell_type": "markdown",
   "metadata": {},
   "source": [
    "# Recurrent Neural Networks"
   ]
  },
  {
   "cell_type": "markdown",
   "metadata": {},
   "source": [
    "In this tutorial we will use recurrent neural networks to predict financial time series related to the EUR/USD exchange rate.\n",
    "\n",
    "This code is taken from Chapter 8 of \"Artificial Intelligence in Finance\" by Yves Hilpisch."
   ]
  },
  {
   "cell_type": "markdown",
   "metadata": {},
   "source": [
    "### Importing Packages"
   ]
  },
  {
   "cell_type": "markdown",
   "metadata": {},
   "source": [
    "Let's begin by importing the packages we will need."
   ]
  },
  {
   "cell_type": "code",
   "execution_count": 1,
   "metadata": {},
   "outputs": [],
   "source": [
    "import os\n",
    "import random\n",
    "import numpy as np\n",
    "import pandas as pd\n",
    "import tensorflow as tf\n",
    "from pprint import pprint\n",
    "from pylab import plt, mpl\n",
    "plt.style.use('seaborn')\n",
    "mpl.rcParams['savefig.dpi'] = 300\n",
    "mpl.rcParams['font.family'] = 'serif'\n",
    "pd.set_option('precision', 4)\n",
    "np.set_printoptions(suppress=True, precision=4)\n",
    "os.environ['PYTHONHASHSEED'] = '0'"
   ]
  },
  {
   "cell_type": "markdown",
   "metadata": {},
   "source": [
    "Let's set the random seeds for the various random generators that get used by `tensorflow` and `keras`."
   ]
  },
  {
   "cell_type": "code",
   "execution_count": 2,
   "metadata": {},
   "outputs": [],
   "source": [
    "def set_seeds(seed=100):\n",
    "    random.seed(seed)\n",
    "    np.random.seed(seed)\n",
    "    tf.random.set_seed(seed)\n",
    "set_seeds()"
   ]
  },
  {
   "cell_type": "markdown",
   "metadata": {},
   "source": [
    "The `TimeSeriesGenerator` is used to transform raw data into an object that is suited for recurrent neural networks."
   ]
  },
  {
   "cell_type": "code",
   "execution_count": 3,
   "metadata": {},
   "outputs": [],
   "source": [
    "from keras.preprocessing.sequence import TimeseriesGenerator"
   ]
  },
  {
   "cell_type": "markdown",
   "metadata": {},
   "source": [
    "Finally, let's import the layer objects that we will need.  Notice two new layer types: `SimpleRNN` and `LSTM`."
   ]
  },
  {
   "cell_type": "code",
   "execution_count": 4,
   "metadata": {},
   "outputs": [],
   "source": [
    "from keras.models import Sequential\n",
    "from keras.layers import SimpleRNN, LSTM, Dense"
   ]
  },
  {
   "cell_type": "markdown",
   "metadata": {},
   "source": [
    "### Wrangling Data"
   ]
  },
  {
   "cell_type": "markdown",
   "metadata": {},
   "source": [
    "Next, let's wrangle our data."
   ]
  },
  {
   "cell_type": "code",
   "execution_count": 5,
   "metadata": {},
   "outputs": [
    {
     "data": {
      "text/html": [
       "<div>\n",
       "<style scoped>\n",
       "    .dataframe tbody tr th:only-of-type {\n",
       "        vertical-align: middle;\n",
       "    }\n",
       "\n",
       "    .dataframe tbody tr th {\n",
       "        vertical-align: top;\n",
       "    }\n",
       "\n",
       "    .dataframe thead th {\n",
       "        text-align: right;\n",
       "    }\n",
       "</style>\n",
       "<table border=\"1\" class=\"dataframe\">\n",
       "  <thead>\n",
       "    <tr style=\"text-align: right;\">\n",
       "      <th></th>\n",
       "      <th>HIGH</th>\n",
       "      <th>LOW</th>\n",
       "      <th>OPEN</th>\n",
       "      <th>CLOSE</th>\n",
       "    </tr>\n",
       "    <tr>\n",
       "      <th>Date</th>\n",
       "      <th></th>\n",
       "      <th></th>\n",
       "      <th></th>\n",
       "      <th></th>\n",
       "    </tr>\n",
       "  </thead>\n",
       "  <tbody>\n",
       "    <tr>\n",
       "      <th>2019-10-01 00:00:00</th>\n",
       "      <td>1.0899</td>\n",
       "      <td>1.0897</td>\n",
       "      <td>1.0897</td>\n",
       "      <td>1.0899</td>\n",
       "    </tr>\n",
       "    <tr>\n",
       "      <th>2019-10-01 00:01:00</th>\n",
       "      <td>1.0899</td>\n",
       "      <td>1.0896</td>\n",
       "      <td>1.0899</td>\n",
       "      <td>1.0898</td>\n",
       "    </tr>\n",
       "    <tr>\n",
       "      <th>2019-10-01 00:02:00</th>\n",
       "      <td>1.0898</td>\n",
       "      <td>1.0896</td>\n",
       "      <td>1.0898</td>\n",
       "      <td>1.0896</td>\n",
       "    </tr>\n",
       "    <tr>\n",
       "      <th>2019-10-01 00:03:00</th>\n",
       "      <td>1.0898</td>\n",
       "      <td>1.0896</td>\n",
       "      <td>1.0897</td>\n",
       "      <td>1.0898</td>\n",
       "    </tr>\n",
       "    <tr>\n",
       "      <th>2019-10-01 00:04:00</th>\n",
       "      <td>1.0898</td>\n",
       "      <td>1.0896</td>\n",
       "      <td>1.0897</td>\n",
       "      <td>1.0898</td>\n",
       "    </tr>\n",
       "  </tbody>\n",
       "</table>\n",
       "</div>"
      ],
      "text/plain": [
       "                       HIGH     LOW    OPEN   CLOSE\n",
       "Date                                               \n",
       "2019-10-01 00:00:00  1.0899  1.0897  1.0897  1.0899\n",
       "2019-10-01 00:01:00  1.0899  1.0896  1.0899  1.0898\n",
       "2019-10-01 00:02:00  1.0898  1.0896  1.0898  1.0896\n",
       "2019-10-01 00:03:00  1.0898  1.0896  1.0897  1.0898\n",
       "2019-10-01 00:04:00  1.0898  1.0896  1.0897  1.0898"
      ]
     },
     "execution_count": 5,
     "metadata": {},
     "output_type": "execute_result"
    }
   ],
   "source": [
    "raw = pd.read_csv('eur_usd.csv', parse_dates=['Date'])\n",
    "raw.set_index('Date', inplace=True)\n",
    "raw.head()"
   ]
  },
  {
   "cell_type": "code",
   "execution_count": 6,
   "metadata": {},
   "outputs": [],
   "source": [
    "def generate_data():\n",
    "    data = pd.DataFrame(raw['CLOSE'])\n",
    "    data.columns = ['EUR_USD']\n",
    "    data = data.resample('30min', label='right').last().ffill()\n",
    "    return data"
   ]
  },
  {
   "cell_type": "markdown",
   "metadata": {},
   "source": [
    "Notice that we are taking 30 second snapshots."
   ]
  },
  {
   "cell_type": "code",
   "execution_count": 7,
   "metadata": {},
   "outputs": [
    {
     "data": {
      "text/html": [
       "<div>\n",
       "<style scoped>\n",
       "    .dataframe tbody tr th:only-of-type {\n",
       "        vertical-align: middle;\n",
       "    }\n",
       "\n",
       "    .dataframe tbody tr th {\n",
       "        vertical-align: top;\n",
       "    }\n",
       "\n",
       "    .dataframe thead th {\n",
       "        text-align: right;\n",
       "    }\n",
       "</style>\n",
       "<table border=\"1\" class=\"dataframe\">\n",
       "  <thead>\n",
       "    <tr style=\"text-align: right;\">\n",
       "      <th></th>\n",
       "      <th>EUR_USD</th>\n",
       "    </tr>\n",
       "    <tr>\n",
       "      <th>Date</th>\n",
       "      <th></th>\n",
       "    </tr>\n",
       "  </thead>\n",
       "  <tbody>\n",
       "    <tr>\n",
       "      <th>2019-10-01 00:30:00</th>\n",
       "      <td>1.0899</td>\n",
       "    </tr>\n",
       "    <tr>\n",
       "      <th>2019-10-01 01:00:00</th>\n",
       "      <td>1.0896</td>\n",
       "    </tr>\n",
       "    <tr>\n",
       "      <th>2019-10-01 01:30:00</th>\n",
       "      <td>1.0892</td>\n",
       "    </tr>\n",
       "    <tr>\n",
       "      <th>2019-10-01 02:00:00</th>\n",
       "      <td>1.0890</td>\n",
       "    </tr>\n",
       "    <tr>\n",
       "      <th>2019-10-01 02:30:00</th>\n",
       "      <td>1.0886</td>\n",
       "    </tr>\n",
       "  </tbody>\n",
       "</table>\n",
       "</div>"
      ],
      "text/plain": [
       "                     EUR_USD\n",
       "Date                        \n",
       "2019-10-01 00:30:00   1.0899\n",
       "2019-10-01 01:00:00   1.0896\n",
       "2019-10-01 01:30:00   1.0892\n",
       "2019-10-01 02:00:00   1.0890\n",
       "2019-10-01 02:30:00   1.0886"
      ]
     },
     "execution_count": 7,
     "metadata": {},
     "output_type": "execute_result"
    }
   ],
   "source": [
    "data = generate_data()\n",
    "data.head()"
   ]
  },
  {
   "cell_type": "markdown",
   "metadata": {},
   "source": [
    "Now let's apply Gaussian normalization."
   ]
  },
  {
   "cell_type": "code",
   "execution_count": 8,
   "metadata": {},
   "outputs": [],
   "source": [
    "data = (data - data.mean()) / data.std()"
   ]
  },
  {
   "cell_type": "code",
   "execution_count": 9,
   "metadata": {},
   "outputs": [
    {
     "data": {
      "text/plain": [
       "array([[-2.7112],\n",
       "       [-2.7583],\n",
       "       [-2.8211],\n",
       "       ...,\n",
       "       [ 2.1877],\n",
       "       [ 2.1877],\n",
       "       [ 2.1877]])"
      ]
     },
     "execution_count": 9,
     "metadata": {},
     "output_type": "execute_result"
    }
   ],
   "source": [
    "p = data['EUR_USD'].values\n",
    "p = p.reshape((len(p), -1))\n",
    "p"
   ]
  },
  {
   "cell_type": "markdown",
   "metadata": {},
   "source": [
    "### Fitting a Recurrent Neural Network on EUR_USD Directly"
   ]
  },
  {
   "cell_type": "markdown",
   "metadata": {},
   "source": [
    "As a first step, let's use `TimeseriesGenerator` to put our data in the correct form."
   ]
  },
  {
   "cell_type": "code",
   "execution_count": 10,
   "metadata": {},
   "outputs": [],
   "source": [
    "lags = 5"
   ]
  },
  {
   "cell_type": "code",
   "execution_count": 11,
   "metadata": {},
   "outputs": [
    {
     "data": {
      "text/plain": [
       "(array([[[-2.7112],\n",
       "         [-2.7583],\n",
       "         [-2.8211],\n",
       "         [-2.8525],\n",
       "         [-2.9153]],\n",
       " \n",
       "        [[-2.7583],\n",
       "         [-2.8211],\n",
       "         [-2.8525],\n",
       "         [-2.9153],\n",
       "         [-2.9153]],\n",
       " \n",
       "        [[-2.8211],\n",
       "         [-2.8525],\n",
       "         [-2.9153],\n",
       "         [-2.9153],\n",
       "         [-2.9153]],\n",
       " \n",
       "        [[-2.8525],\n",
       "         [-2.9153],\n",
       "         [-2.9153],\n",
       "         [-2.9153],\n",
       "         [-2.8839]],\n",
       " \n",
       "        [[-2.9153],\n",
       "         [-2.9153],\n",
       "         [-2.9153],\n",
       "         [-2.8839],\n",
       "         [-2.8525]]]),\n",
       " array([[-2.9153],\n",
       "        [-2.9153],\n",
       "        [-2.8839],\n",
       "        [-2.8525],\n",
       "        [-2.8682]]))"
      ]
     },
     "execution_count": 11,
     "metadata": {},
     "output_type": "execute_result"
    }
   ],
   "source": [
    "g = TimeseriesGenerator(p, p, length=lags, batch_size=5)\n",
    "list(g)[0]"
   ]
  },
  {
   "cell_type": "markdown",
   "metadata": {},
   "source": [
    "The following user-defined function allows the creation of an RNN with a SimpleRNN or LSTM layer."
   ]
  },
  {
   "cell_type": "code",
   "execution_count": 12,
   "metadata": {},
   "outputs": [],
   "source": [
    "def create_rnn_model(hu=100, lags=lags, layer='SimpleRNN', \n",
    "                     features=1, algorithm='estimation'):\n",
    "    model = Sequential()\n",
    "    if layer == 'SimpleRNN':\n",
    "        model.add(SimpleRNN(hu, activation='relu', input_shape=(lags, features)))\n",
    "    else:\n",
    "        model.add(LSTM(hu, activation='relu',input_shape=(lags, features)))\n",
    "    if algorithm == 'estimation':\n",
    "        model.add(Dense(1, activation='linear'))\n",
    "        model.compile(optimizer='adam', loss='mse', metrics=['mae'])\n",
    "    else:\n",
    "        model.add(Dense(1, activation='sigmoid'))\n",
    "        model.compile(optimizer='adam', loss='binary_crossentropy',metrics=['accuracy'])\n",
    "    return model"
   ]
  },
  {
   "cell_type": "markdown",
   "metadata": {},
   "source": [
    "Next we use the function above to create the RNN model."
   ]
  },
  {
   "cell_type": "code",
   "execution_count": 13,
   "metadata": {},
   "outputs": [],
   "source": [
    "model = create_rnn_model()"
   ]
  },
  {
   "cell_type": "markdown",
   "metadata": {},
   "source": [
    "We are now ready to fit the model."
   ]
  },
  {
   "cell_type": "code",
   "execution_count": 14,
   "metadata": {},
   "outputs": [
    {
     "name": "stdout",
     "output_type": "stream",
     "text": [
      "CPU times: user 18.3 s, sys: 1.83 s, total: 20.1 s\n",
      "Wall time: 10.8 s\n"
     ]
    },
    {
     "data": {
      "text/plain": [
       "<tensorflow.python.keras.callbacks.History at 0x7f31640a0490>"
      ]
     },
     "execution_count": 14,
     "metadata": {},
     "output_type": "execute_result"
    }
   ],
   "source": [
    "%%time\n",
    "model.fit(g, epochs=500, steps_per_epoch=10, verbose=False)"
   ]
  },
  {
   "cell_type": "code",
   "execution_count": 15,
   "metadata": {},
   "outputs": [
    {
     "data": {
      "text/plain": [
       "array([[-2.79  ],\n",
       "       [-2.7988],\n",
       "       [-2.798 ],\n",
       "       ...,\n",
       "       [ 2.1821],\n",
       "       [ 2.2228],\n",
       "       [ 2.2163]], dtype=float32)"
      ]
     },
     "execution_count": 15,
     "metadata": {},
     "output_type": "execute_result"
    }
   ],
   "source": [
    "y = model.predict(g, verbose=False)\n",
    "y"
   ]
  },
  {
   "cell_type": "markdown",
   "metadata": {},
   "source": [
    "Let's take a look at our predictions."
   ]
  },
  {
   "cell_type": "code",
   "execution_count": 16,
   "metadata": {},
   "outputs": [
    {
     "data": {
      "text/html": [
       "<div>\n",
       "<style scoped>\n",
       "    .dataframe tbody tr th:only-of-type {\n",
       "        vertical-align: middle;\n",
       "    }\n",
       "\n",
       "    .dataframe tbody tr th {\n",
       "        vertical-align: top;\n",
       "    }\n",
       "\n",
       "    .dataframe thead th {\n",
       "        text-align: right;\n",
       "    }\n",
       "</style>\n",
       "<table border=\"1\" class=\"dataframe\">\n",
       "  <thead>\n",
       "    <tr style=\"text-align: right;\">\n",
       "      <th></th>\n",
       "      <th>EUR_USD</th>\n",
       "      <th>pred</th>\n",
       "    </tr>\n",
       "    <tr>\n",
       "      <th>Date</th>\n",
       "      <th></th>\n",
       "      <th></th>\n",
       "    </tr>\n",
       "  </thead>\n",
       "  <tbody>\n",
       "    <tr>\n",
       "      <th>2019-10-01 00:30:00</th>\n",
       "      <td>-2.7112</td>\n",
       "      <td>NaN</td>\n",
       "    </tr>\n",
       "    <tr>\n",
       "      <th>2019-10-01 01:00:00</th>\n",
       "      <td>-2.7583</td>\n",
       "      <td>NaN</td>\n",
       "    </tr>\n",
       "    <tr>\n",
       "      <th>2019-10-01 01:30:00</th>\n",
       "      <td>-2.8211</td>\n",
       "      <td>NaN</td>\n",
       "    </tr>\n",
       "    <tr>\n",
       "      <th>2019-10-01 02:00:00</th>\n",
       "      <td>-2.8525</td>\n",
       "      <td>NaN</td>\n",
       "    </tr>\n",
       "    <tr>\n",
       "      <th>2019-10-01 02:30:00</th>\n",
       "      <td>-2.9153</td>\n",
       "      <td>NaN</td>\n",
       "    </tr>\n",
       "    <tr>\n",
       "      <th>2019-10-01 03:00:00</th>\n",
       "      <td>-2.9153</td>\n",
       "      <td>-2.7900</td>\n",
       "    </tr>\n",
       "    <tr>\n",
       "      <th>2019-10-01 03:30:00</th>\n",
       "      <td>-2.9153</td>\n",
       "      <td>-2.7988</td>\n",
       "    </tr>\n",
       "    <tr>\n",
       "      <th>2019-10-01 04:00:00</th>\n",
       "      <td>-2.8839</td>\n",
       "      <td>-2.7980</td>\n",
       "    </tr>\n",
       "    <tr>\n",
       "      <th>2019-10-01 04:30:00</th>\n",
       "      <td>-2.8525</td>\n",
       "      <td>-2.7724</td>\n",
       "    </tr>\n",
       "    <tr>\n",
       "      <th>2019-10-01 05:00:00</th>\n",
       "      <td>-2.8682</td>\n",
       "      <td>-2.7466</td>\n",
       "    </tr>\n",
       "  </tbody>\n",
       "</table>\n",
       "</div>"
      ],
      "text/plain": [
       "                     EUR_USD    pred\n",
       "Date                                \n",
       "2019-10-01 00:30:00  -2.7112     NaN\n",
       "2019-10-01 01:00:00  -2.7583     NaN\n",
       "2019-10-01 01:30:00  -2.8211     NaN\n",
       "2019-10-01 02:00:00  -2.8525     NaN\n",
       "2019-10-01 02:30:00  -2.9153     NaN\n",
       "2019-10-01 03:00:00  -2.9153 -2.7900\n",
       "2019-10-01 03:30:00  -2.9153 -2.7988\n",
       "2019-10-01 04:00:00  -2.8839 -2.7980\n",
       "2019-10-01 04:30:00  -2.8525 -2.7724\n",
       "2019-10-01 05:00:00  -2.8682 -2.7466"
      ]
     },
     "execution_count": 16,
     "metadata": {},
     "output_type": "execute_result"
    }
   ],
   "source": [
    "data['pred'] = np.nan\n",
    "data['pred'].iloc[lags:] = y.flatten()\n",
    "data.head(10)"
   ]
  },
  {
   "cell_type": "markdown",
   "metadata": {},
   "source": [
    "At a first glance our predictions seem quite good."
   ]
  },
  {
   "cell_type": "code",
   "execution_count": 17,
   "metadata": {},
   "outputs": [
    {
     "data": {
      "image/png": "[encoded data removed]",
      "text/plain": [
       "<Figure size 720x432 with 1 Axes>"
      ]
     },
     "metadata": {
      "needs_background": "light"
     },
     "output_type": "display_data"
    }
   ],
   "source": [
    "%matplotlib inline\n",
    "data[['EUR_USD', 'pred']].plot(figsize=(10, 6), style=['b', 'r-.'],alpha=0.75);"
   ]
  },
  {
   "cell_type": "markdown",
   "metadata": {},
   "source": [
    "However, by zooming in we can see that our prediction of tommorrow's price is essentially today's price."
   ]
  },
  {
   "cell_type": "code",
   "execution_count": 18,
   "metadata": {
    "tags": []
   },
   "outputs": [
    {
     "data": {
      "image/png": "[encoded data removed]",
      "text/plain": [
       "<Figure size 720x432 with 1 Axes>"
      ]
     },
     "metadata": {
      "needs_background": "light"
     },
     "output_type": "display_data"
    }
   ],
   "source": [
    "data[['EUR_USD', 'pred']].iloc[50:100].plot(figsize=(10, 6), style=['b', 'r-.'], alpha=0.75);"
   ]
  },
  {
   "cell_type": "markdown",
   "metadata": {},
   "source": [
    "### Fitting a Recurrent Neural Network to EUR_USD Returns"
   ]
  },
  {
   "cell_type": "markdown",
   "metadata": {},
   "source": [
    "In this section we fit an RNN to the returns of `EUR_USD`.  Let's begin by reading and wrangling our data."
   ]
  },
  {
   "cell_type": "code",
   "execution_count": 19,
   "metadata": {},
   "outputs": [],
   "source": [
    "data = generate_data()\n",
    "data['r'] = np.log(data / data.shift(1)) # calculating returns\n",
    "data.dropna(inplace=True)\n",
    "data = (data - data.mean()) / data.std() # normalizing"
   ]
  },
  {
   "cell_type": "markdown",
   "metadata": {},
   "source": [
    "Next, using `TimeseriesGenerator`, let's put the returns in the correct format to be fed into an RNN model."
   ]
  },
  {
   "cell_type": "code",
   "execution_count": 20,
   "metadata": {},
   "outputs": [],
   "source": [
    "r = data['r'].values\n",
    "r = r.reshape((len(r), -1))\n",
    "g = TimeseriesGenerator(r, r, length=lags, batch_size=5)"
   ]
  },
  {
   "cell_type": "markdown",
   "metadata": {},
   "source": [
    "We are now ready to create and fit our model."
   ]
  },
  {
   "cell_type": "code",
   "execution_count": 21,
   "metadata": {},
   "outputs": [],
   "source": [
    "model = create_rnn_model()"
   ]
  },
  {
   "cell_type": "code",
   "execution_count": 22,
   "metadata": {},
   "outputs": [
    {
     "name": "stdout",
     "output_type": "stream",
     "text": [
      "CPU times: user 18.2 s, sys: 1.75 s, total: 20 s\n",
      "Wall time: 10.7 s\n"
     ]
    },
    {
     "data": {
      "text/plain": [
       "<tensorflow.python.keras.callbacks.History at 0x7f31380a3670>"
      ]
     },
     "execution_count": 22,
     "metadata": {},
     "output_type": "execute_result"
    }
   ],
   "source": [
    "%%time\n",
    "model.fit(g, epochs=500, steps_per_epoch=10, verbose=False)"
   ]
  },
  {
   "cell_type": "code",
   "execution_count": 23,
   "metadata": {},
   "outputs": [],
   "source": [
    "y = model.predict(g, verbose=False)"
   ]
  },
  {
   "cell_type": "markdown",
   "metadata": {},
   "source": [
    "Let's examine our predictions."
   ]
  },
  {
   "cell_type": "code",
   "execution_count": 24,
   "metadata": {},
   "outputs": [
    {
     "data": {
      "text/html": [
       "<div>\n",
       "<style scoped>\n",
       "    .dataframe tbody tr th:only-of-type {\n",
       "        vertical-align: middle;\n",
       "    }\n",
       "\n",
       "    .dataframe tbody tr th {\n",
       "        vertical-align: top;\n",
       "    }\n",
       "\n",
       "    .dataframe thead th {\n",
       "        text-align: right;\n",
       "    }\n",
       "</style>\n",
       "<table border=\"1\" class=\"dataframe\">\n",
       "  <thead>\n",
       "    <tr style=\"text-align: right;\">\n",
       "      <th></th>\n",
       "      <th>EUR_USD</th>\n",
       "      <th>r</th>\n",
       "      <th>pred</th>\n",
       "    </tr>\n",
       "    <tr>\n",
       "      <th>Date</th>\n",
       "      <th></th>\n",
       "      <th></th>\n",
       "      <th></th>\n",
       "    </tr>\n",
       "  </thead>\n",
       "  <tbody>\n",
       "    <tr>\n",
       "      <th>2019-10-01 03:30:00</th>\n",
       "      <td>-2.9180</td>\n",
       "      <td>-0.0179</td>\n",
       "      <td>-0.0612</td>\n",
       "    </tr>\n",
       "    <tr>\n",
       "      <th>2019-10-01 04:00:00</th>\n",
       "      <td>-2.8866</td>\n",
       "      <td>0.4968</td>\n",
       "      <td>0.0028</td>\n",
       "    </tr>\n",
       "    <tr>\n",
       "      <th>2019-10-01 04:30:00</th>\n",
       "      <td>-2.8552</td>\n",
       "      <td>0.4967</td>\n",
       "      <td>-0.1339</td>\n",
       "    </tr>\n",
       "    <tr>\n",
       "      <th>2019-10-01 05:00:00</th>\n",
       "      <td>-2.8709</td>\n",
       "      <td>-0.2752</td>\n",
       "      <td>-0.1390</td>\n",
       "    </tr>\n",
       "    <tr>\n",
       "      <th>2019-10-01 05:30:00</th>\n",
       "      <td>-2.8552</td>\n",
       "      <td>0.2394</td>\n",
       "      <td>-0.0483</td>\n",
       "    </tr>\n",
       "  </tbody>\n",
       "</table>\n",
       "</div>"
      ],
      "text/plain": [
       "                     EUR_USD       r    pred\n",
       "Date                                        \n",
       "2019-10-01 03:30:00  -2.9180 -0.0179 -0.0612\n",
       "2019-10-01 04:00:00  -2.8866  0.4968  0.0028\n",
       "2019-10-01 04:30:00  -2.8552  0.4967 -0.1339\n",
       "2019-10-01 05:00:00  -2.8709 -0.2752 -0.1390\n",
       "2019-10-01 05:30:00  -2.8552  0.2394 -0.0483"
      ]
     },
     "execution_count": 24,
     "metadata": {},
     "output_type": "execute_result"
    }
   ],
   "source": [
    "data['pred'] = np.nan\n",
    "data['pred'].iloc[lags:] = y.flatten()\n",
    "data.dropna(inplace=True)\n",
    "data.head()"
   ]
  },
  {
   "cell_type": "markdown",
   "metadata": {},
   "source": [
    "If we examine the graph of our predictions versus ground-truth, we find that the order of magnitude of our predictions is off, but directionally the model doesn't do too badly."
   ]
  },
  {
   "cell_type": "code",
   "execution_count": 25,
   "metadata": {},
   "outputs": [
    {
     "data": {
      "image/png": "[encoded data removed]",
      "text/plain": [
       "<Figure size 720x432 with 1 Axes>"
      ]
     },
     "metadata": {
      "needs_background": "light"
     },
     "output_type": "display_data"
    }
   ],
   "source": [
    "data[['r', 'pred']].iloc[50:100].plot(figsize=(10, 6), style=['b', 'r-.'], alpha=0.75);\n",
    "plt.axhline(0, c='grey', ls='--');"
   ]
  },
  {
   "cell_type": "markdown",
   "metadata": {},
   "source": [
    "Let's check how often we are directionally correct."
   ]
  },
  {
   "cell_type": "code",
   "execution_count": 26,
   "metadata": {},
   "outputs": [
    {
     "data": {
      "text/plain": [
       "0.6813336357450669"
      ]
     },
     "execution_count": 26,
     "metadata": {},
     "output_type": "execute_result"
    }
   ],
   "source": [
    "from sklearn.metrics import accuracy_score\n",
    "accuracy_score(np.sign(data['r']), np.sign(data['pred']))"
   ]
  },
  {
   "cell_type": "markdown",
   "metadata": {},
   "source": [
    "### Holdout Set"
   ]
  },
  {
   "cell_type": "markdown",
   "metadata": {},
   "source": [
    "Let's now check our out-of-sample directional correctness by creating a holdout set."
   ]
  },
  {
   "cell_type": "code",
   "execution_count": 27,
   "metadata": {},
   "outputs": [],
   "source": [
    "split = int(len(r) * 0.8)\n",
    "train = r[:split]\n",
    "test = r[split:]"
   ]
  },
  {
   "cell_type": "code",
   "execution_count": 28,
   "metadata": {},
   "outputs": [],
   "source": [
    "g = TimeseriesGenerator(train, train, length=lags, batch_size=5)"
   ]
  },
  {
   "cell_type": "code",
   "execution_count": 29,
   "metadata": {},
   "outputs": [],
   "source": [
    "set_seeds()\n",
    "model = create_rnn_model(hu=100)"
   ]
  },
  {
   "cell_type": "code",
   "execution_count": 30,
   "metadata": {},
   "outputs": [
    {
     "name": "stdout",
     "output_type": "stream",
     "text": [
      "CPU times: user 4.19 s, sys: 436 ms, total: 4.63 s\n",
      "Wall time: 2.6 s\n"
     ]
    },
    {
     "data": {
      "text/plain": [
       "<tensorflow.python.keras.callbacks.History at 0x7f30d57dfc10>"
      ]
     },
     "execution_count": 30,
     "metadata": {},
     "output_type": "execute_result"
    }
   ],
   "source": [
    "%%time\n",
    "model.fit(g, epochs=100, steps_per_epoch=10, verbose=False)"
   ]
  },
  {
   "cell_type": "code",
   "execution_count": 31,
   "metadata": {},
   "outputs": [],
   "source": [
    "g_ = TimeseriesGenerator(test, test, length=lags, batch_size=5)"
   ]
  },
  {
   "cell_type": "code",
   "execution_count": 32,
   "metadata": {},
   "outputs": [],
   "source": [
    "y = model.predict(g_)"
   ]
  },
  {
   "cell_type": "markdown",
   "metadata": {},
   "source": [
    "As we can see, our out-of-sample accuracy is still in the mid 60% range, which is quite good."
   ]
  },
  {
   "cell_type": "code",
   "execution_count": 33,
   "metadata": {},
   "outputs": [
    {
     "data": {
      "text/plain": [
       "0.6662870159453302"
      ]
     },
     "execution_count": 33,
     "metadata": {},
     "output_type": "execute_result"
    }
   ],
   "source": [
    "accuracy_score(np.sign(test[lags:]), np.sign(y))"
   ]
  },
  {
   "cell_type": "markdown",
   "metadata": {},
   "source": [
    "### Additional Features"
   ]
  },
  {
   "cell_type": "markdown",
   "metadata": {},
   "source": [
    "Now, we will add a couple of additional features to our data set:  momentum and volatility."
   ]
  },
  {
   "cell_type": "code",
   "execution_count": 34,
   "metadata": {},
   "outputs": [
    {
     "data": {
      "text/html": [
       "<div>\n",
       "<style scoped>\n",
       "    .dataframe tbody tr th:only-of-type {\n",
       "        vertical-align: middle;\n",
       "    }\n",
       "\n",
       "    .dataframe tbody tr th {\n",
       "        vertical-align: top;\n",
       "    }\n",
       "\n",
       "    .dataframe thead th {\n",
       "        text-align: right;\n",
       "    }\n",
       "</style>\n",
       "<table border=\"1\" class=\"dataframe\">\n",
       "  <thead>\n",
       "    <tr style=\"text-align: right;\">\n",
       "      <th></th>\n",
       "      <th>EUR_USD</th>\n",
       "      <th>r</th>\n",
       "      <th>mom</th>\n",
       "      <th>vol</th>\n",
       "    </tr>\n",
       "    <tr>\n",
       "      <th>Date</th>\n",
       "      <th></th>\n",
       "      <th></th>\n",
       "      <th></th>\n",
       "      <th></th>\n",
       "    </tr>\n",
       "  </thead>\n",
       "  <tbody>\n",
       "    <tr>\n",
       "      <th>2019-10-01 10:30:00</th>\n",
       "      <td>1.0900</td>\n",
       "      <td>7.3421e-04</td>\n",
       "      <td>4.5874e-06</td>\n",
       "      <td>0.0004</td>\n",
       "    </tr>\n",
       "    <tr>\n",
       "      <th>2019-10-01 11:00:00</th>\n",
       "      <td>1.0899</td>\n",
       "      <td>-9.1747e-05</td>\n",
       "      <td>1.3765e-05</td>\n",
       "      <td>0.0004</td>\n",
       "    </tr>\n",
       "    <tr>\n",
       "      <th>2019-10-01 11:30:00</th>\n",
       "      <td>1.0905</td>\n",
       "      <td>5.5036e-04</td>\n",
       "      <td>5.9641e-05</td>\n",
       "      <td>0.0004</td>\n",
       "    </tr>\n",
       "    <tr>\n",
       "      <th>2019-10-01 12:00:00</th>\n",
       "      <td>1.0899</td>\n",
       "      <td>-5.5036e-04</td>\n",
       "      <td>4.1305e-05</td>\n",
       "      <td>0.0004</td>\n",
       "    </tr>\n",
       "    <tr>\n",
       "      <th>2019-10-01 12:30:00</th>\n",
       "      <td>1.0893</td>\n",
       "      <td>-5.5066e-04</td>\n",
       "      <td>3.2141e-05</td>\n",
       "      <td>0.0004</td>\n",
       "    </tr>\n",
       "  </tbody>\n",
       "</table>\n",
       "</div>"
      ],
      "text/plain": [
       "                     EUR_USD           r         mom     vol\n",
       "Date                                                        \n",
       "2019-10-01 10:30:00   1.0900  7.3421e-04  4.5874e-06  0.0004\n",
       "2019-10-01 11:00:00   1.0899 -9.1747e-05  1.3765e-05  0.0004\n",
       "2019-10-01 11:30:00   1.0905  5.5036e-04  5.9641e-05  0.0004\n",
       "2019-10-01 12:00:00   1.0899 -5.5036e-04  4.1305e-05  0.0004\n",
       "2019-10-01 12:30:00   1.0893 -5.5066e-04  3.2141e-05  0.0004"
      ]
     },
     "execution_count": 34,
     "metadata": {},
     "output_type": "execute_result"
    }
   ],
   "source": [
    "data = generate_data()\n",
    "data['r'] = np.log(data / data.shift(1)) # calculating returns\n",
    "window = 20\n",
    "data['mom'] = data['r'].rolling(window).mean() # adding momentum\n",
    "data['vol'] = data['r'].rolling(window).std() # adding volatility\n",
    "data.dropna(inplace=True)\n",
    "data.head()"
   ]
  },
  {
   "cell_type": "markdown",
   "metadata": {},
   "source": [
    "### Regression with New Features"
   ]
  },
  {
   "cell_type": "markdown",
   "metadata": {},
   "source": [
    "In this section, we use RNN to predict returns via regression.  Let's begin by creating a holdout set."
   ]
  },
  {
   "cell_type": "code",
   "execution_count": 35,
   "metadata": {
    "tags": []
   },
   "outputs": [],
   "source": [
    "split = int(len(data) * 0.8)\n",
    "train = data.iloc[:split].copy()\n",
    "test = data.iloc[split:].copy()"
   ]
  },
  {
   "cell_type": "markdown",
   "metadata": {},
   "source": [
    "Next, we normalize our data."
   ]
  },
  {
   "cell_type": "code",
   "execution_count": 36,
   "metadata": {},
   "outputs": [],
   "source": [
    "mu, std = train.mean(), train.std()\n",
    "train = (train - mu) / std\n",
    "test = (test - mu) / std"
   ]
  },
  {
   "cell_type": "markdown",
   "metadata": {},
   "source": [
    "We'll use the `TimeseriesGenerator` to get our input data into the right format."
   ]
  },
  {
   "cell_type": "code",
   "execution_count": 45,
   "metadata": {},
   "outputs": [
    {
     "data": {
      "text/plain": [
       "(array([[[-2.6698,  1.9643, -0.035 ,  0.4127],\n",
       "         [-2.6866, -0.2643,  0.0911,  0.3915],\n",
       "         [-2.5858,  1.4682,  0.7215,  0.4216],\n",
       "         [-2.6866, -1.5018,  0.4695,  0.5101],\n",
       "         [-2.7874, -1.5026,  0.3436,  0.5606]],\n",
       " \n",
       "        [[-2.6866, -0.2643,  0.0911,  0.3915],\n",
       "         [-2.5858,  1.4682,  0.7215,  0.4216],\n",
       "         [-2.6866, -1.5018,  0.4695,  0.5101],\n",
       "         [-2.7874, -1.5026,  0.3436,  0.5606],\n",
       "         [-2.7538,  0.4786,  0.4697,  0.5661]],\n",
       " \n",
       "        [[-2.5858,  1.4682,  0.7215,  0.4216],\n",
       "         [-2.6866, -1.5018,  0.4695,  0.5101],\n",
       "         [-2.7874, -1.5026,  0.3436,  0.5606],\n",
       "         [-2.7538,  0.4786,  0.4697,  0.5661],\n",
       "         [-2.7706, -0.2645,  0.4067,  0.5703]],\n",
       " \n",
       "        [[-2.6866, -1.5018,  0.4695,  0.5101],\n",
       "         [-2.7874, -1.5026,  0.3436,  0.5606],\n",
       "         [-2.7538,  0.4786,  0.4697,  0.5661],\n",
       "         [-2.7706, -0.2645,  0.4067,  0.5703],\n",
       "         [-2.905 , -1.9989, -0.2243,  0.7099]],\n",
       " \n",
       "        [[-2.7874, -1.5026,  0.3436,  0.5606],\n",
       "         [-2.7538,  0.4786,  0.4697,  0.5661],\n",
       "         [-2.7706, -0.2645,  0.4067,  0.5703],\n",
       "         [-2.905 , -1.9989, -0.2243,  0.7099],\n",
       "         [-2.5522,  5.1832,  0.9736,  1.4687]]]),\n",
       " array([ 0.4786, -0.2645, -1.9989,  5.1832,  1.9615]))"
      ]
     },
     "execution_count": 45,
     "metadata": {},
     "output_type": "execute_result"
    }
   ],
   "source": [
    "g = TimeseriesGenerator(train.values, train['r'].values, length=lags, batch_size=5)\n",
    "g[0]"
   ]
  },
  {
   "cell_type": "markdown",
   "metadata": {},
   "source": [
    "We are now ready to create the model."
   ]
  },
  {
   "cell_type": "code",
   "execution_count": 46,
   "metadata": {},
   "outputs": [],
   "source": [
    "set_seeds()\n",
    "model = create_rnn_model(hu=100, features=len(data.columns), layer='SimpleRNN')"
   ]
  },
  {
   "cell_type": "markdown",
   "metadata": {},
   "source": [
    "Let's fit the model to our training data."
   ]
  },
  {
   "cell_type": "code",
   "execution_count": 47,
   "metadata": {},
   "outputs": [
    {
     "name": "stdout",
     "output_type": "stream",
     "text": [
      "CPU times: user 4.06 s, sys: 410 ms, total: 4.47 s\n",
      "Wall time: 2.48 s\n"
     ]
    },
    {
     "data": {
      "text/plain": [
       "<tensorflow.python.keras.callbacks.History at 0x7f30d558d7f0>"
      ]
     },
     "execution_count": 47,
     "metadata": {},
     "output_type": "execute_result"
    }
   ],
   "source": [
    "%%time\n",
    "model.fit(g, epochs=100, steps_per_epoch=10, verbose=False)"
   ]
  },
  {
   "cell_type": "markdown",
   "metadata": {},
   "source": [
    "And now we can check our out-of-sample accuracy."
   ]
  },
  {
   "cell_type": "code",
   "execution_count": 48,
   "metadata": {},
   "outputs": [
    {
     "data": {
      "text/plain": [
       "0.6784897025171625"
      ]
     },
     "execution_count": 48,
     "metadata": {},
     "output_type": "execute_result"
    }
   ],
   "source": [
    "g_ = TimeseriesGenerator(test.values, test['r'].values, length=lags, batch_size=5)\n",
    "y = model.predict(g_).flatten()\n",
    "accuracy_score(np.sign(test['r'].iloc[lags:]), np.sign(y))"
   ]
  },
  {
   "cell_type": "markdown",
   "metadata": {},
   "source": [
    "### Classification"
   ]
  },
  {
   "cell_type": "markdown",
   "metadata": {},
   "source": [
    "In this section we recast our prediction problem as a classification problem directly.  We begin by instantiating our model."
   ]
  },
  {
   "cell_type": "code",
   "execution_count": 49,
   "metadata": {},
   "outputs": [],
   "source": [
    "set_seeds()\n",
    "model = create_rnn_model(hu=50, features=len(data.columns), layer='LSTM', algorithm='classification')"
   ]
  },
  {
   "cell_type": "markdown",
   "metadata": {},
   "source": [
    "Next, we convert our numerical returns to binary labels."
   ]
  },
  {
   "cell_type": "code",
   "execution_count": 50,
   "metadata": {},
   "outputs": [],
   "source": [
    "train_y = np.where(train['r'] > 0, 1, 0)"
   ]
  },
  {
   "cell_type": "markdown",
   "metadata": {},
   "source": [
    "The following code block creates a `dict` to adjust for class imbalance."
   ]
  },
  {
   "cell_type": "code",
   "execution_count": 51,
   "metadata": {},
   "outputs": [
    {
     "data": {
      "text/plain": [
       "array([2374, 1142])"
      ]
     },
     "execution_count": 51,
     "metadata": {},
     "output_type": "execute_result"
    }
   ],
   "source": [
    "np.bincount(train_y)"
   ]
  },
  {
   "cell_type": "code",
   "execution_count": 52,
   "metadata": {},
   "outputs": [],
   "source": [
    "def cw(a):\n",
    "    c0, c1 = np.bincount(a)\n",
    "    w0 = (1 / c0) * (len(a)) / 2\n",
    "    w1 = (1 / c1) * (len(a)) / 2\n",
    "    return {0: w0, 1: w1}"
   ]
  },
  {
   "cell_type": "markdown",
   "metadata": {},
   "source": [
    "We are now ready to fit our model."
   ]
  },
  {
   "cell_type": "code",
   "execution_count": 53,
   "metadata": {},
   "outputs": [],
   "source": [
    "g = TimeseriesGenerator(train.values, train_y, length=lags, batch_size=5)"
   ]
  },
  {
   "cell_type": "code",
   "execution_count": 54,
   "metadata": {},
   "outputs": [
    {
     "name": "stdout",
     "output_type": "stream",
     "text": [
      "CPU times: user 963 ms, sys: 33.5 ms, total: 996 ms\n",
      "Wall time: 834 ms\n"
     ]
    },
    {
     "data": {
      "text/plain": [
       "<tensorflow.python.keras.callbacks.History at 0x7f30bf4e57c0>"
      ]
     },
     "execution_count": 54,
     "metadata": {},
     "output_type": "execute_result"
    }
   ],
   "source": [
    "%%time\n",
    "model.fit(g, epochs=5, steps_per_epoch=10, verbose=False, class_weight=cw(train_y))"
   ]
  },
  {
   "cell_type": "markdown",
   "metadata": {},
   "source": [
    "We can now test our model out-of-sample."
   ]
  },
  {
   "cell_type": "code",
   "execution_count": 55,
   "metadata": {},
   "outputs": [],
   "source": [
    "test_y = np.where(test['r'] > 0, 1, 0)"
   ]
  },
  {
   "cell_type": "code",
   "execution_count": 56,
   "metadata": {},
   "outputs": [],
   "source": [
    "g_ = TimeseriesGenerator(test.values, test_y,\n",
    "                         length=lags, batch_size=5)"
   ]
  },
  {
   "cell_type": "code",
   "execution_count": 57,
   "metadata": {},
   "outputs": [],
   "source": [
    "y = np.where(model.predict(g_, batch_size=None) > 0.5, 1, 0).flatten()"
   ]
  },
  {
   "cell_type": "code",
   "execution_count": 58,
   "metadata": {},
   "outputs": [
    {
     "data": {
      "text/plain": [
       "array([874])"
      ]
     },
     "execution_count": 58,
     "metadata": {},
     "output_type": "execute_result"
    }
   ],
   "source": [
    "np.bincount(y)"
   ]
  },
  {
   "cell_type": "code",
   "execution_count": 59,
   "metadata": {},
   "outputs": [
    {
     "data": {
      "text/plain": [
       "0.6864988558352403"
      ]
     },
     "execution_count": 59,
     "metadata": {},
     "output_type": "execute_result"
    }
   ],
   "source": [
    "accuracy_score(test_y[lags:], y)"
   ]
  },
  {
   "cell_type": "markdown",
   "metadata": {},
   "source": [
    "### Deep RNNs"
   ]
  },
  {
   "cell_type": "markdown",
   "metadata": {},
   "source": [
    "In this section we create a deep (multilayer) RNN with dropout regularization."
   ]
  },
  {
   "cell_type": "code",
   "execution_count": 60,
   "metadata": {},
   "outputs": [],
   "source": [
    "from keras.layers import Dropout"
   ]
  },
  {
   "cell_type": "markdown",
   "metadata": {},
   "source": [
    "This user defined function creates the deep RNN."
   ]
  },
  {
   "cell_type": "code",
   "execution_count": 61,
   "metadata": {},
   "outputs": [],
   "source": [
    "def create_deep_rnn_model(hl=2, hu=100, layer='SimpleRNN', \n",
    "                          optimizer='rmsprop', features=1,\n",
    "                          dropout=False, rate=0.3, seed=100):\n",
    "    if hl <= 2: hl = 2\n",
    "    if layer == 'SimpleRNN':\n",
    "        layer = SimpleRNN\n",
    "    else:\n",
    "        layer = LSTM\n",
    "    model = Sequential()\n",
    "    model.add(layer(hu, input_shape=(lags, features), return_sequences=True,))\n",
    "    if dropout:\n",
    "        model.add(Dropout(rate, seed=seed))\n",
    "    for _ in range(2, hl):\n",
    "        model.add(layer(hu, return_sequences=True))\n",
    "        if dropout:\n",
    "            model.add(Dropout(rate, seed=seed))\n",
    "    model.add(layer(hu))\n",
    "    model.add(Dense(1, activation='sigmoid'))\n",
    "    model.compile(optimizer=optimizer, loss='binary_crossentropy', metrics=['accuracy'])\n",
    "    return model"
   ]
  },
  {
   "cell_type": "markdown",
   "metadata": {},
   "source": [
    "Next, we set the seeds and create the model."
   ]
  },
  {
   "cell_type": "code",
   "execution_count": 62,
   "metadata": {},
   "outputs": [],
   "source": [
    "set_seeds()\n",
    "model = create_deep_rnn_model(hl=2, hu=50, layer='SimpleRNN', features=len(data.columns), dropout=True, rate=0.3)"
   ]
  },
  {
   "cell_type": "markdown",
   "metadata": {},
   "source": [
    "This model summary give some information about the neural network that we have created."
   ]
  },
  {
   "cell_type": "code",
   "execution_count": 63,
   "metadata": {},
   "outputs": [
    {
     "name": "stdout",
     "output_type": "stream",
     "text": [
      "Model: \"sequential_6\"\n",
      "_________________________________________________________________\n",
      "Layer (type)                 Output Shape              Param #   \n",
      "=================================================================\n",
      "simple_rnn_5 (SimpleRNN)     (None, 5, 50)             2750      \n",
      "_________________________________________________________________\n",
      "dropout (Dropout)            (None, 5, 50)             0         \n",
      "_________________________________________________________________\n",
      "simple_rnn_6 (SimpleRNN)     (None, 50)                5050      \n",
      "_________________________________________________________________\n",
      "dense_6 (Dense)              (None, 1)                 51        \n",
      "=================================================================\n",
      "Total params: 7,851\n",
      "Trainable params: 7,851\n",
      "Non-trainable params: 0\n",
      "_________________________________________________________________\n"
     ]
    }
   ],
   "source": [
    "model.summary()"
   ]
  },
  {
   "cell_type": "markdown",
   "metadata": {},
   "source": [
    "Let's fit the model."
   ]
  },
  {
   "cell_type": "code",
   "execution_count": 64,
   "metadata": {},
   "outputs": [
    {
     "name": "stdout",
     "output_type": "stream",
     "text": [
      "CPU times: user 11.6 s, sys: 958 ms, total: 12.6 s\n",
      "Wall time: 6.53 s\n"
     ]
    },
    {
     "data": {
      "text/plain": [
       "<tensorflow.python.keras.callbacks.History at 0x7f30bf427ac0>"
      ]
     },
     "execution_count": 64,
     "metadata": {},
     "output_type": "execute_result"
    }
   ],
   "source": [
    "%%time\n",
    "model.fit(g, epochs=200, steps_per_epoch=10, verbose=False, class_weight=cw(train_y))"
   ]
  },
  {
   "cell_type": "markdown",
   "metadata": {},
   "source": [
    "Next we make our predictions."
   ]
  },
  {
   "cell_type": "code",
   "execution_count": 65,
   "metadata": {},
   "outputs": [],
   "source": [
    "y = np.where(model.predict(g_, batch_size=None) > 0.5, 1, 0).flatten()"
   ]
  },
  {
   "cell_type": "code",
   "execution_count": 66,
   "metadata": {},
   "outputs": [
    {
     "data": {
      "text/plain": [
       "array([358, 516])"
      ]
     },
     "execution_count": 66,
     "metadata": {},
     "output_type": "execute_result"
    }
   ],
   "source": [
    "np.bincount(y)"
   ]
  },
  {
   "cell_type": "markdown",
   "metadata": {},
   "source": [
    "Using deep RNNs doesn't seem to help performance."
   ]
  },
  {
   "cell_type": "code",
   "execution_count": 67,
   "metadata": {
    "tags": []
   },
   "outputs": [
    {
     "data": {
      "text/plain": [
       "0.562929061784897"
      ]
     },
     "execution_count": 67,
     "metadata": {},
     "output_type": "execute_result"
    }
   ],
   "source": [
    "accuracy_score(test_y[lags:], y)"
   ]
  },
  {
   "cell_type": "markdown",
   "metadata": {},
   "source": [
    "### **OLD CODE**"
   ]
  },
  {
   "cell_type": "code",
   "execution_count": null,
   "metadata": {},
   "outputs": [],
   "source": [
    "#url = 'http://hilpisch.com/aiif_eikon_id_eur_usd.csv'"
   ]
  },
  {
   "cell_type": "code",
   "execution_count": null,
   "metadata": {},
   "outputs": [],
   "source": [
    "#symbol = 'EUR_USD'"
   ]
  },
  {
   "cell_type": "code",
   "execution_count": null,
   "metadata": {},
   "outputs": [],
   "source": [
    "#raw = pd.read_csv(url, index_col=0, parse_dates=True)"
   ]
  },
  {
   "cell_type": "code",
   "execution_count": null,
   "metadata": {},
   "outputs": [],
   "source": [
    "#raw.to_csv('eur_usd.csv', index = True)"
   ]
  }
 ],
 "metadata": {
  "kernelspec": {
   "display_name": "Python 3",
   "language": "python",
   "name": "python3"
  },
  "language_info": {
   "codemirror_mode": {
    "name": "ipython",
    "version": 3
   },
   "file_extension": ".py",
   "mimetype": "text/x-python",
   "name": "python",
   "nbconvert_exporter": "python",
   "pygments_lexer": "ipython3",
   "version": "3.8.10"
  }
 },
 "nbformat": 4,
 "nbformat_minor": 4
}
