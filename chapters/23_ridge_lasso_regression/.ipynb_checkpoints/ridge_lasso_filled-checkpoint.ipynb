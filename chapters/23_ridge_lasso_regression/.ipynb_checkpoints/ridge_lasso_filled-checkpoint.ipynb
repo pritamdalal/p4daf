{
 "cells": [
  {
   "cell_type": "markdown",
   "metadata": {},
   "source": [
    "# Ridge and Lasso Regression"
   ]
  },
  {
   "cell_type": "markdown",
   "metadata": {},
   "source": [
    "In this tutorial we explore two variants of linear regression: ridge and lasso.  Both of these are shrinkage methods, meaning that they shrink regression coefficients to zero.  This has the effect of trading a little bit of bias for a reduction in variance.  This can improve model stability and fit.\n",
    "\n",
    "This tutorial is based on section 6.2 of *Introduction to Statistical Learning 2e*."
   ]
  },
  {
   "cell_type": "markdown",
   "metadata": {},
   "source": [
    "### Import Packages"
   ]
  },
  {
   "cell_type": "markdown",
   "metadata": {},
   "source": [
    "Let's begin by importing the packages that we will need."
   ]
  },
  {
   "cell_type": "code",
   "execution_count": 1,
   "metadata": {},
   "outputs": [],
   "source": [
    "import pandas as pd\n",
    "import numpy as np\n",
    "%matplotlib inline"
   ]
  },
  {
   "cell_type": "markdown",
   "metadata": {},
   "source": [
    "### Read-In Data"
   ]
  },
  {
   "cell_type": "markdown",
   "metadata": {},
   "source": [
    "Next, we'll read-in the data that we will be working with; it is the `Credit` data set from the `ISLR2` R package that can be downloaded from CRAN."
   ]
  },
  {
   "cell_type": "code",
   "execution_count": 2,
   "metadata": {},
   "outputs": [
    {
     "data": {
      "text/html": [
       "<div>\n",
       "<style scoped>\n",
       "    .dataframe tbody tr th:only-of-type {\n",
       "        vertical-align: middle;\n",
       "    }\n",
       "\n",
       "    .dataframe tbody tr th {\n",
       "        vertical-align: top;\n",
       "    }\n",
       "\n",
       "    .dataframe thead th {\n",
       "        text-align: right;\n",
       "    }\n",
       "</style>\n",
       "<table border=\"1\" class=\"dataframe\">\n",
       "  <thead>\n",
       "    <tr style=\"text-align: right;\">\n",
       "      <th></th>\n",
       "      <th>income</th>\n",
       "      <th>limit</th>\n",
       "      <th>rating</th>\n",
       "      <th>cards</th>\n",
       "      <th>age</th>\n",
       "      <th>education</th>\n",
       "      <th>own</th>\n",
       "      <th>student</th>\n",
       "      <th>married</th>\n",
       "      <th>region</th>\n",
       "      <th>balance</th>\n",
       "    </tr>\n",
       "  </thead>\n",
       "  <tbody>\n",
       "    <tr>\n",
       "      <th>0</th>\n",
       "      <td>14.891</td>\n",
       "      <td>3606</td>\n",
       "      <td>283</td>\n",
       "      <td>2</td>\n",
       "      <td>34</td>\n",
       "      <td>11</td>\n",
       "      <td>No</td>\n",
       "      <td>No</td>\n",
       "      <td>Yes</td>\n",
       "      <td>South</td>\n",
       "      <td>333</td>\n",
       "    </tr>\n",
       "    <tr>\n",
       "      <th>1</th>\n",
       "      <td>106.025</td>\n",
       "      <td>6645</td>\n",
       "      <td>483</td>\n",
       "      <td>3</td>\n",
       "      <td>82</td>\n",
       "      <td>15</td>\n",
       "      <td>Yes</td>\n",
       "      <td>Yes</td>\n",
       "      <td>Yes</td>\n",
       "      <td>West</td>\n",
       "      <td>903</td>\n",
       "    </tr>\n",
       "    <tr>\n",
       "      <th>2</th>\n",
       "      <td>104.593</td>\n",
       "      <td>7075</td>\n",
       "      <td>514</td>\n",
       "      <td>4</td>\n",
       "      <td>71</td>\n",
       "      <td>11</td>\n",
       "      <td>No</td>\n",
       "      <td>No</td>\n",
       "      <td>No</td>\n",
       "      <td>West</td>\n",
       "      <td>580</td>\n",
       "    </tr>\n",
       "    <tr>\n",
       "      <th>3</th>\n",
       "      <td>148.924</td>\n",
       "      <td>9504</td>\n",
       "      <td>681</td>\n",
       "      <td>3</td>\n",
       "      <td>36</td>\n",
       "      <td>11</td>\n",
       "      <td>Yes</td>\n",
       "      <td>No</td>\n",
       "      <td>No</td>\n",
       "      <td>West</td>\n",
       "      <td>964</td>\n",
       "    </tr>\n",
       "    <tr>\n",
       "      <th>4</th>\n",
       "      <td>55.882</td>\n",
       "      <td>4897</td>\n",
       "      <td>357</td>\n",
       "      <td>2</td>\n",
       "      <td>68</td>\n",
       "      <td>16</td>\n",
       "      <td>No</td>\n",
       "      <td>No</td>\n",
       "      <td>Yes</td>\n",
       "      <td>South</td>\n",
       "      <td>331</td>\n",
       "    </tr>\n",
       "    <tr>\n",
       "      <th>...</th>\n",
       "      <td>...</td>\n",
       "      <td>...</td>\n",
       "      <td>...</td>\n",
       "      <td>...</td>\n",
       "      <td>...</td>\n",
       "      <td>...</td>\n",
       "      <td>...</td>\n",
       "      <td>...</td>\n",
       "      <td>...</td>\n",
       "      <td>...</td>\n",
       "      <td>...</td>\n",
       "    </tr>\n",
       "    <tr>\n",
       "      <th>395</th>\n",
       "      <td>12.096</td>\n",
       "      <td>4100</td>\n",
       "      <td>307</td>\n",
       "      <td>3</td>\n",
       "      <td>32</td>\n",
       "      <td>13</td>\n",
       "      <td>No</td>\n",
       "      <td>No</td>\n",
       "      <td>Yes</td>\n",
       "      <td>South</td>\n",
       "      <td>560</td>\n",
       "    </tr>\n",
       "    <tr>\n",
       "      <th>396</th>\n",
       "      <td>13.364</td>\n",
       "      <td>3838</td>\n",
       "      <td>296</td>\n",
       "      <td>5</td>\n",
       "      <td>65</td>\n",
       "      <td>17</td>\n",
       "      <td>No</td>\n",
       "      <td>No</td>\n",
       "      <td>No</td>\n",
       "      <td>East</td>\n",
       "      <td>480</td>\n",
       "    </tr>\n",
       "    <tr>\n",
       "      <th>397</th>\n",
       "      <td>57.872</td>\n",
       "      <td>4171</td>\n",
       "      <td>321</td>\n",
       "      <td>5</td>\n",
       "      <td>67</td>\n",
       "      <td>12</td>\n",
       "      <td>Yes</td>\n",
       "      <td>No</td>\n",
       "      <td>Yes</td>\n",
       "      <td>South</td>\n",
       "      <td>138</td>\n",
       "    </tr>\n",
       "    <tr>\n",
       "      <th>398</th>\n",
       "      <td>37.728</td>\n",
       "      <td>2525</td>\n",
       "      <td>192</td>\n",
       "      <td>1</td>\n",
       "      <td>44</td>\n",
       "      <td>13</td>\n",
       "      <td>No</td>\n",
       "      <td>No</td>\n",
       "      <td>Yes</td>\n",
       "      <td>South</td>\n",
       "      <td>0</td>\n",
       "    </tr>\n",
       "    <tr>\n",
       "      <th>399</th>\n",
       "      <td>18.701</td>\n",
       "      <td>5524</td>\n",
       "      <td>415</td>\n",
       "      <td>5</td>\n",
       "      <td>64</td>\n",
       "      <td>7</td>\n",
       "      <td>Yes</td>\n",
       "      <td>No</td>\n",
       "      <td>No</td>\n",
       "      <td>West</td>\n",
       "      <td>966</td>\n",
       "    </tr>\n",
       "  </tbody>\n",
       "</table>\n",
       "<p>400 rows × 11 columns</p>\n",
       "</div>"
      ],
      "text/plain": [
       "      income  limit  rating  cards  age  education  own student married  \\\n",
       "0     14.891   3606     283      2   34         11   No      No     Yes   \n",
       "1    106.025   6645     483      3   82         15  Yes     Yes     Yes   \n",
       "2    104.593   7075     514      4   71         11   No      No      No   \n",
       "3    148.924   9504     681      3   36         11  Yes      No      No   \n",
       "4     55.882   4897     357      2   68         16   No      No     Yes   \n",
       "..       ...    ...     ...    ...  ...        ...  ...     ...     ...   \n",
       "395   12.096   4100     307      3   32         13   No      No     Yes   \n",
       "396   13.364   3838     296      5   65         17   No      No      No   \n",
       "397   57.872   4171     321      5   67         12  Yes      No     Yes   \n",
       "398   37.728   2525     192      1   44         13   No      No     Yes   \n",
       "399   18.701   5524     415      5   64          7  Yes      No      No   \n",
       "\n",
       "    region  balance  \n",
       "0    South      333  \n",
       "1     West      903  \n",
       "2     West      580  \n",
       "3     West      964  \n",
       "4    South      331  \n",
       "..     ...      ...  \n",
       "395  South      560  \n",
       "396   East      480  \n",
       "397  South      138  \n",
       "398  South        0  \n",
       "399   West      966  \n",
       "\n",
       "[400 rows x 11 columns]"
      ]
     },
     "execution_count": 2,
     "metadata": {},
     "output_type": "execute_result"
    }
   ],
   "source": [
    "df_credit = pd.read_csv('credit.csv')\n",
    "df_credit.columns = df_credit.columns.str.lower()\n",
    "df_credit"
   ]
  },
  {
   "cell_type": "markdown",
   "metadata": {},
   "source": [
    "### Wrangling Data"
   ]
  },
  {
   "cell_type": "markdown",
   "metadata": {},
   "source": [
    "Our next task is to preform some wrangling on our data.\n",
    "\n",
    "We begin by creating dummy variables for all our categorial features."
   ]
  },
  {
   "cell_type": "code",
   "execution_count": 3,
   "metadata": {},
   "outputs": [],
   "source": [
    "df_X = pd.get_dummies(df_credit.drop('balance', axis=1), drop_first=True)\n",
    "df_y = df_credit[['balance']]"
   ]
  },
  {
   "cell_type": "markdown",
   "metadata": {},
   "source": [
    "When performing shrinkage methods, it is best to normalize the features."
   ]
  },
  {
   "cell_type": "code",
   "execution_count": 4,
   "metadata": {},
   "outputs": [],
   "source": [
    "from sklearn.preprocessing import scale\n",
    "X_s = scale(df_X, with_mean=False)"
   ]
  },
  {
   "cell_type": "markdown",
   "metadata": {},
   "source": [
    "### Ridge Regression"
   ]
  },
  {
   "cell_type": "markdown",
   "metadata": {},
   "source": [
    "We are now ready to fit a ridge regression so let's import the `Ridge` constructor."
   ]
  },
  {
   "cell_type": "code",
   "execution_count": 5,
   "metadata": {},
   "outputs": [],
   "source": [
    "from sklearn.linear_model import Ridge"
   ]
  },
  {
   "cell_type": "markdown",
   "metadata": {},
   "source": [
    "#### Fitting a Ridge for a Single Value of `alpha`"
   ]
  },
  {
   "cell_type": "markdown",
   "metadata": {},
   "source": [
    "We begin by fitting a ridge with a single value of `alpha`, which is the parameter that controls the amount of shrinkage to zero.  Higher values correspond to more shrinkage.  An `alpha` value of zero corresponds to the standard least squares model.\n",
    "\n",
    "Let's start with `alpha` = 1."
   ]
  },
  {
   "cell_type": "code",
   "execution_count": 6,
   "metadata": {},
   "outputs": [
    {
     "data": {
      "text/plain": [
       "Ridge(alpha=1)"
      ]
     },
     "execution_count": 6,
     "metadata": {},
     "output_type": "execute_result"
    }
   ],
   "source": [
    "model = Ridge(alpha=1)\n",
    "model.fit(X_s, df_y)"
   ]
  },
  {
   "cell_type": "markdown",
   "metadata": {},
   "source": [
    "Next, let's display the coefficients in a `DataFrame`."
   ]
  },
  {
   "cell_type": "code",
   "execution_count": 7,
   "metadata": {},
   "outputs": [
    {
     "data": {
      "text/html": [
       "<div>\n",
       "<style scoped>\n",
       "    .dataframe tbody tr th:only-of-type {\n",
       "        vertical-align: middle;\n",
       "    }\n",
       "\n",
       "    .dataframe tbody tr th {\n",
       "        vertical-align: top;\n",
       "    }\n",
       "\n",
       "    .dataframe thead th {\n",
       "        text-align: right;\n",
       "    }\n",
       "</style>\n",
       "<table border=\"1\" class=\"dataframe\">\n",
       "  <thead>\n",
       "    <tr style=\"text-align: right;\">\n",
       "      <th></th>\n",
       "      <th>coefficient</th>\n",
       "    </tr>\n",
       "  </thead>\n",
       "  <tbody>\n",
       "    <tr>\n",
       "      <th>intercept</th>\n",
       "      <td>-487.398207</td>\n",
       "    </tr>\n",
       "    <tr>\n",
       "      <th>income</th>\n",
       "      <td>-271.271818</td>\n",
       "    </tr>\n",
       "    <tr>\n",
       "      <th>limit</th>\n",
       "      <td>367.168796</td>\n",
       "    </tr>\n",
       "    <tr>\n",
       "      <th>rating</th>\n",
       "      <td>245.258668</td>\n",
       "    </tr>\n",
       "    <tr>\n",
       "      <th>cards</th>\n",
       "      <td>21.330598</td>\n",
       "    </tr>\n",
       "    <tr>\n",
       "      <th>age</th>\n",
       "      <td>-10.896509</td>\n",
       "    </tr>\n",
       "    <tr>\n",
       "      <th>education</th>\n",
       "      <td>-3.013622</td>\n",
       "    </tr>\n",
       "    <tr>\n",
       "      <th>own_Yes</th>\n",
       "      <td>-5.222885</td>\n",
       "    </tr>\n",
       "    <tr>\n",
       "      <th>student_Yes</th>\n",
       "      <td>126.864176</td>\n",
       "    </tr>\n",
       "    <tr>\n",
       "      <th>married_Yes</th>\n",
       "      <td>-4.718335</td>\n",
       "    </tr>\n",
       "    <tr>\n",
       "      <th>region_South</th>\n",
       "      <td>5.083115</td>\n",
       "    </tr>\n",
       "    <tr>\n",
       "      <th>region_West</th>\n",
       "      <td>7.600739</td>\n",
       "    </tr>\n",
       "  </tbody>\n",
       "</table>\n",
       "</div>"
      ],
      "text/plain": [
       "              coefficient\n",
       "intercept     -487.398207\n",
       "income        -271.271818\n",
       "limit          367.168796\n",
       "rating         245.258668\n",
       "cards           21.330598\n",
       "age            -10.896509\n",
       "education       -3.013622\n",
       "own_Yes         -5.222885\n",
       "student_Yes    126.864176\n",
       "married_Yes     -4.718335\n",
       "region_South     5.083115\n",
       "region_West      7.600739"
      ]
     },
     "execution_count": 7,
     "metadata": {},
     "output_type": "execute_result"
    }
   ],
   "source": [
    "df_coef = pd.DataFrame(\n",
    "    data = {'coefficient': list(model.intercept_) + list(np.ravel(model.coef_))},\n",
    "    index = ['intercept'] + list(df_X.columns.values), \n",
    ")\n",
    "df_coef"
   ]
  },
  {
   "cell_type": "markdown",
   "metadata": {},
   "source": [
    "Notice that effect size of `income`, `limit`, `rating`, and `student_Yes` are by far the largest.  So we will focus on analyzing those in our subsequet analysis when we vary `alpha`."
   ]
  },
  {
   "cell_type": "markdown",
   "metadata": {},
   "source": [
    "#### Fitting A Ridge for Multiple Values of `alpha`"
   ]
  },
  {
   "cell_type": "markdown",
   "metadata": {},
   "source": [
    "We are now going fit our ridge model for various values of `alpha` and examine the coefficients and $R^2$.\n",
    "\n",
    "This code loops through `alpha` values, stores various values in `lists`, and then puts it all together nicely into a `DataFrame`"
   ]
  },
  {
   "cell_type": "code",
   "execution_count": 8,
   "metadata": {
    "tags": []
   },
   "outputs": [
    {
     "data": {
      "text/html": [
       "<div>\n",
       "<style scoped>\n",
       "    .dataframe tbody tr th:only-of-type {\n",
       "        vertical-align: middle;\n",
       "    }\n",
       "\n",
       "    .dataframe tbody tr th {\n",
       "        vertical-align: top;\n",
       "    }\n",
       "\n",
       "    .dataframe thead th {\n",
       "        text-align: right;\n",
       "    }\n",
       "</style>\n",
       "<table border=\"1\" class=\"dataframe\">\n",
       "  <thead>\n",
       "    <tr style=\"text-align: right;\">\n",
       "      <th></th>\n",
       "      <th>alpha</th>\n",
       "      <th>income</th>\n",
       "      <th>limit</th>\n",
       "      <th>rating</th>\n",
       "      <th>student_Yes</th>\n",
       "      <th>r_squared</th>\n",
       "    </tr>\n",
       "  </thead>\n",
       "  <tbody>\n",
       "    <tr>\n",
       "      <th>0</th>\n",
       "      <td>0.001</td>\n",
       "      <td>-274.67</td>\n",
       "      <td>439.94</td>\n",
       "      <td>175.78</td>\n",
       "      <td>127.72</td>\n",
       "      <td>0.955102</td>\n",
       "    </tr>\n",
       "    <tr>\n",
       "      <th>1</th>\n",
       "      <td>0.010</td>\n",
       "      <td>-274.64</td>\n",
       "      <td>438.55</td>\n",
       "      <td>177.14</td>\n",
       "      <td>127.71</td>\n",
       "      <td>0.955102</td>\n",
       "    </tr>\n",
       "    <tr>\n",
       "      <th>2</th>\n",
       "      <td>0.100</td>\n",
       "      <td>-274.34</td>\n",
       "      <td>426.09</td>\n",
       "      <td>189.33</td>\n",
       "      <td>127.60</td>\n",
       "      <td>0.955097</td>\n",
       "    </tr>\n",
       "    <tr>\n",
       "      <th>3</th>\n",
       "      <td>1.000</td>\n",
       "      <td>-271.27</td>\n",
       "      <td>367.17</td>\n",
       "      <td>245.26</td>\n",
       "      <td>126.86</td>\n",
       "      <td>0.954974</td>\n",
       "    </tr>\n",
       "    <tr>\n",
       "      <th>4</th>\n",
       "      <td>10.000</td>\n",
       "      <td>-242.12</td>\n",
       "      <td>301.99</td>\n",
       "      <td>281.05</td>\n",
       "      <td>122.99</td>\n",
       "      <td>0.952659</td>\n",
       "    </tr>\n",
       "    <tr>\n",
       "      <th>5</th>\n",
       "      <td>100.000</td>\n",
       "      <td>-94.60</td>\n",
       "      <td>211.39</td>\n",
       "      <td>209.60</td>\n",
       "      <td>97.64</td>\n",
       "      <td>0.882671</td>\n",
       "    </tr>\n",
       "    <tr>\n",
       "      <th>6</th>\n",
       "      <td>1000.000</td>\n",
       "      <td>22.93</td>\n",
       "      <td>84.08</td>\n",
       "      <td>84.22</td>\n",
       "      <td>34.01</td>\n",
       "      <td>0.550125</td>\n",
       "    </tr>\n",
       "    <tr>\n",
       "      <th>7</th>\n",
       "      <td>10000.000</td>\n",
       "      <td>7.31</td>\n",
       "      <td>14.44</td>\n",
       "      <td>14.47</td>\n",
       "      <td>4.57</td>\n",
       "      <td>0.123256</td>\n",
       "    </tr>\n",
       "    <tr>\n",
       "      <th>8</th>\n",
       "      <td>100000.000</td>\n",
       "      <td>0.84</td>\n",
       "      <td>1.57</td>\n",
       "      <td>1.57</td>\n",
       "      <td>0.47</td>\n",
       "      <td>0.014014</td>\n",
       "    </tr>\n",
       "    <tr>\n",
       "      <th>9</th>\n",
       "      <td>1000000.000</td>\n",
       "      <td>0.09</td>\n",
       "      <td>0.16</td>\n",
       "      <td>0.16</td>\n",
       "      <td>0.05</td>\n",
       "      <td>0.001421</td>\n",
       "    </tr>\n",
       "  </tbody>\n",
       "</table>\n",
       "</div>"
      ],
      "text/plain": [
       "         alpha  income   limit  rating  student_Yes  r_squared\n",
       "0        0.001 -274.67  439.94  175.78       127.72   0.955102\n",
       "1        0.010 -274.64  438.55  177.14       127.71   0.955102\n",
       "2        0.100 -274.34  426.09  189.33       127.60   0.955097\n",
       "3        1.000 -271.27  367.17  245.26       126.86   0.954974\n",
       "4       10.000 -242.12  301.99  281.05       122.99   0.952659\n",
       "5      100.000  -94.60  211.39  209.60        97.64   0.882671\n",
       "6     1000.000   22.93   84.08   84.22        34.01   0.550125\n",
       "7    10000.000    7.31   14.44   14.47         4.57   0.123256\n",
       "8   100000.000    0.84    1.57    1.57         0.47   0.014014\n",
       "9  1000000.000    0.09    0.16    0.16         0.05   0.001421"
      ]
     },
     "execution_count": 8,
     "metadata": {},
     "output_type": "execute_result"
    }
   ],
   "source": [
    "alpha = [0.001, 0.01, 0.1, 1, 10, 100, 1000, 10000, 100000, 1000000]\n",
    "income_coef = []\n",
    "limit_coef = []\n",
    "rating_coef = []\n",
    "student_yes_coef = []\n",
    "r_squared = []\n",
    "for ix in alpha:\n",
    "    model = Ridge(alpha=ix)\n",
    "    model.fit(X_s, df_y)\n",
    "    coef = np.ravel(model.coef_)\n",
    "    income_coef.append(coef[0].round(2))\n",
    "    limit_coef.append(coef[1].round(2))\n",
    "    rating_coef.append(coef[2].round(2))\n",
    "    student_yes_coef.append(coef[7].round(2))\n",
    "    r_squared.append(model.score(X_s, df_y))\n",
    "df_coefficient = pd.DataFrame(\n",
    "    {\n",
    "        'alpha':alpha,\n",
    "        'income':income_coef,\n",
    "        'limit':limit_coef,\n",
    "        'rating':rating_coef,\n",
    "        'student_Yes':student_yes_coef,\n",
    "        'r_squared':r_squared,\n",
    "    }\n",
    ")\n",
    "df_coefficient"
   ]
  },
  {
   "cell_type": "markdown",
   "metadata": {},
   "source": [
    "Notice that the $R^2$ decreases monotonically.\n",
    "\n",
    "Let's now plot the coefficient values for various values of `alpha`."
   ]
  },
  {
   "cell_type": "code",
   "execution_count": 9,
   "metadata": {},
   "outputs": [
    {
     "data": {
      "image/png": "[encoded data removed]",
      "text/plain": [
       "<Figure size 648x360 with 1 Axes>"
      ]
     },
     "metadata": {
      "needs_background": "light"
     },
     "output_type": "display_data"
    }
   ],
   "source": [
    "ax = df_coefficient.\\\n",
    "        plot(\n",
    "            x = 'alpha',\n",
    "            y = ['income', 'limit', 'rating', 'student_Yes'],\n",
    "            title = 'Coefficient Values for Various alpha',\n",
    "            grid = True,\n",
    "            alpha = 0.75,\n",
    "            figsize = (9, 5),\n",
    "            logx=True,\n",
    "            );\n",
    "ax.set_xlabel('alpha');\n",
    "ax.set_ylabel('coefficient');"
   ]
  },
  {
   "cell_type": "markdown",
   "metadata": {},
   "source": [
    "As you can see for large values of `alpha` the coefficients are close to zero, but never quite reach zero."
   ]
  },
  {
   "cell_type": "markdown",
   "metadata": {},
   "source": [
    "### Lasso"
   ]
  },
  {
   "cell_type": "markdown",
   "metadata": {},
   "source": [
    "Let's now repeat the same analysis for lasso regression.  We begin by calculating coefficients and $R^2$ for various values of `alpha`, and then displaying them in a `DataFrame`."
   ]
  },
  {
   "cell_type": "code",
   "execution_count": 10,
   "metadata": {},
   "outputs": [
    {
     "name": "stderr",
     "output_type": "stream",
     "text": [
      "/home/pritam/.local/lib/python3.8/site-packages/sklearn/linear_model/_coordinate_descent.py:529: ConvergenceWarning: Objective did not converge. You might want to increase the number of iterations. Duality gap: 1516081.5657729032, tolerance: 8433.991191\n",
      "  model = cd_fast.enet_coordinate_descent(\n"
     ]
    },
    {
     "data": {
      "text/html": [
       "<div>\n",
       "<style scoped>\n",
       "    .dataframe tbody tr th:only-of-type {\n",
       "        vertical-align: middle;\n",
       "    }\n",
       "\n",
       "    .dataframe tbody tr th {\n",
       "        vertical-align: top;\n",
       "    }\n",
       "\n",
       "    .dataframe thead th {\n",
       "        text-align: right;\n",
       "    }\n",
       "</style>\n",
       "<table border=\"1\" class=\"dataframe\">\n",
       "  <thead>\n",
       "    <tr style=\"text-align: right;\">\n",
       "      <th></th>\n",
       "      <th>alpha</th>\n",
       "      <th>income</th>\n",
       "      <th>limit</th>\n",
       "      <th>rating</th>\n",
       "      <th>student_Yes</th>\n",
       "      <th>r_squared</th>\n",
       "    </tr>\n",
       "  </thead>\n",
       "  <tbody>\n",
       "    <tr>\n",
       "      <th>0</th>\n",
       "      <td>0.001</td>\n",
       "      <td>-274.67</td>\n",
       "      <td>442.55</td>\n",
       "      <td>173.18</td>\n",
       "      <td>127.74</td>\n",
       "      <td>0.955101</td>\n",
       "    </tr>\n",
       "    <tr>\n",
       "      <th>1</th>\n",
       "      <td>0.010</td>\n",
       "      <td>-274.64</td>\n",
       "      <td>444.80</td>\n",
       "      <td>170.89</td>\n",
       "      <td>127.74</td>\n",
       "      <td>0.955101</td>\n",
       "    </tr>\n",
       "    <tr>\n",
       "      <th>2</th>\n",
       "      <td>0.100</td>\n",
       "      <td>-274.23</td>\n",
       "      <td>449.54</td>\n",
       "      <td>165.72</td>\n",
       "      <td>127.67</td>\n",
       "      <td>0.955099</td>\n",
       "    </tr>\n",
       "    <tr>\n",
       "      <th>3</th>\n",
       "      <td>1.000</td>\n",
       "      <td>-270.07</td>\n",
       "      <td>439.92</td>\n",
       "      <td>171.01</td>\n",
       "      <td>126.60</td>\n",
       "      <td>0.955006</td>\n",
       "    </tr>\n",
       "    <tr>\n",
       "      <th>4</th>\n",
       "      <td>10.000</td>\n",
       "      <td>-228.48</td>\n",
       "      <td>335.30</td>\n",
       "      <td>233.09</td>\n",
       "      <td>116.13</td>\n",
       "      <td>0.948874</td>\n",
       "    </tr>\n",
       "    <tr>\n",
       "      <th>5</th>\n",
       "      <td>100.000</td>\n",
       "      <td>-0.00</td>\n",
       "      <td>23.36</td>\n",
       "      <td>273.31</td>\n",
       "      <td>19.63</td>\n",
       "      <td>0.718970</td>\n",
       "    </tr>\n",
       "    <tr>\n",
       "      <th>6</th>\n",
       "      <td>1000.000</td>\n",
       "      <td>0.00</td>\n",
       "      <td>0.00</td>\n",
       "      <td>0.00</td>\n",
       "      <td>0.00</td>\n",
       "      <td>0.000000</td>\n",
       "    </tr>\n",
       "    <tr>\n",
       "      <th>7</th>\n",
       "      <td>10000.000</td>\n",
       "      <td>0.00</td>\n",
       "      <td>0.00</td>\n",
       "      <td>0.00</td>\n",
       "      <td>0.00</td>\n",
       "      <td>0.000000</td>\n",
       "    </tr>\n",
       "    <tr>\n",
       "      <th>8</th>\n",
       "      <td>100000.000</td>\n",
       "      <td>0.00</td>\n",
       "      <td>0.00</td>\n",
       "      <td>0.00</td>\n",
       "      <td>0.00</td>\n",
       "      <td>0.000000</td>\n",
       "    </tr>\n",
       "    <tr>\n",
       "      <th>9</th>\n",
       "      <td>1000000.000</td>\n",
       "      <td>0.00</td>\n",
       "      <td>0.00</td>\n",
       "      <td>0.00</td>\n",
       "      <td>0.00</td>\n",
       "      <td>0.000000</td>\n",
       "    </tr>\n",
       "  </tbody>\n",
       "</table>\n",
       "</div>"
      ],
      "text/plain": [
       "         alpha  income   limit  rating  student_Yes  r_squared\n",
       "0        0.001 -274.67  442.55  173.18       127.74   0.955101\n",
       "1        0.010 -274.64  444.80  170.89       127.74   0.955101\n",
       "2        0.100 -274.23  449.54  165.72       127.67   0.955099\n",
       "3        1.000 -270.07  439.92  171.01       126.60   0.955006\n",
       "4       10.000 -228.48  335.30  233.09       116.13   0.948874\n",
       "5      100.000   -0.00   23.36  273.31        19.63   0.718970\n",
       "6     1000.000    0.00    0.00    0.00         0.00   0.000000\n",
       "7    10000.000    0.00    0.00    0.00         0.00   0.000000\n",
       "8   100000.000    0.00    0.00    0.00         0.00   0.000000\n",
       "9  1000000.000    0.00    0.00    0.00         0.00   0.000000"
      ]
     },
     "execution_count": 10,
     "metadata": {},
     "output_type": "execute_result"
    }
   ],
   "source": [
    "from sklearn.linear_model import Lasso\n",
    "alpha = [0.001, 0.01, 0.1, 1, 10, 100, 1000, 10000, 100000, 1000000]\n",
    "income_coef = []\n",
    "limit_coef = []\n",
    "rating_coef = []\n",
    "student_yes_coef = []\n",
    "r_squared = []\n",
    "for ix in alpha:\n",
    "    model = Lasso(alpha=ix)\n",
    "    model.fit(X_s, df_y)\n",
    "    coef = np.ravel(model.coef_)\n",
    "    income_coef.append(coef[0].round(2))\n",
    "    limit_coef.append(coef[1].round(2))\n",
    "    rating_coef.append(coef[2].round(2))\n",
    "    student_yes_coef.append(coef[7].round(2))\n",
    "    r_squared.append(model.score(X_s, df_y))\n",
    "df_coefficient = pd.DataFrame(\n",
    "    {\n",
    "        'alpha':alpha,\n",
    "        'income':income_coef,\n",
    "        'limit':limit_coef,\n",
    "        'rating':rating_coef,\n",
    "        'student_Yes':student_yes_coef,\n",
    "        'r_squared':r_squared,\n",
    "    }\n",
    ")\n",
    "df_coefficient"
   ]
  },
  {
   "cell_type": "markdown",
   "metadata": {},
   "source": [
    "Once again, $R^2$ decreases monotonically.\n",
    "\n",
    "Finally, let's plot the coefficients for various values of `alpha`.  Notice that unlike ridge, with lasso the coefficients get squashed to zero."
   ]
  },
  {
   "cell_type": "code",
   "execution_count": 11,
   "metadata": {
    "tags": []
   },
   "outputs": [
    {
     "data": {
      "image/png": "[encoded data removed]",
      "text/plain": [
       "<Figure size 648x360 with 1 Axes>"
      ]
     },
     "metadata": {
      "needs_background": "light"
     },
     "output_type": "display_data"
    }
   ],
   "source": [
    "ax = df_coefficient.\\\n",
    "        plot(\n",
    "            x = 'alpha',\n",
    "            y = ['income', 'limit', 'rating', 'student_Yes'],\n",
    "            title = 'Coefficient Values for Various alpha',\n",
    "            grid = True,\n",
    "            alpha = 0.75,\n",
    "            figsize = (9, 5),\n",
    "            logx=True,\n",
    "            );\n",
    "ax.set_xlabel('alpha');\n",
    "ax.set_ylabel('coefficient');"
   ]
  }
 ],
 "metadata": {
  "kernelspec": {
   "display_name": "Python 3",
   "language": "python",
   "name": "python3"
  },
  "language_info": {
   "codemirror_mode": {
    "name": "ipython",
    "version": 3
   },
   "file_extension": ".py",
   "mimetype": "text/x-python",
   "name": "python",
   "nbconvert_exporter": "python",
   "pygments_lexer": "ipython3",
   "version": "3.8.10"
  }
 },
 "nbformat": 4,
 "nbformat_minor": 4
}
