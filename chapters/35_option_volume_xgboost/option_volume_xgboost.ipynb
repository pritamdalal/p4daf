{
 "cells": [
  {
   "cell_type": "markdown",
   "metadata": {},
   "source": [
    "# Option Volume: **xgboost**"
   ]
  },
  {
   "cell_type": "markdown",
   "metadata": {},
   "source": [
    "XGBoost is a general framework for constructing gradient boosted trees; the Python implementation is a package called **xgboost**.\n",
    "\n",
    "This chapter is a continuation of the option volume prediction work we have been doing in previous chapters.  In particular, we show how to use **xgboost** in that context."
   ]
  },
  {
   "cell_type": "markdown",
   "metadata": {},
   "source": [
    "## Importing Packages"
   ]
  },
  {
   "cell_type": "markdown",
   "metadata": {},
   "source": [
    "Let's begin by importing the packages that we will need."
   ]
  },
  {
   "cell_type": "code",
   "execution_count": null,
   "metadata": {},
   "outputs": [],
   "source": [
    "import pandas as pd\n",
    "import numpy as np\n",
    "import pandas as pd\n",
    "import numpy as np\n",
    "import sklearn\n",
    "from xgboost import XGBRegressor\n",
    "import warnings\n",
    "warnings.filterwarnings('ignore')"
   ]
  },
  {
   "cell_type": "markdown",
   "metadata": {},
   "source": [
    "## Reading-In Data"
   ]
  },
  {
   "cell_type": "markdown",
   "metadata": {},
   "source": [
    "Next, let's read-in our training data and testing data."
   ]
  },
  {
   "cell_type": "code",
   "execution_count": null,
   "metadata": {},
   "outputs": [],
   "source": [
    "df_train = pd.read_csv('../data/option_train_2017.csv')\n",
    "df_test = pd.read_csv('../data/option_test_2018.csv')"
   ]
  },
  {
   "cell_type": "markdown",
   "metadata": {},
   "source": [
    "## Feature Selection"
   ]
  },
  {
   "cell_type": "markdown",
   "metadata": {},
   "source": [
    "For this exercise we will use all the features available in our training data set."
   ]
  },
  {
   "cell_type": "code",
   "execution_count": null,
   "metadata": {},
   "outputs": [],
   "source": [
    "features = ['iv_change_one_lag', 'iv_change_two_lag', 'scaled_return_one_lag', \n",
    "            'scaled_return_two_lag', 'rank_one_lag', 'rank_two_lag',\n",
    "            'rank_change_one_lag', 'rank_change_two_lag',]"
   ]
  },
  {
   "cell_type": "markdown",
   "metadata": {},
   "source": [
    "## User Defined Functions"
   ]
  },
  {
   "cell_type": "markdown",
   "metadata": {},
   "source": [
    "In this section we import the three custom functions that are needed to execute our backtest.  These functions were introduced in a previous chapter."
   ]
  },
  {
   "cell_type": "code",
   "execution_count": null,
   "metadata": {},
   "outputs": [],
   "source": [
    "def top_n_volume(n):\n",
    "    df_test = pd.read_csv(\"../data/option_test_2018.csv\")\n",
    "    df_top_n_volume = \\\n",
    "    (\n",
    "    df_test\n",
    "        .query('daily_volume_rank <= @n')\n",
    "        .groupby(['quotedate'])[['totalvol']].sum()\n",
    "        .reset_index()\n",
    "        .rename(columns={'totalvol':'top_' + str(n) + '_volume'})\n",
    "    )\n",
    "    return(df_top_n_volume)"
   ]
  },
  {
   "cell_type": "code",
   "execution_count": null,
   "metadata": {},
   "outputs": [],
   "source": [
    "def calc_top_n_ratio(n, trade_date, df_test, model=None, features=[]):\n",
    "    \n",
    "    # grabbing top-n volume for each day in backtest\n",
    "    df_top_n = top_n_volume(n)\n",
    "    \n",
    "    # grabbing feature observations for trade_date\n",
    "    df_prediction = df_test.query('quotedate == @trade_date').copy()\n",
    "    \n",
    "    # selecting features from df_X\n",
    "    df_X = df_prediction[features]\n",
    "    \n",
    "    # calculating model predictions\n",
    "    if model is not None:\n",
    "        df_prediction['prediction'] = model.predict(df_X) # predictions based on model\n",
    "    else:\n",
    "        df_prediction['prediction'] = df_prediction['rank_one_lag'] # simple-rule based predictor\n",
    "    \n",
    "    # sorting by predicted rank\n",
    "    df_prediction = df_prediction.sort_values(['prediction'])\n",
    "    # calculating predicted top-n volume\n",
    "    predicted_top_n_volume = df_prediction.head(n)['totalvol'].sum()\n",
    "    # querying for actual top-n volume\n",
    "    actual_top_n_volume = df_top_n.query('quotedate == @trade_date')['top_' + str(n) + '_volume'].values[0]\n",
    "    \n",
    "    # return the top-n-ratio\n",
    "    return(predicted_top_n_volume / actual_top_n_volume)"
   ]
  },
  {
   "cell_type": "code",
   "execution_count": null,
   "metadata": {},
   "outputs": [],
   "source": [
    "def backtest(n, df_test, model=None, features=[]):\n",
    "    # all trade dates in backtest period\n",
    "    trade_dates = df_test['quotedate'].unique().tolist()\n",
    "    \n",
    "    # calculating all top-n ratios\n",
    "    top_n_ratios = []\n",
    "    for ix_trade_date in trade_dates:\n",
    "        top_n_ratios.append(calc_top_n_ratio(n, ix_trade_date, df_test, model, features))\n",
    "\n",
    "    # creating a dataframe of daily top-n ratios\n",
    "    df_daily = pd.DataFrame({\n",
    "        'trade_date':trade_dates,\n",
    "        'top_'+str(n)+'_volume': np.round(top_n_ratios, 3),\n",
    "    })\n",
    "\n",
    "    # calculating summary statistics of top-n ratios during backtest period\n",
    "    df_stats = pd.DataFrame({\n",
    "        'model':[str(model)],\n",
    "        'average':[np.mean(top_n_ratios).round(3)],\n",
    "        'std_dev':[np.std(top_n_ratios).round(3)],\n",
    "        'minimum':[np.min(top_n_ratios).round(3)],\n",
    "        'maximum':[np.max(top_n_ratios).round(3)],\n",
    "    })\n",
    "\n",
    "    return([df_daily, df_stats])"
   ]
  },
  {
   "cell_type": "markdown",
   "metadata": {},
   "source": [
    "## Hyperparameter Tuning"
   ]
  },
  {
   "cell_type": "markdown",
   "metadata": {},
   "source": [
    "The `learning_rate` is rate at which successive trees are boosted; a lower `learning_rate` amounts to slower learning.\n",
    "\n",
    "Here we use a 5-fold cross-validation to select the optimal `learning_rate`.  We will use $R^2$ as our goodness of fit metric. "
   ]
  },
  {
   "cell_type": "code",
   "execution_count": null,
   "metadata": {},
   "outputs": [
    {
     "name": "stdout",
     "output_type": "stream",
     "text": [
      "0.1 0.36246615782763447\n",
      "0.2 0.38969475875156323\n",
      "0.3 0.3910816017808643\n",
      "0.4 0.38967754013651945\n",
      "0.5 0.38808813540767895\n",
      "0.6 0.38692635332836656\n",
      "0.7 0.38474370336623864\n",
      "0.8 0.3841157442722449\n",
      "0.9 0.38194061118381856\n",
      "1.0 0.37935841896562783\n"
     ]
    }
   ],
   "source": [
    "from sklearn.model_selection import cross_val_score\n",
    "df_features = df_train[features]\n",
    "df_label = df_train[['daily_volume_rank']]\n",
    "alphas = np.linspace(0.1, 1, 10)\n",
    "for ix_alpha in alphas:\n",
    "   xgb_model = XGBRegressor(n_estimators=25, max_depth=3, learning_rate=ix_alpha, random_state=0)\n",
    "   cvs = cross_val_score(xgb_model, df_features, df_label, cv = 5)\n",
    "   print(np.round(ix_alpha, 2), cvs.mean())"
   ]
  },
  {
   "cell_type": "markdown",
   "metadata": {},
   "source": [
    "As we can see, `learning_rate = 0.3` yields the highest $R^2$."
   ]
  },
  {
   "cell_type": "markdown",
   "metadata": {},
   "source": [
    "## Fitting Model"
   ]
  },
  {
   "cell_type": "markdown",
   "metadata": {},
   "source": [
    "Now we are ready to fit the our model with `learning_rate = 0.3`.  Notice that we are increasing `n_estimators=500`."
   ]
  },
  {
   "cell_type": "code",
   "execution_count": null,
   "metadata": {},
   "outputs": [
    {
     "data": {
      "text/html": [
       "<style>#sk-container-id-1 {color: black;background-color: white;}#sk-container-id-1 pre{padding: 0;}#sk-container-id-1 div.sk-toggleable {background-color: white;}#sk-container-id-1 label.sk-toggleable__label {cursor: pointer;display: block;width: 100%;margin-bottom: 0;padding: 0.3em;box-sizing: border-box;text-align: center;}#sk-container-id-1 label.sk-toggleable__label-arrow:before {content: \"▸\";float: left;margin-right: 0.25em;color: #696969;}#sk-container-id-1 label.sk-toggleable__label-arrow:hover:before {color: black;}#sk-container-id-1 div.sk-estimator:hover label.sk-toggleable__label-arrow:before {color: black;}#sk-container-id-1 div.sk-toggleable__content {max-height: 0;max-width: 0;overflow: hidden;text-align: left;background-color: #f0f8ff;}#sk-container-id-1 div.sk-toggleable__content pre {margin: 0.2em;color: black;border-radius: 0.25em;background-color: #f0f8ff;}#sk-container-id-1 input.sk-toggleable__control:checked~div.sk-toggleable__content {max-height: 200px;max-width: 100%;overflow: auto;}#sk-container-id-1 input.sk-toggleable__control:checked~label.sk-toggleable__label-arrow:before {content: \"▾\";}#sk-container-id-1 div.sk-estimator input.sk-toggleable__control:checked~label.sk-toggleable__label {background-color: #d4ebff;}#sk-container-id-1 div.sk-label input.sk-toggleable__control:checked~label.sk-toggleable__label {background-color: #d4ebff;}#sk-container-id-1 input.sk-hidden--visually {border: 0;clip: rect(1px 1px 1px 1px);clip: rect(1px, 1px, 1px, 1px);height: 1px;margin: -1px;overflow: hidden;padding: 0;position: absolute;width: 1px;}#sk-container-id-1 div.sk-estimator {font-family: monospace;background-color: #f0f8ff;border: 1px dotted black;border-radius: 0.25em;box-sizing: border-box;margin-bottom: 0.5em;}#sk-container-id-1 div.sk-estimator:hover {background-color: #d4ebff;}#sk-container-id-1 div.sk-parallel-item::after {content: \"\";width: 100%;border-bottom: 1px solid gray;flex-grow: 1;}#sk-container-id-1 div.sk-label:hover label.sk-toggleable__label {background-color: #d4ebff;}#sk-container-id-1 div.sk-serial::before {content: \"\";position: absolute;border-left: 1px solid gray;box-sizing: border-box;top: 0;bottom: 0;left: 50%;z-index: 0;}#sk-container-id-1 div.sk-serial {display: flex;flex-direction: column;align-items: center;background-color: white;padding-right: 0.2em;padding-left: 0.2em;position: relative;}#sk-container-id-1 div.sk-item {position: relative;z-index: 1;}#sk-container-id-1 div.sk-parallel {display: flex;align-items: stretch;justify-content: center;background-color: white;position: relative;}#sk-container-id-1 div.sk-item::before, #sk-container-id-1 div.sk-parallel-item::before {content: \"\";position: absolute;border-left: 1px solid gray;box-sizing: border-box;top: 0;bottom: 0;left: 50%;z-index: -1;}#sk-container-id-1 div.sk-parallel-item {display: flex;flex-direction: column;z-index: 1;position: relative;background-color: white;}#sk-container-id-1 div.sk-parallel-item:first-child::after {align-self: flex-end;width: 50%;}#sk-container-id-1 div.sk-parallel-item:last-child::after {align-self: flex-start;width: 50%;}#sk-container-id-1 div.sk-parallel-item:only-child::after {width: 0;}#sk-container-id-1 div.sk-dashed-wrapped {border: 1px dashed gray;margin: 0 0.4em 0.5em 0.4em;box-sizing: border-box;padding-bottom: 0.4em;background-color: white;}#sk-container-id-1 div.sk-label label {font-family: monospace;font-weight: bold;display: inline-block;line-height: 1.2em;}#sk-container-id-1 div.sk-label-container {text-align: center;}#sk-container-id-1 div.sk-container {/* jupyter's `normalize.less` sets `[hidden] { display: none; }` but bootstrap.min.css set `[hidden] { display: none !important; }` so we also need the `!important` here to be able to override the default hidden behavior on the sphinx rendered scikit-learn.org. See: https://github.com/scikit-learn/scikit-learn/issues/21755 */display: inline-block !important;position: relative;}#sk-container-id-1 div.sk-text-repr-fallback {display: none;}</style><div id=\"sk-container-id-1\" class=\"sk-top-container\"><div class=\"sk-text-repr-fallback\"><pre>XGBRegressor(base_score=None, booster=None, callbacks=None,\n",
       "             colsample_bylevel=None, colsample_bynode=None,\n",
       "             colsample_bytree=None, early_stopping_rounds=None,\n",
       "             enable_categorical=False, eval_metric=None, feature_types=None,\n",
       "             gamma=None, gpu_id=None, grow_policy=None, importance_type=None,\n",
       "             interaction_constraints=None, learning_rate=0.3, max_bin=None,\n",
       "             max_cat_threshold=None, max_cat_to_onehot=None,\n",
       "             max_delta_step=None, max_depth=3, max_leaves=None,\n",
       "             min_child_weight=None, missing=nan, monotone_constraints=None,\n",
       "             n_estimators=500, n_jobs=None, num_parallel_tree=None,\n",
       "             predictor=None, random_state=0, ...)</pre><b>In a Jupyter environment, please rerun this cell to show the HTML representation or trust the notebook. <br />On GitHub, the HTML representation is unable to render, please try loading this page with nbviewer.org.</b></div><div class=\"sk-container\" hidden><div class=\"sk-item\"><div class=\"sk-estimator sk-toggleable\"><input class=\"sk-toggleable__control sk-hidden--visually\" id=\"sk-estimator-id-1\" type=\"checkbox\" checked><label for=\"sk-estimator-id-1\" class=\"sk-toggleable__label sk-toggleable__label-arrow\">XGBRegressor</label><div class=\"sk-toggleable__content\"><pre>XGBRegressor(base_score=None, booster=None, callbacks=None,\n",
       "             colsample_bylevel=None, colsample_bynode=None,\n",
       "             colsample_bytree=None, early_stopping_rounds=None,\n",
       "             enable_categorical=False, eval_metric=None, feature_types=None,\n",
       "             gamma=None, gpu_id=None, grow_policy=None, importance_type=None,\n",
       "             interaction_constraints=None, learning_rate=0.3, max_bin=None,\n",
       "             max_cat_threshold=None, max_cat_to_onehot=None,\n",
       "             max_delta_step=None, max_depth=3, max_leaves=None,\n",
       "             min_child_weight=None, missing=nan, monotone_constraints=None,\n",
       "             n_estimators=500, n_jobs=None, num_parallel_tree=None,\n",
       "             predictor=None, random_state=0, ...)</pre></div></div></div></div></div>"
      ],
      "text/plain": [
       "XGBRegressor(base_score=None, booster=None, callbacks=None,\n",
       "             colsample_bylevel=None, colsample_bynode=None,\n",
       "             colsample_bytree=None, early_stopping_rounds=None,\n",
       "             enable_categorical=False, eval_metric=None, feature_types=None,\n",
       "             gamma=None, gpu_id=None, grow_policy=None, importance_type=None,\n",
       "             interaction_constraints=None, learning_rate=0.3, max_bin=None,\n",
       "             max_cat_threshold=None, max_cat_to_onehot=None,\n",
       "             max_delta_step=None, max_depth=3, max_leaves=None,\n",
       "             min_child_weight=None, missing=nan, monotone_constraints=None,\n",
       "             n_estimators=500, n_jobs=None, num_parallel_tree=None,\n",
       "             predictor=None, random_state=0, ...)"
      ]
     },
     "execution_count": null,
     "metadata": {},
     "output_type": "execute_result"
    }
   ],
   "source": [
    "df_features = df_train[features]\n",
    "df_label = df_train[['daily_volume_rank']]\n",
    "xg_model = XGBRegressor(n_estimators=500, max_depth=3, learning_rate=0.3, random_state=0)\n",
    "xg_model.fit(df_features, df_label)"
   ]
  },
  {
   "cell_type": "code",
   "execution_count": null,
   "metadata": {},
   "outputs": [
    {
     "data": {
      "text/plain": [
       "0.4621096942085411"
      ]
     },
     "execution_count": null,
     "metadata": {},
     "output_type": "execute_result"
    }
   ],
   "source": [
    "sklearn.metrics.r2_score(df_label, xg_model.predict(df_features))"
   ]
  },
  {
   "cell_type": "markdown",
   "metadata": {},
   "source": [
    "## Backtest"
   ]
  },
  {
   "cell_type": "markdown",
   "metadata": {},
   "source": [
    "Let's run our backtest with the fit model."
   ]
  },
  {
   "cell_type": "code",
   "execution_count": null,
   "metadata": {},
   "outputs": [
    {
     "data": {
      "text/plain": [
       "[    trade_date  top_25_volume\n",
       " 0   2018-01-05          0.827\n",
       " 1   2018-01-08          0.574\n",
       " 2   2018-01-09          0.694\n",
       " 3   2018-01-10          0.535\n",
       " 4   2018-01-11          0.780\n",
       " 5   2018-01-12          0.562\n",
       " 6   2018-01-16          0.584\n",
       " 7   2018-01-17          0.552\n",
       " 8   2018-01-18          0.475\n",
       " 9   2018-01-19          0.642\n",
       " 10  2018-01-22          0.717\n",
       " 11  2018-01-23          0.563\n",
       " 12  2018-01-24          0.599\n",
       " 13  2018-01-25          0.588\n",
       " 14  2018-01-26          0.868\n",
       " 15  2018-01-29          0.577\n",
       " 16  2018-01-30          0.546\n",
       " 17  2018-01-31          0.679,\n",
       "                                                model  average  std_dev   \n",
       " 0  XGBRegressor(base_score=None, booster=None, ca...    0.631    0.105  \\\n",
       " \n",
       "    minimum  maximum  \n",
       " 0    0.475    0.868  ]"
      ]
     },
     "execution_count": null,
     "metadata": {},
     "output_type": "execute_result"
    }
   ],
   "source": [
    "backtest(25, df_test, xg_model, features)"
   ]
  },
  {
   "cell_type": "markdown",
   "metadata": {},
   "source": [
    " "
   ]
  },
  {
   "cell_type": "markdown",
   "metadata": {},
   "source": [
    "And we can compare our results to the simple rules based strategy."
   ]
  },
  {
   "cell_type": "code",
   "execution_count": null,
   "metadata": {},
   "outputs": [
    {
     "data": {
      "text/plain": [
       "[    trade_date  top_25_volume\n",
       " 0   2018-01-05          0.768\n",
       " 1   2018-01-08          0.556\n",
       " 2   2018-01-09          0.624\n",
       " 3   2018-01-10          0.467\n",
       " 4   2018-01-11          0.678\n",
       " 5   2018-01-12          0.504\n",
       " 6   2018-01-16          0.591\n",
       " 7   2018-01-17          0.516\n",
       " 8   2018-01-18          0.419\n",
       " 9   2018-01-19          0.610\n",
       " 10  2018-01-22          0.675\n",
       " 11  2018-01-23          0.562\n",
       " 12  2018-01-24          0.550\n",
       " 13  2018-01-25          0.563\n",
       " 14  2018-01-26          0.722\n",
       " 15  2018-01-29          0.592\n",
       " 16  2018-01-30          0.525\n",
       " 17  2018-01-31          0.753,\n",
       "   model  average  std_dev  minimum  maximum\n",
       " 0  None    0.593    0.094    0.419    0.768]"
      ]
     },
     "execution_count": null,
     "metadata": {},
     "output_type": "execute_result"
    }
   ],
   "source": [
    "backtest(25, df_test)"
   ]
  },
  {
   "cell_type": "markdown",
   "metadata": {},
   "source": [
    " "
   ]
  },
  {
   "cell_type": "markdown",
   "metadata": {},
   "source": [
    "---"
   ]
  },
  {
   "cell_type": "markdown",
   "metadata": {},
   "source": [
    "**Code Challenge:** Search the documentation and find a model hyper-parameter to tune.  Then see how the new model performs with that hyper-parameter set to the optimal value that you found."
   ]
  },
  {
   "cell_type": "code",
   "execution_count": null,
   "metadata": {},
   "outputs": [],
   "source": [
    "\n",
    "\n",
    "\n",
    "\n",
    "\n"
   ]
  },
  {
   "cell_type": "markdown",
   "metadata": {},
   "source": [
    "---"
   ]
  }
 ],
 "metadata": {
  "kernelspec": {
   "display_name": "python3",
   "language": "python",
   "name": "python3"
  }
 },
 "nbformat": 4,
 "nbformat_minor": 4
}
