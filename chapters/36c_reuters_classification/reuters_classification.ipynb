{
 "cells": [
  {
   "cell_type": "markdown",
   "id": "937d417b-9569-4c17-9a28-11367dbaf5ba",
   "metadata": {},
   "source": [
    "# Reuters: Classifying Newswires"
   ]
  },
  {
   "cell_type": "markdown",
   "id": "c7aba528-0a18-4cf5-8195-f70b66e0eaea",
   "metadata": {},
   "source": [
    "In this chapter, we’ll build a model to classify Reuters newswires into 46 mutually exclusive topics. Because we have many classes, this problem is an instance of multiclass classification, and because each data point should be classified into only one category, the problem is more specifically an instance of single-label multiclass classification. If each data point could belong to multiple categories (in this case, topics), we’d be facing a multilabel multiclass classification problem."
   ]
  },
  {
   "cell_type": "markdown",
   "id": "5f28ad49-69dc-4d0f-a267-ce5a02edad8d",
   "metadata": {},
   "source": [
    "## Reading-In the Data"
   ]
  },
  {
   "cell_type": "markdown",
   "id": "db8ae10e-ae82-4dd4-8bfa-b8f5f7f909a0",
   "metadata": {},
   "source": [
    "You’ll work with the Reuters dataset, a set of short newswires and their topics, published by Reuters in 1986. It’s a simple, widely used toy dataset for text classification. There are 46 different topics; some topics are more represented than others, but each topic has at least 10 examples in the training set.\n",
    "\n",
    "The Reuters dataset comes packaged as part of Keras. Let’s take a look."
   ]
  },
  {
   "cell_type": "code",
   "execution_count": null,
   "id": "54bfdc67-323e-4199-b8bc-403c4167a3e5",
   "metadata": {},
   "outputs": [
    {
     "name": "stderr",
     "output_type": "stream",
     "text": [
      "2023-11-07 14:06:34.508338: I tensorflow/tsl/cuda/cudart_stub.cc:28] Could not find cuda drivers on your machine, GPU will not be used.\n",
      "2023-11-07 14:06:34.549000: E tensorflow/compiler/xla/stream_executor/cuda/cuda_dnn.cc:9342] Unable to register cuDNN factory: Attempting to register factory for plugin cuDNN when one has already been registered\n",
      "2023-11-07 14:06:34.549027: E tensorflow/compiler/xla/stream_executor/cuda/cuda_fft.cc:609] Unable to register cuFFT factory: Attempting to register factory for plugin cuFFT when one has already been registered\n",
      "2023-11-07 14:06:34.549062: E tensorflow/compiler/xla/stream_executor/cuda/cuda_blas.cc:1518] Unable to register cuBLAS factory: Attempting to register factory for plugin cuBLAS when one has already been registered\n",
      "2023-11-07 14:06:34.556803: I tensorflow/tsl/cuda/cudart_stub.cc:28] Could not find cuda drivers on your machine, GPU will not be used.\n",
      "2023-11-07 14:06:34.557185: I tensorflow/core/platform/cpu_feature_guard.cc:182] This TensorFlow binary is optimized to use available CPU instructions in performance-critical operations.\n",
      "To enable the following instructions: AVX2 FMA, in other operations, rebuild TensorFlow with the appropriate compiler flags.\n",
      "2023-11-07 14:06:35.477200: W tensorflow/compiler/tf2tensorrt/utils/py_utils.cc:38] TF-TRT Warning: Could not find TensorRT\n"
     ]
    }
   ],
   "source": [
    "from tensorflow.keras.datasets import reuters\n",
    "(train_data, train_labels), (test_data, test_labels) = reuters.load_data(\n",
    "    num_words=10000)"
   ]
  },
  {
   "cell_type": "markdown",
   "id": "069781e2-0972-4612-acdb-1ff2574c79a3",
   "metadata": {},
   "source": [
    "There are 8,982 training examples and 2,246 test examples."
   ]
  },
  {
   "cell_type": "code",
   "execution_count": null,
   "id": "5da61a2e-6cd9-4b88-98bc-d7d199ad7a42",
   "metadata": {},
   "outputs": [
    {
     "data": {
      "text/plain": [
       "8982"
      ]
     },
     "execution_count": null,
     "metadata": {},
     "output_type": "execute_result"
    }
   ],
   "source": [
    "len(train_data)"
   ]
  },
  {
   "cell_type": "code",
   "execution_count": null,
   "id": "6bc6bbf1-1d02-46de-bda1-9d8547c1b79a",
   "metadata": {},
   "outputs": [
    {
     "data": {
      "text/plain": [
       "2246"
      ]
     },
     "execution_count": null,
     "metadata": {},
     "output_type": "execute_result"
    }
   ],
   "source": [
    "len(test_data)"
   ]
  },
  {
   "cell_type": "markdown",
   "id": "3b7033ac-aa88-4763-b560-c8c36a216adb",
   "metadata": {},
   "source": [
    "Each example is a list of integers (word indices)."
   ]
  },
  {
   "cell_type": "code",
   "execution_count": null,
   "id": "31015048-e5a8-437d-99e6-1e1fa22da829",
   "metadata": {},
   "outputs": [
    {
     "name": "stdout",
     "output_type": "stream",
     "text": [
      "[1, 245, 273, 207, 156, 53, 74, 160, 26, 14, 46, 296, 26, 39, 74, 2979, 3554, 14, 46, 4689, 4329, 86, 61, 3499, 4795, 14, 61, 451, 4329, 17, 12]\n"
     ]
    }
   ],
   "source": [
    "print(train_data[10])"
   ]
  },
  {
   "cell_type": "markdown",
   "id": "573eb217-1d66-4bb1-a5ea-5cfbd85206ea",
   "metadata": {},
   "source": [
    "Here’s how you can decode it back to words."
   ]
  },
  {
   "cell_type": "code",
   "execution_count": null,
   "id": "6baac67f-9d3a-423e-bebb-3cc60b768913",
   "metadata": {},
   "outputs": [],
   "source": [
    "word_index = reuters.get_word_index()\n",
    "reverse_word_index = dict([(value, key) for (key, value) in word_index.items()])\n",
    "decoded_newswire = \" \".join([reverse_word_index.get(i - 3, \"?\") for i in\n",
    "    train_data[0]])"
   ]
  },
  {
   "cell_type": "code",
   "execution_count": null,
   "id": "485067a9-6bf1-4394-872b-919da01a4fdd",
   "metadata": {},
   "outputs": [
    {
     "data": {
      "text/plain": [
       "'? ? ? said as a result of its december acquisition of space co it expects earnings per share in 1987 of 1 15 to 1 30 dlrs per share up from 70 cts in 1986 the company said pretax net should rise to nine to 10 mln dlrs from six mln dlrs in 1986 and rental operation revenues to 19 to 22 mln dlrs from 12 5 mln dlrs it said cash flow per share this year should be 2 50 to three dlrs reuter 3'"
      ]
     },
     "execution_count": null,
     "metadata": {},
     "output_type": "execute_result"
    }
   ],
   "source": [
    "decoded_newswire"
   ]
  },
  {
   "cell_type": "markdown",
   "id": "bfb0c47c-9655-4bce-a4b1-8dcca07b94ff",
   "metadata": {},
   "source": [
    "The label associated with an example is an integer between 0 and 45—a topic index."
   ]
  },
  {
   "cell_type": "code",
   "execution_count": null,
   "id": "5782e814-93df-493e-9cb0-cc2c3e7bcd5a",
   "metadata": {},
   "outputs": [
    {
     "data": {
      "text/plain": [
       "3"
      ]
     },
     "execution_count": null,
     "metadata": {},
     "output_type": "execute_result"
    }
   ],
   "source": [
    "train_labels[10]"
   ]
  },
  {
   "cell_type": "markdown",
   "id": "53879697-f759-4d74-8229-aa6f099a1638",
   "metadata": {},
   "source": [
    "## Data Wrangling"
   ]
  },
  {
   "cell_type": "markdown",
   "id": "c44d0095-8035-4bdc-a3d5-3c5dfa4f5aa0",
   "metadata": {},
   "source": [
    "The data requires a bit of wrangling before it can be fed into a neural network.  Let's begin by vectorizing the newswires.  Notice that we are flattening our sequential data, and hence removing any sense of ordering from it."
   ]
  },
  {
   "cell_type": "code",
   "execution_count": null,
   "id": "5cc86614-5bb6-4bcf-b9d8-fbd842880ba1",
   "metadata": {},
   "outputs": [],
   "source": [
    "import numpy as np\n",
    "def vectorize_sequences(sequences, dimension=10000):\n",
    "    results = np.zeros((len(sequences), dimension))\n",
    "    for i, sequence in enumerate(sequences):\n",
    "        for j in sequence:\n",
    "            results[i, j] = 1.\n",
    "    return results"
   ]
  },
  {
   "cell_type": "code",
   "execution_count": null,
   "id": "89c5d755-5e45-4eb3-92ab-d5494cc6de32",
   "metadata": {},
   "outputs": [],
   "source": [
    "x_train = vectorize_sequences(train_data)\n",
    "x_test = vectorize_sequences(test_data)"
   ]
  },
  {
   "cell_type": "markdown",
   "id": "6d08eff6-77c7-4163-b81b-906e29e53aa9",
   "metadata": {},
   "source": [
    "To vectorize the labels, there are two possibilities: you can cast the label list as an integer tensor, or you can use one-hot encoding. One-hot encoding is a widely used format for categorical data, also called categorical encoding. In this case, one-hot encoding of the labels consists of embedding each label as an all-zero vector with a 1 in the place of the label index.  We will use one-hot encoding."
   ]
  },
  {
   "cell_type": "code",
   "execution_count": null,
   "id": "db56330b-7dc3-4a05-9495-0432f8b8c5d1",
   "metadata": {},
   "outputs": [],
   "source": [
    "def to_one_hot(labels, dimension=46):\n",
    "    results = np.zeros((len(labels), dimension))\n",
    "    for i, label in enumerate(labels):\n",
    "        results[i, label] = 1.\n",
    "    return results\n",
    "y_train = to_one_hot(train_labels)\n",
    "y_test = to_one_hot(test_labels)"
   ]
  },
  {
   "cell_type": "markdown",
   "id": "f89b2913-5ac4-4cb7-8e85-0ff981955452",
   "metadata": {},
   "source": [
    "Note that there is a built-in convenience function in **keras** for doing this."
   ]
  },
  {
   "cell_type": "code",
   "execution_count": null,
   "id": "79cf8e12-bc3f-4469-96e1-77ba61423848",
   "metadata": {},
   "outputs": [],
   "source": [
    "from tensorflow.keras.utils import to_categorical\n",
    "y_train = to_categorical(train_labels)\n",
    "y_test = to_categorical(test_labels)"
   ]
  },
  {
   "cell_type": "code",
   "execution_count": null,
   "id": "dd77d4c9-d2fb-4e75-8dc3-3c1ffcc20bcb",
   "metadata": {},
   "outputs": [
    {
     "data": {
      "text/plain": [
       "array([[0., 0., 0., ..., 0., 0., 0.],\n",
       "       [0., 0., 0., ..., 0., 0., 0.],\n",
       "       [0., 0., 0., ..., 0., 0., 0.],\n",
       "       ...,\n",
       "       [0., 0., 0., ..., 0., 0., 0.],\n",
       "       [0., 0., 0., ..., 0., 0., 0.],\n",
       "       [0., 0., 0., ..., 0., 0., 0.]], dtype=float32)"
      ]
     },
     "execution_count": null,
     "metadata": {},
     "output_type": "execute_result"
    }
   ],
   "source": [
    "y_train"
   ]
  },
  {
   "cell_type": "code",
   "execution_count": null,
   "id": "0626d12d-c236-4254-b918-180880fdc52f",
   "metadata": {},
   "outputs": [
    {
     "data": {
      "text/plain": [
       "array([[0., 0., 0., ..., 0., 0., 0.],\n",
       "       [0., 0., 0., ..., 0., 0., 0.],\n",
       "       [0., 1., 0., ..., 0., 0., 0.],\n",
       "       ...,\n",
       "       [0., 0., 0., ..., 0., 0., 0.],\n",
       "       [0., 0., 0., ..., 0., 0., 0.],\n",
       "       [0., 0., 0., ..., 0., 0., 0.]], dtype=float32)"
      ]
     },
     "execution_count": null,
     "metadata": {},
     "output_type": "execute_result"
    }
   ],
   "source": [
    "y_test"
   ]
  },
  {
   "cell_type": "markdown",
   "id": "b35fb2fc-2732-4448-8b9e-fb7d8ba0a8d3",
   "metadata": {},
   "source": [
    "## Building the Model"
   ]
  },
  {
   "cell_type": "markdown",
   "id": "76f991e8-e1d5-4eca-b095-8777b7d5640a",
   "metadata": {},
   "source": [
    "We will use a dense feed forward network, using `keras.Sequential`, with two hidden layers each consisting of 64 units (a bit larger than we used for the IMBD dataset).  The hidden layers will both have a `relu` activation function.  The output layer will have 46 units, corresponding to the different possible topics.  We will use a `softmax` activation function so that the output is probabilities."
   ]
  },
  {
   "cell_type": "code",
   "execution_count": null,
   "id": "ad5998eb-a7cb-4a25-8255-51c035ca3b9a",
   "metadata": {},
   "outputs": [],
   "source": [
    "from tensorflow import keras\n",
    "from tensorflow.keras import layers\n",
    "\n",
    "model = keras.Sequential([\n",
    "    layers.Dense(64, activation=\"relu\"),\n",
    "    layers.Dense(64, activation=\"relu\"),\n",
    "    layers.Dense(46, activation=\"softmax\")\n",
    "])"
   ]
  },
  {
   "cell_type": "markdown",
   "id": "0950fc5a-0f35-493c-af5b-16c0b2071e98",
   "metadata": {},
   "source": [
    "Next, let's move on to the compilation step.\n",
    "\n",
    "The best loss function to use in this case is `categorical_crossentropy`. It measures the distance between two probability distributions: here, between the probability distribution output by the model and the true distribution of the labels. By minimizing the distance between these two distributions, you train the model to output something as close as possible to the true labels."
   ]
  },
  {
   "cell_type": "code",
   "execution_count": null,
   "id": "b6f1ea2b-c820-4c83-8e5d-27069c224107",
   "metadata": {},
   "outputs": [],
   "source": [
    "model.compile(optimizer=\"rmsprop\",\n",
    "              loss=\"categorical_crossentropy\",\n",
    "              metrics=[\"accuracy\"])"
   ]
  },
  {
   "cell_type": "markdown",
   "id": "50dcf319-4512-4030-b47d-00e0e47665f5",
   "metadata": {},
   "source": [
    "## Creating a Validation Set"
   ]
  },
  {
   "cell_type": "markdown",
   "id": "6b659d97-420b-4a99-b896-8a8747dd0d98",
   "metadata": {},
   "source": [
    "Let’s set apart 1,000 samples in the training data to use as a validation set."
   ]
  },
  {
   "cell_type": "code",
   "execution_count": null,
   "id": "404fb762-dc7f-4701-a8d5-c66939b52b31",
   "metadata": {},
   "outputs": [],
   "source": [
    "x_val = x_train[:1000]\n",
    "partial_x_train = x_train[1000:]\n",
    "y_val = y_train[:1000]\n",
    "partial_y_train = y_train[1000:]"
   ]
  },
  {
   "cell_type": "markdown",
   "id": "3b197343-4e5c-4846-9087-89b4870dc000",
   "metadata": {},
   "source": [
    "## Train the Model"
   ]
  },
  {
   "cell_type": "markdown",
   "id": "93d22fcc-d1e6-46d0-b54a-f34ac9dee73c",
   "metadata": {},
   "source": [
    "Now, let’s train the model for 20 epochs."
   ]
  },
  {
   "cell_type": "code",
   "execution_count": null,
   "id": "d579646e-1351-4722-bfdb-9c63bdf9c113",
   "metadata": {},
   "outputs": [
    {
     "name": "stdout",
     "output_type": "stream",
     "text": [
      "Epoch 1/20\n",
      "16/16 [==============================] - 1s 31ms/step - loss: 2.7817 - accuracy: 0.4762 - val_loss: 1.8855 - val_accuracy: 0.6200\n",
      "Epoch 2/20\n",
      "16/16 [==============================] - 0s 18ms/step - loss: 1.5537 - accuracy: 0.6790 - val_loss: 1.3791 - val_accuracy: 0.6950\n",
      "Epoch 3/20\n",
      "16/16 [==============================] - 0s 18ms/step - loss: 1.1681 - accuracy: 0.7497 - val_loss: 1.2099 - val_accuracy: 0.7250\n",
      "Epoch 4/20\n",
      "16/16 [==============================] - 0s 19ms/step - loss: 0.9574 - accuracy: 0.7937 - val_loss: 1.0892 - val_accuracy: 0.7680\n",
      "Epoch 5/20\n",
      "16/16 [==============================] - 0s 19ms/step - loss: 0.7947 - accuracy: 0.8311 - val_loss: 1.0249 - val_accuracy: 0.7860\n",
      "Epoch 6/20\n",
      "16/16 [==============================] - 0s 19ms/step - loss: 0.6663 - accuracy: 0.8586 - val_loss: 0.9733 - val_accuracy: 0.7850\n",
      "Epoch 7/20\n",
      "16/16 [==============================] - 0s 18ms/step - loss: 0.5599 - accuracy: 0.8812 - val_loss: 0.9353 - val_accuracy: 0.8030\n",
      "Epoch 8/20\n",
      "16/16 [==============================] - 0s 18ms/step - loss: 0.4741 - accuracy: 0.8996 - val_loss: 0.9243 - val_accuracy: 0.8190\n",
      "Epoch 9/20\n",
      "16/16 [==============================] - 0s 18ms/step - loss: 0.4029 - accuracy: 0.9151 - val_loss: 0.8864 - val_accuracy: 0.8180\n",
      "Epoch 10/20\n",
      "16/16 [==============================] - 0s 18ms/step - loss: 0.3464 - accuracy: 0.9275 - val_loss: 0.9193 - val_accuracy: 0.8010\n",
      "Epoch 11/20\n",
      "16/16 [==============================] - 0s 17ms/step - loss: 0.3019 - accuracy: 0.9357 - val_loss: 0.8919 - val_accuracy: 0.8100\n",
      "Epoch 12/20\n",
      "16/16 [==============================] - 0s 17ms/step - loss: 0.2628 - accuracy: 0.9420 - val_loss: 0.9049 - val_accuracy: 0.8170\n",
      "Epoch 13/20\n",
      "16/16 [==============================] - 0s 19ms/step - loss: 0.2364 - accuracy: 0.9481 - val_loss: 0.9300 - val_accuracy: 0.8020\n",
      "Epoch 14/20\n",
      "16/16 [==============================] - 0s 18ms/step - loss: 0.2098 - accuracy: 0.9506 - val_loss: 0.9013 - val_accuracy: 0.8090\n",
      "Epoch 15/20\n",
      "16/16 [==============================] - 0s 18ms/step - loss: 0.1943 - accuracy: 0.9514 - val_loss: 0.9285 - val_accuracy: 0.8040\n",
      "Epoch 16/20\n",
      "16/16 [==============================] - 0s 20ms/step - loss: 0.1772 - accuracy: 0.9519 - val_loss: 0.8979 - val_accuracy: 0.8180\n",
      "Epoch 17/20\n",
      "16/16 [==============================] - 0s 17ms/step - loss: 0.1688 - accuracy: 0.9545 - val_loss: 0.9187 - val_accuracy: 0.8210\n",
      "Epoch 18/20\n",
      "16/16 [==============================] - 0s 17ms/step - loss: 0.1543 - accuracy: 0.9545 - val_loss: 0.9552 - val_accuracy: 0.8140\n",
      "Epoch 19/20\n",
      "16/16 [==============================] - 0s 17ms/step - loss: 0.1432 - accuracy: 0.9557 - val_loss: 0.9277 - val_accuracy: 0.8140\n",
      "Epoch 20/20\n",
      "16/16 [==============================] - 0s 16ms/step - loss: 0.1412 - accuracy: 0.9563 - val_loss: 0.9946 - val_accuracy: 0.8040\n"
     ]
    }
   ],
   "source": [
    "history = model.fit(partial_x_train,\n",
    "                    partial_y_train,\n",
    "                    epochs=20,\n",
    "                    batch_size=512,\n",
    "                    validation_data=(x_val, y_val))"
   ]
  },
  {
   "cell_type": "markdown",
   "id": "80117677-985e-48b6-ae91-4058ccb2a87e",
   "metadata": {},
   "source": [
    "## Plotting Loss and Accuracy"
   ]
  },
  {
   "cell_type": "markdown",
   "id": "1e684c16-643d-471c-9439-49b159668c18",
   "metadata": {},
   "source": [
    "Next, let's plot the loss and accuracy curves."
   ]
  },
  {
   "cell_type": "code",
   "execution_count": null,
   "id": "c6fd480d-ff30-43d9-b5ca-9e6f0cd9b37e",
   "metadata": {},
   "outputs": [
    {
     "data": {
      "image/png": "[encoded data removed]",
      "text/plain": [
       "<Figure size 640x480 with 1 Axes>"
      ]
     },
     "metadata": {},
     "output_type": "display_data"
    }
   ],
   "source": [
    "import matplotlib.pyplot as plt\n",
    "\n",
    "loss = history.history[\"loss\"]\n",
    "val_loss = history.history[\"val_loss\"]\n",
    "epochs = range(1, len(loss) + 1)\n",
    "plt.plot(epochs, loss, \"bo\", label=\"Training loss\")\n",
    "plt.plot(epochs, val_loss, \"b\", label=\"Validation loss\")\n",
    "plt.title(\"Training and validation loss\")\n",
    "plt.xlabel(\"Epochs\")\n",
    "plt.ylabel(\"Loss\")\n",
    "plt.legend()\n",
    "plt.show()"
   ]
  },
  {
   "cell_type": "code",
   "execution_count": null,
   "id": "306dd0ec-b2e8-4419-ac02-c42f1adb1e76",
   "metadata": {},
   "outputs": [
    {
     "data": {
      "image/png": "[encoded data removed]",
      "text/plain": [
       "<Figure size 640x480 with 1 Axes>"
      ]
     },
     "metadata": {},
     "output_type": "display_data"
    }
   ],
   "source": [
    "plt.clf()\n",
    "acc = history.history[\"accuracy\"]\n",
    "val_acc = history.history[\"val_accuracy\"]\n",
    "plt.plot(epochs, acc, \"bo\", label=\"Training accuracy\")\n",
    "plt.plot(epochs, val_acc, \"b\", label=\"Validation accuracy\")\n",
    "plt.title(\"Training and validation accuracy\")\n",
    "plt.xlabel(\"Epochs\")\n",
    "plt.ylabel(\"Accuracy\")\n",
    "plt.legend()\n",
    "plt.show()"
   ]
  },
  {
   "cell_type": "markdown",
   "id": "76abe8f1-220c-4ab5-a64a-c0c8eb41b506",
   "metadata": {},
   "source": [
    "## Retraing the Model for Nine Epochs"
   ]
  },
  {
   "cell_type": "markdown",
   "id": "9c3e5bda-c41c-4423-b86b-1d8f9eeaa806",
   "metadata": {},
   "source": [
    "As we can see in the above two plots.  The model begins to overfit after nine epochs. Let’s train a new model from scratch, on the entire training data set, for nine epochs and then evaluate it on the test set."
   ]
  },
  {
   "cell_type": "code",
   "execution_count": null,
   "id": "92f5f0cf-6006-4a2d-9204-6201cb86fb20",
   "metadata": {},
   "outputs": [
    {
     "name": "stdout",
     "output_type": "stream",
     "text": [
      "Epoch 1/9\n",
      "18/18 [==============================] - 1s 15ms/step - loss: 2.6433 - accuracy: 0.5213\n",
      "Epoch 2/9\n",
      "18/18 [==============================] - 0s 15ms/step - loss: 1.4630 - accuracy: 0.6888\n",
      "Epoch 3/9\n",
      "18/18 [==============================] - 0s 17ms/step - loss: 1.1098 - accuracy: 0.7630\n",
      "Epoch 4/9\n",
      "18/18 [==============================] - 0s 15ms/step - loss: 0.8990 - accuracy: 0.8071\n",
      "Epoch 5/9\n",
      "18/18 [==============================] - 0s 15ms/step - loss: 0.7384 - accuracy: 0.8383\n",
      "Epoch 6/9\n",
      "18/18 [==============================] - 0s 16ms/step - loss: 0.6143 - accuracy: 0.8671\n",
      "Epoch 7/9\n",
      "18/18 [==============================] - 0s 14ms/step - loss: 0.5098 - accuracy: 0.8938\n",
      "Epoch 8/9\n",
      "18/18 [==============================] - 0s 16ms/step - loss: 0.4276 - accuracy: 0.9090\n",
      "Epoch 9/9\n",
      "18/18 [==============================] - 0s 17ms/step - loss: 0.3652 - accuracy: 0.9210\n",
      "71/71 [==============================] - 0s 2ms/step - loss: 0.9088 - accuracy: 0.7903\n"
     ]
    }
   ],
   "source": [
    "model = keras.Sequential([\n",
    "  layers.Dense(64, activation=\"relu\"),\n",
    "  layers.Dense(64, activation=\"relu\"),\n",
    "  layers.Dense(46, activation=\"softmax\")\n",
    "])\n",
    "model.compile(optimizer=\"rmsprop\",\n",
    "              loss=\"categorical_crossentropy\",\n",
    "              metrics=[\"accuracy\"])\n",
    "model.fit(x_train,\n",
    "          y_train,\n",
    "          epochs=9,\n",
    "          batch_size=512)\n",
    "results = model.evaluate(x_test, y_test)"
   ]
  },
  {
   "cell_type": "code",
   "execution_count": null,
   "id": "b3d320b6-4ba5-4b70-8f2a-a55087582985",
   "metadata": {},
   "outputs": [
    {
     "data": {
      "text/plain": [
       "[0.9087575674057007, 0.7902938723564148]"
      ]
     },
     "execution_count": null,
     "metadata": {},
     "output_type": "execute_result"
    }
   ],
   "source": [
    "results"
   ]
  },
  {
   "cell_type": "markdown",
   "id": "91460d62-021a-48aa-9739-16d7e45f9290",
   "metadata": {},
   "source": [
    "This approach reaches an accuracy of ~80%. With a balanced binary classification problem, the accuracy reached by a purely random classifier would be 50%. But in this case, we have 46 classes, and they may not be equally represented. What would be the accuracy of a random baseline? We could try quickly implementing one to check this empirically."
   ]
  },
  {
   "cell_type": "code",
   "execution_count": null,
   "id": "aac57d97-ee3e-4cc6-885e-1a5c0ba467fe",
   "metadata": {},
   "outputs": [
    {
     "data": {
      "text/plain": [
       "0.18744434550311664"
      ]
     },
     "execution_count": null,
     "metadata": {},
     "output_type": "execute_result"
    }
   ],
   "source": [
    "import copy\n",
    "test_labels_copy = copy.copy(test_labels)\n",
    "np.random.shuffle(test_labels_copy)\n",
    "hits_array = np.array(test_labels) == np.array(test_labels_copy)\n",
    "hits_array.mean()"
   ]
  },
  {
   "cell_type": "markdown",
   "id": "683e4b72-677b-426f-84d8-f71c7c85aeaf",
   "metadata": {},
   "source": [
    "As you can see, a random classifier would score around 19% classification accuracy, so\n",
    "the results of our model seem pretty good in that light."
   ]
  },
  {
   "cell_type": "markdown",
   "id": "5a112f68-8de5-4bc0-a89a-5be3d61a30bd",
   "metadata": {},
   "source": [
    "## Predictions on New Data"
   ]
  },
  {
   "cell_type": "markdown",
   "id": "0e4f0096-f87c-4d88-a2ea-95f860280454",
   "metadata": {},
   "source": [
    "Calling the model’s predict method on new samples returns a class probability distribution over all 46 topics for each sample. Let’s generate topic predictions for all of the test data."
   ]
  },
  {
   "cell_type": "code",
   "execution_count": null,
   "id": "39aa346c-0716-4030-9a66-2d5fc9e01eee",
   "metadata": {},
   "outputs": [
    {
     "name": "stdout",
     "output_type": "stream",
     "text": [
      "71/71 [==============================] - 0s 2ms/step\n"
     ]
    }
   ],
   "source": [
    "predictions = model.predict(x_test)"
   ]
  },
  {
   "cell_type": "markdown",
   "id": "da668288-b604-4f2a-8b76-581e6914d911",
   "metadata": {},
   "source": [
    "Each entry in `predictions` is a vector of length 46:"
   ]
  },
  {
   "cell_type": "code",
   "execution_count": null,
   "id": "cffb0154-17f6-4204-ac67-4e7598b666a0",
   "metadata": {},
   "outputs": [
    {
     "data": {
      "text/plain": [
       "(46,)"
      ]
     },
     "execution_count": null,
     "metadata": {},
     "output_type": "execute_result"
    }
   ],
   "source": [
    "predictions[0].shape"
   ]
  },
  {
   "cell_type": "markdown",
   "id": "b723d000-9bb5-45bd-8a2e-ef25aecec82a",
   "metadata": {},
   "source": [
    "The coefficients in this vector sum to 1, as they form a probability distribution:"
   ]
  },
  {
   "cell_type": "code",
   "execution_count": null,
   "id": "b9c86cba-3540-4006-b013-88eb3e6983b6",
   "metadata": {},
   "outputs": [
    {
     "data": {
      "text/plain": [
       "0.9999999"
      ]
     },
     "execution_count": null,
     "metadata": {},
     "output_type": "execute_result"
    }
   ],
   "source": [
    "np.sum(predictions[0])"
   ]
  },
  {
   "cell_type": "markdown",
   "id": "ec70a52b-9fec-40eb-a09b-eb6dbed9580f",
   "metadata": {},
   "source": [
    "The largest entry is the predicted class — the class with the highest probability:"
   ]
  },
  {
   "cell_type": "code",
   "execution_count": null,
   "id": "14fdd2d3-4554-4889-b149-ed00534167ec",
   "metadata": {},
   "outputs": [
    {
     "data": {
      "text/plain": [
       "3"
      ]
     },
     "execution_count": null,
     "metadata": {},
     "output_type": "execute_result"
    }
   ],
   "source": [
    "np.argmax(predictions[0])"
   ]
  },
  {
   "cell_type": "markdown",
   "id": "844c2c8e-15da-44de-9c01-5baa25af707e",
   "metadata": {},
   "source": [
    "## Information Bottleneck"
   ]
  },
  {
   "cell_type": "markdown",
   "id": "b773d1b9-44af-46fd-a277-5e299ecfbe86",
   "metadata": {},
   "source": [
    "Now let’s see what happens when we introduce an information bottleneck by having intermediate layers that are\n",
    "significantly less than 46-dimensions: for example, 4-dimensional."
   ]
  },
  {
   "cell_type": "code",
   "execution_count": null,
   "id": "10ba4399-be96-4057-9aaa-4dc4be74ef3c",
   "metadata": {},
   "outputs": [
    {
     "name": "stdout",
     "output_type": "stream",
     "text": [
      "Epoch 1/20\n",
      "63/63 [==============================] - 1s 10ms/step - loss: 3.4442 - accuracy: 0.0804 - val_loss: 3.0439 - val_accuracy: 0.0920\n",
      "Epoch 2/20\n",
      "63/63 [==============================] - 1s 9ms/step - loss: 2.4024 - accuracy: 0.4327 - val_loss: 1.9069 - val_accuracy: 0.6190\n",
      "Epoch 3/20\n",
      "63/63 [==============================] - 1s 8ms/step - loss: 1.5456 - accuracy: 0.6437 - val_loss: 1.5021 - val_accuracy: 0.6490\n",
      "Epoch 4/20\n",
      "63/63 [==============================] - 1s 8ms/step - loss: 1.2814 - accuracy: 0.6862 - val_loss: 1.3921 - val_accuracy: 0.6800\n",
      "Epoch 5/20\n",
      "63/63 [==============================] - 1s 8ms/step - loss: 1.1347 - accuracy: 0.7256 - val_loss: 1.3320 - val_accuracy: 0.6900\n",
      "Epoch 6/20\n",
      "63/63 [==============================] - 1s 8ms/step - loss: 1.0300 - accuracy: 0.7399 - val_loss: 1.3126 - val_accuracy: 0.6910\n",
      "Epoch 7/20\n",
      "63/63 [==============================] - 1s 8ms/step - loss: 0.9475 - accuracy: 0.7546 - val_loss: 1.3068 - val_accuracy: 0.6970\n",
      "Epoch 8/20\n",
      "63/63 [==============================] - 1s 8ms/step - loss: 0.8783 - accuracy: 0.7697 - val_loss: 1.2986 - val_accuracy: 0.6980\n",
      "Epoch 9/20\n",
      "63/63 [==============================] - 1s 9ms/step - loss: 0.8156 - accuracy: 0.7866 - val_loss: 1.2911 - val_accuracy: 0.7000\n",
      "Epoch 10/20\n",
      "63/63 [==============================] - 1s 8ms/step - loss: 0.7587 - accuracy: 0.8037 - val_loss: 1.3032 - val_accuracy: 0.7090\n",
      "Epoch 11/20\n",
      "63/63 [==============================] - 1s 8ms/step - loss: 0.7107 - accuracy: 0.8192 - val_loss: 1.3131 - val_accuracy: 0.7050\n",
      "Epoch 12/20\n",
      "63/63 [==============================] - 1s 8ms/step - loss: 0.6659 - accuracy: 0.8286 - val_loss: 1.3221 - val_accuracy: 0.7110\n",
      "Epoch 13/20\n",
      "63/63 [==============================] - 1s 8ms/step - loss: 0.6246 - accuracy: 0.8378 - val_loss: 1.3872 - val_accuracy: 0.7110\n",
      "Epoch 14/20\n",
      "63/63 [==============================] - 1s 8ms/step - loss: 0.5920 - accuracy: 0.8484 - val_loss: 1.4122 - val_accuracy: 0.7100\n",
      "Epoch 15/20\n",
      "63/63 [==============================] - 1s 8ms/step - loss: 0.5579 - accuracy: 0.8571 - val_loss: 1.4068 - val_accuracy: 0.7070\n",
      "Epoch 16/20\n",
      "63/63 [==============================] - 1s 9ms/step - loss: 0.5304 - accuracy: 0.8624 - val_loss: 1.4524 - val_accuracy: 0.7180\n",
      "Epoch 17/20\n",
      "63/63 [==============================] - 1s 8ms/step - loss: 0.5034 - accuracy: 0.8676 - val_loss: 1.4665 - val_accuracy: 0.7140\n",
      "Epoch 18/20\n",
      "63/63 [==============================] - 1s 8ms/step - loss: 0.4798 - accuracy: 0.8697 - val_loss: 1.5153 - val_accuracy: 0.7180\n",
      "Epoch 19/20\n",
      "63/63 [==============================] - 1s 8ms/step - loss: 0.4617 - accuracy: 0.8771 - val_loss: 1.5403 - val_accuracy: 0.7240\n",
      "Epoch 20/20\n",
      "63/63 [==============================] - 0s 8ms/step - loss: 0.4392 - accuracy: 0.8836 - val_loss: 1.5682 - val_accuracy: 0.7180\n"
     ]
    },
    {
     "data": {
      "text/plain": [
       "<keras.src.callbacks.History>"
      ]
     },
     "execution_count": null,
     "metadata": {},
     "output_type": "execute_result"
    }
   ],
   "source": [
    "model = keras.Sequential([\n",
    "    layers.Dense(64, activation=\"relu\"),\n",
    "    layers.Dense(4, activation=\"relu\"),\n",
    "    layers.Dense(46, activation=\"softmax\")\n",
    "])\n",
    "model.compile(optimizer=\"rmsprop\",\n",
    "              loss=\"categorical_crossentropy\",\n",
    "              metrics=[\"accuracy\"])\n",
    "model.fit(partial_x_train,\n",
    "          partial_y_train,\n",
    "          epochs=20,\n",
    "          batch_size=128,\n",
    "          validation_data=(x_val, y_val))"
   ]
  },
  {
   "cell_type": "code",
   "execution_count": null,
   "id": "f346e38d-b939-4496-aabb-93eec6427765",
   "metadata": {},
   "outputs": [
    {
     "name": "stdout",
     "output_type": "stream",
     "text": [
      "71/71 [==============================] - 0s 2ms/step - loss: 1.7752 - accuracy: 0.6941\n"
     ]
    },
    {
     "data": {
      "text/plain": [
       "[1.77518892288208, 0.6941229104995728]"
      ]
     },
     "execution_count": null,
     "metadata": {},
     "output_type": "execute_result"
    }
   ],
   "source": [
    "results = model.evaluate(x_test, y_test)\n",
    "results"
   ]
  },
  {
   "cell_type": "markdown",
   "id": "6c68b312-6911-4b02-9dc6-c77da661cd39",
   "metadata": {},
   "source": [
    "The model now peaks at ~71% validation accuracy, an 8% absolute drop. This drop is mostly due to the fact that we’re trying to compress a lot of information (enough information to recover the separation hyperplanes of 46 classes) into an intermediate space that is too low-dimensional. The model is able to cram most of the necessary information into these four-dimensional representations, but not all of it."
   ]
  },
  {
   "cell_type": "markdown",
   "id": "48a1470e-0417-49d6-bbab-9d50116898ff",
   "metadata": {},
   "source": [
    "## Further Exploration"
   ]
  },
  {
   "cell_type": "markdown",
   "id": "db9c6f72-c478-4d15-838d-85bd702c9311",
   "metadata": {},
   "source": [
    "Try out the following experiments to train your intuition about the kind of configuration decisions you have to make with such models:\n",
    "\n",
    "- Try using larger or smaller layers: 32 units, 128 units, and so on.\n",
    "- You used two intermediate layers before the final softmax classification layer. Now try using a single intermediate layer, or three intermediate layers."
   ]
  }
 ],
 "metadata": {
  "kernelspec": {
   "display_name": "python3",
   "language": "python",
   "name": "python3"
  }
 },
 "nbformat": 4,
 "nbformat_minor": 5
}
