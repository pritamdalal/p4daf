{
 "cells": [
  {
   "cell_type": "markdown",
   "metadata": {},
   "source": [
    "# Visualizing Principal Components Analysis"
   ]
  },
  {
   "cell_type": "markdown",
   "metadata": {},
   "source": [
    "In this tutorial we will explore some visualizations principal components analysis applie to weekly PNL data from an options trading backtest applied to various underlyings."
   ]
  },
  {
   "cell_type": "markdown",
   "metadata": {},
   "source": [
    "### Importing Packages"
   ]
  },
  {
   "cell_type": "markdown",
   "metadata": {},
   "source": [
    "Let's begin by loading the packages that we will need."
   ]
  },
  {
   "cell_type": "code",
   "execution_count": 1,
   "metadata": {},
   "outputs": [],
   "source": [
    "import pandas as pd\n",
    "import numpy as np\n",
    "import sklearn\n",
    "import matplotlib.pyplot as plt\n",
    "import seaborn as sns"
   ]
  },
  {
   "cell_type": "markdown",
   "metadata": {},
   "source": [
    "### Reading-In Data"
   ]
  },
  {
   "cell_type": "markdown",
   "metadata": {},
   "source": [
    "Next, let's read-in the data that we will analyze.  This data consists of weekly PNLs of an options trading strategy that is applied to various underlyings."
   ]
  },
  {
   "cell_type": "code",
   "execution_count": 2,
   "metadata": {},
   "outputs": [
    {
     "data": {
      "text/html": [
       "<div>\n",
       "<style scoped>\n",
       "    .dataframe tbody tr th:only-of-type {\n",
       "        vertical-align: middle;\n",
       "    }\n",
       "\n",
       "    .dataframe tbody tr th {\n",
       "        vertical-align: top;\n",
       "    }\n",
       "\n",
       "    .dataframe thead th {\n",
       "        text-align: right;\n",
       "    }\n",
       "</style>\n",
       "<table border=\"1\" class=\"dataframe\">\n",
       "  <thead>\n",
       "    <tr style=\"text-align: right;\">\n",
       "      <th></th>\n",
       "      <th>trade_date</th>\n",
       "      <th>DIA</th>\n",
       "      <th>EEM</th>\n",
       "      <th>EFA</th>\n",
       "      <th>EWJ</th>\n",
       "      <th>EWW</th>\n",
       "      <th>EWZ</th>\n",
       "      <th>FXE</th>\n",
       "      <th>FXI</th>\n",
       "      <th>FXY</th>\n",
       "      <th>...</th>\n",
       "      <th>XLF</th>\n",
       "      <th>XLI</th>\n",
       "      <th>XLK</th>\n",
       "      <th>XLP</th>\n",
       "      <th>XLU</th>\n",
       "      <th>XLV</th>\n",
       "      <th>XLY</th>\n",
       "      <th>XME</th>\n",
       "      <th>XOP</th>\n",
       "      <th>XRT</th>\n",
       "    </tr>\n",
       "  </thead>\n",
       "  <tbody>\n",
       "    <tr>\n",
       "      <th>0</th>\n",
       "      <td>2010-06-11</td>\n",
       "      <td>0.007174</td>\n",
       "      <td>-0.017362</td>\n",
       "      <td>-0.010725</td>\n",
       "      <td>-0.026382</td>\n",
       "      <td>-0.025379</td>\n",
       "      <td>-0.013350</td>\n",
       "      <td>-0.002375</td>\n",
       "      <td>-0.009553</td>\n",
       "      <td>-0.003428</td>\n",
       "      <td>...</td>\n",
       "      <td>-0.023686</td>\n",
       "      <td>-0.024645</td>\n",
       "      <td>-0.019757</td>\n",
       "      <td>-0.012389</td>\n",
       "      <td>-0.008406</td>\n",
       "      <td>-0.012576</td>\n",
       "      <td>-0.020438</td>\n",
       "      <td>-0.032221</td>\n",
       "      <td>-0.051404</td>\n",
       "      <td>-0.019148</td>\n",
       "    </tr>\n",
       "    <tr>\n",
       "      <th>1</th>\n",
       "      <td>2010-06-14</td>\n",
       "      <td>0.010173</td>\n",
       "      <td>0.035633</td>\n",
       "      <td>0.014950</td>\n",
       "      <td>0.014282</td>\n",
       "      <td>0.033116</td>\n",
       "      <td>0.033594</td>\n",
       "      <td>-0.000735</td>\n",
       "      <td>0.019362</td>\n",
       "      <td>0.005734</td>\n",
       "      <td>...</td>\n",
       "      <td>0.003849</td>\n",
       "      <td>0.044187</td>\n",
       "      <td>0.049763</td>\n",
       "      <td>0.015300</td>\n",
       "      <td>0.011585</td>\n",
       "      <td>0.019370</td>\n",
       "      <td>0.040846</td>\n",
       "      <td>0.060549</td>\n",
       "      <td>0.047449</td>\n",
       "      <td>0.030016</td>\n",
       "    </tr>\n",
       "    <tr>\n",
       "      <th>2</th>\n",
       "      <td>2010-06-15</td>\n",
       "      <td>-0.002297</td>\n",
       "      <td>-0.013010</td>\n",
       "      <td>-0.019534</td>\n",
       "      <td>-0.005922</td>\n",
       "      <td>0.000404</td>\n",
       "      <td>-0.004744</td>\n",
       "      <td>-0.001553</td>\n",
       "      <td>-0.000144</td>\n",
       "      <td>0.002334</td>\n",
       "      <td>...</td>\n",
       "      <td>-0.000972</td>\n",
       "      <td>-0.010887</td>\n",
       "      <td>-0.027390</td>\n",
       "      <td>0.010241</td>\n",
       "      <td>0.006655</td>\n",
       "      <td>0.014511</td>\n",
       "      <td>-0.014392</td>\n",
       "      <td>0.037345</td>\n",
       "      <td>0.016062</td>\n",
       "      <td>0.032434</td>\n",
       "    </tr>\n",
       "    <tr>\n",
       "      <th>3</th>\n",
       "      <td>2010-06-16</td>\n",
       "      <td>0.010865</td>\n",
       "      <td>0.023527</td>\n",
       "      <td>0.020398</td>\n",
       "      <td>0.009137</td>\n",
       "      <td>0.016342</td>\n",
       "      <td>0.032344</td>\n",
       "      <td>0.003108</td>\n",
       "      <td>0.027393</td>\n",
       "      <td>0.004025</td>\n",
       "      <td>...</td>\n",
       "      <td>0.024156</td>\n",
       "      <td>0.021204</td>\n",
       "      <td>0.016975</td>\n",
       "      <td>-0.000245</td>\n",
       "      <td>-0.002232</td>\n",
       "      <td>0.006271</td>\n",
       "      <td>0.030290</td>\n",
       "      <td>0.024339</td>\n",
       "      <td>0.040401</td>\n",
       "      <td>-0.004622</td>\n",
       "    </tr>\n",
       "    <tr>\n",
       "      <th>4</th>\n",
       "      <td>2010-06-17</td>\n",
       "      <td>0.007654</td>\n",
       "      <td>0.021416</td>\n",
       "      <td>0.013009</td>\n",
       "      <td>0.019784</td>\n",
       "      <td>0.012869</td>\n",
       "      <td>0.020282</td>\n",
       "      <td>0.002741</td>\n",
       "      <td>0.005559</td>\n",
       "      <td>0.003677</td>\n",
       "      <td>...</td>\n",
       "      <td>0.029602</td>\n",
       "      <td>-0.001968</td>\n",
       "      <td>-0.006714</td>\n",
       "      <td>0.003149</td>\n",
       "      <td>0.011234</td>\n",
       "      <td>-0.000091</td>\n",
       "      <td>0.004604</td>\n",
       "      <td>0.027596</td>\n",
       "      <td>0.021323</td>\n",
       "      <td>0.030434</td>\n",
       "    </tr>\n",
       "    <tr>\n",
       "      <th>...</th>\n",
       "      <td>...</td>\n",
       "      <td>...</td>\n",
       "      <td>...</td>\n",
       "      <td>...</td>\n",
       "      <td>...</td>\n",
       "      <td>...</td>\n",
       "      <td>...</td>\n",
       "      <td>...</td>\n",
       "      <td>...</td>\n",
       "      <td>...</td>\n",
       "      <td>...</td>\n",
       "      <td>...</td>\n",
       "      <td>...</td>\n",
       "      <td>...</td>\n",
       "      <td>...</td>\n",
       "      <td>...</td>\n",
       "      <td>...</td>\n",
       "      <td>...</td>\n",
       "      <td>...</td>\n",
       "      <td>...</td>\n",
       "      <td>...</td>\n",
       "    </tr>\n",
       "    <tr>\n",
       "      <th>749</th>\n",
       "      <td>2018-12-21</td>\n",
       "      <td>-0.010358</td>\n",
       "      <td>-0.008775</td>\n",
       "      <td>-0.025460</td>\n",
       "      <td>-0.058596</td>\n",
       "      <td>-0.009828</td>\n",
       "      <td>0.004381</td>\n",
       "      <td>-0.002566</td>\n",
       "      <td>0.011680</td>\n",
       "      <td>-0.001237</td>\n",
       "      <td>...</td>\n",
       "      <td>-0.052536</td>\n",
       "      <td>-0.026648</td>\n",
       "      <td>-0.070161</td>\n",
       "      <td>-0.017729</td>\n",
       "      <td>0.102341</td>\n",
       "      <td>-0.017573</td>\n",
       "      <td>-0.008129</td>\n",
       "      <td>-0.101895</td>\n",
       "      <td>0.012906</td>\n",
       "      <td>-0.089217</td>\n",
       "    </tr>\n",
       "    <tr>\n",
       "      <th>750</th>\n",
       "      <td>2018-12-24</td>\n",
       "      <td>-0.037064</td>\n",
       "      <td>0.004238</td>\n",
       "      <td>-0.017792</td>\n",
       "      <td>-0.007173</td>\n",
       "      <td>0.021813</td>\n",
       "      <td>0.007675</td>\n",
       "      <td>-0.000743</td>\n",
       "      <td>0.002134</td>\n",
       "      <td>-0.006349</td>\n",
       "      <td>...</td>\n",
       "      <td>0.000666</td>\n",
       "      <td>-0.027368</td>\n",
       "      <td>-0.101256</td>\n",
       "      <td>-0.080759</td>\n",
       "      <td>-0.141095</td>\n",
       "      <td>-0.043487</td>\n",
       "      <td>-0.168685</td>\n",
       "      <td>0.164792</td>\n",
       "      <td>-0.190494</td>\n",
       "      <td>-0.006617</td>\n",
       "    </tr>\n",
       "    <tr>\n",
       "      <th>751</th>\n",
       "      <td>2018-12-26</td>\n",
       "      <td>-0.074702</td>\n",
       "      <td>0.023863</td>\n",
       "      <td>0.015465</td>\n",
       "      <td>0.014819</td>\n",
       "      <td>0.047261</td>\n",
       "      <td>0.035732</td>\n",
       "      <td>0.000935</td>\n",
       "      <td>0.021011</td>\n",
       "      <td>0.001450</td>\n",
       "      <td>...</td>\n",
       "      <td>-0.033270</td>\n",
       "      <td>-0.105362</td>\n",
       "      <td>-0.053457</td>\n",
       "      <td>-0.002229</td>\n",
       "      <td>0.016203</td>\n",
       "      <td>-0.033066</td>\n",
       "      <td>-0.079741</td>\n",
       "      <td>-0.138356</td>\n",
       "      <td>-0.422292</td>\n",
       "      <td>-0.074324</td>\n",
       "    </tr>\n",
       "    <tr>\n",
       "      <th>752</th>\n",
       "      <td>2018-12-27</td>\n",
       "      <td>0.015387</td>\n",
       "      <td>0.016627</td>\n",
       "      <td>0.013537</td>\n",
       "      <td>0.013345</td>\n",
       "      <td>0.028583</td>\n",
       "      <td>0.016973</td>\n",
       "      <td>-0.002762</td>\n",
       "      <td>0.007095</td>\n",
       "      <td>0.001280</td>\n",
       "      <td>...</td>\n",
       "      <td>0.025021</td>\n",
       "      <td>0.013005</td>\n",
       "      <td>0.033152</td>\n",
       "      <td>0.012723</td>\n",
       "      <td>0.011532</td>\n",
       "      <td>0.012957</td>\n",
       "      <td>0.020950</td>\n",
       "      <td>0.073538</td>\n",
       "      <td>0.067077</td>\n",
       "      <td>0.016728</td>\n",
       "    </tr>\n",
       "    <tr>\n",
       "      <th>753</th>\n",
       "      <td>2018-12-28</td>\n",
       "      <td>0.025541</td>\n",
       "      <td>0.011025</td>\n",
       "      <td>0.007857</td>\n",
       "      <td>0.014097</td>\n",
       "      <td>0.020565</td>\n",
       "      <td>0.020779</td>\n",
       "      <td>0.001501</td>\n",
       "      <td>0.020864</td>\n",
       "      <td>-0.003356</td>\n",
       "      <td>...</td>\n",
       "      <td>0.024544</td>\n",
       "      <td>0.033024</td>\n",
       "      <td>0.025723</td>\n",
       "      <td>0.009940</td>\n",
       "      <td>0.020296</td>\n",
       "      <td>0.030015</td>\n",
       "      <td>0.030467</td>\n",
       "      <td>0.024561</td>\n",
       "      <td>0.059169</td>\n",
       "      <td>0.031644</td>\n",
       "    </tr>\n",
       "  </tbody>\n",
       "</table>\n",
       "<p>754 rows × 35 columns</p>\n",
       "</div>"
      ],
      "text/plain": [
       "     trade_date       DIA       EEM       EFA       EWJ       EWW       EWZ  \\\n",
       "0    2010-06-11  0.007174 -0.017362 -0.010725 -0.026382 -0.025379 -0.013350   \n",
       "1    2010-06-14  0.010173  0.035633  0.014950  0.014282  0.033116  0.033594   \n",
       "2    2010-06-15 -0.002297 -0.013010 -0.019534 -0.005922  0.000404 -0.004744   \n",
       "3    2010-06-16  0.010865  0.023527  0.020398  0.009137  0.016342  0.032344   \n",
       "4    2010-06-17  0.007654  0.021416  0.013009  0.019784  0.012869  0.020282   \n",
       "..          ...       ...       ...       ...       ...       ...       ...   \n",
       "749  2018-12-21 -0.010358 -0.008775 -0.025460 -0.058596 -0.009828  0.004381   \n",
       "750  2018-12-24 -0.037064  0.004238 -0.017792 -0.007173  0.021813  0.007675   \n",
       "751  2018-12-26 -0.074702  0.023863  0.015465  0.014819  0.047261  0.035732   \n",
       "752  2018-12-27  0.015387  0.016627  0.013537  0.013345  0.028583  0.016973   \n",
       "753  2018-12-28  0.025541  0.011025  0.007857  0.014097  0.020565  0.020779   \n",
       "\n",
       "          FXE       FXI       FXY  ...       XLF       XLI       XLK  \\\n",
       "0   -0.002375 -0.009553 -0.003428  ... -0.023686 -0.024645 -0.019757   \n",
       "1   -0.000735  0.019362  0.005734  ...  0.003849  0.044187  0.049763   \n",
       "2   -0.001553 -0.000144  0.002334  ... -0.000972 -0.010887 -0.027390   \n",
       "3    0.003108  0.027393  0.004025  ...  0.024156  0.021204  0.016975   \n",
       "4    0.002741  0.005559  0.003677  ...  0.029602 -0.001968 -0.006714   \n",
       "..        ...       ...       ...  ...       ...       ...       ...   \n",
       "749 -0.002566  0.011680 -0.001237  ... -0.052536 -0.026648 -0.070161   \n",
       "750 -0.000743  0.002134 -0.006349  ...  0.000666 -0.027368 -0.101256   \n",
       "751  0.000935  0.021011  0.001450  ... -0.033270 -0.105362 -0.053457   \n",
       "752 -0.002762  0.007095  0.001280  ...  0.025021  0.013005  0.033152   \n",
       "753  0.001501  0.020864 -0.003356  ...  0.024544  0.033024  0.025723   \n",
       "\n",
       "          XLP       XLU       XLV       XLY       XME       XOP       XRT  \n",
       "0   -0.012389 -0.008406 -0.012576 -0.020438 -0.032221 -0.051404 -0.019148  \n",
       "1    0.015300  0.011585  0.019370  0.040846  0.060549  0.047449  0.030016  \n",
       "2    0.010241  0.006655  0.014511 -0.014392  0.037345  0.016062  0.032434  \n",
       "3   -0.000245 -0.002232  0.006271  0.030290  0.024339  0.040401 -0.004622  \n",
       "4    0.003149  0.011234 -0.000091  0.004604  0.027596  0.021323  0.030434  \n",
       "..        ...       ...       ...       ...       ...       ...       ...  \n",
       "749 -0.017729  0.102341 -0.017573 -0.008129 -0.101895  0.012906 -0.089217  \n",
       "750 -0.080759 -0.141095 -0.043487 -0.168685  0.164792 -0.190494 -0.006617  \n",
       "751 -0.002229  0.016203 -0.033066 -0.079741 -0.138356 -0.422292 -0.074324  \n",
       "752  0.012723  0.011532  0.012957  0.020950  0.073538  0.067077  0.016728  \n",
       "753  0.009940  0.020296  0.030015  0.030467  0.024561  0.059169  0.031644  \n",
       "\n",
       "[754 rows x 35 columns]"
      ]
     },
     "execution_count": 2,
     "metadata": {},
     "output_type": "execute_result"
    }
   ],
   "source": [
    "df_strategy = pd.read_csv('strategy_pca.csv')\n",
    "df_strategy"
   ]
  },
  {
   "cell_type": "markdown",
   "metadata": {},
   "source": [
    "### Fitting PCA"
   ]
  },
  {
   "cell_type": "markdown",
   "metadata": {},
   "source": [
    "We are now ready to fit a PCA to these PNL; let's start by scaling our data."
   ]
  },
  {
   "cell_type": "code",
   "execution_count": 3,
   "metadata": {},
   "outputs": [
    {
     "data": {
      "text/plain": [
       "array([[ 0.55349196, -0.7868123 , -0.40985713, ..., -0.53168657,\n",
       "        -1.11237419, -1.01039618],\n",
       "       [ 0.77882186,  1.61951344,  0.71837458, ...,  1.2393787 ,\n",
       "         1.01447345,  1.72395022],\n",
       "       [-0.15822341, -0.58920351, -0.796928  , ...,  0.79640469,\n",
       "         0.33917233,  1.85846243],\n",
       "       ...,\n",
       "       [-5.59881083,  1.08506556,  0.74096939, ..., -2.55791817,\n",
       "        -9.09217992, -4.07915548],\n",
       "       [ 1.17060449,  0.75653352,  0.65627559, ...,  1.48735182,\n",
       "         1.43678679,  0.98492788],\n",
       "       [ 1.93360316,  0.50215785,  0.40666156, ...,  0.55234503,\n",
       "         1.26664176,  1.81448399]])"
      ]
     },
     "execution_count": 3,
     "metadata": {},
     "output_type": "execute_result"
    }
   ],
   "source": [
    "from sklearn.preprocessing import scale\n",
    "Xs = scale(df_strategy.loc[:, df_strategy.columns != 'trade_date'])\n",
    "Xs"
   ]
  },
  {
   "cell_type": "markdown",
   "metadata": {},
   "source": [
    "Next we'll fit the five principal components."
   ]
  },
  {
   "cell_type": "code",
   "execution_count": 4,
   "metadata": {},
   "outputs": [
    {
     "data": {
      "text/plain": [
       "PCA(n_components=5)"
      ]
     },
     "execution_count": 4,
     "metadata": {},
     "output_type": "execute_result"
    }
   ],
   "source": [
    "from sklearn.decomposition import PCA\n",
    "pca = PCA(n_components=5)\n",
    "pca.fit(Xs)"
   ]
  },
  {
   "cell_type": "markdown",
   "metadata": {},
   "source": [
    " "
   ]
  },
  {
   "cell_type": "markdown",
   "metadata": {},
   "source": [
    "**Code Challenge:** What is the percent of variance explained of the first principal component?"
   ]
  },
  {
   "cell_type": "code",
   "execution_count": 5,
   "metadata": {},
   "outputs": [
    {
     "data": {
      "text/plain": [
       "array([0.40549205, 0.07136018, 0.04928202, 0.04226379, 0.03745744])"
      ]
     },
     "execution_count": 5,
     "metadata": {},
     "output_type": "execute_result"
    }
   ],
   "source": [
    "pca.explained_variance_ratio_\n",
    "\n",
    "\n",
    "\n",
    "\n"
   ]
  },
  {
   "cell_type": "markdown",
   "metadata": {},
   "source": [
    " "
   ]
  },
  {
   "cell_type": "markdown",
   "metadata": {},
   "source": [
    "### Visualizing Loading Vectors"
   ]
  },
  {
   "cell_type": "markdown",
   "metadata": {},
   "source": [
    "Next, we will visualize the loading vectors.  In order to do this, let's begin by creating a `DataFrame` to hold them."
   ]
  },
  {
   "cell_type": "code",
   "execution_count": 6,
   "metadata": {},
   "outputs": [
    {
     "data": {
      "text/html": [
       "<div>\n",
       "<style scoped>\n",
       "    .dataframe tbody tr th:only-of-type {\n",
       "        vertical-align: middle;\n",
       "    }\n",
       "\n",
       "    .dataframe tbody tr th {\n",
       "        vertical-align: top;\n",
       "    }\n",
       "\n",
       "    .dataframe thead th {\n",
       "        text-align: right;\n",
       "    }\n",
       "</style>\n",
       "<table border=\"1\" class=\"dataframe\">\n",
       "  <thead>\n",
       "    <tr style=\"text-align: right;\">\n",
       "      <th></th>\n",
       "      <th>underlying</th>\n",
       "      <th>PCA1</th>\n",
       "      <th>PCA2</th>\n",
       "      <th>PCA3</th>\n",
       "      <th>PCA4</th>\n",
       "      <th>PCA5</th>\n",
       "    </tr>\n",
       "  </thead>\n",
       "  <tbody>\n",
       "    <tr>\n",
       "      <th>0</th>\n",
       "      <td>DIA</td>\n",
       "      <td>0.239596</td>\n",
       "      <td>-0.169255</td>\n",
       "      <td>0.090099</td>\n",
       "      <td>0.015881</td>\n",
       "      <td>0.005449</td>\n",
       "    </tr>\n",
       "    <tr>\n",
       "      <th>1</th>\n",
       "      <td>EEM</td>\n",
       "      <td>0.222856</td>\n",
       "      <td>0.125506</td>\n",
       "      <td>-0.086065</td>\n",
       "      <td>0.125524</td>\n",
       "      <td>-0.090147</td>\n",
       "    </tr>\n",
       "    <tr>\n",
       "      <th>2</th>\n",
       "      <td>EFA</td>\n",
       "      <td>0.204699</td>\n",
       "      <td>0.084204</td>\n",
       "      <td>-0.030108</td>\n",
       "      <td>0.261105</td>\n",
       "      <td>-0.136498</td>\n",
       "    </tr>\n",
       "    <tr>\n",
       "      <th>3</th>\n",
       "      <td>EWJ</td>\n",
       "      <td>0.141398</td>\n",
       "      <td>0.016346</td>\n",
       "      <td>-0.003907</td>\n",
       "      <td>0.193552</td>\n",
       "      <td>0.016336</td>\n",
       "    </tr>\n",
       "    <tr>\n",
       "      <th>4</th>\n",
       "      <td>EWW</td>\n",
       "      <td>0.146514</td>\n",
       "      <td>0.136714</td>\n",
       "      <td>-0.140148</td>\n",
       "      <td>0.131397</td>\n",
       "      <td>-0.224354</td>\n",
       "    </tr>\n",
       "  </tbody>\n",
       "</table>\n",
       "</div>"
      ],
      "text/plain": [
       "  underlying      PCA1      PCA2      PCA3      PCA4      PCA5\n",
       "0        DIA  0.239596 -0.169255  0.090099  0.015881  0.005449\n",
       "1        EEM  0.222856  0.125506 -0.086065  0.125524 -0.090147\n",
       "2        EFA  0.204699  0.084204 -0.030108  0.261105 -0.136498\n",
       "3        EWJ  0.141398  0.016346 -0.003907  0.193552  0.016336\n",
       "4        EWW  0.146514  0.136714 -0.140148  0.131397 -0.224354"
      ]
     },
     "execution_count": 6,
     "metadata": {},
     "output_type": "execute_result"
    }
   ],
   "source": [
    "df_components = \\\n",
    "    pd.DataFrame({\n",
    "        'underlying':df_strategy.drop(columns=['trade_date']).columns,\n",
    "        'PCA1':-pca.components_[0],\n",
    "        'PCA2':-pca.components_[1],\n",
    "        'PCA3':-pca.components_[2],\n",
    "        'PCA4':-pca.components_[3],\n",
    "        'PCA5':-pca.components_[4],\n",
    "    })\n",
    "df_components.head()"
   ]
  },
  {
   "cell_type": "markdown",
   "metadata": {},
   "source": [
    "Let's also add in the grouping from the cluster analysis we performed in the previous tutorial.  We being by reading in a CSVs that contains the grouping."
   ]
  },
  {
   "cell_type": "code",
   "execution_count": 7,
   "metadata": {},
   "outputs": [
    {
     "data": {
      "text/html": [
       "<div>\n",
       "<style scoped>\n",
       "    .dataframe tbody tr th:only-of-type {\n",
       "        vertical-align: middle;\n",
       "    }\n",
       "\n",
       "    .dataframe tbody tr th {\n",
       "        vertical-align: top;\n",
       "    }\n",
       "\n",
       "    .dataframe thead th {\n",
       "        text-align: right;\n",
       "    }\n",
       "</style>\n",
       "<table border=\"1\" class=\"dataframe\">\n",
       "  <thead>\n",
       "    <tr style=\"text-align: right;\">\n",
       "      <th></th>\n",
       "      <th>underlying</th>\n",
       "      <th>stdev</th>\n",
       "      <th>spy_stdev</th>\n",
       "      <th>corr_spy</th>\n",
       "      <th>beta</th>\n",
       "      <th>pnl</th>\n",
       "      <th>group</th>\n",
       "      <th>name</th>\n",
       "    </tr>\n",
       "  </thead>\n",
       "  <tbody>\n",
       "    <tr>\n",
       "      <th>0</th>\n",
       "      <td>EEM</td>\n",
       "      <td>0.025753</td>\n",
       "      <td>0.014772</td>\n",
       "      <td>0.550046</td>\n",
       "      <td>0.958898</td>\n",
       "      <td>0.457594</td>\n",
       "      <td>0</td>\n",
       "      <td>ISHARES TR MSCI EMG MKT ETF</td>\n",
       "    </tr>\n",
       "    <tr>\n",
       "      <th>1</th>\n",
       "      <td>EWZ</td>\n",
       "      <td>0.045733</td>\n",
       "      <td>0.014772</td>\n",
       "      <td>0.388278</td>\n",
       "      <td>1.202046</td>\n",
       "      <td>4.057360</td>\n",
       "      <td>0</td>\n",
       "      <td>ISHARES INC MSCI BRAZIL ETF</td>\n",
       "    </tr>\n",
       "    <tr>\n",
       "      <th>2</th>\n",
       "      <td>FXI</td>\n",
       "      <td>0.030682</td>\n",
       "      <td>0.014772</td>\n",
       "      <td>0.433179</td>\n",
       "      <td>0.899703</td>\n",
       "      <td>1.700224</td>\n",
       "      <td>0</td>\n",
       "      <td>ISHARES TR CHINA LG-CAP ETF</td>\n",
       "    </tr>\n",
       "    <tr>\n",
       "      <th>3</th>\n",
       "      <td>IWM</td>\n",
       "      <td>0.019681</td>\n",
       "      <td>0.014772</td>\n",
       "      <td>0.756170</td>\n",
       "      <td>1.007407</td>\n",
       "      <td>2.827085</td>\n",
       "      <td>0</td>\n",
       "      <td>ISHARES TR RUSSELL 2000 ETF</td>\n",
       "    </tr>\n",
       "    <tr>\n",
       "      <th>4</th>\n",
       "      <td>QQQ</td>\n",
       "      <td>0.016196</td>\n",
       "      <td>0.014772</td>\n",
       "      <td>0.737255</td>\n",
       "      <td>0.808304</td>\n",
       "      <td>1.240073</td>\n",
       "      <td>0</td>\n",
       "      <td>INVESCO QQQ TR UNIT SER 1</td>\n",
       "    </tr>\n",
       "  </tbody>\n",
       "</table>\n",
       "</div>"
      ],
      "text/plain": [
       "  underlying     stdev  spy_stdev  corr_spy      beta       pnl  group  \\\n",
       "0        EEM  0.025753   0.014772  0.550046  0.958898  0.457594      0   \n",
       "1        EWZ  0.045733   0.014772  0.388278  1.202046  4.057360      0   \n",
       "2        FXI  0.030682   0.014772  0.433179  0.899703  1.700224      0   \n",
       "3        IWM  0.019681   0.014772  0.756170  1.007407  2.827085      0   \n",
       "4        QQQ  0.016196   0.014772  0.737255  0.808304  1.240073      0   \n",
       "\n",
       "                          name  \n",
       "0  ISHARES TR MSCI EMG MKT ETF  \n",
       "1  ISHARES INC MSCI BRAZIL ETF  \n",
       "2  ISHARES TR CHINA LG-CAP ETF  \n",
       "3  ISHARES TR RUSSELL 2000 ETF  \n",
       "4    INVESCO QQQ TR UNIT SER 1  "
      ]
     },
     "execution_count": 7,
     "metadata": {},
     "output_type": "execute_result"
    }
   ],
   "source": [
    "df_cluster = pd.read_csv('cluster_analysis.csv')\n",
    "df_cluster.head()"
   ]
  },
  {
   "cell_type": "markdown",
   "metadata": {},
   "source": [
    "Now we can join in the groupings to `df_components`."
   ]
  },
  {
   "cell_type": "code",
   "execution_count": 8,
   "metadata": {},
   "outputs": [
    {
     "data": {
      "text/html": [
       "<div>\n",
       "<style scoped>\n",
       "    .dataframe tbody tr th:only-of-type {\n",
       "        vertical-align: middle;\n",
       "    }\n",
       "\n",
       "    .dataframe tbody tr th {\n",
       "        vertical-align: top;\n",
       "    }\n",
       "\n",
       "    .dataframe thead th {\n",
       "        text-align: right;\n",
       "    }\n",
       "</style>\n",
       "<table border=\"1\" class=\"dataframe\">\n",
       "  <thead>\n",
       "    <tr style=\"text-align: right;\">\n",
       "      <th></th>\n",
       "      <th>underlying</th>\n",
       "      <th>PCA1</th>\n",
       "      <th>PCA2</th>\n",
       "      <th>PCA3</th>\n",
       "      <th>PCA4</th>\n",
       "      <th>PCA5</th>\n",
       "      <th>group</th>\n",
       "    </tr>\n",
       "  </thead>\n",
       "  <tbody>\n",
       "    <tr>\n",
       "      <th>0</th>\n",
       "      <td>DIA</td>\n",
       "      <td>0.239596</td>\n",
       "      <td>-0.169255</td>\n",
       "      <td>0.090099</td>\n",
       "      <td>0.015881</td>\n",
       "      <td>0.005449</td>\n",
       "      <td>1</td>\n",
       "    </tr>\n",
       "    <tr>\n",
       "      <th>1</th>\n",
       "      <td>EEM</td>\n",
       "      <td>0.222856</td>\n",
       "      <td>0.125506</td>\n",
       "      <td>-0.086065</td>\n",
       "      <td>0.125524</td>\n",
       "      <td>-0.090147</td>\n",
       "      <td>0</td>\n",
       "    </tr>\n",
       "    <tr>\n",
       "      <th>2</th>\n",
       "      <td>EFA</td>\n",
       "      <td>0.204699</td>\n",
       "      <td>0.084204</td>\n",
       "      <td>-0.030108</td>\n",
       "      <td>0.261105</td>\n",
       "      <td>-0.136498</td>\n",
       "      <td>2</td>\n",
       "    </tr>\n",
       "    <tr>\n",
       "      <th>3</th>\n",
       "      <td>EWJ</td>\n",
       "      <td>0.141398</td>\n",
       "      <td>0.016346</td>\n",
       "      <td>-0.003907</td>\n",
       "      <td>0.193552</td>\n",
       "      <td>0.016336</td>\n",
       "      <td>2</td>\n",
       "    </tr>\n",
       "    <tr>\n",
       "      <th>4</th>\n",
       "      <td>EWW</td>\n",
       "      <td>0.146514</td>\n",
       "      <td>0.136714</td>\n",
       "      <td>-0.140148</td>\n",
       "      <td>0.131397</td>\n",
       "      <td>-0.224354</td>\n",
       "      <td>2</td>\n",
       "    </tr>\n",
       "  </tbody>\n",
       "</table>\n",
       "</div>"
      ],
      "text/plain": [
       "  underlying      PCA1      PCA2      PCA3      PCA4      PCA5  group\n",
       "0        DIA  0.239596 -0.169255  0.090099  0.015881  0.005449      1\n",
       "1        EEM  0.222856  0.125506 -0.086065  0.125524 -0.090147      0\n",
       "2        EFA  0.204699  0.084204 -0.030108  0.261105 -0.136498      2\n",
       "3        EWJ  0.141398  0.016346 -0.003907  0.193552  0.016336      2\n",
       "4        EWW  0.146514  0.136714 -0.140148  0.131397 -0.224354      2"
      ]
     },
     "execution_count": 8,
     "metadata": {},
     "output_type": "execute_result"
    }
   ],
   "source": [
    "df_components = \\\n",
    "    (\n",
    "    df_components\n",
    "        .merge(df_cluster[['underlying','group']], how='inner', on='underlying')\n",
    "    )\n",
    "df_components.head()"
   ]
  },
  {
   "cell_type": "markdown",
   "metadata": {},
   "source": [
    "And finally we can use `seaborn` to visualize the first component."
   ]
  },
  {
   "cell_type": "code",
   "execution_count": 9,
   "metadata": {},
   "outputs": [
    {
     "data": {
      "image/png": "[encoded data removed]",
      "text/plain": [
       "<Figure size 1122.38x360 with 1 Axes>"
      ]
     },
     "metadata": {},
     "output_type": "display_data"
    }
   ],
   "source": [
    "with sns.axes_style('darkgrid'):\n",
    "    g = sns.catplot(\n",
    "        x='underlying',\n",
    "        y='PCA1',\n",
    "        kind='bar',\n",
    "        color='black',\n",
    "        alpha=0.75,\n",
    "        height=5,\n",
    "        aspect = 3,\n",
    "        data=df_components.sort_values(['group', 'underlying']),\n",
    "        hue='group',\n",
    "        palette=[\"b\", \"r\", 'k', 'y'],\n",
    "        dodge=False,\n",
    "    );\n",
    "    plt.subplots_adjust(top=0.93);\n",
    "    g.fig.suptitle('First Principal Loading Vector');"
   ]
  },
  {
   "cell_type": "markdown",
   "metadata": {},
   "source": [
    " \n"
   ]
  },
  {
   "cell_type": "markdown",
   "metadata": {},
   "source": [
    "**Discussion Question:** Give an interpretation of the first principal component."
   ]
  },
  {
   "cell_type": "code",
   "execution_count": 10,
   "metadata": {},
   "outputs": [],
   "source": [
    "# all underlyings rise and fall together.\n",
    "\n",
    "\n",
    "\n",
    "\n"
   ]
  },
  {
   "cell_type": "markdown",
   "metadata": {},
   "source": [
    "**Coding Challenge:** Graph the other principal components.  Do you see any interesting patterns?"
   ]
  },
  {
   "cell_type": "code",
   "execution_count": 11,
   "metadata": {},
   "outputs": [],
   "source": [
    "# just change the graph above to point to the different components by altering the y arguement.\n",
    "\n",
    "\n",
    "\n",
    "\n",
    "\n"
   ]
  },
  {
   "cell_type": "markdown",
   "metadata": {},
   "source": [
    " "
   ]
  },
  {
   "cell_type": "markdown",
   "metadata": {},
   "source": [
    "### Visualizing Scatter Plots of the Scores"
   ]
  },
  {
   "cell_type": "markdown",
   "metadata": {},
   "source": [
    "Let's now graph the scores of the principal components.  We can access these with the `.transform` attribute."
   ]
  },
  {
   "cell_type": "code",
   "execution_count": 12,
   "metadata": {},
   "outputs": [
    {
     "data": {
      "text/plain": [
       "array([[ 3.89770156,  1.05329955, -0.88139315, -0.36148878, -0.35259153],\n",
       "       [-6.5754689 , -0.40133995, -0.62727694,  1.15803085, -0.03131824],\n",
       "       [-1.2452748 , -0.22061339, -0.46724133,  1.01003836, -0.94834684],\n",
       "       ...,\n",
       "       [11.11022423, -8.77167499, -2.61857397, -8.81981737,  2.31822106],\n",
       "       [-4.13229717,  0.82581991,  0.23276329,  0.80347647, -0.19664648],\n",
       "       [-6.48726307,  1.57631348,  0.07914472,  1.81509163, -0.79816133]])"
      ]
     },
     "execution_count": 12,
     "metadata": {},
     "output_type": "execute_result"
    }
   ],
   "source": [
    "transform = pca.transform(Xs)\n",
    "transform"
   ]
  },
  {
   "cell_type": "markdown",
   "metadata": {},
   "source": [
    " "
   ]
  },
  {
   "cell_type": "markdown",
   "metadata": {},
   "source": [
    "Next, we construct a `DataFrame` with the scores."
   ]
  },
  {
   "cell_type": "code",
   "execution_count": 13,
   "metadata": {},
   "outputs": [
    {
     "data": {
      "image/png": "[encoded data removed]",
      "text/plain": [
       "<Figure size 720x720 with 20 Axes>"
      ]
     },
     "metadata": {
      "needs_background": "light"
     },
     "output_type": "display_data"
    }
   ],
   "source": [
    "df = \\\n",
    "    pd.DataFrame({\n",
    "        'PC1':transform[:,0],\n",
    "        'PC2':transform[:,1],\n",
    "        'PC3':transform[:,2],\n",
    "        'PC4':transform[:,3],\n",
    "    })\n",
    "\n",
    "sns.pairplot(df);"
   ]
  },
  {
   "cell_type": "markdown",
   "metadata": {},
   "source": [
    "  "
   ]
  },
  {
   "cell_type": "markdown",
   "metadata": {},
   "source": [
    "**Discussion Question:** Are you able to extract any insights from these plots?"
   ]
  },
  {
   "cell_type": "code",
   "execution_count": 14,
   "metadata": {},
   "outputs": [],
   "source": [
    "# I can see that the variance of the first principal scores is much higher than the others.\n",
    "\n",
    "\n",
    "\n",
    "\n"
   ]
  }
 ],
 "metadata": {
  "kernelspec": {
   "display_name": "Python 3",
   "language": "python",
   "name": "python3"
  },
  "language_info": {
   "codemirror_mode": {
    "name": "ipython",
    "version": 3
   },
   "file_extension": ".py",
   "mimetype": "text/x-python",
   "name": "python",
   "nbconvert_exporter": "python",
   "pygments_lexer": "ipython3",
   "version": "3.8.5"
  }
 },
 "nbformat": 4,
 "nbformat_minor": 4
}
