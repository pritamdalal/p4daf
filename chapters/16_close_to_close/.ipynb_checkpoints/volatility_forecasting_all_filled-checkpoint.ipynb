{
 "cells": [
  {
   "cell_type": "markdown",
   "metadata": {},
   "source": [
    "# Volatility Measurement and Forecasting"
   ]
  },
  {
   "cell_type": "markdown",
   "metadata": {},
   "source": [
    "The purpose of this tutorial is to introduce various estimators for forecasting volatility.  This material is closely related to a the following white papers:\n",
    "\n",
    "1. *Volatility Modeling and Trading* - Artur Sepp, 2016\n",
    "\n",
    "2. *Measuring Historic Volatility* - Colin Bennet & Miguel Gil, 2012\n",
    "\n",
    "Our main objective will be to implement the code for various historical volatility estimators.  To test our work, we will attempt to replicate some of Sepp's results for *weekly* volatility forecasts for SPY (see pp 38-43)."
   ]
  },
  {
   "cell_type": "markdown",
   "metadata": {},
   "source": [
    "## Loading Packages"
   ]
  },
  {
   "cell_type": "markdown",
   "metadata": {},
   "source": [
    "Let's begin by loading the packages that we will need."
   ]
  },
  {
   "cell_type": "code",
   "execution_count": 1,
   "metadata": {},
   "outputs": [],
   "source": [
    "import pandas as pd\n",
    "import pandas_datareader as pdr\n",
    "import numpy as np\n",
    "import sklearn\n",
    "pd.options.display.max_rows = 10"
   ]
  },
  {
   "cell_type": "markdown",
   "metadata": {},
   "source": [
    "## Reading-In SPY Data From Yahoo Finance"
   ]
  },
  {
   "cell_type": "markdown",
   "metadata": {},
   "source": [
    "Sepp's analysis covers data starting from 1/1/2005 and ending on 4/2/2016.  Let's grab these SPY prices from Yahoo Finance using `pandas_datareader`."
   ]
  },
  {
   "cell_type": "code",
   "execution_count": 2,
   "metadata": {},
   "outputs": [
    {
     "data": {
      "text/html": [
       "<div>\n",
       "<style scoped>\n",
       "    .dataframe tbody tr th:only-of-type {\n",
       "        vertical-align: middle;\n",
       "    }\n",
       "\n",
       "    .dataframe tbody tr th {\n",
       "        vertical-align: top;\n",
       "    }\n",
       "\n",
       "    .dataframe thead th {\n",
       "        text-align: right;\n",
       "    }\n",
       "</style>\n",
       "<table border=\"1\" class=\"dataframe\">\n",
       "  <thead>\n",
       "    <tr style=\"text-align: right;\">\n",
       "      <th></th>\n",
       "      <th>ticker</th>\n",
       "      <th>trade_date</th>\n",
       "      <th>high</th>\n",
       "      <th>low</th>\n",
       "      <th>open</th>\n",
       "      <th>close</th>\n",
       "      <th>volume</th>\n",
       "      <th>adj_close</th>\n",
       "    </tr>\n",
       "  </thead>\n",
       "  <tbody>\n",
       "    <tr>\n",
       "      <th>0</th>\n",
       "      <td>SPY</td>\n",
       "      <td>2004-12-31</td>\n",
       "      <td>121.660004</td>\n",
       "      <td>120.800003</td>\n",
       "      <td>121.300003</td>\n",
       "      <td>120.870003</td>\n",
       "      <td>28648800.0</td>\n",
       "      <td>87.549049</td>\n",
       "    </tr>\n",
       "    <tr>\n",
       "      <th>1</th>\n",
       "      <td>SPY</td>\n",
       "      <td>2005-01-03</td>\n",
       "      <td>121.760002</td>\n",
       "      <td>119.900002</td>\n",
       "      <td>121.559998</td>\n",
       "      <td>120.300003</td>\n",
       "      <td>55748000.0</td>\n",
       "      <td>87.136215</td>\n",
       "    </tr>\n",
       "    <tr>\n",
       "      <th>2</th>\n",
       "      <td>SPY</td>\n",
       "      <td>2005-01-04</td>\n",
       "      <td>120.540001</td>\n",
       "      <td>118.440002</td>\n",
       "      <td>120.459999</td>\n",
       "      <td>118.830002</td>\n",
       "      <td>69167600.0</td>\n",
       "      <td>86.071442</td>\n",
       "    </tr>\n",
       "    <tr>\n",
       "      <th>3</th>\n",
       "      <td>SPY</td>\n",
       "      <td>2005-01-05</td>\n",
       "      <td>119.250000</td>\n",
       "      <td>118.000000</td>\n",
       "      <td>118.739998</td>\n",
       "      <td>118.010002</td>\n",
       "      <td>65667300.0</td>\n",
       "      <td>85.477493</td>\n",
       "    </tr>\n",
       "    <tr>\n",
       "      <th>4</th>\n",
       "      <td>SPY</td>\n",
       "      <td>2005-01-06</td>\n",
       "      <td>119.150002</td>\n",
       "      <td>118.260002</td>\n",
       "      <td>118.440002</td>\n",
       "      <td>118.610001</td>\n",
       "      <td>47814700.0</td>\n",
       "      <td>85.912079</td>\n",
       "    </tr>\n",
       "    <tr>\n",
       "      <th>...</th>\n",
       "      <td>...</td>\n",
       "      <td>...</td>\n",
       "      <td>...</td>\n",
       "      <td>...</td>\n",
       "      <td>...</td>\n",
       "      <td>...</td>\n",
       "      <td>...</td>\n",
       "      <td>...</td>\n",
       "    </tr>\n",
       "    <tr>\n",
       "      <th>2827</th>\n",
       "      <td>SPY</td>\n",
       "      <td>2016-03-28</td>\n",
       "      <td>203.860001</td>\n",
       "      <td>202.710007</td>\n",
       "      <td>203.610001</td>\n",
       "      <td>203.240005</td>\n",
       "      <td>62408200.0</td>\n",
       "      <td>184.875488</td>\n",
       "    </tr>\n",
       "    <tr>\n",
       "      <th>2828</th>\n",
       "      <td>SPY</td>\n",
       "      <td>2016-03-29</td>\n",
       "      <td>205.250000</td>\n",
       "      <td>202.399994</td>\n",
       "      <td>202.759995</td>\n",
       "      <td>205.119995</td>\n",
       "      <td>92922900.0</td>\n",
       "      <td>186.585632</td>\n",
       "    </tr>\n",
       "    <tr>\n",
       "      <th>2829</th>\n",
       "      <td>SPY</td>\n",
       "      <td>2016-03-30</td>\n",
       "      <td>206.869995</td>\n",
       "      <td>205.589996</td>\n",
       "      <td>206.300003</td>\n",
       "      <td>206.020004</td>\n",
       "      <td>86365300.0</td>\n",
       "      <td>187.404327</td>\n",
       "    </tr>\n",
       "    <tr>\n",
       "      <th>2830</th>\n",
       "      <td>SPY</td>\n",
       "      <td>2016-03-31</td>\n",
       "      <td>206.410004</td>\n",
       "      <td>205.330002</td>\n",
       "      <td>205.910004</td>\n",
       "      <td>205.520004</td>\n",
       "      <td>94584100.0</td>\n",
       "      <td>186.949509</td>\n",
       "    </tr>\n",
       "    <tr>\n",
       "      <th>2831</th>\n",
       "      <td>SPY</td>\n",
       "      <td>2016-04-01</td>\n",
       "      <td>207.139999</td>\n",
       "      <td>203.979996</td>\n",
       "      <td>204.350006</td>\n",
       "      <td>206.919998</td>\n",
       "      <td>114423500.0</td>\n",
       "      <td>188.222961</td>\n",
       "    </tr>\n",
       "  </tbody>\n",
       "</table>\n",
       "<p>2832 rows × 8 columns</p>\n",
       "</div>"
      ],
      "text/plain": [
       "     ticker trade_date        high         low        open       close  \\\n",
       "0       SPY 2004-12-31  121.660004  120.800003  121.300003  120.870003   \n",
       "1       SPY 2005-01-03  121.760002  119.900002  121.559998  120.300003   \n",
       "2       SPY 2005-01-04  120.540001  118.440002  120.459999  118.830002   \n",
       "3       SPY 2005-01-05  119.250000  118.000000  118.739998  118.010002   \n",
       "4       SPY 2005-01-06  119.150002  118.260002  118.440002  118.610001   \n",
       "...     ...        ...         ...         ...         ...         ...   \n",
       "2827    SPY 2016-03-28  203.860001  202.710007  203.610001  203.240005   \n",
       "2828    SPY 2016-03-29  205.250000  202.399994  202.759995  205.119995   \n",
       "2829    SPY 2016-03-30  206.869995  205.589996  206.300003  206.020004   \n",
       "2830    SPY 2016-03-31  206.410004  205.330002  205.910004  205.520004   \n",
       "2831    SPY 2016-04-01  207.139999  203.979996  204.350006  206.919998   \n",
       "\n",
       "           volume   adj_close  \n",
       "0      28648800.0   87.549049  \n",
       "1      55748000.0   87.136215  \n",
       "2      69167600.0   86.071442  \n",
       "3      65667300.0   85.477493  \n",
       "4      47814700.0   85.912079  \n",
       "...           ...         ...  \n",
       "2827   62408200.0  184.875488  \n",
       "2828   92922900.0  186.585632  \n",
       "2829   86365300.0  187.404327  \n",
       "2830   94584100.0  186.949509  \n",
       "2831  114423500.0  188.222961  \n",
       "\n",
       "[2832 rows x 8 columns]"
      ]
     },
     "execution_count": 2,
     "metadata": {},
     "output_type": "execute_result"
    }
   ],
   "source": [
    "df_spy = pdr.get_data_yahoo('SPY', start = '2004-12-31', end = '2016-04-02').reset_index()\n",
    "df_spy.columns = df_spy.columns.str.lower().str.replace(' ', '_')\n",
    "df_spy.rename(columns = {'date':'trade_date'}, inplace = True)\n",
    "df_spy.insert(0, 'ticker', 'SPY')\n",
    "df_spy"
   ]
  },
  {
   "cell_type": "markdown",
   "metadata": {},
   "source": [
    "## Calculating Daily Returns & Realized Volatility"
   ]
  },
  {
   "cell_type": "markdown",
   "metadata": {},
   "source": [
    "The volatility estimators that we will implement will involve various daily returns.  Let's calculate them in the following block of code."
   ]
  },
  {
   "cell_type": "code",
   "execution_count": 3,
   "metadata": {},
   "outputs": [
    {
     "data": {
      "text/html": [
       "<div>\n",
       "<style scoped>\n",
       "    .dataframe tbody tr th:only-of-type {\n",
       "        vertical-align: middle;\n",
       "    }\n",
       "\n",
       "    .dataframe tbody tr th {\n",
       "        vertical-align: top;\n",
       "    }\n",
       "\n",
       "    .dataframe thead th {\n",
       "        text-align: right;\n",
       "    }\n",
       "</style>\n",
       "<table border=\"1\" class=\"dataframe\">\n",
       "  <thead>\n",
       "    <tr style=\"text-align: right;\">\n",
       "      <th></th>\n",
       "      <th>ticker</th>\n",
       "      <th>trade_date</th>\n",
       "      <th>high</th>\n",
       "      <th>low</th>\n",
       "      <th>open</th>\n",
       "      <th>close</th>\n",
       "      <th>volume</th>\n",
       "      <th>adj_close</th>\n",
       "      <th>dly_ret</th>\n",
       "      <th>overnight</th>\n",
       "      <th>open_close</th>\n",
       "    </tr>\n",
       "  </thead>\n",
       "  <tbody>\n",
       "    <tr>\n",
       "      <th>0</th>\n",
       "      <td>SPY</td>\n",
       "      <td>2005-01-03</td>\n",
       "      <td>121.760002</td>\n",
       "      <td>119.900002</td>\n",
       "      <td>121.559998</td>\n",
       "      <td>120.300003</td>\n",
       "      <td>55748000.0</td>\n",
       "      <td>87.136215</td>\n",
       "      <td>-0.004727</td>\n",
       "      <td>0.005692</td>\n",
       "      <td>-0.010419</td>\n",
       "    </tr>\n",
       "    <tr>\n",
       "      <th>1</th>\n",
       "      <td>SPY</td>\n",
       "      <td>2005-01-04</td>\n",
       "      <td>120.540001</td>\n",
       "      <td>118.440002</td>\n",
       "      <td>120.459999</td>\n",
       "      <td>118.830002</td>\n",
       "      <td>69167600.0</td>\n",
       "      <td>86.071442</td>\n",
       "      <td>-0.012295</td>\n",
       "      <td>0.001329</td>\n",
       "      <td>-0.013624</td>\n",
       "    </tr>\n",
       "    <tr>\n",
       "      <th>2</th>\n",
       "      <td>SPY</td>\n",
       "      <td>2005-01-05</td>\n",
       "      <td>119.250000</td>\n",
       "      <td>118.000000</td>\n",
       "      <td>118.739998</td>\n",
       "      <td>118.010002</td>\n",
       "      <td>65667300.0</td>\n",
       "      <td>85.477493</td>\n",
       "      <td>-0.006925</td>\n",
       "      <td>-0.000758</td>\n",
       "      <td>-0.006167</td>\n",
       "    </tr>\n",
       "    <tr>\n",
       "      <th>3</th>\n",
       "      <td>SPY</td>\n",
       "      <td>2005-01-06</td>\n",
       "      <td>119.150002</td>\n",
       "      <td>118.260002</td>\n",
       "      <td>118.440002</td>\n",
       "      <td>118.610001</td>\n",
       "      <td>47814700.0</td>\n",
       "      <td>85.912079</td>\n",
       "      <td>0.005071</td>\n",
       "      <td>0.003637</td>\n",
       "      <td>0.001434</td>\n",
       "    </tr>\n",
       "    <tr>\n",
       "      <th>4</th>\n",
       "      <td>SPY</td>\n",
       "      <td>2005-01-07</td>\n",
       "      <td>119.230003</td>\n",
       "      <td>118.129997</td>\n",
       "      <td>118.970001</td>\n",
       "      <td>118.440002</td>\n",
       "      <td>55847700.0</td>\n",
       "      <td>85.788956</td>\n",
       "      <td>-0.001434</td>\n",
       "      <td>0.003031</td>\n",
       "      <td>-0.004465</td>\n",
       "    </tr>\n",
       "    <tr>\n",
       "      <th>...</th>\n",
       "      <td>...</td>\n",
       "      <td>...</td>\n",
       "      <td>...</td>\n",
       "      <td>...</td>\n",
       "      <td>...</td>\n",
       "      <td>...</td>\n",
       "      <td>...</td>\n",
       "      <td>...</td>\n",
       "      <td>...</td>\n",
       "      <td>...</td>\n",
       "      <td>...</td>\n",
       "    </tr>\n",
       "    <tr>\n",
       "      <th>2826</th>\n",
       "      <td>SPY</td>\n",
       "      <td>2016-03-28</td>\n",
       "      <td>203.860001</td>\n",
       "      <td>202.710007</td>\n",
       "      <td>203.610001</td>\n",
       "      <td>203.240005</td>\n",
       "      <td>62408200.0</td>\n",
       "      <td>184.875488</td>\n",
       "      <td>0.000591</td>\n",
       "      <td>0.002409</td>\n",
       "      <td>-0.001819</td>\n",
       "    </tr>\n",
       "    <tr>\n",
       "      <th>2827</th>\n",
       "      <td>SPY</td>\n",
       "      <td>2016-03-29</td>\n",
       "      <td>205.250000</td>\n",
       "      <td>202.399994</td>\n",
       "      <td>202.759995</td>\n",
       "      <td>205.119995</td>\n",
       "      <td>92922900.0</td>\n",
       "      <td>186.585632</td>\n",
       "      <td>0.009208</td>\n",
       "      <td>-0.002365</td>\n",
       "      <td>0.011572</td>\n",
       "    </tr>\n",
       "    <tr>\n",
       "      <th>2828</th>\n",
       "      <td>SPY</td>\n",
       "      <td>2016-03-30</td>\n",
       "      <td>206.869995</td>\n",
       "      <td>205.589996</td>\n",
       "      <td>206.300003</td>\n",
       "      <td>206.020004</td>\n",
       "      <td>86365300.0</td>\n",
       "      <td>187.404327</td>\n",
       "      <td>0.004378</td>\n",
       "      <td>0.005736</td>\n",
       "      <td>-0.001358</td>\n",
       "    </tr>\n",
       "    <tr>\n",
       "      <th>2829</th>\n",
       "      <td>SPY</td>\n",
       "      <td>2016-03-31</td>\n",
       "      <td>206.410004</td>\n",
       "      <td>205.330002</td>\n",
       "      <td>205.910004</td>\n",
       "      <td>205.520004</td>\n",
       "      <td>94584100.0</td>\n",
       "      <td>186.949509</td>\n",
       "      <td>-0.002430</td>\n",
       "      <td>-0.000534</td>\n",
       "      <td>-0.001896</td>\n",
       "    </tr>\n",
       "    <tr>\n",
       "      <th>2830</th>\n",
       "      <td>SPY</td>\n",
       "      <td>2016-04-01</td>\n",
       "      <td>207.139999</td>\n",
       "      <td>203.979996</td>\n",
       "      <td>204.350006</td>\n",
       "      <td>206.919998</td>\n",
       "      <td>114423500.0</td>\n",
       "      <td>188.222961</td>\n",
       "      <td>0.006789</td>\n",
       "      <td>-0.005709</td>\n",
       "      <td>0.012498</td>\n",
       "    </tr>\n",
       "  </tbody>\n",
       "</table>\n",
       "<p>2831 rows × 11 columns</p>\n",
       "</div>"
      ],
      "text/plain": [
       "     ticker trade_date        high         low        open       close  \\\n",
       "0       SPY 2005-01-03  121.760002  119.900002  121.559998  120.300003   \n",
       "1       SPY 2005-01-04  120.540001  118.440002  120.459999  118.830002   \n",
       "2       SPY 2005-01-05  119.250000  118.000000  118.739998  118.010002   \n",
       "3       SPY 2005-01-06  119.150002  118.260002  118.440002  118.610001   \n",
       "4       SPY 2005-01-07  119.230003  118.129997  118.970001  118.440002   \n",
       "...     ...        ...         ...         ...         ...         ...   \n",
       "2826    SPY 2016-03-28  203.860001  202.710007  203.610001  203.240005   \n",
       "2827    SPY 2016-03-29  205.250000  202.399994  202.759995  205.119995   \n",
       "2828    SPY 2016-03-30  206.869995  205.589996  206.300003  206.020004   \n",
       "2829    SPY 2016-03-31  206.410004  205.330002  205.910004  205.520004   \n",
       "2830    SPY 2016-04-01  207.139999  203.979996  204.350006  206.919998   \n",
       "\n",
       "           volume   adj_close   dly_ret  overnight  open_close  \n",
       "0      55748000.0   87.136215 -0.004727   0.005692   -0.010419  \n",
       "1      69167600.0   86.071442 -0.012295   0.001329   -0.013624  \n",
       "2      65667300.0   85.477493 -0.006925  -0.000758   -0.006167  \n",
       "3      47814700.0   85.912079  0.005071   0.003637    0.001434  \n",
       "4      55847700.0   85.788956 -0.001434   0.003031   -0.004465  \n",
       "...           ...         ...       ...        ...         ...  \n",
       "2826   62408200.0  184.875488  0.000591   0.002409   -0.001819  \n",
       "2827   92922900.0  186.585632  0.009208  -0.002365    0.011572  \n",
       "2828   86365300.0  187.404327  0.004378   0.005736   -0.001358  \n",
       "2829   94584100.0  186.949509 -0.002430  -0.000534   -0.001896  \n",
       "2830  114423500.0  188.222961  0.006789  -0.005709    0.012498  \n",
       "\n",
       "[2831 rows x 11 columns]"
      ]
     },
     "execution_count": 3,
     "metadata": {},
     "output_type": "execute_result"
    }
   ],
   "source": [
    "# daily (close-to-close)\n",
    "df_spy['dly_ret'] = np.log(df_spy['close']).diff()\n",
    "# overnight (close-to-open)\n",
    "df_spy['overnight'] = np.log(df_spy['open']) - np.log(df_spy['close']).shift(1)\n",
    "# intraday (open-to-close)\n",
    "df_spy['open_close'] = np.log(df_spy['close']) - np.log(df_spy['open'])\n",
    "\n",
    "df_spy = df_spy[1:].reset_index(drop = True)\n",
    "df_spy"
   ]
  },
  {
   "cell_type": "markdown",
   "metadata": {},
   "source": [
    "## Organizing Dates for Backtest"
   ]
  },
  {
   "cell_type": "markdown",
   "metadata": {},
   "source": [
    "Organizing dates is an important step in a historical analysis.  \n",
    "\n",
    "We are performing a weekly analysis, which means that in later steps we will performing aggregation calculations of daily calculations grouped into weeks.  Therefore, we will need to add a column to `df_spy` that will allow us to group by weeks.\n",
    "\n",
    "The key to our approach will be to use the `.dt.weekday` attribute of the `trade_date` columns.  In the following code, the variable `weekday` is a `Series` that contains the weekday associated with each date.  Notice that Monday is encoded by `0` and Friday is encoded by `4`."
   ]
  },
  {
   "cell_type": "code",
   "execution_count": 4,
   "metadata": {},
   "outputs": [
    {
     "data": {
      "text/plain": [
       "0       0\n",
       "1       1\n",
       "2       2\n",
       "3       3\n",
       "4       4\n",
       "       ..\n",
       "2826    0\n",
       "2827    1\n",
       "2828    2\n",
       "2829    3\n",
       "2830    4\n",
       "Name: trade_date, Length: 2831, dtype: int64"
      ]
     },
     "execution_count": 4,
     "metadata": {},
     "output_type": "execute_result"
    }
   ],
   "source": [
    "weekday = df_spy['trade_date'].dt.weekday\n",
    "weekday"
   ]
  },
  {
   "cell_type": "markdown",
   "metadata": {},
   "source": [
    "The following code is a simple `for`-loop that has the effect of creating a week-number for each week."
   ]
  },
  {
   "cell_type": "code",
   "execution_count": 5,
   "metadata": {},
   "outputs": [
    {
     "data": {
      "text/plain": [
       "array([  0,   0,   0, ..., 586, 586, 586])"
      ]
     },
     "execution_count": 5,
     "metadata": {},
     "output_type": "execute_result"
    }
   ],
   "source": [
    "week_num = []\n",
    "ix_week = 0\n",
    "week_num.append(ix_week)\n",
    "for ix in range(0, len(weekday) - 1):\n",
    "    prev_day = weekday[ix]\n",
    "    curr_day = weekday[ix + 1]\n",
    "    if curr_day < prev_day:\n",
    "        ix_week = ix_week + 1\n",
    "    week_num.append(ix_week)\n",
    "np.array(week_num) # I use the array function simply because it looks better when it prints"
   ]
  },
  {
   "cell_type": "markdown",
   "metadata": {},
   "source": [
    "Let's now insert the week numbers into `df_spy`."
   ]
  },
  {
   "cell_type": "code",
   "execution_count": 6,
   "metadata": {},
   "outputs": [
    {
     "data": {
      "text/html": [
       "<div>\n",
       "<style scoped>\n",
       "    .dataframe tbody tr th:only-of-type {\n",
       "        vertical-align: middle;\n",
       "    }\n",
       "\n",
       "    .dataframe tbody tr th {\n",
       "        vertical-align: top;\n",
       "    }\n",
       "\n",
       "    .dataframe thead th {\n",
       "        text-align: right;\n",
       "    }\n",
       "</style>\n",
       "<table border=\"1\" class=\"dataframe\">\n",
       "  <thead>\n",
       "    <tr style=\"text-align: right;\">\n",
       "      <th></th>\n",
       "      <th>ticker</th>\n",
       "      <th>trade_date</th>\n",
       "      <th>week_num</th>\n",
       "      <th>high</th>\n",
       "      <th>low</th>\n",
       "      <th>open</th>\n",
       "      <th>close</th>\n",
       "      <th>volume</th>\n",
       "      <th>adj_close</th>\n",
       "      <th>dly_ret</th>\n",
       "      <th>overnight</th>\n",
       "      <th>open_close</th>\n",
       "    </tr>\n",
       "  </thead>\n",
       "  <tbody>\n",
       "    <tr>\n",
       "      <th>0</th>\n",
       "      <td>SPY</td>\n",
       "      <td>2005-01-03</td>\n",
       "      <td>0</td>\n",
       "      <td>121.760002</td>\n",
       "      <td>119.900002</td>\n",
       "      <td>121.559998</td>\n",
       "      <td>120.300003</td>\n",
       "      <td>55748000.0</td>\n",
       "      <td>87.136215</td>\n",
       "      <td>-0.004727</td>\n",
       "      <td>0.005692</td>\n",
       "      <td>-0.010419</td>\n",
       "    </tr>\n",
       "    <tr>\n",
       "      <th>1</th>\n",
       "      <td>SPY</td>\n",
       "      <td>2005-01-04</td>\n",
       "      <td>0</td>\n",
       "      <td>120.540001</td>\n",
       "      <td>118.440002</td>\n",
       "      <td>120.459999</td>\n",
       "      <td>118.830002</td>\n",
       "      <td>69167600.0</td>\n",
       "      <td>86.071442</td>\n",
       "      <td>-0.012295</td>\n",
       "      <td>0.001329</td>\n",
       "      <td>-0.013624</td>\n",
       "    </tr>\n",
       "    <tr>\n",
       "      <th>2</th>\n",
       "      <td>SPY</td>\n",
       "      <td>2005-01-05</td>\n",
       "      <td>0</td>\n",
       "      <td>119.250000</td>\n",
       "      <td>118.000000</td>\n",
       "      <td>118.739998</td>\n",
       "      <td>118.010002</td>\n",
       "      <td>65667300.0</td>\n",
       "      <td>85.477493</td>\n",
       "      <td>-0.006925</td>\n",
       "      <td>-0.000758</td>\n",
       "      <td>-0.006167</td>\n",
       "    </tr>\n",
       "    <tr>\n",
       "      <th>3</th>\n",
       "      <td>SPY</td>\n",
       "      <td>2005-01-06</td>\n",
       "      <td>0</td>\n",
       "      <td>119.150002</td>\n",
       "      <td>118.260002</td>\n",
       "      <td>118.440002</td>\n",
       "      <td>118.610001</td>\n",
       "      <td>47814700.0</td>\n",
       "      <td>85.912079</td>\n",
       "      <td>0.005071</td>\n",
       "      <td>0.003637</td>\n",
       "      <td>0.001434</td>\n",
       "    </tr>\n",
       "    <tr>\n",
       "      <th>4</th>\n",
       "      <td>SPY</td>\n",
       "      <td>2005-01-07</td>\n",
       "      <td>0</td>\n",
       "      <td>119.230003</td>\n",
       "      <td>118.129997</td>\n",
       "      <td>118.970001</td>\n",
       "      <td>118.440002</td>\n",
       "      <td>55847700.0</td>\n",
       "      <td>85.788956</td>\n",
       "      <td>-0.001434</td>\n",
       "      <td>0.003031</td>\n",
       "      <td>-0.004465</td>\n",
       "    </tr>\n",
       "    <tr>\n",
       "      <th>...</th>\n",
       "      <td>...</td>\n",
       "      <td>...</td>\n",
       "      <td>...</td>\n",
       "      <td>...</td>\n",
       "      <td>...</td>\n",
       "      <td>...</td>\n",
       "      <td>...</td>\n",
       "      <td>...</td>\n",
       "      <td>...</td>\n",
       "      <td>...</td>\n",
       "      <td>...</td>\n",
       "      <td>...</td>\n",
       "    </tr>\n",
       "    <tr>\n",
       "      <th>2826</th>\n",
       "      <td>SPY</td>\n",
       "      <td>2016-03-28</td>\n",
       "      <td>586</td>\n",
       "      <td>203.860001</td>\n",
       "      <td>202.710007</td>\n",
       "      <td>203.610001</td>\n",
       "      <td>203.240005</td>\n",
       "      <td>62408200.0</td>\n",
       "      <td>184.875488</td>\n",
       "      <td>0.000591</td>\n",
       "      <td>0.002409</td>\n",
       "      <td>-0.001819</td>\n",
       "    </tr>\n",
       "    <tr>\n",
       "      <th>2827</th>\n",
       "      <td>SPY</td>\n",
       "      <td>2016-03-29</td>\n",
       "      <td>586</td>\n",
       "      <td>205.250000</td>\n",
       "      <td>202.399994</td>\n",
       "      <td>202.759995</td>\n",
       "      <td>205.119995</td>\n",
       "      <td>92922900.0</td>\n",
       "      <td>186.585632</td>\n",
       "      <td>0.009208</td>\n",
       "      <td>-0.002365</td>\n",
       "      <td>0.011572</td>\n",
       "    </tr>\n",
       "    <tr>\n",
       "      <th>2828</th>\n",
       "      <td>SPY</td>\n",
       "      <td>2016-03-30</td>\n",
       "      <td>586</td>\n",
       "      <td>206.869995</td>\n",
       "      <td>205.589996</td>\n",
       "      <td>206.300003</td>\n",
       "      <td>206.020004</td>\n",
       "      <td>86365300.0</td>\n",
       "      <td>187.404327</td>\n",
       "      <td>0.004378</td>\n",
       "      <td>0.005736</td>\n",
       "      <td>-0.001358</td>\n",
       "    </tr>\n",
       "    <tr>\n",
       "      <th>2829</th>\n",
       "      <td>SPY</td>\n",
       "      <td>2016-03-31</td>\n",
       "      <td>586</td>\n",
       "      <td>206.410004</td>\n",
       "      <td>205.330002</td>\n",
       "      <td>205.910004</td>\n",
       "      <td>205.520004</td>\n",
       "      <td>94584100.0</td>\n",
       "      <td>186.949509</td>\n",
       "      <td>-0.002430</td>\n",
       "      <td>-0.000534</td>\n",
       "      <td>-0.001896</td>\n",
       "    </tr>\n",
       "    <tr>\n",
       "      <th>2830</th>\n",
       "      <td>SPY</td>\n",
       "      <td>2016-04-01</td>\n",
       "      <td>586</td>\n",
       "      <td>207.139999</td>\n",
       "      <td>203.979996</td>\n",
       "      <td>204.350006</td>\n",
       "      <td>206.919998</td>\n",
       "      <td>114423500.0</td>\n",
       "      <td>188.222961</td>\n",
       "      <td>0.006789</td>\n",
       "      <td>-0.005709</td>\n",
       "      <td>0.012498</td>\n",
       "    </tr>\n",
       "  </tbody>\n",
       "</table>\n",
       "<p>2831 rows × 12 columns</p>\n",
       "</div>"
      ],
      "text/plain": [
       "     ticker trade_date  week_num        high         low        open  \\\n",
       "0       SPY 2005-01-03         0  121.760002  119.900002  121.559998   \n",
       "1       SPY 2005-01-04         0  120.540001  118.440002  120.459999   \n",
       "2       SPY 2005-01-05         0  119.250000  118.000000  118.739998   \n",
       "3       SPY 2005-01-06         0  119.150002  118.260002  118.440002   \n",
       "4       SPY 2005-01-07         0  119.230003  118.129997  118.970001   \n",
       "...     ...        ...       ...         ...         ...         ...   \n",
       "2826    SPY 2016-03-28       586  203.860001  202.710007  203.610001   \n",
       "2827    SPY 2016-03-29       586  205.250000  202.399994  202.759995   \n",
       "2828    SPY 2016-03-30       586  206.869995  205.589996  206.300003   \n",
       "2829    SPY 2016-03-31       586  206.410004  205.330002  205.910004   \n",
       "2830    SPY 2016-04-01       586  207.139999  203.979996  204.350006   \n",
       "\n",
       "           close       volume   adj_close   dly_ret  overnight  open_close  \n",
       "0     120.300003   55748000.0   87.136215 -0.004727   0.005692   -0.010419  \n",
       "1     118.830002   69167600.0   86.071442 -0.012295   0.001329   -0.013624  \n",
       "2     118.010002   65667300.0   85.477493 -0.006925  -0.000758   -0.006167  \n",
       "3     118.610001   47814700.0   85.912079  0.005071   0.003637    0.001434  \n",
       "4     118.440002   55847700.0   85.788956 -0.001434   0.003031   -0.004465  \n",
       "...          ...          ...         ...       ...        ...         ...  \n",
       "2826  203.240005   62408200.0  184.875488  0.000591   0.002409   -0.001819  \n",
       "2827  205.119995   92922900.0  186.585632  0.009208  -0.002365    0.011572  \n",
       "2828  206.020004   86365300.0  187.404327  0.004378   0.005736   -0.001358  \n",
       "2829  205.520004   94584100.0  186.949509 -0.002430  -0.000534   -0.001896  \n",
       "2830  206.919998  114423500.0  188.222961  0.006789  -0.005709    0.012498  \n",
       "\n",
       "[2831 rows x 12 columns]"
      ]
     },
     "execution_count": 6,
     "metadata": {},
     "output_type": "execute_result"
    }
   ],
   "source": [
    "df_spy.insert(2, 'week_num', week_num)\n",
    "df_spy"
   ]
  },
  {
   "cell_type": "markdown",
   "metadata": {},
   "source": [
    " "
   ]
  },
  {
   "cell_type": "markdown",
   "metadata": {},
   "source": [
    "**Discussion Question:** The `pandas.Series.dt.week` attribute gives the *week-of-the-year* for a give trade-date.  My initial idea was to use `.dt.week` and `dt.year` for my grouping, but I ran into an issue.  Can you think what the issue was?"
   ]
  },
  {
   "cell_type": "code",
   "execution_count": 7,
   "metadata": {},
   "outputs": [],
   "source": [
    "##> Weeks at the beginning and end of the year may be partial weeks.\n",
    "\n",
    "\n",
    "\n"
   ]
  },
  {
   "cell_type": "markdown",
   "metadata": {},
   "source": [
    " "
   ]
  },
  {
   "cell_type": "markdown",
   "metadata": {},
   "source": [
    "We can now use `groupby()` to calculate the starting and ending dates for each week."
   ]
  },
  {
   "cell_type": "code",
   "execution_count": 8,
   "metadata": {},
   "outputs": [
    {
     "data": {
      "text/html": [
       "<div>\n",
       "<style scoped>\n",
       "    .dataframe tbody tr th:only-of-type {\n",
       "        vertical-align: middle;\n",
       "    }\n",
       "\n",
       "    .dataframe tbody tr th {\n",
       "        vertical-align: top;\n",
       "    }\n",
       "\n",
       "    .dataframe thead th {\n",
       "        text-align: right;\n",
       "    }\n",
       "</style>\n",
       "<table border=\"1\" class=\"dataframe\">\n",
       "  <thead>\n",
       "    <tr style=\"text-align: right;\">\n",
       "      <th></th>\n",
       "      <th>week_num</th>\n",
       "      <th>week_start</th>\n",
       "      <th>week_end</th>\n",
       "    </tr>\n",
       "  </thead>\n",
       "  <tbody>\n",
       "    <tr>\n",
       "      <th>0</th>\n",
       "      <td>0</td>\n",
       "      <td>2005-01-03</td>\n",
       "      <td>2005-01-07</td>\n",
       "    </tr>\n",
       "    <tr>\n",
       "      <th>1</th>\n",
       "      <td>1</td>\n",
       "      <td>2005-01-10</td>\n",
       "      <td>2005-01-14</td>\n",
       "    </tr>\n",
       "    <tr>\n",
       "      <th>2</th>\n",
       "      <td>2</td>\n",
       "      <td>2005-01-18</td>\n",
       "      <td>2005-01-21</td>\n",
       "    </tr>\n",
       "    <tr>\n",
       "      <th>3</th>\n",
       "      <td>3</td>\n",
       "      <td>2005-01-24</td>\n",
       "      <td>2005-01-28</td>\n",
       "    </tr>\n",
       "    <tr>\n",
       "      <th>4</th>\n",
       "      <td>4</td>\n",
       "      <td>2005-01-31</td>\n",
       "      <td>2005-02-04</td>\n",
       "    </tr>\n",
       "    <tr>\n",
       "      <th>...</th>\n",
       "      <td>...</td>\n",
       "      <td>...</td>\n",
       "      <td>...</td>\n",
       "    </tr>\n",
       "    <tr>\n",
       "      <th>582</th>\n",
       "      <td>582</td>\n",
       "      <td>2016-02-29</td>\n",
       "      <td>2016-03-04</td>\n",
       "    </tr>\n",
       "    <tr>\n",
       "      <th>583</th>\n",
       "      <td>583</td>\n",
       "      <td>2016-03-07</td>\n",
       "      <td>2016-03-11</td>\n",
       "    </tr>\n",
       "    <tr>\n",
       "      <th>584</th>\n",
       "      <td>584</td>\n",
       "      <td>2016-03-14</td>\n",
       "      <td>2016-03-18</td>\n",
       "    </tr>\n",
       "    <tr>\n",
       "      <th>585</th>\n",
       "      <td>585</td>\n",
       "      <td>2016-03-21</td>\n",
       "      <td>2016-03-24</td>\n",
       "    </tr>\n",
       "    <tr>\n",
       "      <th>586</th>\n",
       "      <td>586</td>\n",
       "      <td>2016-03-28</td>\n",
       "      <td>2016-04-01</td>\n",
       "    </tr>\n",
       "  </tbody>\n",
       "</table>\n",
       "<p>587 rows × 3 columns</p>\n",
       "</div>"
      ],
      "text/plain": [
       "     week_num week_start   week_end\n",
       "0           0 2005-01-03 2005-01-07\n",
       "1           1 2005-01-10 2005-01-14\n",
       "2           2 2005-01-18 2005-01-21\n",
       "3           3 2005-01-24 2005-01-28\n",
       "4           4 2005-01-31 2005-02-04\n",
       "..        ...        ...        ...\n",
       "582       582 2016-02-29 2016-03-04\n",
       "583       583 2016-03-07 2016-03-11\n",
       "584       584 2016-03-14 2016-03-18\n",
       "585       585 2016-03-21 2016-03-24\n",
       "586       586 2016-03-28 2016-04-01\n",
       "\n",
       "[587 rows x 3 columns]"
      ]
     },
     "execution_count": 8,
     "metadata": {},
     "output_type": "execute_result"
    }
   ],
   "source": [
    "df_start_end = \\\n",
    "    (\n",
    "    df_spy.groupby(['week_num'], as_index = False)[['trade_date']].agg([min, max])['trade_date']\n",
    "    .rename(columns = {'min':'week_start', 'max':'week_end'})\n",
    "    .reset_index()\n",
    "    .rename(columns = {'index':'week_num'})\n",
    "    )\n",
    "df_start_end"
   ]
  },
  {
   "cell_type": "markdown",
   "metadata": {},
   "source": [
    "Let's merge this data into `df_spy`."
   ]
  },
  {
   "cell_type": "code",
   "execution_count": 9,
   "metadata": {},
   "outputs": [
    {
     "data": {
      "text/html": [
       "<div>\n",
       "<style scoped>\n",
       "    .dataframe tbody tr th:only-of-type {\n",
       "        vertical-align: middle;\n",
       "    }\n",
       "\n",
       "    .dataframe tbody tr th {\n",
       "        vertical-align: top;\n",
       "    }\n",
       "\n",
       "    .dataframe thead th {\n",
       "        text-align: right;\n",
       "    }\n",
       "</style>\n",
       "<table border=\"1\" class=\"dataframe\">\n",
       "  <thead>\n",
       "    <tr style=\"text-align: right;\">\n",
       "      <th></th>\n",
       "      <th>ticker</th>\n",
       "      <th>trade_date</th>\n",
       "      <th>week_num</th>\n",
       "      <th>high</th>\n",
       "      <th>low</th>\n",
       "      <th>open</th>\n",
       "      <th>close</th>\n",
       "      <th>volume</th>\n",
       "      <th>adj_close</th>\n",
       "      <th>dly_ret</th>\n",
       "      <th>overnight</th>\n",
       "      <th>open_close</th>\n",
       "      <th>week_start</th>\n",
       "      <th>week_end</th>\n",
       "    </tr>\n",
       "  </thead>\n",
       "  <tbody>\n",
       "    <tr>\n",
       "      <th>0</th>\n",
       "      <td>SPY</td>\n",
       "      <td>2005-01-03</td>\n",
       "      <td>0</td>\n",
       "      <td>121.760002</td>\n",
       "      <td>119.900002</td>\n",
       "      <td>121.559998</td>\n",
       "      <td>120.300003</td>\n",
       "      <td>55748000.0</td>\n",
       "      <td>87.136215</td>\n",
       "      <td>-0.004727</td>\n",
       "      <td>0.005692</td>\n",
       "      <td>-0.010419</td>\n",
       "      <td>2005-01-03</td>\n",
       "      <td>2005-01-07</td>\n",
       "    </tr>\n",
       "    <tr>\n",
       "      <th>1</th>\n",
       "      <td>SPY</td>\n",
       "      <td>2005-01-04</td>\n",
       "      <td>0</td>\n",
       "      <td>120.540001</td>\n",
       "      <td>118.440002</td>\n",
       "      <td>120.459999</td>\n",
       "      <td>118.830002</td>\n",
       "      <td>69167600.0</td>\n",
       "      <td>86.071442</td>\n",
       "      <td>-0.012295</td>\n",
       "      <td>0.001329</td>\n",
       "      <td>-0.013624</td>\n",
       "      <td>2005-01-03</td>\n",
       "      <td>2005-01-07</td>\n",
       "    </tr>\n",
       "    <tr>\n",
       "      <th>2</th>\n",
       "      <td>SPY</td>\n",
       "      <td>2005-01-05</td>\n",
       "      <td>0</td>\n",
       "      <td>119.250000</td>\n",
       "      <td>118.000000</td>\n",
       "      <td>118.739998</td>\n",
       "      <td>118.010002</td>\n",
       "      <td>65667300.0</td>\n",
       "      <td>85.477493</td>\n",
       "      <td>-0.006925</td>\n",
       "      <td>-0.000758</td>\n",
       "      <td>-0.006167</td>\n",
       "      <td>2005-01-03</td>\n",
       "      <td>2005-01-07</td>\n",
       "    </tr>\n",
       "    <tr>\n",
       "      <th>3</th>\n",
       "      <td>SPY</td>\n",
       "      <td>2005-01-06</td>\n",
       "      <td>0</td>\n",
       "      <td>119.150002</td>\n",
       "      <td>118.260002</td>\n",
       "      <td>118.440002</td>\n",
       "      <td>118.610001</td>\n",
       "      <td>47814700.0</td>\n",
       "      <td>85.912079</td>\n",
       "      <td>0.005071</td>\n",
       "      <td>0.003637</td>\n",
       "      <td>0.001434</td>\n",
       "      <td>2005-01-03</td>\n",
       "      <td>2005-01-07</td>\n",
       "    </tr>\n",
       "    <tr>\n",
       "      <th>4</th>\n",
       "      <td>SPY</td>\n",
       "      <td>2005-01-07</td>\n",
       "      <td>0</td>\n",
       "      <td>119.230003</td>\n",
       "      <td>118.129997</td>\n",
       "      <td>118.970001</td>\n",
       "      <td>118.440002</td>\n",
       "      <td>55847700.0</td>\n",
       "      <td>85.788956</td>\n",
       "      <td>-0.001434</td>\n",
       "      <td>0.003031</td>\n",
       "      <td>-0.004465</td>\n",
       "      <td>2005-01-03</td>\n",
       "      <td>2005-01-07</td>\n",
       "    </tr>\n",
       "    <tr>\n",
       "      <th>...</th>\n",
       "      <td>...</td>\n",
       "      <td>...</td>\n",
       "      <td>...</td>\n",
       "      <td>...</td>\n",
       "      <td>...</td>\n",
       "      <td>...</td>\n",
       "      <td>...</td>\n",
       "      <td>...</td>\n",
       "      <td>...</td>\n",
       "      <td>...</td>\n",
       "      <td>...</td>\n",
       "      <td>...</td>\n",
       "      <td>...</td>\n",
       "      <td>...</td>\n",
       "    </tr>\n",
       "    <tr>\n",
       "      <th>2826</th>\n",
       "      <td>SPY</td>\n",
       "      <td>2016-03-28</td>\n",
       "      <td>586</td>\n",
       "      <td>203.860001</td>\n",
       "      <td>202.710007</td>\n",
       "      <td>203.610001</td>\n",
       "      <td>203.240005</td>\n",
       "      <td>62408200.0</td>\n",
       "      <td>184.875488</td>\n",
       "      <td>0.000591</td>\n",
       "      <td>0.002409</td>\n",
       "      <td>-0.001819</td>\n",
       "      <td>2016-03-28</td>\n",
       "      <td>2016-04-01</td>\n",
       "    </tr>\n",
       "    <tr>\n",
       "      <th>2827</th>\n",
       "      <td>SPY</td>\n",
       "      <td>2016-03-29</td>\n",
       "      <td>586</td>\n",
       "      <td>205.250000</td>\n",
       "      <td>202.399994</td>\n",
       "      <td>202.759995</td>\n",
       "      <td>205.119995</td>\n",
       "      <td>92922900.0</td>\n",
       "      <td>186.585632</td>\n",
       "      <td>0.009208</td>\n",
       "      <td>-0.002365</td>\n",
       "      <td>0.011572</td>\n",
       "      <td>2016-03-28</td>\n",
       "      <td>2016-04-01</td>\n",
       "    </tr>\n",
       "    <tr>\n",
       "      <th>2828</th>\n",
       "      <td>SPY</td>\n",
       "      <td>2016-03-30</td>\n",
       "      <td>586</td>\n",
       "      <td>206.869995</td>\n",
       "      <td>205.589996</td>\n",
       "      <td>206.300003</td>\n",
       "      <td>206.020004</td>\n",
       "      <td>86365300.0</td>\n",
       "      <td>187.404327</td>\n",
       "      <td>0.004378</td>\n",
       "      <td>0.005736</td>\n",
       "      <td>-0.001358</td>\n",
       "      <td>2016-03-28</td>\n",
       "      <td>2016-04-01</td>\n",
       "    </tr>\n",
       "    <tr>\n",
       "      <th>2829</th>\n",
       "      <td>SPY</td>\n",
       "      <td>2016-03-31</td>\n",
       "      <td>586</td>\n",
       "      <td>206.410004</td>\n",
       "      <td>205.330002</td>\n",
       "      <td>205.910004</td>\n",
       "      <td>205.520004</td>\n",
       "      <td>94584100.0</td>\n",
       "      <td>186.949509</td>\n",
       "      <td>-0.002430</td>\n",
       "      <td>-0.000534</td>\n",
       "      <td>-0.001896</td>\n",
       "      <td>2016-03-28</td>\n",
       "      <td>2016-04-01</td>\n",
       "    </tr>\n",
       "    <tr>\n",
       "      <th>2830</th>\n",
       "      <td>SPY</td>\n",
       "      <td>2016-04-01</td>\n",
       "      <td>586</td>\n",
       "      <td>207.139999</td>\n",
       "      <td>203.979996</td>\n",
       "      <td>204.350006</td>\n",
       "      <td>206.919998</td>\n",
       "      <td>114423500.0</td>\n",
       "      <td>188.222961</td>\n",
       "      <td>0.006789</td>\n",
       "      <td>-0.005709</td>\n",
       "      <td>0.012498</td>\n",
       "      <td>2016-03-28</td>\n",
       "      <td>2016-04-01</td>\n",
       "    </tr>\n",
       "  </tbody>\n",
       "</table>\n",
       "<p>2831 rows × 14 columns</p>\n",
       "</div>"
      ],
      "text/plain": [
       "     ticker trade_date  week_num        high         low        open  \\\n",
       "0       SPY 2005-01-03         0  121.760002  119.900002  121.559998   \n",
       "1       SPY 2005-01-04         0  120.540001  118.440002  120.459999   \n",
       "2       SPY 2005-01-05         0  119.250000  118.000000  118.739998   \n",
       "3       SPY 2005-01-06         0  119.150002  118.260002  118.440002   \n",
       "4       SPY 2005-01-07         0  119.230003  118.129997  118.970001   \n",
       "...     ...        ...       ...         ...         ...         ...   \n",
       "2826    SPY 2016-03-28       586  203.860001  202.710007  203.610001   \n",
       "2827    SPY 2016-03-29       586  205.250000  202.399994  202.759995   \n",
       "2828    SPY 2016-03-30       586  206.869995  205.589996  206.300003   \n",
       "2829    SPY 2016-03-31       586  206.410004  205.330002  205.910004   \n",
       "2830    SPY 2016-04-01       586  207.139999  203.979996  204.350006   \n",
       "\n",
       "           close       volume   adj_close   dly_ret  overnight  open_close  \\\n",
       "0     120.300003   55748000.0   87.136215 -0.004727   0.005692   -0.010419   \n",
       "1     118.830002   69167600.0   86.071442 -0.012295   0.001329   -0.013624   \n",
       "2     118.010002   65667300.0   85.477493 -0.006925  -0.000758   -0.006167   \n",
       "3     118.610001   47814700.0   85.912079  0.005071   0.003637    0.001434   \n",
       "4     118.440002   55847700.0   85.788956 -0.001434   0.003031   -0.004465   \n",
       "...          ...          ...         ...       ...        ...         ...   \n",
       "2826  203.240005   62408200.0  184.875488  0.000591   0.002409   -0.001819   \n",
       "2827  205.119995   92922900.0  186.585632  0.009208  -0.002365    0.011572   \n",
       "2828  206.020004   86365300.0  187.404327  0.004378   0.005736   -0.001358   \n",
       "2829  205.520004   94584100.0  186.949509 -0.002430  -0.000534   -0.001896   \n",
       "2830  206.919998  114423500.0  188.222961  0.006789  -0.005709    0.012498   \n",
       "\n",
       "     week_start   week_end  \n",
       "0    2005-01-03 2005-01-07  \n",
       "1    2005-01-03 2005-01-07  \n",
       "2    2005-01-03 2005-01-07  \n",
       "3    2005-01-03 2005-01-07  \n",
       "4    2005-01-03 2005-01-07  \n",
       "...         ...        ...  \n",
       "2826 2016-03-28 2016-04-01  \n",
       "2827 2016-03-28 2016-04-01  \n",
       "2828 2016-03-28 2016-04-01  \n",
       "2829 2016-03-28 2016-04-01  \n",
       "2830 2016-03-28 2016-04-01  \n",
       "\n",
       "[2831 rows x 14 columns]"
      ]
     },
     "execution_count": 9,
     "metadata": {},
     "output_type": "execute_result"
    }
   ],
   "source": [
    "df_spy = df_spy.merge(df_start_end)\n",
    "df_spy"
   ]
  },
  {
   "cell_type": "markdown",
   "metadata": {},
   "source": [
    "## Calculating Weekly Realized Volatility"
   ]
  },
  {
   "cell_type": "markdown",
   "metadata": {},
   "source": [
    "Now that we have a `week_num` associated with each `trade_date`, we can use `groupby()` to calculate the realized volatility.\n",
    "\n",
    "These weekly realized volatilities are the labels that we will be predicting later in our analysis."
   ]
  },
  {
   "cell_type": "code",
   "execution_count": 10,
   "metadata": {},
   "outputs": [
    {
     "data": {
      "text/html": [
       "<div>\n",
       "<style scoped>\n",
       "    .dataframe tbody tr th:only-of-type {\n",
       "        vertical-align: middle;\n",
       "    }\n",
       "\n",
       "    .dataframe tbody tr th {\n",
       "        vertical-align: top;\n",
       "    }\n",
       "\n",
       "    .dataframe thead th {\n",
       "        text-align: right;\n",
       "    }\n",
       "</style>\n",
       "<table border=\"1\" class=\"dataframe\">\n",
       "  <thead>\n",
       "    <tr style=\"text-align: right;\">\n",
       "      <th></th>\n",
       "      <th>week_num</th>\n",
       "      <th>week_start</th>\n",
       "      <th>week_end</th>\n",
       "      <th>realized_vol</th>\n",
       "    </tr>\n",
       "  </thead>\n",
       "  <tbody>\n",
       "    <tr>\n",
       "      <th>1</th>\n",
       "      <td>1</td>\n",
       "      <td>2005-01-10</td>\n",
       "      <td>2005-01-14</td>\n",
       "      <td>0.093295</td>\n",
       "    </tr>\n",
       "    <tr>\n",
       "      <th>2</th>\n",
       "      <td>2</td>\n",
       "      <td>2005-01-18</td>\n",
       "      <td>2005-01-21</td>\n",
       "      <td>0.126557</td>\n",
       "    </tr>\n",
       "    <tr>\n",
       "      <th>3</th>\n",
       "      <td>3</td>\n",
       "      <td>2005-01-24</td>\n",
       "      <td>2005-01-28</td>\n",
       "      <td>0.029753</td>\n",
       "    </tr>\n",
       "    <tr>\n",
       "      <th>4</th>\n",
       "      <td>4</td>\n",
       "      <td>2005-01-31</td>\n",
       "      <td>2005-02-04</td>\n",
       "      <td>0.069583</td>\n",
       "    </tr>\n",
       "    <tr>\n",
       "      <th>5</th>\n",
       "      <td>5</td>\n",
       "      <td>2005-02-07</td>\n",
       "      <td>2005-02-11</td>\n",
       "      <td>0.084567</td>\n",
       "    </tr>\n",
       "    <tr>\n",
       "      <th>...</th>\n",
       "      <td>...</td>\n",
       "      <td>...</td>\n",
       "      <td>...</td>\n",
       "      <td>...</td>\n",
       "    </tr>\n",
       "    <tr>\n",
       "      <th>582</th>\n",
       "      <td>582</td>\n",
       "      <td>2016-02-29</td>\n",
       "      <td>2016-03-04</td>\n",
       "      <td>0.159055</td>\n",
       "    </tr>\n",
       "    <tr>\n",
       "      <th>583</th>\n",
       "      <td>583</td>\n",
       "      <td>2016-03-07</td>\n",
       "      <td>2016-03-11</td>\n",
       "      <td>0.137591</td>\n",
       "    </tr>\n",
       "    <tr>\n",
       "      <th>584</th>\n",
       "      <td>584</td>\n",
       "      <td>2016-03-14</td>\n",
       "      <td>2016-03-18</td>\n",
       "      <td>0.057861</td>\n",
       "    </tr>\n",
       "    <tr>\n",
       "      <th>585</th>\n",
       "      <td>585</td>\n",
       "      <td>2016-03-21</td>\n",
       "      <td>2016-03-24</td>\n",
       "      <td>0.048135</td>\n",
       "    </tr>\n",
       "    <tr>\n",
       "      <th>586</th>\n",
       "      <td>586</td>\n",
       "      <td>2016-03-28</td>\n",
       "      <td>2016-04-01</td>\n",
       "      <td>0.066437</td>\n",
       "    </tr>\n",
       "  </tbody>\n",
       "</table>\n",
       "<p>586 rows × 4 columns</p>\n",
       "</div>"
      ],
      "text/plain": [
       "     week_num week_start   week_end  realized_vol\n",
       "1           1 2005-01-10 2005-01-14      0.093295\n",
       "2           2 2005-01-18 2005-01-21      0.126557\n",
       "3           3 2005-01-24 2005-01-28      0.029753\n",
       "4           4 2005-01-31 2005-02-04      0.069583\n",
       "5           5 2005-02-07 2005-02-11      0.084567\n",
       "..        ...        ...        ...           ...\n",
       "582       582 2016-02-29 2016-03-04      0.159055\n",
       "583       583 2016-03-07 2016-03-11      0.137591\n",
       "584       584 2016-03-14 2016-03-18      0.057861\n",
       "585       585 2016-03-21 2016-03-24      0.048135\n",
       "586       586 2016-03-28 2016-04-01      0.066437\n",
       "\n",
       "[586 rows x 4 columns]"
      ]
     },
     "execution_count": 10,
     "metadata": {},
     "output_type": "execute_result"
    }
   ],
   "source": [
    "df_realized = \\\n",
    "    (\n",
    "    df_spy\n",
    "        .groupby(['week_num', 'week_start', 'week_end'], as_index = False)[['dly_ret']].agg(lambda x: np.std(x) * np.sqrt(252))\n",
    "        .rename(columns = {'dly_ret':'realized_vol'})\n",
    "    )\n",
    "df_realized = df_realized[1:]\n",
    "df_realized"
   ]
  },
  {
   "cell_type": "markdown",
   "metadata": {},
   "source": [
    "## Close-to-Close Estimator"
   ]
  },
  {
   "cell_type": "markdown",
   "metadata": {},
   "source": [
    "The first estimator that we will implement is the simlple close-to-close."
   ]
  },
  {
   "cell_type": "code",
   "execution_count": 11,
   "metadata": {},
   "outputs": [],
   "source": [
    "def close_to_close(r):\n",
    "    T = r.shape[0]\n",
    "    r_bar = r.mean()\n",
    "    vol = np.sqrt((1 / (T - 1)) * ((r - r_bar) ** 2).sum()) * np.sqrt(252)\n",
    "    return(vol)"
   ]
  },
  {
   "cell_type": "markdown",
   "metadata": {},
   "source": [
    "Notice that `close_to_close()` is an aggregation function that takes in an array of daily returns and returns back a number.  In order to calculate weekly estimates we use `close_to_close()` as the aggregation function applied to a `.groupby()`."
   ]
  },
  {
   "cell_type": "code",
   "execution_count": 12,
   "metadata": {},
   "outputs": [
    {
     "data": {
      "text/html": [
       "<div>\n",
       "<style scoped>\n",
       "    .dataframe tbody tr th:only-of-type {\n",
       "        vertical-align: middle;\n",
       "    }\n",
       "\n",
       "    .dataframe tbody tr th {\n",
       "        vertical-align: top;\n",
       "    }\n",
       "\n",
       "    .dataframe thead th {\n",
       "        text-align: right;\n",
       "    }\n",
       "</style>\n",
       "<table border=\"1\" class=\"dataframe\">\n",
       "  <thead>\n",
       "    <tr style=\"text-align: right;\">\n",
       "      <th></th>\n",
       "      <th>week_num</th>\n",
       "      <th>week_start</th>\n",
       "      <th>week_end</th>\n",
       "      <th>close_to_close</th>\n",
       "    </tr>\n",
       "  </thead>\n",
       "  <tbody>\n",
       "    <tr>\n",
       "      <th>0</th>\n",
       "      <td>0</td>\n",
       "      <td>2005-01-03</td>\n",
       "      <td>2005-01-07</td>\n",
       "      <td>0.102492</td>\n",
       "    </tr>\n",
       "    <tr>\n",
       "      <th>1</th>\n",
       "      <td>1</td>\n",
       "      <td>2005-01-10</td>\n",
       "      <td>2005-01-14</td>\n",
       "      <td>0.104307</td>\n",
       "    </tr>\n",
       "    <tr>\n",
       "      <th>2</th>\n",
       "      <td>2</td>\n",
       "      <td>2005-01-18</td>\n",
       "      <td>2005-01-21</td>\n",
       "      <td>0.146136</td>\n",
       "    </tr>\n",
       "    <tr>\n",
       "      <th>3</th>\n",
       "      <td>3</td>\n",
       "      <td>2005-01-24</td>\n",
       "      <td>2005-01-28</td>\n",
       "      <td>0.033265</td>\n",
       "    </tr>\n",
       "    <tr>\n",
       "      <th>4</th>\n",
       "      <td>4</td>\n",
       "      <td>2005-01-31</td>\n",
       "      <td>2005-02-04</td>\n",
       "      <td>0.077796</td>\n",
       "    </tr>\n",
       "    <tr>\n",
       "      <th>...</th>\n",
       "      <td>...</td>\n",
       "      <td>...</td>\n",
       "      <td>...</td>\n",
       "      <td>...</td>\n",
       "    </tr>\n",
       "    <tr>\n",
       "      <th>581</th>\n",
       "      <td>581</td>\n",
       "      <td>2016-02-22</td>\n",
       "      <td>2016-02-26</td>\n",
       "      <td>0.175394</td>\n",
       "    </tr>\n",
       "    <tr>\n",
       "      <th>582</th>\n",
       "      <td>582</td>\n",
       "      <td>2016-02-29</td>\n",
       "      <td>2016-03-04</td>\n",
       "      <td>0.177829</td>\n",
       "    </tr>\n",
       "    <tr>\n",
       "      <th>583</th>\n",
       "      <td>583</td>\n",
       "      <td>2016-03-07</td>\n",
       "      <td>2016-03-11</td>\n",
       "      <td>0.153831</td>\n",
       "    </tr>\n",
       "    <tr>\n",
       "      <th>584</th>\n",
       "      <td>584</td>\n",
       "      <td>2016-03-14</td>\n",
       "      <td>2016-03-18</td>\n",
       "      <td>0.064691</td>\n",
       "    </tr>\n",
       "    <tr>\n",
       "      <th>585</th>\n",
       "      <td>585</td>\n",
       "      <td>2016-03-21</td>\n",
       "      <td>2016-03-24</td>\n",
       "      <td>0.055581</td>\n",
       "    </tr>\n",
       "  </tbody>\n",
       "</table>\n",
       "<p>586 rows × 4 columns</p>\n",
       "</div>"
      ],
      "text/plain": [
       "     week_num week_start   week_end  close_to_close\n",
       "0           0 2005-01-03 2005-01-07        0.102492\n",
       "1           1 2005-01-10 2005-01-14        0.104307\n",
       "2           2 2005-01-18 2005-01-21        0.146136\n",
       "3           3 2005-01-24 2005-01-28        0.033265\n",
       "4           4 2005-01-31 2005-02-04        0.077796\n",
       "..        ...        ...        ...             ...\n",
       "581       581 2016-02-22 2016-02-26        0.175394\n",
       "582       582 2016-02-29 2016-03-04        0.177829\n",
       "583       583 2016-03-07 2016-03-11        0.153831\n",
       "584       584 2016-03-14 2016-03-18        0.064691\n",
       "585       585 2016-03-21 2016-03-24        0.055581\n",
       "\n",
       "[586 rows x 4 columns]"
      ]
     },
     "execution_count": 12,
     "metadata": {},
     "output_type": "execute_result"
    }
   ],
   "source": [
    "df_close_to_close = \\\n",
    "    (\n",
    "    df_spy\n",
    "        .groupby(['week_num', 'week_start', 'week_end'], as_index = False)[['dly_ret']]\n",
    "        .agg(close_to_close)\n",
    "        .rename(columns = {'dly_ret':'close_to_close'})\n",
    "    )\n",
    "df_close_to_close = df_close_to_close[0:-1]\n",
    "df_close_to_close"
   ]
  },
  {
   "cell_type": "markdown",
   "metadata": {},
   "source": [
    "**Discussion Question:** Verify that the `.groupby()` above works just fine with out including `week_start` and `week_end`.  If that is the case, then why did I include it?"
   ]
  },
  {
   "cell_type": "code",
   "execution_count": 13,
   "metadata": {},
   "outputs": [
    {
     "data": {
      "text/html": [
       "<div>\n",
       "<style scoped>\n",
       "    .dataframe tbody tr th:only-of-type {\n",
       "        vertical-align: middle;\n",
       "    }\n",
       "\n",
       "    .dataframe tbody tr th {\n",
       "        vertical-align: top;\n",
       "    }\n",
       "\n",
       "    .dataframe thead th {\n",
       "        text-align: right;\n",
       "    }\n",
       "</style>\n",
       "<table border=\"1\" class=\"dataframe\">\n",
       "  <thead>\n",
       "    <tr style=\"text-align: right;\">\n",
       "      <th></th>\n",
       "      <th>week_num</th>\n",
       "      <th>week_start</th>\n",
       "      <th>week_end</th>\n",
       "      <th>close_to_close</th>\n",
       "    </tr>\n",
       "  </thead>\n",
       "  <tbody>\n",
       "    <tr>\n",
       "      <th>0</th>\n",
       "      <td>0</td>\n",
       "      <td>2005-01-03</td>\n",
       "      <td>2005-01-07</td>\n",
       "      <td>0.102492</td>\n",
       "    </tr>\n",
       "    <tr>\n",
       "      <th>1</th>\n",
       "      <td>1</td>\n",
       "      <td>2005-01-10</td>\n",
       "      <td>2005-01-14</td>\n",
       "      <td>0.104307</td>\n",
       "    </tr>\n",
       "    <tr>\n",
       "      <th>2</th>\n",
       "      <td>2</td>\n",
       "      <td>2005-01-18</td>\n",
       "      <td>2005-01-21</td>\n",
       "      <td>0.146136</td>\n",
       "    </tr>\n",
       "    <tr>\n",
       "      <th>3</th>\n",
       "      <td>3</td>\n",
       "      <td>2005-01-24</td>\n",
       "      <td>2005-01-28</td>\n",
       "      <td>0.033265</td>\n",
       "    </tr>\n",
       "    <tr>\n",
       "      <th>4</th>\n",
       "      <td>4</td>\n",
       "      <td>2005-01-31</td>\n",
       "      <td>2005-02-04</td>\n",
       "      <td>0.077796</td>\n",
       "    </tr>\n",
       "    <tr>\n",
       "      <th>...</th>\n",
       "      <td>...</td>\n",
       "      <td>...</td>\n",
       "      <td>...</td>\n",
       "      <td>...</td>\n",
       "    </tr>\n",
       "    <tr>\n",
       "      <th>582</th>\n",
       "      <td>582</td>\n",
       "      <td>2016-02-29</td>\n",
       "      <td>2016-03-04</td>\n",
       "      <td>0.177829</td>\n",
       "    </tr>\n",
       "    <tr>\n",
       "      <th>583</th>\n",
       "      <td>583</td>\n",
       "      <td>2016-03-07</td>\n",
       "      <td>2016-03-11</td>\n",
       "      <td>0.153831</td>\n",
       "    </tr>\n",
       "    <tr>\n",
       "      <th>584</th>\n",
       "      <td>584</td>\n",
       "      <td>2016-03-14</td>\n",
       "      <td>2016-03-18</td>\n",
       "      <td>0.064691</td>\n",
       "    </tr>\n",
       "    <tr>\n",
       "      <th>585</th>\n",
       "      <td>585</td>\n",
       "      <td>2016-03-21</td>\n",
       "      <td>2016-03-24</td>\n",
       "      <td>0.055581</td>\n",
       "    </tr>\n",
       "    <tr>\n",
       "      <th>586</th>\n",
       "      <td>586</td>\n",
       "      <td>2016-03-28</td>\n",
       "      <td>2016-04-01</td>\n",
       "      <td>0.074279</td>\n",
       "    </tr>\n",
       "  </tbody>\n",
       "</table>\n",
       "<p>587 rows × 4 columns</p>\n",
       "</div>"
      ],
      "text/plain": [
       "     week_num week_start   week_end  close_to_close\n",
       "0           0 2005-01-03 2005-01-07        0.102492\n",
       "1           1 2005-01-10 2005-01-14        0.104307\n",
       "2           2 2005-01-18 2005-01-21        0.146136\n",
       "3           3 2005-01-24 2005-01-28        0.033265\n",
       "4           4 2005-01-31 2005-02-04        0.077796\n",
       "..        ...        ...        ...             ...\n",
       "582       582 2016-02-29 2016-03-04        0.177829\n",
       "583       583 2016-03-07 2016-03-11        0.153831\n",
       "584       584 2016-03-14 2016-03-18        0.064691\n",
       "585       585 2016-03-21 2016-03-24        0.055581\n",
       "586       586 2016-03-28 2016-04-01        0.074279\n",
       "\n",
       "[587 rows x 4 columns]"
      ]
     },
     "execution_count": 13,
     "metadata": {},
     "output_type": "execute_result"
    }
   ],
   "source": [
    "(\n",
    "df_spy\n",
    "    .groupby(['week_num', 'week_start', 'week_end'], as_index = False)[['dly_ret']]\n",
    "    .agg(close_to_close)\n",
    "    .rename(columns = {'dly_ret':'close_to_close'})\n",
    ")"
   ]
  },
  {
   "cell_type": "markdown",
   "metadata": {},
   "source": [
    "**Code Challenge:** Create an alternative version of our close-to-close function using `np.std()`.  Call the new function `close_to_close_std()`. Verify that your values match."
   ]
  },
  {
   "cell_type": "code",
   "execution_count": 14,
   "metadata": {},
   "outputs": [
    {
     "name": "stdout",
     "output_type": "stream",
     "text": [
      "90.6980642016463\n",
      "90.6980642016463\n"
     ]
    }
   ],
   "source": [
    "def close_to_close_std(r):\n",
    "    vol = np.std(r, ddof = 1) * np.sqrt(252)\n",
    "    return(vol)\n",
    "\n",
    "df_std = \\\n",
    "    (\n",
    "    df_spy\n",
    "        .groupby(['week_num', 'week_start', 'week_end'], as_index = False)[['dly_ret']]\n",
    "        .agg(close_to_close_std)\n",
    "        .rename(columns = {'dly_ret':'close_to_close'})\n",
    "    )\n",
    "    \n",
    "df_std = df_std[:-1]\n",
    "print(df_std['close_to_close'].sum())\n",
    "print(df_close_to_close['close_to_close'].sum())"
   ]
  },
  {
   "cell_type": "markdown",
   "metadata": {},
   "source": [
    " "
   ]
  },
  {
   "cell_type": "markdown",
   "metadata": {},
   "source": [
    "In Sepp 2016, the author uses the $R^2$ between the forecasts and the realized labels as a means of assessing the quality of a particular estimator.  Let's utilize `sklearn` to do the same.\n",
    "\n",
    "We being by importing the `LinearRegression` constructor and instantiating a model."
   ]
  },
  {
   "cell_type": "code",
   "execution_count": 15,
   "metadata": {},
   "outputs": [],
   "source": [
    "from sklearn.linear_model import LinearRegression\n",
    "mdl_reg = LinearRegression(fit_intercept = True)"
   ]
  },
  {
   "cell_type": "markdown",
   "metadata": {},
   "source": [
    "Next, let's organize our features and labels."
   ]
  },
  {
   "cell_type": "code",
   "execution_count": 16,
   "metadata": {},
   "outputs": [],
   "source": [
    "X = df_close_to_close[['close_to_close']]\n",
    "y = df_realized['realized_vol']"
   ]
  },
  {
   "cell_type": "markdown",
   "metadata": {},
   "source": [
    "We can now fit the model."
   ]
  },
  {
   "cell_type": "code",
   "execution_count": 17,
   "metadata": {},
   "outputs": [
    {
     "data": {
      "text/plain": [
       "LinearRegression()"
      ]
     },
     "execution_count": 17,
     "metadata": {},
     "output_type": "execute_result"
    }
   ],
   "source": [
    "mdl_reg.fit(X, y)"
   ]
  },
  {
   "cell_type": "markdown",
   "metadata": {},
   "source": [
    "The `.score()` method of a `LinearRegression` model returns the $R^2$."
   ]
  },
  {
   "cell_type": "code",
   "execution_count": 18,
   "metadata": {},
   "outputs": [
    {
     "data": {
      "text/plain": [
       "0.4093645253435927"
      ]
     },
     "execution_count": 18,
     "metadata": {},
     "output_type": "execute_result"
    }
   ],
   "source": [
    "mdl_reg.score(X, y)"
   ]
  },
  {
   "cell_type": "markdown",
   "metadata": {},
   "source": [
    "And we can examine the slope and intercept of our model as follows:"
   ]
  },
  {
   "cell_type": "code",
   "execution_count": 19,
   "metadata": {},
   "outputs": [
    {
     "name": "stdout",
     "output_type": "stream",
     "text": [
      "0.04933384095053199\n",
      "[0.57068844]\n"
     ]
    }
   ],
   "source": [
    "print(mdl_reg.intercept_)\n",
    "print(mdl_reg.coef_)"
   ]
  },
  {
   "cell_type": "markdown",
   "metadata": {},
   "source": [
    " "
   ]
  },
  {
   "cell_type": "markdown",
   "metadata": {},
   "source": [
    "**Discussion Question:** How do our results compare to Sepp's?"
   ]
  },
  {
   "cell_type": "code",
   "execution_count": null,
   "metadata": {},
   "outputs": [],
   "source": [
    "\n",
    "\n",
    "\n",
    "\n"
   ]
  },
  {
   "cell_type": "markdown",
   "metadata": {},
   "source": [
    "  "
   ]
  },
  {
   "cell_type": "markdown",
   "metadata": {},
   "source": [
    "Let's also measure the bias and efficiency of the the close-to-close estimator."
   ]
  },
  {
   "cell_type": "code",
   "execution_count": 20,
   "metadata": {},
   "outputs": [
    {
     "name": "stdout",
     "output_type": "stream",
     "text": [
      "0.01708041424884867\n",
      "0.8919571135609281\n"
     ]
    }
   ],
   "source": [
    "# bias\n",
    "print(np.mean(df_close_to_close['close_to_close'] - df_realized['realized_vol']))\n",
    "\n",
    "# efficiency\n",
    "print(np.std(df_realized['realized_vol']) / np.std(df_close_to_close['close_to_close']))"
   ]
  },
  {
   "cell_type": "markdown",
   "metadata": {},
   "source": [
    "## Parkinson"
   ]
  },
  {
   "cell_type": "markdown",
   "metadata": {},
   "source": [
    "The next estimator that we implement is the Parkinson."
   ]
  },
  {
   "cell_type": "code",
   "execution_count": 21,
   "metadata": {},
   "outputs": [],
   "source": [
    "def parkinson(hl):\n",
    "    T = hl.shape[0]\n",
    "    high = hl.high\n",
    "    low = hl.low\n",
    "    vol = np.sqrt(np.sum((np.log(high / low) ** 2)) * (1 / (4 * np.log(2))) / T) * np.sqrt(252)\n",
    "    return(vol)"
   ]
  },
  {
   "cell_type": "markdown",
   "metadata": {},
   "source": [
    "Let's apply our function to a single weeks worth of data in `df_spy`."
   ]
  },
  {
   "cell_type": "code",
   "execution_count": 22,
   "metadata": {},
   "outputs": [
    {
     "data": {
      "text/plain": [
       "0.12051770757840295"
      ]
     },
     "execution_count": 22,
     "metadata": {},
     "output_type": "execute_result"
    }
   ],
   "source": [
    "parkinson(df_spy.query('week_num == 0')[['high', 'low']])"
   ]
  },
  {
   "cell_type": "markdown",
   "metadata": {},
   "source": [
    "From a programming standpoint, the Parkinson estimate is a little bit different because it is an aggregation function that takes in two columns (`high` and `low`) and returns a single number.  \n",
    "\n",
    "For this reason, we will need to use `.apply()` rather than `.agg()`."
   ]
  },
  {
   "cell_type": "code",
   "execution_count": 23,
   "metadata": {},
   "outputs": [
    {
     "data": {
      "text/html": [
       "<div>\n",
       "<style scoped>\n",
       "    .dataframe tbody tr th:only-of-type {\n",
       "        vertical-align: middle;\n",
       "    }\n",
       "\n",
       "    .dataframe tbody tr th {\n",
       "        vertical-align: top;\n",
       "    }\n",
       "\n",
       "    .dataframe thead th {\n",
       "        text-align: right;\n",
       "    }\n",
       "</style>\n",
       "<table border=\"1\" class=\"dataframe\">\n",
       "  <thead>\n",
       "    <tr style=\"text-align: right;\">\n",
       "      <th></th>\n",
       "      <th>week_num</th>\n",
       "      <th>week_start</th>\n",
       "      <th>week_end</th>\n",
       "      <th>parkinson</th>\n",
       "    </tr>\n",
       "  </thead>\n",
       "  <tbody>\n",
       "    <tr>\n",
       "      <th>0</th>\n",
       "      <td>0</td>\n",
       "      <td>2005-01-03</td>\n",
       "      <td>2005-01-07</td>\n",
       "      <td>0.120518</td>\n",
       "    </tr>\n",
       "    <tr>\n",
       "      <th>1</th>\n",
       "      <td>1</td>\n",
       "      <td>2005-01-10</td>\n",
       "      <td>2005-01-14</td>\n",
       "      <td>0.085756</td>\n",
       "    </tr>\n",
       "    <tr>\n",
       "      <th>2</th>\n",
       "      <td>2</td>\n",
       "      <td>2005-01-18</td>\n",
       "      <td>2005-01-21</td>\n",
       "      <td>0.107782</td>\n",
       "    </tr>\n",
       "    <tr>\n",
       "      <th>3</th>\n",
       "      <td>3</td>\n",
       "      <td>2005-01-24</td>\n",
       "      <td>2005-01-28</td>\n",
       "      <td>0.066081</td>\n",
       "    </tr>\n",
       "    <tr>\n",
       "      <th>4</th>\n",
       "      <td>4</td>\n",
       "      <td>2005-01-31</td>\n",
       "      <td>2005-02-04</td>\n",
       "      <td>0.073116</td>\n",
       "    </tr>\n",
       "    <tr>\n",
       "      <th>...</th>\n",
       "      <td>...</td>\n",
       "      <td>...</td>\n",
       "      <td>...</td>\n",
       "      <td>...</td>\n",
       "    </tr>\n",
       "    <tr>\n",
       "      <th>581</th>\n",
       "      <td>581</td>\n",
       "      <td>2016-02-22</td>\n",
       "      <td>2016-02-26</td>\n",
       "      <td>0.129379</td>\n",
       "    </tr>\n",
       "    <tr>\n",
       "      <th>582</th>\n",
       "      <td>582</td>\n",
       "      <td>2016-02-29</td>\n",
       "      <td>2016-03-04</td>\n",
       "      <td>0.126361</td>\n",
       "    </tr>\n",
       "    <tr>\n",
       "      <th>583</th>\n",
       "      <td>583</td>\n",
       "      <td>2016-03-07</td>\n",
       "      <td>2016-03-11</td>\n",
       "      <td>0.121619</td>\n",
       "    </tr>\n",
       "    <tr>\n",
       "      <th>584</th>\n",
       "      <td>584</td>\n",
       "      <td>2016-03-14</td>\n",
       "      <td>2016-03-18</td>\n",
       "      <td>0.083877</td>\n",
       "    </tr>\n",
       "    <tr>\n",
       "      <th>585</th>\n",
       "      <td>585</td>\n",
       "      <td>2016-03-21</td>\n",
       "      <td>2016-03-24</td>\n",
       "      <td>0.065407</td>\n",
       "    </tr>\n",
       "  </tbody>\n",
       "</table>\n",
       "<p>586 rows × 4 columns</p>\n",
       "</div>"
      ],
      "text/plain": [
       "     week_num week_start   week_end  parkinson\n",
       "0           0 2005-01-03 2005-01-07   0.120518\n",
       "1           1 2005-01-10 2005-01-14   0.085756\n",
       "2           2 2005-01-18 2005-01-21   0.107782\n",
       "3           3 2005-01-24 2005-01-28   0.066081\n",
       "4           4 2005-01-31 2005-02-04   0.073116\n",
       "..        ...        ...        ...        ...\n",
       "581       581 2016-02-22 2016-02-26   0.129379\n",
       "582       582 2016-02-29 2016-03-04   0.126361\n",
       "583       583 2016-03-07 2016-03-11   0.121619\n",
       "584       584 2016-03-14 2016-03-18   0.083877\n",
       "585       585 2016-03-21 2016-03-24   0.065407\n",
       "\n",
       "[586 rows x 4 columns]"
      ]
     },
     "execution_count": 23,
     "metadata": {},
     "output_type": "execute_result"
    }
   ],
   "source": [
    "df_parkinson = \\\n",
    "    (\n",
    "    df_spy.groupby(['week_num', 'week_start', 'week_end'])[['high', 'low']].apply(parkinson)\n",
    "    .to_frame().reset_index()\n",
    "    .rename(columns = {0:'parkinson'})\n",
    "    )\n",
    "df_parkinson = df_parkinson[:-1]\n",
    "df_parkinson"
   ]
  },
  {
   "cell_type": "markdown",
   "metadata": {},
   "source": [
    "Next, let's fit a linear regression to the parkinson forecasts and the realized volatilities."
   ]
  },
  {
   "cell_type": "code",
   "execution_count": 24,
   "metadata": {},
   "outputs": [
    {
     "data": {
      "text/plain": [
       "LinearRegression()"
      ]
     },
     "execution_count": 24,
     "metadata": {},
     "output_type": "execute_result"
    }
   ],
   "source": [
    "from sklearn.linear_model import LinearRegression\n",
    "mdl_reg = LinearRegression(fit_intercept = True)\n",
    "X = df_parkinson[['parkinson']]\n",
    "y = df_realized['realized_vol']\n",
    "mdl_reg.fit(X, y)"
   ]
  },
  {
   "cell_type": "markdown",
   "metadata": {},
   "source": [
    " "
   ]
  },
  {
   "cell_type": "markdown",
   "metadata": {},
   "source": [
    "**Code Challenge:** Check the $R^2$ and coefficients and compare them with Sepp's.  How closely do we match?"
   ]
  },
  {
   "cell_type": "code",
   "execution_count": 25,
   "metadata": {},
   "outputs": [
    {
     "name": "stdout",
     "output_type": "stream",
     "text": [
      "0.6121937433393481\n",
      "0.013786304921137138\n",
      "[0.93118615]\n"
     ]
    }
   ],
   "source": [
    "print(mdl_reg.score(X, y))\n",
    "print(mdl_reg.intercept_)\n",
    "print(mdl_reg.coef_)"
   ]
  },
  {
   "cell_type": "markdown",
   "metadata": {},
   "source": [
    "Let's also measure the bias and efficiency of the Parkinson estimator."
   ]
  },
  {
   "cell_type": "code",
   "execution_count": 26,
   "metadata": {},
   "outputs": [
    {
     "name": "stdout",
     "output_type": "stream",
     "text": [
      "-0.004732356458542568\n",
      "1.1901235883927868\n"
     ]
    }
   ],
   "source": [
    "# bias\n",
    "print(np.mean(df_parkinson['parkinson'] - df_realized['realized_vol']))\n",
    "\n",
    "# efficiency\n",
    "print(np.std(df_realized['realized_vol']) / np.std(df_parkinson['parkinson']))"
   ]
  },
  {
   "cell_type": "markdown",
   "metadata": {},
   "source": [
    "## Garman-Klass"
   ]
  },
  {
   "cell_type": "markdown",
   "metadata": {},
   "source": [
    "The next estimator is the Garman-Klass."
   ]
  },
  {
   "cell_type": "code",
   "execution_count": 27,
   "metadata": {},
   "outputs": [],
   "source": [
    "def garman_klass(ohlc):\n",
    "    T = ohlc.shape[0]\n",
    "    o = ohlc.open\n",
    "    h = ohlc.high\n",
    "    l = ohlc.low\n",
    "    c = ohlc.close\n",
    "    vol = np.sqrt(np.sum((0.5 * np.log(h / l) ** 2) - ((2 * np.log(2) - 1) * np.log(c / o) ** 2)) / T) * np.sqrt(252)\n",
    "    return(vol)"
   ]
  },
  {
   "cell_type": "markdown",
   "metadata": {},
   "source": [
    "Let's check that the function works for a single week of data."
   ]
  },
  {
   "cell_type": "code",
   "execution_count": 28,
   "metadata": {},
   "outputs": [
    {
     "data": {
      "text/plain": [
       "0.11506262004283113"
      ]
     },
     "execution_count": 28,
     "metadata": {},
     "output_type": "execute_result"
    }
   ],
   "source": [
    "garman_klass(df_spy.query('week_num == 0')[['open', 'high', 'low', 'close']])"
   ]
  },
  {
   "cell_type": "markdown",
   "metadata": {},
   "source": [
    "The Garman-Klass estimator takes in four different columns to produce a single numeric estimate, thus we have to use `.apply()`."
   ]
  },
  {
   "cell_type": "code",
   "execution_count": 29,
   "metadata": {},
   "outputs": [
    {
     "data": {
      "text/html": [
       "<div>\n",
       "<style scoped>\n",
       "    .dataframe tbody tr th:only-of-type {\n",
       "        vertical-align: middle;\n",
       "    }\n",
       "\n",
       "    .dataframe tbody tr th {\n",
       "        vertical-align: top;\n",
       "    }\n",
       "\n",
       "    .dataframe thead th {\n",
       "        text-align: right;\n",
       "    }\n",
       "</style>\n",
       "<table border=\"1\" class=\"dataframe\">\n",
       "  <thead>\n",
       "    <tr style=\"text-align: right;\">\n",
       "      <th></th>\n",
       "      <th>week_num</th>\n",
       "      <th>week_start</th>\n",
       "      <th>week_end</th>\n",
       "      <th>garman_klass</th>\n",
       "    </tr>\n",
       "  </thead>\n",
       "  <tbody>\n",
       "    <tr>\n",
       "      <th>0</th>\n",
       "      <td>0</td>\n",
       "      <td>2005-01-03</td>\n",
       "      <td>2005-01-07</td>\n",
       "      <td>0.115063</td>\n",
       "    </tr>\n",
       "    <tr>\n",
       "      <th>1</th>\n",
       "      <td>1</td>\n",
       "      <td>2005-01-10</td>\n",
       "      <td>2005-01-14</td>\n",
       "      <td>0.087781</td>\n",
       "    </tr>\n",
       "    <tr>\n",
       "      <th>2</th>\n",
       "      <td>2</td>\n",
       "      <td>2005-01-18</td>\n",
       "      <td>2005-01-21</td>\n",
       "      <td>0.089608</td>\n",
       "    </tr>\n",
       "    <tr>\n",
       "      <th>3</th>\n",
       "      <td>3</td>\n",
       "      <td>2005-01-24</td>\n",
       "      <td>2005-01-28</td>\n",
       "      <td>0.074419</td>\n",
       "    </tr>\n",
       "    <tr>\n",
       "      <th>4</th>\n",
       "      <td>4</td>\n",
       "      <td>2005-01-31</td>\n",
       "      <td>2005-02-04</td>\n",
       "      <td>0.067922</td>\n",
       "    </tr>\n",
       "    <tr>\n",
       "      <th>...</th>\n",
       "      <td>...</td>\n",
       "      <td>...</td>\n",
       "      <td>...</td>\n",
       "      <td>...</td>\n",
       "    </tr>\n",
       "    <tr>\n",
       "      <th>581</th>\n",
       "      <td>581</td>\n",
       "      <td>2016-02-22</td>\n",
       "      <td>2016-02-26</td>\n",
       "      <td>0.122548</td>\n",
       "    </tr>\n",
       "    <tr>\n",
       "      <th>582</th>\n",
       "      <td>582</td>\n",
       "      <td>2016-02-29</td>\n",
       "      <td>2016-03-04</td>\n",
       "      <td>0.121252</td>\n",
       "    </tr>\n",
       "    <tr>\n",
       "      <th>583</th>\n",
       "      <td>583</td>\n",
       "      <td>2016-03-07</td>\n",
       "      <td>2016-03-11</td>\n",
       "      <td>0.134788</td>\n",
       "    </tr>\n",
       "    <tr>\n",
       "      <th>584</th>\n",
       "      <td>584</td>\n",
       "      <td>2016-03-14</td>\n",
       "      <td>2016-03-18</td>\n",
       "      <td>0.083794</td>\n",
       "    </tr>\n",
       "    <tr>\n",
       "      <th>585</th>\n",
       "      <td>585</td>\n",
       "      <td>2016-03-21</td>\n",
       "      <td>2016-03-24</td>\n",
       "      <td>0.064249</td>\n",
       "    </tr>\n",
       "  </tbody>\n",
       "</table>\n",
       "<p>586 rows × 4 columns</p>\n",
       "</div>"
      ],
      "text/plain": [
       "     week_num week_start   week_end  garman_klass\n",
       "0           0 2005-01-03 2005-01-07      0.115063\n",
       "1           1 2005-01-10 2005-01-14      0.087781\n",
       "2           2 2005-01-18 2005-01-21      0.089608\n",
       "3           3 2005-01-24 2005-01-28      0.074419\n",
       "4           4 2005-01-31 2005-02-04      0.067922\n",
       "..        ...        ...        ...           ...\n",
       "581       581 2016-02-22 2016-02-26      0.122548\n",
       "582       582 2016-02-29 2016-03-04      0.121252\n",
       "583       583 2016-03-07 2016-03-11      0.134788\n",
       "584       584 2016-03-14 2016-03-18      0.083794\n",
       "585       585 2016-03-21 2016-03-24      0.064249\n",
       "\n",
       "[586 rows x 4 columns]"
      ]
     },
     "execution_count": 29,
     "metadata": {},
     "output_type": "execute_result"
    }
   ],
   "source": [
    "df_garman_klass = \\\n",
    "    (\n",
    "    df_spy.groupby(['week_num', 'week_start', 'week_end'])[['open', 'high', 'low', 'close']].apply(garman_klass)\n",
    "    .to_frame().reset_index()\n",
    "    .rename(columns = {0:'garman_klass'} )\n",
    "    )\n",
    "df_garman_klass = df_garman_klass[:-1]\n",
    "df_garman_klass"
   ]
  },
  {
   "cell_type": "markdown",
   "metadata": {},
   "source": [
    "Next let's check for the goodness of predictions by fitting a linear regression and calculating the $R^2$."
   ]
  },
  {
   "cell_type": "code",
   "execution_count": 30,
   "metadata": {},
   "outputs": [
    {
     "data": {
      "text/plain": [
       "0.6130244469714066"
      ]
     },
     "execution_count": 30,
     "metadata": {},
     "output_type": "execute_result"
    }
   ],
   "source": [
    "from sklearn.linear_model import LinearRegression\n",
    "mdl_reg = LinearRegression(fit_intercept = True)\n",
    "X = df_garman_klass[['garman_klass']]\n",
    "y = df_realized['realized_vol']\n",
    "mdl_reg.fit(X, y)\n",
    "mdl_reg.score(X, y)"
   ]
  },
  {
   "cell_type": "markdown",
   "metadata": {},
   "source": [
    "Let's also measure the bias and efficiency of the Garman-Klass estimator."
   ]
  },
  {
   "cell_type": "code",
   "execution_count": 31,
   "metadata": {},
   "outputs": [
    {
     "name": "stdout",
     "output_type": "stream",
     "text": [
      "-0.0027699614763221536\n",
      "1.162669294935497\n"
     ]
    }
   ],
   "source": [
    "# bias\n",
    "print(np.mean(df_garman_klass['garman_klass'] - df_realized['realized_vol']))\n",
    "\n",
    "# efficiency\n",
    "print(np.std(df_realized['realized_vol']) / np.std(df_garman_klass['garman_klass']))"
   ]
  },
  {
   "cell_type": "markdown",
   "metadata": {},
   "source": [
    "  "
   ]
  },
  {
   "cell_type": "markdown",
   "metadata": {},
   "source": [
    "## Rogers-Satchell"
   ]
  },
  {
   "cell_type": "markdown",
   "metadata": {},
   "source": [
    "**Code Challenge:** Implement the Rogers-Satchell model, and calculate the $R^2$ between the forecasts and the realized, and also the bias and efficiency."
   ]
  },
  {
   "cell_type": "code",
   "execution_count": 32,
   "metadata": {},
   "outputs": [],
   "source": [
    "def rogers_satchell(ohlc):\n",
    "    T = ohlc.shape[0]\n",
    "    o = ohlc.open\n",
    "    h = ohlc.high\n",
    "    l = ohlc.low\n",
    "    c = ohlc.close\n",
    "    vol =   np.sqrt(np.sum((np.log(h / c) * np.log(h / o)) + (np.log(l / c) * np.log(l / o))) / T) * np.sqrt(252)\n",
    "    return(vol)"
   ]
  },
  {
   "cell_type": "code",
   "execution_count": 33,
   "metadata": {},
   "outputs": [
    {
     "data": {
      "text/plain": [
       "0.11015628389785498"
      ]
     },
     "execution_count": 33,
     "metadata": {},
     "output_type": "execute_result"
    }
   ],
   "source": [
    "rogers_satchell(df_spy.query('week_num == 0')[['open', 'high', 'low', 'close']])"
   ]
  },
  {
   "cell_type": "code",
   "execution_count": 34,
   "metadata": {},
   "outputs": [
    {
     "data": {
      "text/html": [
       "<div>\n",
       "<style scoped>\n",
       "    .dataframe tbody tr th:only-of-type {\n",
       "        vertical-align: middle;\n",
       "    }\n",
       "\n",
       "    .dataframe tbody tr th {\n",
       "        vertical-align: top;\n",
       "    }\n",
       "\n",
       "    .dataframe thead th {\n",
       "        text-align: right;\n",
       "    }\n",
       "</style>\n",
       "<table border=\"1\" class=\"dataframe\">\n",
       "  <thead>\n",
       "    <tr style=\"text-align: right;\">\n",
       "      <th></th>\n",
       "      <th>week_num</th>\n",
       "      <th>week_start</th>\n",
       "      <th>week_end</th>\n",
       "      <th>rogers_satchell</th>\n",
       "    </tr>\n",
       "  </thead>\n",
       "  <tbody>\n",
       "    <tr>\n",
       "      <th>0</th>\n",
       "      <td>0</td>\n",
       "      <td>2005-01-03</td>\n",
       "      <td>2005-01-07</td>\n",
       "      <td>0.110156</td>\n",
       "    </tr>\n",
       "    <tr>\n",
       "      <th>1</th>\n",
       "      <td>1</td>\n",
       "      <td>2005-01-10</td>\n",
       "      <td>2005-01-14</td>\n",
       "      <td>0.089740</td>\n",
       "    </tr>\n",
       "    <tr>\n",
       "      <th>2</th>\n",
       "      <td>2</td>\n",
       "      <td>2005-01-18</td>\n",
       "      <td>2005-01-21</td>\n",
       "      <td>0.075553</td>\n",
       "    </tr>\n",
       "    <tr>\n",
       "      <th>3</th>\n",
       "      <td>3</td>\n",
       "      <td>2005-01-24</td>\n",
       "      <td>2005-01-28</td>\n",
       "      <td>0.082389</td>\n",
       "    </tr>\n",
       "    <tr>\n",
       "      <th>4</th>\n",
       "      <td>4</td>\n",
       "      <td>2005-01-31</td>\n",
       "      <td>2005-02-04</td>\n",
       "      <td>0.063900</td>\n",
       "    </tr>\n",
       "    <tr>\n",
       "      <th>...</th>\n",
       "      <td>...</td>\n",
       "      <td>...</td>\n",
       "      <td>...</td>\n",
       "      <td>...</td>\n",
       "    </tr>\n",
       "    <tr>\n",
       "      <th>581</th>\n",
       "      <td>581</td>\n",
       "      <td>2016-02-22</td>\n",
       "      <td>2016-02-26</td>\n",
       "      <td>0.117695</td>\n",
       "    </tr>\n",
       "    <tr>\n",
       "      <th>582</th>\n",
       "      <td>582</td>\n",
       "      <td>2016-02-29</td>\n",
       "      <td>2016-03-04</td>\n",
       "      <td>0.116514</td>\n",
       "    </tr>\n",
       "    <tr>\n",
       "      <th>583</th>\n",
       "      <td>583</td>\n",
       "      <td>2016-03-07</td>\n",
       "      <td>2016-03-11</td>\n",
       "      <td>0.142715</td>\n",
       "    </tr>\n",
       "    <tr>\n",
       "      <th>584</th>\n",
       "      <td>584</td>\n",
       "      <td>2016-03-14</td>\n",
       "      <td>2016-03-18</td>\n",
       "      <td>0.079714</td>\n",
       "    </tr>\n",
       "    <tr>\n",
       "      <th>585</th>\n",
       "      <td>585</td>\n",
       "      <td>2016-03-21</td>\n",
       "      <td>2016-03-24</td>\n",
       "      <td>0.061702</td>\n",
       "    </tr>\n",
       "  </tbody>\n",
       "</table>\n",
       "<p>586 rows × 4 columns</p>\n",
       "</div>"
      ],
      "text/plain": [
       "     week_num week_start   week_end  rogers_satchell\n",
       "0           0 2005-01-03 2005-01-07         0.110156\n",
       "1           1 2005-01-10 2005-01-14         0.089740\n",
       "2           2 2005-01-18 2005-01-21         0.075553\n",
       "3           3 2005-01-24 2005-01-28         0.082389\n",
       "4           4 2005-01-31 2005-02-04         0.063900\n",
       "..        ...        ...        ...              ...\n",
       "581       581 2016-02-22 2016-02-26         0.117695\n",
       "582       582 2016-02-29 2016-03-04         0.116514\n",
       "583       583 2016-03-07 2016-03-11         0.142715\n",
       "584       584 2016-03-14 2016-03-18         0.079714\n",
       "585       585 2016-03-21 2016-03-24         0.061702\n",
       "\n",
       "[586 rows x 4 columns]"
      ]
     },
     "execution_count": 34,
     "metadata": {},
     "output_type": "execute_result"
    }
   ],
   "source": [
    "df_rogers_satchell = \\\n",
    "    (\n",
    "    df_spy.groupby(['week_num', 'week_start', 'week_end'])[['open', 'high', 'low', 'close']].apply(rogers_satchell)\n",
    "    .to_frame().reset_index()\n",
    "    .rename(columns = {0:'rogers_satchell'} )\n",
    "    )\n",
    "df_rogers_satchell = df_rogers_satchell[:-1]\n",
    "df_rogers_satchell"
   ]
  },
  {
   "cell_type": "code",
   "execution_count": 35,
   "metadata": {},
   "outputs": [
    {
     "data": {
      "text/plain": [
       "0.5942065182092937"
      ]
     },
     "execution_count": 35,
     "metadata": {},
     "output_type": "execute_result"
    }
   ],
   "source": [
    "from sklearn.linear_model import LinearRegression\n",
    "mdl_reg = LinearRegression(fit_intercept = True)\n",
    "X = df_rogers_satchell[['rogers_satchell']]\n",
    "y = df_realized['realized_vol']\n",
    "mdl_reg.fit(X, y)\n",
    "mdl_reg.score(X, y)"
   ]
  },
  {
   "cell_type": "code",
   "execution_count": 36,
   "metadata": {},
   "outputs": [
    {
     "name": "stdout",
     "output_type": "stream",
     "text": [
      "-0.001544745869980974\n",
      "1.1175591828194589\n"
     ]
    }
   ],
   "source": [
    "# bias\n",
    "print(np.mean(df_rogers_satchell['rogers_satchell'] - df_realized['realized_vol']))\n",
    "\n",
    "# efficiency\n",
    "print(np.std(df_realized['realized_vol']) / np.std(df_rogers_satchell['rogers_satchell']))"
   ]
  },
  {
   "cell_type": "markdown",
   "metadata": {},
   "source": [
    "## Yang-Zhang"
   ]
  },
  {
   "cell_type": "markdown",
   "metadata": {},
   "source": [
    "And finally, let's repeat thes same steps for the Yang-Zang estimator."
   ]
  },
  {
   "cell_type": "code",
   "execution_count": 37,
   "metadata": {},
   "outputs": [],
   "source": [
    "def yang_zhang(ohlc_on_oc):\n",
    "    T = ohlc_on_oc.shape[0]\n",
    "    ohlc = ohlc_on_oc[['open', 'high', 'low', 'close']]\n",
    "    on = ohlc_on_oc.overnight\n",
    "    oc = ohlc_on_oc.open_close\n",
    "    \n",
    "    var_overnight = (close_to_close(on) / np.sqrt(252)) ** 2\n",
    "    var_open_close = (close_to_close(oc) / np.sqrt(252)) ** 2\n",
    "    var_rogers_satchell = (rogers_satchell(ohlc) / np.sqrt(252)) ** 2\n",
    "    \n",
    "    c = 0.34 / (1.34 + (T + 1)/(T - 1))\n",
    "    \n",
    "    vol = np.sqrt((var_overnight) + (c * var_open_close) + ((1 - c) * (var_rogers_satchell))) * np.sqrt(252)\n",
    "    \n",
    "    return(vol)"
   ]
  },
  {
   "cell_type": "markdown",
   "metadata": {},
   "source": [
    "Checking the function on a single week of data."
   ]
  },
  {
   "cell_type": "code",
   "execution_count": 38,
   "metadata": {},
   "outputs": [
    {
     "data": {
      "text/plain": [
       "0.11480516872375435"
      ]
     },
     "execution_count": 38,
     "metadata": {},
     "output_type": "execute_result"
    }
   ],
   "source": [
    "yang_zhang(df_spy.query('week_num == 0')[['open', 'high', 'low', 'close', 'overnight', 'open_close']])"
   ]
  },
  {
   "cell_type": "markdown",
   "metadata": {},
   "source": [
    "Calculating weekly forecasts using `.groupby()` and `.apply()`."
   ]
  },
  {
   "cell_type": "code",
   "execution_count": 39,
   "metadata": {},
   "outputs": [
    {
     "data": {
      "text/html": [
       "<div>\n",
       "<style scoped>\n",
       "    .dataframe tbody tr th:only-of-type {\n",
       "        vertical-align: middle;\n",
       "    }\n",
       "\n",
       "    .dataframe tbody tr th {\n",
       "        vertical-align: top;\n",
       "    }\n",
       "\n",
       "    .dataframe thead th {\n",
       "        text-align: right;\n",
       "    }\n",
       "</style>\n",
       "<table border=\"1\" class=\"dataframe\">\n",
       "  <thead>\n",
       "    <tr style=\"text-align: right;\">\n",
       "      <th></th>\n",
       "      <th>week_num</th>\n",
       "      <th>week_start</th>\n",
       "      <th>week_end</th>\n",
       "      <th>yang_zhang</th>\n",
       "    </tr>\n",
       "  </thead>\n",
       "  <tbody>\n",
       "    <tr>\n",
       "      <th>0</th>\n",
       "      <td>0</td>\n",
       "      <td>2005-01-03</td>\n",
       "      <td>2005-01-07</td>\n",
       "      <td>0.114805</td>\n",
       "    </tr>\n",
       "    <tr>\n",
       "      <th>1</th>\n",
       "      <td>1</td>\n",
       "      <td>2005-01-10</td>\n",
       "      <td>2005-01-14</td>\n",
       "      <td>0.097092</td>\n",
       "    </tr>\n",
       "    <tr>\n",
       "      <th>2</th>\n",
       "      <td>2</td>\n",
       "      <td>2005-01-18</td>\n",
       "      <td>2005-01-21</td>\n",
       "      <td>0.096201</td>\n",
       "    </tr>\n",
       "    <tr>\n",
       "      <th>3</th>\n",
       "      <td>3</td>\n",
       "      <td>2005-01-24</td>\n",
       "      <td>2005-01-28</td>\n",
       "      <td>0.083237</td>\n",
       "    </tr>\n",
       "    <tr>\n",
       "      <th>4</th>\n",
       "      <td>4</td>\n",
       "      <td>2005-01-31</td>\n",
       "      <td>2005-02-04</td>\n",
       "      <td>0.073564</td>\n",
       "    </tr>\n",
       "    <tr>\n",
       "      <th>...</th>\n",
       "      <td>...</td>\n",
       "      <td>...</td>\n",
       "      <td>...</td>\n",
       "      <td>...</td>\n",
       "    </tr>\n",
       "    <tr>\n",
       "      <th>581</th>\n",
       "      <td>581</td>\n",
       "      <td>2016-02-22</td>\n",
       "      <td>2016-02-26</td>\n",
       "      <td>0.170104</td>\n",
       "    </tr>\n",
       "    <tr>\n",
       "      <th>582</th>\n",
       "      <td>582</td>\n",
       "      <td>2016-02-29</td>\n",
       "      <td>2016-03-04</td>\n",
       "      <td>0.132710</td>\n",
       "    </tr>\n",
       "    <tr>\n",
       "      <th>583</th>\n",
       "      <td>583</td>\n",
       "      <td>2016-03-07</td>\n",
       "      <td>2016-03-11</td>\n",
       "      <td>0.171927</td>\n",
       "    </tr>\n",
       "    <tr>\n",
       "      <th>584</th>\n",
       "      <td>584</td>\n",
       "      <td>2016-03-14</td>\n",
       "      <td>2016-03-18</td>\n",
       "      <td>0.082335</td>\n",
       "    </tr>\n",
       "    <tr>\n",
       "      <th>585</th>\n",
       "      <td>585</td>\n",
       "      <td>2016-03-21</td>\n",
       "      <td>2016-03-24</td>\n",
       "      <td>0.070646</td>\n",
       "    </tr>\n",
       "  </tbody>\n",
       "</table>\n",
       "<p>586 rows × 4 columns</p>\n",
       "</div>"
      ],
      "text/plain": [
       "     week_num week_start   week_end  yang_zhang\n",
       "0           0 2005-01-03 2005-01-07    0.114805\n",
       "1           1 2005-01-10 2005-01-14    0.097092\n",
       "2           2 2005-01-18 2005-01-21    0.096201\n",
       "3           3 2005-01-24 2005-01-28    0.083237\n",
       "4           4 2005-01-31 2005-02-04    0.073564\n",
       "..        ...        ...        ...         ...\n",
       "581       581 2016-02-22 2016-02-26    0.170104\n",
       "582       582 2016-02-29 2016-03-04    0.132710\n",
       "583       583 2016-03-07 2016-03-11    0.171927\n",
       "584       584 2016-03-14 2016-03-18    0.082335\n",
       "585       585 2016-03-21 2016-03-24    0.070646\n",
       "\n",
       "[586 rows x 4 columns]"
      ]
     },
     "execution_count": 39,
     "metadata": {},
     "output_type": "execute_result"
    }
   ],
   "source": [
    "df_yang_zhang = \\\n",
    "    (\n",
    "    df_spy.groupby(['week_num', 'week_start', 'week_end'])[['open', 'high', 'low', 'close', 'overnight', 'open_close']].apply(yang_zhang)\n",
    "    .to_frame().reset_index()\n",
    "    .rename(columns = {0:'yang_zhang'} )\n",
    "    )\n",
    "df_yang_zhang = df_yang_zhang[:-1]\n",
    "df_yang_zhang"
   ]
  },
  {
   "cell_type": "markdown",
   "metadata": {},
   "source": [
    "Let's check the performance of Yang-Zang by checking the $R^2$ of the fitted regression."
   ]
  },
  {
   "cell_type": "code",
   "execution_count": 40,
   "metadata": {},
   "outputs": [
    {
     "data": {
      "text/plain": [
       "0.577240027949232"
      ]
     },
     "execution_count": 40,
     "metadata": {},
     "output_type": "execute_result"
    }
   ],
   "source": [
    "from sklearn.linear_model import LinearRegression\n",
    "mdl_reg = LinearRegression(fit_intercept = True)\n",
    "X = df_yang_zhang[['yang_zhang']]\n",
    "y = df_realized['realized_vol']\n",
    "mdl_reg.fit(X, y)\n",
    "mdl_reg.score(X, y)"
   ]
  },
  {
   "cell_type": "markdown",
   "metadata": {},
   "source": [
    "Let's also measure the bias and efficiency of the Yang-Zang estimator."
   ]
  },
  {
   "cell_type": "code",
   "execution_count": 41,
   "metadata": {},
   "outputs": [
    {
     "name": "stdout",
     "output_type": "stream",
     "text": [
      "0.026423462963608067\n",
      "0.9314743785664658\n"
     ]
    }
   ],
   "source": [
    "# bias\n",
    "print(np.mean(df_yang_zhang['yang_zhang'] - df_realized['realized_vol']))\n",
    "\n",
    "# efficiency\n",
    "print(np.std(df_realized['realized_vol']) / np.std(df_yang_zhang['yang_zhang']))"
   ]
  },
  {
   "cell_type": "markdown",
   "metadata": {},
   "source": [
    " "
   ]
  },
  {
   "cell_type": "markdown",
   "metadata": {},
   "source": [
    "**Code Challenge:** There is a short-hand identity for $R^2$ that would allow us to not have to bother with `sklearn`.  Google it and implement it."
   ]
  },
  {
   "cell_type": "code",
   "execution_count": 42,
   "metadata": {},
   "outputs": [
    {
     "data": {
      "text/plain": [
       "0.5772400279492313"
      ]
     },
     "execution_count": 42,
     "metadata": {},
     "output_type": "execute_result"
    }
   ],
   "source": [
    "np.corrcoef(df_yang_zhang['yang_zhang'], df_realized['realized_vol'])[0, 1] ** 2"
   ]
  }
 ],
 "metadata": {
  "kernelspec": {
   "display_name": "Python 3",
   "language": "python",
   "name": "python3"
  },
  "language_info": {
   "codemirror_mode": {
    "name": "ipython",
    "version": 3
   },
   "file_extension": ".py",
   "mimetype": "text/x-python",
   "name": "python",
   "nbconvert_exporter": "python",
   "pygments_lexer": "ipython3",
   "version": "3.8.5"
  }
 },
 "nbformat": 4,
 "nbformat_minor": 4
}
