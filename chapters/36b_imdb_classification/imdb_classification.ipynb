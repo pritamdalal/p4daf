{
 "cells": [
  {
   "cell_type": "markdown",
   "id": "d4258fea-49df-4ccc-a8c6-da8b84d79aae",
   "metadata": {},
   "source": [
    "# IMBD Movie Reviews"
   ]
  },
  {
   "cell_type": "markdown",
   "id": "10530363-3c5d-4d4c-aa1d-db371684e7f0",
   "metadata": {},
   "source": [
    "In this tutorial we will work with the IMDB dataset: a set of 50,000 highly polarized reviews from the Internet Movie Database. They’re split into 25,000 reviews for training and 25,000 reviews for testing, each set consisting of 50% negative and 50% positive reviews.\n",
    "\n",
    "The IMDB dataset comes packaged with Keras. It has already been preprocessed: the reviews (sequences of words) have been turned into sequences of integers, where each integer stands for a specific word in a dictionary. This enables us to focus on model building, training, and evaluation."
   ]
  },
  {
   "cell_type": "markdown",
   "id": "19ae6d49-fe24-4668-8c15-7bdc13b07dcd",
   "metadata": {},
   "source": [
    "## Loading the Data Set"
   ]
  },
  {
   "cell_type": "markdown",
   "id": "4469c6d0-2872-4897-99b3-fda0900b5bb0",
   "metadata": {},
   "source": [
    "The following code will load the dataset (when you run it the first time, about 80 MB of data will be downloaded to your machine).\n",
    "\n",
    "The argument `num_words=10000` means you’ll only keep the top 10,000 most frequently occurring words in the training data. Rare words will be discarded. This allows us to work with vector data of manageable size. If we didn’t set this limit, we’d be working with 88,585 unique words in the training data, which is unnecessarily large. Many of these words only occur in a single sample, and thus can’t be meaningfully used for classification."
   ]
  },
  {
   "cell_type": "code",
   "execution_count": null,
   "id": "a6e628ab-352f-4904-ac77-28fccf2fd0ec",
   "metadata": {},
   "outputs": [
    {
     "name": "stderr",
     "output_type": "stream",
     "text": [
      "2023-11-07 13:46:55.134895: I tensorflow/tsl/cuda/cudart_stub.cc:28] Could not find cuda drivers on your machine, GPU will not be used.\n",
      "2023-11-07 13:46:55.170619: E tensorflow/compiler/xla/stream_executor/cuda/cuda_dnn.cc:9342] Unable to register cuDNN factory: Attempting to register factory for plugin cuDNN when one has already been registered\n",
      "2023-11-07 13:46:55.170648: E tensorflow/compiler/xla/stream_executor/cuda/cuda_fft.cc:609] Unable to register cuFFT factory: Attempting to register factory for plugin cuFFT when one has already been registered\n",
      "2023-11-07 13:46:55.170677: E tensorflow/compiler/xla/stream_executor/cuda/cuda_blas.cc:1518] Unable to register cuBLAS factory: Attempting to register factory for plugin cuBLAS when one has already been registered\n",
      "2023-11-07 13:46:55.176988: I tensorflow/tsl/cuda/cudart_stub.cc:28] Could not find cuda drivers on your machine, GPU will not be used.\n",
      "2023-11-07 13:46:55.177807: I tensorflow/core/platform/cpu_feature_guard.cc:182] This TensorFlow binary is optimized to use available CPU instructions in performance-critical operations.\n",
      "To enable the following instructions: AVX2 FMA, in other operations, rebuild TensorFlow with the appropriate compiler flags.\n",
      "2023-11-07 13:46:56.042119: W tensorflow/compiler/tf2tensorrt/utils/py_utils.cc:38] TF-TRT Warning: Could not find TensorRT\n"
     ]
    }
   ],
   "source": [
    "from tensorflow.keras.datasets import imdb\n",
    "(train_data, train_labels), (test_data, test_labels) = imdb.load_data(\n",
    "    num_words=10000)"
   ]
  },
  {
   "cell_type": "markdown",
   "id": "51635981-42c1-49c5-a0a2-8562216a643a",
   "metadata": {},
   "source": [
    "The variables `train_data` and `test_data` are lists of reviews; each review is a list of\n",
    "word indices (encoding a sequence of words)."
   ]
  },
  {
   "cell_type": "code",
   "execution_count": null,
   "id": "792da745-c7ed-4a5b-8ac0-9ddf04233439",
   "metadata": {},
   "outputs": [
    {
     "name": "stdout",
     "output_type": "stream",
     "text": [
      "[1, 14, 22, 16, 43, 530, 973, 1622, 1385, 65, 458, 4468, 66, 3941, 4, 173, 36, 256, 5, 25, 100, 43, 838, 112, 50, 670, 2, 9, 35, 480, 284, 5, 150, 4, 172, 112, 167, 2, 336, 385, 39, 4, 172, 4536, 1111, 17, 546, 38, 13, 447, 4, 192, 50, 16, 6, 147, 2025, 19, 14, 22, 4, 1920, 4613, 469, 4, 22, 71, 87, 12, 16, 43, 530, 38, 76, 15, 13, 1247, 4, 22, 17, 515, 17, 12, 16, 626, 18, 2, 5, 62, 386, 12, 8, 316, 8, 106, 5, 4, 2223, 5244, 16, 480, 66, 3785, 33, 4, 130, 12, 16, 38, 619, 5, 25, 124, 51, 36, 135, 48, 25, 1415, 33, 6, 22, 12, 215, 28, 77, 52, 5, 14, 407, 16, 82, 2, 8, 4, 107, 117, 5952, 15, 256, 4, 2, 7, 3766, 5, 723, 36, 71, 43, 530, 476, 26, 400, 317, 46, 7, 4, 2, 1029, 13, 104, 88, 4, 381, 15, 297, 98, 32, 2071, 56, 26, 141, 6, 194, 7486, 18, 4, 226, 22, 21, 134, 476, 26, 480, 5, 144, 30, 5535, 18, 51, 36, 28, 224, 92, 25, 104, 4, 226, 65, 16, 38, 1334, 88, 12, 16, 283, 5, 16, 4472, 113, 103, 32, 15, 16, 5345, 19, 178, 32]\n"
     ]
    }
   ],
   "source": [
    "print(train_data[0])"
   ]
  },
  {
   "cell_type": "markdown",
   "id": "0157cbce-f559-458c-8a95-606a2dad1d7e",
   "metadata": {},
   "source": [
    "`train_labels` and `test_labels` are `lists` of 0s and 1s, where `0` stands for negative and `1` stands for positive."
   ]
  },
  {
   "cell_type": "code",
   "execution_count": null,
   "id": "4cd3edf3-58a6-4ae7-85c8-7821da419df7",
   "metadata": {},
   "outputs": [
    {
     "data": {
      "text/plain": [
       "1"
      ]
     },
     "execution_count": null,
     "metadata": {},
     "output_type": "execute_result"
    }
   ],
   "source": [
    "train_labels[0]"
   ]
  },
  {
   "cell_type": "markdown",
   "id": "92843207-db97-464c-95f7-b833213adc65",
   "metadata": {},
   "source": [
    "Because we’re restricting ourselves to the top 10,000 most frequent words, no word index will exceed 10,000."
   ]
  },
  {
   "cell_type": "code",
   "execution_count": null,
   "id": "5e2e857e-83b7-4ec0-ad55-d00d5a132e66",
   "metadata": {},
   "outputs": [
    {
     "data": {
      "text/plain": [
       "9999"
      ]
     },
     "execution_count": null,
     "metadata": {},
     "output_type": "execute_result"
    }
   ],
   "source": [
    "max([max(sequence) for sequence in train_data])"
   ]
  },
  {
   "cell_type": "markdown",
   "id": "654336f4-d965-4d7a-9152-731261ab968b",
   "metadata": {},
   "source": [
    "## Decoding Reviews"
   ]
  },
  {
   "cell_type": "markdown",
   "id": "df5ce6e1-cf19-4586-9d2d-4f09b9773ad3",
   "metadata": {},
   "source": [
    "For purposes of illustration, the following code decodes one of the reviews back to text."
   ]
  },
  {
   "cell_type": "code",
   "execution_count": null,
   "id": "d6531fd3-d98d-463e-b085-4ae30437a0d5",
   "metadata": {},
   "outputs": [],
   "source": [
    "word_index = imdb.get_word_index()\n",
    "reverse_word_index = dict(\n",
    "    [(value, key) for (key, value) in word_index.items()]\n",
    ")\n",
    "decoded_review = \" \".join(\n",
    "    [reverse_word_index.get(i - 3, \"?\") for i in train_data[0]]\n",
    ")"
   ]
  },
  {
   "cell_type": "code",
   "execution_count": null,
   "id": "6b54d6bb-42ce-44a3-af5b-6e00d966f88d",
   "metadata": {},
   "outputs": [
    {
     "data": {
      "text/plain": [
       "\"? this film was just brilliant casting location scenery story direction everyone's really suited the part they played and you could just imagine being there robert ? is an amazing actor and now the same being director ? father came from the same scottish island as myself so i loved the fact there was a real connection with this film the witty remarks throughout the film were great it was just brilliant so much that i bought the film as soon as it was released for ? and would recommend it to everyone to watch and the fly fishing was amazing really cried at the end it was so sad and you know what they say if you cry at a film it must have been good and this definitely was also ? to the two little boy's that played the ? of norman and paul they were just brilliant children are often left out of the ? list i think because the stars that play them all grown up are such a big profile for the whole film but these children are amazing and should be praised for what they have done don't you think the whole story was so lovely because it was true and was someone's life after all that was shared with us all\""
      ]
     },
     "execution_count": null,
     "metadata": {},
     "output_type": "execute_result"
    }
   ],
   "source": [
    "decoded_review"
   ]
  },
  {
   "cell_type": "markdown",
   "id": "8312752e-905e-4b68-964b-8a657676f43e",
   "metadata": {},
   "source": [
    "## Preparing the Data"
   ]
  },
  {
   "cell_type": "markdown",
   "id": "dabb1b87-cc7d-42fb-93a9-df7b21020dc7",
   "metadata": {},
   "source": [
    "You can’t directly feed lists of integers into a neural network. They all have different lengths, but a neural network expects to process contiguous batches of data. You have to turn your lists into tensors.  In particular we will use *multi-hot encoding*.\n",
    "\n",
    "This would mean, for instance, turning the sequence [8, 5] into a 10,000-dimensional vector that would be all 0s except for indices 8 and 5, which would be 1s. Then you could use a `Dense` layer, capable of handling floating-point vector data, as the first layer in your model.\n",
    "\n",
    "The following code performs the multi-hot encoding.  Notice that we are *flattening* our text data so that we are losing all sense of ordering of the words."
   ]
  },
  {
   "cell_type": "code",
   "execution_count": null,
   "id": "1890d2f8-63bb-4222-96c4-d96d18d27785",
   "metadata": {},
   "outputs": [],
   "source": [
    "import numpy as np\n",
    "def vectorize_sequences(sequences, dimension=10000):\n",
    "    results = np.zeros((len(sequences), dimension))\n",
    "    for i, sequence in enumerate(sequences):\n",
    "        for j in sequence:\n",
    "            results[i, j] = 1.\n",
    "    return results\n",
    "x_train = vectorize_sequences(train_data)\n",
    "x_test = vectorize_sequences(test_data)"
   ]
  },
  {
   "cell_type": "markdown",
   "id": "d07bb701-f97f-425a-ac02-9d902b2b7f2c",
   "metadata": {},
   "source": [
    "Here’s what the samples look like now:"
   ]
  },
  {
   "cell_type": "code",
   "execution_count": null,
   "id": "1d08c449-7346-4989-83e5-0da0e45ee7c4",
   "metadata": {},
   "outputs": [
    {
     "data": {
      "text/plain": [
       "array([0., 1., 1., ..., 0., 0., 0.])"
      ]
     },
     "execution_count": null,
     "metadata": {},
     "output_type": "execute_result"
    }
   ],
   "source": [
    "x_train[0]"
   ]
  },
  {
   "cell_type": "markdown",
   "id": "a85bfc70-3199-4517-aaed-44b6e7bf972f",
   "metadata": {},
   "source": [
    "Let's also vectorize the labels."
   ]
  },
  {
   "cell_type": "code",
   "execution_count": null,
   "id": "4908594f-77cf-4c81-a297-39f231289dc5",
   "metadata": {},
   "outputs": [],
   "source": [
    "y_train = np.asarray(train_labels).astype(\"float32\")\n",
    "y_test = np.asarray(test_labels).astype(\"float32\")"
   ]
  },
  {
   "cell_type": "markdown",
   "id": "65650986-808e-445f-af16-81b06bd7b1d1",
   "metadata": {},
   "source": [
    "## Building the Model"
   ]
  },
  {
   "cell_type": "markdown",
   "id": "105209f6-9ff9-40c7-a678-b818b046c5d9",
   "metadata": {},
   "source": [
    "The input data is vectors, and the labels are scalars (1s and 0s): this is one of the simplest problem setups you’ll ever encounter. A type of model that performs well on such a problem is a plain stack of densely connected (`Dense`) layers with `relu` activations.\n",
    "\n",
    "There are two key architecture decisions to be made about such a stack of `Dense` layers:\n",
    "\n",
    "- How many layers to use\n",
    "- How many units to choose for each layer\n",
    "\n",
    "We will use two hidden layers with 16 units each and a `relu` activation function.  Since we are predicting a single outcome (positive or negative) our output layer will have a single unit and we will use a `sigmoid` activation because this is a binary classification problem."
   ]
  },
  {
   "cell_type": "code",
   "execution_count": null,
   "id": "4cca8f80-b4f1-4c78-ac76-78ed21a513c8",
   "metadata": {},
   "outputs": [],
   "source": [
    "from tensorflow import keras\n",
    "from tensorflow.keras import layers\n",
    "\n",
    "model = keras.Sequential([\n",
    "    layers.Dense(16, activation=\"relu\"),\n",
    "    layers.Dense(16, activation=\"relu\"),\n",
    "    layers.Dense(1, activation=\"sigmoid\")\n",
    "])"
   ]
  },
  {
   "cell_type": "markdown",
   "id": "464de967-7c59-49a1-895f-1d3889d22df7",
   "metadata": {},
   "source": [
    "Finally, you need to choose a loss function and an optimizer. Because you’re facing a binary classification problem and the output of your model is a probability (you end your model with a single-unit layer with a sigmoid activation), it’s best to use the `binary_crossentropy` loss. It isn’t the only viable choice: for instance, you could use `mean_squared_error`. But crossentropy is usually the best choice when you’re dealing with models that output probabilities.\n",
    "\n",
    "As for the choice of the optimizer, we’ll go with `rmsprop`, which is a usually a good default choice for virtually any problem."
   ]
  },
  {
   "cell_type": "code",
   "execution_count": null,
   "id": "aa79da4e-a4df-4e05-bd8e-8475be31258e",
   "metadata": {},
   "outputs": [],
   "source": [
    "model.compile(optimizer=\"rmsprop\",\n",
    "              loss=\"binary_crossentropy\",\n",
    "              metrics=[\"accuracy\"])"
   ]
  },
  {
   "cell_type": "markdown",
   "id": "f31db840-1fc9-47af-8273-1e0cdf11e699",
   "metadata": {},
   "source": [
    "## Creating a Validation Set"
   ]
  },
  {
   "cell_type": "markdown",
   "id": "26721d68-6314-45cc-87ac-5ba8db2767db",
   "metadata": {},
   "source": [
    "A deep learning model should never be evaluated on its training data — it’s standard practice to use a validation set to monitor the accuracy of the model during training. Here, we’ll create a validation set by setting apart 10,000 samples from the original training data."
   ]
  },
  {
   "cell_type": "code",
   "execution_count": null,
   "id": "19c317d2-688b-4d38-9f24-5fd44f15d3b1",
   "metadata": {},
   "outputs": [],
   "source": [
    "x_val = x_train[:10000]\n",
    "partial_x_train = x_train[10000:]\n",
    "y_val = y_train[:10000]\n",
    "partial_y_train = y_train[10000:]"
   ]
  },
  {
   "cell_type": "markdown",
   "id": "08f42ba2-c989-4a33-9dd7-29994da9081f",
   "metadata": {},
   "source": [
    "## Training the Model"
   ]
  },
  {
   "cell_type": "markdown",
   "id": "45628ee2-1d96-4b12-858d-123ef329ce21",
   "metadata": {},
   "source": [
    "We will now train the model for 20 epochs (20 iterations over all samples in the training data) in mini-batches of 512 samples. At the same time, we will monitor loss and accuracy on the 10,000 samples that we set apart. We do so by passing the validation data as the `validation_data` argument."
   ]
  },
  {
   "cell_type": "code",
   "execution_count": null,
   "id": "9844cbce-7155-4e20-baae-3d92814a93f5",
   "metadata": {},
   "outputs": [
    {
     "name": "stdout",
     "output_type": "stream",
     "text": [
      "Epoch 1/20\n"
     ]
    },
    {
     "name": "stderr",
     "output_type": "stream",
     "text": [
      "2023-11-07 13:52:47.420717: W tensorflow/tsl/framework/cpu_allocator_impl.cc:83] Allocation of 600000000 exceeds 10% of free system memory.\n"
     ]
    },
    {
     "name": "stdout",
     "output_type": "stream",
     "text": [
      "27/30 [==========================>...] - ETA: 0s - loss: 0.5326 - accuracy: 0.7713"
     ]
    },
    {
     "name": "stderr",
     "output_type": "stream",
     "text": [
      "2023-11-07 13:52:48.719414: W tensorflow/tsl/framework/cpu_allocator_impl.cc:83] Allocation of 400000000 exceeds 10% of free system memory.\n"
     ]
    },
    {
     "name": "stdout",
     "output_type": "stream",
     "text": [
      "30/30 [==============================] - 1s 32ms/step - loss: 0.5202 - accuracy: 0.7799 - val_loss: 0.3975 - val_accuracy: 0.8579\n",
      "Epoch 2/20\n",
      "30/30 [==============================] - 0s 12ms/step - loss: 0.3163 - accuracy: 0.8985 - val_loss: 0.3150 - val_accuracy: 0.8773\n",
      "Epoch 3/20\n",
      "30/30 [==============================] - 0s 13ms/step - loss: 0.2351 - accuracy: 0.9231 - val_loss: 0.2828 - val_accuracy: 0.8882\n",
      "Epoch 4/20\n",
      "30/30 [==============================] - 0s 14ms/step - loss: 0.1887 - accuracy: 0.9397 - val_loss: 0.2874 - val_accuracy: 0.8842\n",
      "Epoch 5/20\n",
      "30/30 [==============================] - 0s 13ms/step - loss: 0.1590 - accuracy: 0.9471 - val_loss: 0.3151 - val_accuracy: 0.8760\n",
      "Epoch 6/20\n",
      "30/30 [==============================] - 0s 13ms/step - loss: 0.1356 - accuracy: 0.9569 - val_loss: 0.2940 - val_accuracy: 0.8816\n",
      "Epoch 7/20\n",
      "30/30 [==============================] - 0s 14ms/step - loss: 0.1145 - accuracy: 0.9665 - val_loss: 0.3222 - val_accuracy: 0.8733\n",
      "Epoch 8/20\n",
      "30/30 [==============================] - 0s 12ms/step - loss: 0.1014 - accuracy: 0.9711 - val_loss: 0.3076 - val_accuracy: 0.8839\n",
      "Epoch 9/20\n",
      "30/30 [==============================] - 0s 13ms/step - loss: 0.0847 - accuracy: 0.9769 - val_loss: 0.3288 - val_accuracy: 0.8783\n",
      "Epoch 10/20\n",
      "30/30 [==============================] - 0s 13ms/step - loss: 0.0718 - accuracy: 0.9827 - val_loss: 0.3700 - val_accuracy: 0.8687\n",
      "Epoch 11/20\n",
      "30/30 [==============================] - 0s 13ms/step - loss: 0.0600 - accuracy: 0.9861 - val_loss: 0.5107 - val_accuracy: 0.8414\n",
      "Epoch 12/20\n",
      "30/30 [==============================] - 0s 14ms/step - loss: 0.0553 - accuracy: 0.9861 - val_loss: 0.3913 - val_accuracy: 0.8753\n",
      "Epoch 13/20\n",
      "30/30 [==============================] - 0s 14ms/step - loss: 0.0437 - accuracy: 0.9915 - val_loss: 0.4087 - val_accuracy: 0.8738\n",
      "Epoch 14/20\n",
      "30/30 [==============================] - 0s 13ms/step - loss: 0.0380 - accuracy: 0.9947 - val_loss: 0.4465 - val_accuracy: 0.8713\n",
      "Epoch 15/20\n",
      "30/30 [==============================] - 0s 13ms/step - loss: 0.0341 - accuracy: 0.9937 - val_loss: 0.4392 - val_accuracy: 0.8749\n",
      "Epoch 16/20\n",
      "30/30 [==============================] - 0s 13ms/step - loss: 0.0260 - accuracy: 0.9963 - val_loss: 0.5053 - val_accuracy: 0.8675\n",
      "Epoch 17/20\n",
      "30/30 [==============================] - 0s 13ms/step - loss: 0.0223 - accuracy: 0.9973 - val_loss: 0.4829 - val_accuracy: 0.8720\n",
      "Epoch 18/20\n",
      "30/30 [==============================] - 0s 14ms/step - loss: 0.0177 - accuracy: 0.9990 - val_loss: 0.5195 - val_accuracy: 0.8669\n",
      "Epoch 19/20\n",
      "30/30 [==============================] - 0s 13ms/step - loss: 0.0194 - accuracy: 0.9970 - val_loss: 0.5246 - val_accuracy: 0.8703\n",
      "Epoch 20/20\n",
      "30/30 [==============================] - 0s 12ms/step - loss: 0.0131 - accuracy: 0.9983 - val_loss: 0.5822 - val_accuracy: 0.8604\n"
     ]
    }
   ],
   "source": [
    "history = model.fit(partial_x_train,\n",
    "                    partial_y_train,\n",
    "                    epochs=20,\n",
    "                    batch_size=512,\n",
    "                    validation_data=(x_val, y_val))"
   ]
  },
  {
   "cell_type": "markdown",
   "id": "46269348-968d-4930-8605-5a7fb588375e",
   "metadata": {},
   "source": [
    "The call to `model.fit()` returns a `history` object. This object has a member `history`, which is a dictionary containing data about everything that happened during training. Let’s look at it:"
   ]
  },
  {
   "cell_type": "code",
   "execution_count": null,
   "id": "8c3c2eb8-54e9-46c8-a730-208deb1bd473",
   "metadata": {},
   "outputs": [
    {
     "data": {
      "text/plain": [
       "dict_keys(['loss', 'accuracy', 'val_loss', 'val_accuracy'])"
      ]
     },
     "execution_count": null,
     "metadata": {},
     "output_type": "execute_result"
    }
   ],
   "source": [
    "history_dict = history.history\n",
    "history_dict.keys()"
   ]
  },
  {
   "cell_type": "markdown",
   "id": "92afef66-4f2b-4837-8dea-e95bd982a633",
   "metadata": {},
   "source": [
    "## Plotting the Training and Validation Loss"
   ]
  },
  {
   "cell_type": "markdown",
   "id": "74f89d17-d9b0-4b01-af09-ac26c9955af5",
   "metadata": {},
   "source": [
    "Let’s use **matplotlib** to plot the training and validation loss side by side as well as the training and\n",
    "validation accuracy. Note that your own results may vary slightly due to a different random initialization of your model."
   ]
  },
  {
   "cell_type": "code",
   "execution_count": null,
   "id": "5883b0eb-f3ba-4804-9b15-dad505c81860",
   "metadata": {},
   "outputs": [
    {
     "data": {
      "image/png": "[encoded data removed]",
      "text/plain": [
       "<Figure size 640x480 with 1 Axes>"
      ]
     },
     "metadata": {},
     "output_type": "display_data"
    }
   ],
   "source": [
    "import matplotlib.pyplot as plt\n",
    "history_dict = history.history\n",
    "loss_values = history_dict[\"loss\"]\n",
    "val_loss_values = history_dict[\"val_loss\"]\n",
    "epochs = range(1, len(loss_values) + 1)\n",
    "plt.plot(epochs, loss_values, \"bo\", label=\"Training loss\")\n",
    "plt.plot(epochs, val_loss_values, \"b\", label=\"Validation loss\")\n",
    "plt.title(\"Training and validation loss\")\n",
    "plt.xlabel(\"Epochs\")\n",
    "plt.ylabel(\"Loss\")\n",
    "plt.legend()\n",
    "plt.show()"
   ]
  },
  {
   "cell_type": "code",
   "execution_count": null,
   "id": "f06acf82-ac75-4f51-bafd-95b147d30e31",
   "metadata": {},
   "outputs": [
    {
     "data": {
      "image/png": "[encoded data removed]",
      "text/plain": [
       "<Figure size 640x480 with 1 Axes>"
      ]
     },
     "metadata": {},
     "output_type": "display_data"
    }
   ],
   "source": [
    "plt.clf()\n",
    "acc = history_dict[\"accuracy\"]\n",
    "val_acc = history_dict[\"val_accuracy\"]\n",
    "plt.plot(epochs, acc, \"bo\", label=\"Training acc\")\n",
    "plt.plot(epochs, val_acc, \"b\", label=\"Validation acc\")\n",
    "plt.title(\"Training and validation accuracy\")\n",
    "plt.xlabel(\"Epochs\")\n",
    "plt.ylabel(\"Accuracy\")\n",
    "plt.legend()\n",
    "plt.show()"
   ]
  },
  {
   "cell_type": "markdown",
   "id": "95f42342-f90d-4779-9b8e-83062b81647e",
   "metadata": {},
   "source": [
    "As you can see, the training loss decreases with every epoch, and the training accuracy\n",
    "increases with every epoch. That’s what you would expect when running gradient-\n",
    "descent optimization — the quantity you’re trying to minimize should be less with\n",
    "every iteration. But that isn’t the case for the validation loss and accuracy: they seem to\n",
    "peak at the fourth epoch. What you’re seeing is overfitting: after the fourth epoch, you’re overoptimizing on the training data, and you end up learning representations that are specific to the training data and don’t generalize to data outside of the training set.\n",
    "\n",
    "In this case, to prevent overfitting, you could stop training after four epochs."
   ]
  },
  {
   "cell_type": "markdown",
   "id": "789acef0-217c-4143-a076-97f4a3e46f10",
   "metadata": {},
   "source": [
    "## Retraining the Model with Four Epochs"
   ]
  },
  {
   "cell_type": "markdown",
   "id": "b94a5582-8d78-4e07-9e65-88852e2911a0",
   "metadata": {},
   "source": [
    "Let’s train a new model from scratch for four epochs and then evaluate it on the test data."
   ]
  },
  {
   "cell_type": "code",
   "execution_count": null,
   "id": "33011e6a-3641-498b-bb4e-91440230308a",
   "metadata": {},
   "outputs": [
    {
     "name": "stdout",
     "output_type": "stream",
     "text": [
      "Epoch 1/4\n"
     ]
    },
    {
     "name": "stderr",
     "output_type": "stream",
     "text": [
      "2023-11-07 13:54:48.663915: W tensorflow/tsl/framework/cpu_allocator_impl.cc:83] Allocation of 1000000000 exceeds 10% of free system memory.\n"
     ]
    },
    {
     "name": "stdout",
     "output_type": "stream",
     "text": [
      "49/49 [==============================] - 1s 9ms/step - loss: 0.4965 - accuracy: 0.8072\n",
      "Epoch 2/4\n",
      "49/49 [==============================] - 0s 8ms/step - loss: 0.2924 - accuracy: 0.8979\n",
      "Epoch 3/4\n",
      "49/49 [==============================] - 0s 9ms/step - loss: 0.2256 - accuracy: 0.9191\n",
      "Epoch 4/4\n",
      "49/49 [==============================] - 0s 9ms/step - loss: 0.1928 - accuracy: 0.9305\n",
      "  1/782 [..............................] - ETA: 1:02 - loss: 0.3020 - accuracy: 0.8438"
     ]
    },
    {
     "name": "stderr",
     "output_type": "stream",
     "text": [
      "2023-11-07 13:54:53.967576: W tensorflow/tsl/framework/cpu_allocator_impl.cc:83] Allocation of 1000000000 exceeds 10% of free system memory.\n"
     ]
    },
    {
     "name": "stdout",
     "output_type": "stream",
     "text": [
      "782/782 [==============================] - 1s 1ms/step - loss: 0.2792 - accuracy: 0.8873\n"
     ]
    }
   ],
   "source": [
    "model = keras.Sequential([\n",
    "    layers.Dense(16, activation=\"relu\"),\n",
    "    layers.Dense(16, activation=\"relu\"),\n",
    "    layers.Dense(1, activation=\"sigmoid\")\n",
    "])\n",
    "model.compile(optimizer=\"rmsprop\",\n",
    "              loss=\"binary_crossentropy\",\n",
    "              metrics=[\"accuracy\"])\n",
    "model.fit(x_train, y_train, epochs=4, batch_size=512)\n",
    "results = model.evaluate(x_test, y_test)"
   ]
  },
  {
   "cell_type": "markdown",
   "id": "7d563d54-457a-4686-99e4-5509bb9e8717",
   "metadata": {},
   "source": [
    "The final results are below.  This fairly naive approach achieves an accuracy of 88%. With state-of-the-art\n",
    "approaches, you should be able to get close to 95%."
   ]
  },
  {
   "cell_type": "code",
   "execution_count": null,
   "id": "b6d50ce9-427b-4076-9949-b7b2c456e0bf",
   "metadata": {},
   "outputs": [
    {
     "data": {
      "text/plain": [
       "[0.27919963002204895, 0.8872799873352051]"
      ]
     },
     "execution_count": null,
     "metadata": {},
     "output_type": "execute_result"
    }
   ],
   "source": [
    "results"
   ]
  },
  {
   "cell_type": "markdown",
   "id": "7450c7f2-dcbe-416b-82f6-7ba45510fe5b",
   "metadata": {},
   "source": [
    "## Generating Predictions on New Data"
   ]
  },
  {
   "cell_type": "markdown",
   "id": "925738c7-4def-41bd-87a1-f52a989be63c",
   "metadata": {},
   "source": [
    "After having trained a model, you’ll want to use it on new data. You can generate the likelihood of reviews being positive by using the `.predict()` method."
   ]
  },
  {
   "cell_type": "code",
   "execution_count": null,
   "id": "ece7de03-8a8a-40d3-a804-af4058cf8cb5",
   "metadata": {},
   "outputs": [
    {
     "name": "stderr",
     "output_type": "stream",
     "text": [
      "2023-11-07 13:55:18.938415: W tensorflow/tsl/framework/cpu_allocator_impl.cc:83] Allocation of 1000000000 exceeds 10% of free system memory.\n"
     ]
    },
    {
     "name": "stdout",
     "output_type": "stream",
     "text": [
      "782/782 [==============================] - 1s 1ms/step\n"
     ]
    },
    {
     "data": {
      "text/plain": [
       "array([[0.1812639 ],\n",
       "       [0.9998338 ],\n",
       "       [0.8731738 ],\n",
       "       ...,\n",
       "       [0.08835417],\n",
       "       [0.0980044 ],\n",
       "       [0.631039  ]], dtype=float32)"
      ]
     },
     "execution_count": null,
     "metadata": {},
     "output_type": "execute_result"
    }
   ],
   "source": [
    "model.predict(x_test)"
   ]
  },
  {
   "cell_type": "markdown",
   "id": "2dbce7c6-510e-4eb9-86df-d9e34b556746",
   "metadata": {},
   "source": [
    "## Further Exploration"
   ]
  },
  {
   "cell_type": "markdown",
   "id": "cd51d6c5-400f-47ca-8649-ebf18edab40a",
   "metadata": {},
   "source": [
    "The following experiments will help convince you that the architecture choices you’ve\n",
    "made are all fairly reasonable, although there’s still room for improvement:\n",
    "\n",
    "- You used two representation layers before the final classification layer. Try using\n",
    "one or three representation layers, and see how doing so affects validation and\n",
    "test accuracy.\n",
    "- Try using layers with more units or fewer units: 32 units, 64 units, and so on.\n",
    "- Try using the `mse` loss function instead of `binary_crossentropy`.\n",
    "- Try using the `tanh` activation (an activation that was popular in the early days of\n",
    "neural networks) instead of `relu`."
   ]
  }
 ],
 "metadata": {
  "kernelspec": {
   "display_name": "python3",
   "language": "python",
   "name": "python3"
  }
 },
 "nbformat": 4,
 "nbformat_minor": 5
}
