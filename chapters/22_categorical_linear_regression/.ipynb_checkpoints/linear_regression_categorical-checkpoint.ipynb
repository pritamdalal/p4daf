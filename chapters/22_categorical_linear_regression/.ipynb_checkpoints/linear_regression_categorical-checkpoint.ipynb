{
 "cells": [
  {
   "cell_type": "markdown",
   "metadata": {},
   "source": [
    "# Linear Regression with Categorical Variables"
   ]
  },
  {
   "cell_type": "markdown",
   "metadata": {},
   "source": [
    "Our previous work with linear regression involved cases where all the features were numeric (continuous).  In this tutorial, we consider linear regression with categorical (discrete) features.  This material is based on section 3.3.1 (pp 83-87) of *Introduction to Statistical Learning 2e*."
   ]
  },
  {
   "cell_type": "markdown",
   "metadata": {},
   "source": [
    "### Loading Packages"
   ]
  },
  {
   "cell_type": "markdown",
   "metadata": {},
   "source": [
    "Let's begin by loading the packages that we will need.  Notice that in addition to `sklearn` we are also loading `statsmodels`, which is a popular package that includes many classical statistical techniques."
   ]
  },
  {
   "cell_type": "code",
   "execution_count": null,
   "metadata": {},
   "outputs": [],
   "source": [
    "##> import pandas as pd\n",
    "##> import numpy as np\n",
    "##> import seaborn as sns\n",
    "##> import statsmodels.api as sm\n",
    "##> import warnings\n",
    "##> warnings.filterwarnings('ignore')\n",
    "##> %matplotlib inline\n",
    "\n",
    "\n"
   ]
  },
  {
   "cell_type": "markdown",
   "metadata": {},
   "source": [
    "### Reading In Data"
   ]
  },
  {
   "cell_type": "markdown",
   "metadata": {},
   "source": [
    "Next, we'll read-in the data that we will be working with; it is the `Credit` data set from the `ISLR2` R package that can be downloaded from CRAN."
   ]
  },
  {
   "cell_type": "code",
   "execution_count": null,
   "metadata": {},
   "outputs": [],
   "source": [
    "##> df_credit = pd.read_csv('credit.csv')\n",
    "##> df_credit.columns = df_credit.columns.str.lower()\n",
    "##> df_credit\n",
    "\n",
    "\n"
   ]
  },
  {
   "cell_type": "markdown",
   "metadata": {},
   "source": [
    "The label is `balance` - average credit card debt for each individual\n",
    "\n",
    "There are several quantitative features:\n",
    "- `age` - in years\n",
    "- `cards` - number of credit cards\n",
    "- `education` - years of education\n",
    "- `income` - in thousands of dollars\n",
    "- `limit` - credit limit\n",
    "- `rating` credit rating (FICO)\n",
    "\n",
    "In addition to these quantitative variables, we also have four qualitative variables: \n",
    "- own - home ownership\n",
    "- student - are they a student or not\n",
    "- status - are they married or not\n",
    "- region - geographic location (East, West, or South)"
   ]
  },
  {
   "cell_type": "markdown",
   "metadata": {},
   "source": [
    "We can examine the pairwise relationships between the quantitative variables with the `seaborn.pairplot()` function."
   ]
  },
  {
   "cell_type": "code",
   "execution_count": null,
   "metadata": {},
   "outputs": [],
   "source": [
    "##> sns.pairplot(df_credit, height=1.25, plot_kws={\"s\": 15});\n",
    "\n"
   ]
  },
  {
   "cell_type": "markdown",
   "metadata": {},
   "source": [
    "### Categorical Feature with Two Levels"
   ]
  },
  {
   "cell_type": "markdown",
   "metadata": {},
   "source": [
    "Suppose that we wish to investigate diﬀerences in credit card balance between those who own a house and those who don’t, ignoring the other variables. If a qualitative feature only has two possible values (also called *levels*), then incorporating it into a regression model is simple. We simply create an indicator or *dummy variable* that takes on two possible numerical values.  In particular, our dummy variable takes a value of zero for those who *don't* own a house, and a value of one for those who *do* own a house.  This technique is called one-hot encoding.\n",
    "\n",
    "We can use `pandas.get_dummies()` to perform one-hot encoding."
   ]
  },
  {
   "cell_type": "code",
   "execution_count": null,
   "metadata": {},
   "outputs": [],
   "source": [
    "##> df_X = df_credit[['own']]\n",
    "##> df_X = pd.get_dummies(df_X, drop_first=True)\n",
    "##> df_X.head()\n",
    "\n",
    "\n"
   ]
  },
  {
   "cell_type": "markdown",
   "metadata": {},
   "source": [
    "Let's isolate our labels into their own `DataFrame`."
   ]
  },
  {
   "cell_type": "code",
   "execution_count": null,
   "metadata": {},
   "outputs": [],
   "source": [
    "##> df_y = df_credit[['balance']]\n",
    "##> df_y.head()\n",
    "\n",
    "\n"
   ]
  },
  {
   "cell_type": "markdown",
   "metadata": {},
   "source": [
    "We'll first perform a linear regression using `sklearn`."
   ]
  },
  {
   "cell_type": "code",
   "execution_count": null,
   "metadata": {},
   "outputs": [],
   "source": [
    "##> from sklearn.linear_model import LinearRegression\n",
    "##> model = LinearRegression()\n",
    "##> model.fit(df_X, df_y)\n",
    "\n",
    "\n"
   ]
  },
  {
   "cell_type": "markdown",
   "metadata": {},
   "source": [
    "We can examine the intercept and coefficient as follows:"
   ]
  },
  {
   "cell_type": "code",
   "execution_count": null,
   "metadata": {},
   "outputs": [],
   "source": [
    "##> print(model.coef_)\n",
    "##> print(model.intercept_)\n",
    "\n",
    "\n"
   ]
  },
  {
   "cell_type": "markdown",
   "metadata": {},
   "source": [
    "Let's make these values easier to read by putting them into a `DataFrame`."
   ]
  },
  {
   "cell_type": "code",
   "execution_count": null,
   "metadata": {},
   "outputs": [],
   "source": [
    "##> df_coef = pd.DataFrame(\n",
    "##>     data = {'coefficient': list(model.intercept_) + list(np.ravel(model.coef_))},\n",
    "##>     index = ['intercept'] + list(df_X.columns.values), \n",
    "##> )\n",
    "##> df_coef\n",
    "\n",
    "\n"
   ]
  },
  {
   "cell_type": "markdown",
   "metadata": {},
   "source": [
    "#### Using `statsmodels`"
   ]
  },
  {
   "cell_type": "markdown",
   "metadata": {},
   "source": [
    "Next, let's perform the same the same linear regression using `statsmodels` which will allow us to check for statistical significance by examining $p$-values."
   ]
  },
  {
   "cell_type": "code",
   "execution_count": null,
   "metadata": {},
   "outputs": [],
   "source": [
    "##> df_X_sm = sm.add_constant(df_X)\n",
    "##> ls = sm.OLS(df_y, df_X_sm).fit()\n",
    "##> print(ls.summary())\n",
    "\n",
    "\n"
   ]
  },
  {
   "cell_type": "markdown",
   "metadata": {},
   "source": [
    " "
   ]
  },
  {
   "cell_type": "markdown",
   "metadata": {},
   "source": [
    "Here is how to interpret these results:\n",
    "- A non-home owner has an average balance of \\$509.80\n",
    "- A home owner has an average balance of 509.80 + 19.73 = \\$529.53\n",
    "- However, notice that the $p$-value of `own_Yes` is quite high which suggests that there is no statistical evidence of a diﬀerence in average credit card\n",
    "balance based on house ownership. "
   ]
  },
  {
   "cell_type": "markdown",
   "metadata": {},
   "source": [
    "### Categorical Feature with Multiple Levels"
   ]
  },
  {
   "cell_type": "markdown",
   "metadata": {},
   "source": [
    "In this section we consider regression on a categorical feature that has multiple levels.  When a qualitative feature has more than two levels, a single dummy variable cannot represent all possible values. In this situation we can create additional dummy variables.  There will always be one fewer dummy variable than the number of levels.\n",
    "\n",
    "To explore this technique, let's use the `region` feature and create dummy variables using the `pandas.get_dummies()` function."
   ]
  },
  {
   "cell_type": "code",
   "execution_count": null,
   "metadata": {},
   "outputs": [],
   "source": [
    "##> df_X = df_credit[['region']]\n",
    "##> df_X = pd.get_dummies(df_X, drop_first=True)\n",
    "##> df_X.head()\n",
    "\n",
    "\n"
   ]
  },
  {
   "cell_type": "markdown",
   "metadata": {},
   "source": [
    "Next, let's use `sklearn` to perform a linear regression with the dummy variables."
   ]
  },
  {
   "cell_type": "code",
   "execution_count": null,
   "metadata": {},
   "outputs": [],
   "source": [
    "##> from sklearn.linear_model import LinearRegression\n",
    "##> model = LinearRegression()\n",
    "##> model.fit(df_X, df_y)\n",
    "\n",
    "\n"
   ]
  },
  {
   "cell_type": "markdown",
   "metadata": {},
   "source": [
    "We can examine the coefficients in a `DataFrame` as follows:"
   ]
  },
  {
   "cell_type": "code",
   "execution_count": null,
   "metadata": {},
   "outputs": [],
   "source": [
    "##> df_coef = pd.DataFrame(\n",
    "##>     data = {'coefficient': list(model.intercept_) + list(np.ravel(model.coef_))},\n",
    "##>     index = ['intercept'] + list(df_X.columns.values), \n",
    "##> )\n",
    "##> df_coef\n",
    "\n",
    "\n"
   ]
  },
  {
   "cell_type": "markdown",
   "metadata": {},
   "source": [
    "Finally, we'll use `statsmodels` to perform the same regression so that we can examine the $p$-values."
   ]
  },
  {
   "cell_type": "code",
   "execution_count": null,
   "metadata": {},
   "outputs": [],
   "source": [
    "##> df_X_sm = sm.add_constant(df_X)\n",
    "##> ls = sm.OLS(df_y, df_X_sm).fit()\n",
    "##> print(ls.summary())\n",
    "\n",
    "\n"
   ]
  },
  {
   "cell_type": "markdown",
   "metadata": {},
   "source": [
    " "
   ]
  },
  {
   "cell_type": "markdown",
   "metadata": {},
   "source": [
    "Here is how to interpret these results:\n",
    "- The average balance of a cardholder that lives in the `East` is \\$531.00.\n",
    "- A cardholder in the `South` has an average balance of 531.00 - 12.50 = \\$518.50\n",
    "- A cardholder in the `West` has an average balance of 531.00 - 18.67 = \\$512.33\n",
    "- The the $p$-values of both `region_South` and `region_West` are quite high which suggests that there is no statistical evidence of a diﬀerence in average credit card balance based on region. "
   ]
  }
 ],
 "metadata": {
  "kernelspec": {
   "display_name": "Python 3",
   "language": "python",
   "name": "python3"
  },
  "language_info": {
   "codemirror_mode": {
    "name": "ipython",
    "version": 3
   },
   "file_extension": ".py",
   "mimetype": "text/x-python",
   "name": "python",
   "nbconvert_exporter": "python",
   "pygments_lexer": "ipython3",
   "version": "3.8.10"
  }
 },
 "nbformat": 4,
 "nbformat_minor": 4
}
