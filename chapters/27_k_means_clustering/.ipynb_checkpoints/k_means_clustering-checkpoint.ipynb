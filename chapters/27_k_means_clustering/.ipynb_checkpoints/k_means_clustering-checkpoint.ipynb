{
 "cells": [
  {
   "cell_type": "markdown",
   "metadata": {},
   "source": [
    "# K-Means Clustering"
   ]
  },
  {
   "cell_type": "markdown",
   "metadata": {},
   "source": [
    "*K-means clustering* is an unsupervised learning technique that groups collections of feature observations together into a pre-specified number of groups.\n",
    "\n",
    "In this chapter we will perform k-means clustering to backtest data of a volatility trading strategy applied to various ETF underlyings.  In particular, we will cluster the underlyings based on `beta`/`pnl`.  In the related homework assignment, you will be asked to perform clustering by `beta`/`stdev` as well as `stdev`/`pnl`."
   ]
  },
  {
   "cell_type": "markdown",
   "metadata": {},
   "source": [
    "## Importing Packages"
   ]
  },
  {
   "cell_type": "markdown",
   "metadata": {},
   "source": [
    "Let's begin by importing the packages that we will need."
   ]
  },
  {
   "cell_type": "code",
   "execution_count": null,
   "metadata": {},
   "outputs": [],
   "source": [
    "import pandas as pd\n",
    "import numpy as np\n",
    "import sklearn\n",
    "import seaborn as sns\n",
    "import matplotlib.pyplot as plt"
   ]
  },
  {
   "cell_type": "markdown",
   "metadata": {},
   "source": [
    "## Reading-In Data"
   ]
  },
  {
   "cell_type": "markdown",
   "metadata": {},
   "source": [
    "Next let's read-in our data, which consists of performance statistics of the various underlyings over the backtest period.  In particular, we will be interested in:\n",
    "\n",
    "1. pnl - daily average pnl (multplied by 100)\n",
    "2. beta - the beta to the strategy applied to SPY (not SPY itself)\n",
    "3. stdev - the standard deviation of the daily PNLs."
   ]
  },
  {
   "cell_type": "code",
   "execution_count": null,
   "metadata": {},
   "outputs": [
    {
     "data": {
      "text/html": [
       "<div>\n",
       "<style scoped>\n",
       "    .dataframe tbody tr th:only-of-type {\n",
       "        vertical-align: middle;\n",
       "    }\n",
       "\n",
       "    .dataframe tbody tr th {\n",
       "        vertical-align: top;\n",
       "    }\n",
       "\n",
       "    .dataframe thead th {\n",
       "        text-align: right;\n",
       "    }\n",
       "</style>\n",
       "<table border=\"1\" class=\"dataframe\">\n",
       "  <thead>\n",
       "    <tr style=\"text-align: right;\">\n",
       "      <th></th>\n",
       "      <th>underlying</th>\n",
       "      <th>stdev</th>\n",
       "      <th>spy_stdev</th>\n",
       "      <th>corr_spy</th>\n",
       "      <th>beta</th>\n",
       "      <th>pnl</th>\n",
       "    </tr>\n",
       "  </thead>\n",
       "  <tbody>\n",
       "    <tr>\n",
       "      <th>0</th>\n",
       "      <td>DIA</td>\n",
       "      <td>0.010383</td>\n",
       "      <td>0.014772</td>\n",
       "      <td>0.824586</td>\n",
       "      <td>0.579557</td>\n",
       "      <td>0.613557</td>\n",
       "    </tr>\n",
       "    <tr>\n",
       "      <th>1</th>\n",
       "      <td>EEM</td>\n",
       "      <td>0.025753</td>\n",
       "      <td>0.014772</td>\n",
       "      <td>0.550046</td>\n",
       "      <td>0.958898</td>\n",
       "      <td>0.457594</td>\n",
       "    </tr>\n",
       "    <tr>\n",
       "      <th>2</th>\n",
       "      <td>EFA</td>\n",
       "      <td>0.021988</td>\n",
       "      <td>0.014772</td>\n",
       "      <td>0.608328</td>\n",
       "      <td>0.905449</td>\n",
       "      <td>-0.582501</td>\n",
       "    </tr>\n",
       "    <tr>\n",
       "      <th>3</th>\n",
       "      <td>EMB</td>\n",
       "      <td>0.005283</td>\n",
       "      <td>0.014772</td>\n",
       "      <td>0.185949</td>\n",
       "      <td>0.066495</td>\n",
       "      <td>-0.117455</td>\n",
       "    </tr>\n",
       "    <tr>\n",
       "      <th>4</th>\n",
       "      <td>EWH</td>\n",
       "      <td>0.037914</td>\n",
       "      <td>0.014772</td>\n",
       "      <td>0.134310</td>\n",
       "      <td>0.344708</td>\n",
       "      <td>0.036128</td>\n",
       "    </tr>\n",
       "  </tbody>\n",
       "</table>\n",
       "</div>"
      ],
      "text/plain": [
       "  underlying     stdev  spy_stdev  corr_spy      beta       pnl\n",
       "0        DIA  0.010383   0.014772  0.824586  0.579557  0.613557\n",
       "1        EEM  0.025753   0.014772  0.550046  0.958898  0.457594\n",
       "2        EFA  0.021988   0.014772  0.608328  0.905449 -0.582501\n",
       "3        EMB  0.005283   0.014772  0.185949  0.066495 -0.117455\n",
       "4        EWH  0.037914   0.014772  0.134310  0.344708  0.036128"
      ]
     },
     "execution_count": null,
     "metadata": {},
     "output_type": "execute_result"
    }
   ],
   "source": [
    "df_cluster = pd.read_csv(\"strategy.csv\")\n",
    "df_cluster.head()"
   ]
  },
  {
   "cell_type": "markdown",
   "metadata": {},
   "source": [
    "We will also import some additional information about the universe of underlyings which we will find useful later in our analysis."
   ]
  },
  {
   "cell_type": "code",
   "execution_count": null,
   "metadata": {},
   "outputs": [
    {
     "data": {
      "text/html": [
       "<div>\n",
       "<style scoped>\n",
       "    .dataframe tbody tr th:only-of-type {\n",
       "        vertical-align: middle;\n",
       "    }\n",
       "\n",
       "    .dataframe tbody tr th {\n",
       "        vertical-align: top;\n",
       "    }\n",
       "\n",
       "    .dataframe thead th {\n",
       "        text-align: right;\n",
       "    }\n",
       "</style>\n",
       "<table border=\"1\" class=\"dataframe\">\n",
       "  <thead>\n",
       "    <tr style=\"text-align: right;\">\n",
       "      <th></th>\n",
       "      <th>underlying</th>\n",
       "      <th>name</th>\n",
       "    </tr>\n",
       "  </thead>\n",
       "  <tbody>\n",
       "    <tr>\n",
       "      <th>0</th>\n",
       "      <td>DIA</td>\n",
       "      <td>SPDR DOW JONES INDL AVERAGE ET UT SER 1</td>\n",
       "    </tr>\n",
       "    <tr>\n",
       "      <th>1</th>\n",
       "      <td>EEM</td>\n",
       "      <td>ISHARES TR MSCI EMG MKT ETF</td>\n",
       "    </tr>\n",
       "    <tr>\n",
       "      <th>2</th>\n",
       "      <td>EFA</td>\n",
       "      <td>ISHARES TR MSCI EAFE ETF</td>\n",
       "    </tr>\n",
       "    <tr>\n",
       "      <th>3</th>\n",
       "      <td>EMB</td>\n",
       "      <td>ISHARES TR JPMORGAN USD EMG</td>\n",
       "    </tr>\n",
       "    <tr>\n",
       "      <th>4</th>\n",
       "      <td>EWH</td>\n",
       "      <td>ISHARES INC MSCI HONG KG ETF</td>\n",
       "    </tr>\n",
       "  </tbody>\n",
       "</table>\n",
       "</div>"
      ],
      "text/plain": [
       "  underlying                                     name\n",
       "0        DIA  SPDR DOW JONES INDL AVERAGE ET UT SER 1\n",
       "1        EEM              ISHARES TR MSCI EMG MKT ETF\n",
       "2        EFA                 ISHARES TR MSCI EAFE ETF\n",
       "3        EMB              ISHARES TR JPMORGAN USD EMG\n",
       "4        EWH             ISHARES INC MSCI HONG KG ETF"
      ]
     },
     "execution_count": null,
     "metadata": {},
     "output_type": "execute_result"
    }
   ],
   "source": [
    "df_universe = df_cluster[['underlying']]\n",
    "df = pd.read_csv('universe.csv')\n",
    "df_universe = df_universe.merge(df, how='inner', on='underlying')\n",
    "df_universe.head()"
   ]
  },
  {
   "cell_type": "markdown",
   "metadata": {},
   "source": [
    "## Checking for Outliers"
   ]
  },
  {
   "cell_type": "markdown",
   "metadata": {},
   "source": [
    "Let's plot our data quickly in order to check for potential outliers."
   ]
  },
  {
   "cell_type": "code",
   "execution_count": null,
   "metadata": {},
   "outputs": [
    {
     "data": {
      "image/png": "[encoded data removed]",
      "text/plain": [
       "<Figure size 655.2x504 with 1 Axes>"
      ]
     },
     "metadata": {},
     "output_type": "display_data"
    }
   ],
   "source": [
    "with sns.axes_style('whitegrid'):\n",
    "    g = sns.relplot(\n",
    "            x='beta'\n",
    "            , y='pnl'\n",
    "            , data=df_cluster\n",
    "            , color = 'black'\n",
    "            , alpha = 0.75\n",
    "            , height=7 \n",
    "            , aspect=1.3\n",
    "            , s=70\n",
    "        );\n",
    "    plt.subplots_adjust(top=0.93);\n",
    "    g.fig.suptitle('beta vs pnl');"
   ]
  },
  {
   "cell_type": "markdown",
   "metadata": {},
   "source": [
    "## Wrangling: Removing Outliers"
   ]
  },
  {
   "cell_type": "markdown",
   "metadata": {},
   "source": [
    "There seem to be a few extreme data point, which is likely the result of bad data. Let's write a query to isolate these."
   ]
  },
  {
   "cell_type": "code",
   "execution_count": null,
   "metadata": {},
   "outputs": [
    {
     "data": {
      "text/html": [
       "<div>\n",
       "<style scoped>\n",
       "    .dataframe tbody tr th:only-of-type {\n",
       "        vertical-align: middle;\n",
       "    }\n",
       "\n",
       "    .dataframe tbody tr th {\n",
       "        vertical-align: top;\n",
       "    }\n",
       "\n",
       "    .dataframe thead th {\n",
       "        text-align: right;\n",
       "    }\n",
       "</style>\n",
       "<table border=\"1\" class=\"dataframe\">\n",
       "  <thead>\n",
       "    <tr style=\"text-align: right;\">\n",
       "      <th></th>\n",
       "      <th>underlying</th>\n",
       "      <th>stdev</th>\n",
       "      <th>spy_stdev</th>\n",
       "      <th>corr_spy</th>\n",
       "      <th>beta</th>\n",
       "      <th>pnl</th>\n",
       "    </tr>\n",
       "  </thead>\n",
       "  <tbody>\n",
       "    <tr>\n",
       "      <th>13</th>\n",
       "      <td>GDX</td>\n",
       "      <td>0.061813</td>\n",
       "      <td>0.014772</td>\n",
       "      <td>0.197046</td>\n",
       "      <td>0.824502</td>\n",
       "      <td>-8.315433</td>\n",
       "    </tr>\n",
       "    <tr>\n",
       "      <th>19</th>\n",
       "      <td>SLV</td>\n",
       "      <td>0.048230</td>\n",
       "      <td>0.014772</td>\n",
       "      <td>0.221409</td>\n",
       "      <td>0.722864</td>\n",
       "      <td>5.975203</td>\n",
       "    </tr>\n",
       "    <tr>\n",
       "      <th>23</th>\n",
       "      <td>UNG</td>\n",
       "      <td>0.082083</td>\n",
       "      <td>0.014772</td>\n",
       "      <td>0.041565</td>\n",
       "      <td>0.230951</td>\n",
       "      <td>-8.397742</td>\n",
       "    </tr>\n",
       "  </tbody>\n",
       "</table>\n",
       "</div>"
      ],
      "text/plain": [
       "   underlying     stdev  spy_stdev  corr_spy      beta       pnl\n",
       "13        GDX  0.061813   0.014772  0.197046  0.824502 -8.315433\n",
       "19        SLV  0.048230   0.014772  0.221409  0.722864  5.975203\n",
       "23        UNG  0.082083   0.014772  0.041565  0.230951 -8.397742"
      ]
     },
     "execution_count": null,
     "metadata": {},
     "output_type": "execute_result"
    }
   ],
   "source": [
    "df_cluster.query(\"pnl < -8 or pnl > 5\")"
   ]
  },
  {
   "cell_type": "markdown",
   "metadata": {},
   "source": [
    "We can see that the offenders are GDX, SLV, and UNG.  Let's remove these manually now."
   ]
  },
  {
   "cell_type": "code",
   "execution_count": null,
   "metadata": {},
   "outputs": [
    {
     "data": {
      "text/html": [
       "<div>\n",
       "<style scoped>\n",
       "    .dataframe tbody tr th:only-of-type {\n",
       "        vertical-align: middle;\n",
       "    }\n",
       "\n",
       "    .dataframe tbody tr th {\n",
       "        vertical-align: top;\n",
       "    }\n",
       "\n",
       "    .dataframe thead th {\n",
       "        text-align: right;\n",
       "    }\n",
       "</style>\n",
       "<table border=\"1\" class=\"dataframe\">\n",
       "  <thead>\n",
       "    <tr style=\"text-align: right;\">\n",
       "      <th></th>\n",
       "      <th>underlying</th>\n",
       "      <th>stdev</th>\n",
       "      <th>spy_stdev</th>\n",
       "      <th>corr_spy</th>\n",
       "      <th>beta</th>\n",
       "      <th>pnl</th>\n",
       "    </tr>\n",
       "  </thead>\n",
       "  <tbody>\n",
       "    <tr>\n",
       "      <th>0</th>\n",
       "      <td>DIA</td>\n",
       "      <td>0.010383</td>\n",
       "      <td>0.014772</td>\n",
       "      <td>0.824586</td>\n",
       "      <td>0.579557</td>\n",
       "      <td>0.613557</td>\n",
       "    </tr>\n",
       "    <tr>\n",
       "      <th>1</th>\n",
       "      <td>EEM</td>\n",
       "      <td>0.025753</td>\n",
       "      <td>0.014772</td>\n",
       "      <td>0.550046</td>\n",
       "      <td>0.958898</td>\n",
       "      <td>0.457594</td>\n",
       "    </tr>\n",
       "    <tr>\n",
       "      <th>2</th>\n",
       "      <td>EFA</td>\n",
       "      <td>0.021988</td>\n",
       "      <td>0.014772</td>\n",
       "      <td>0.608328</td>\n",
       "      <td>0.905449</td>\n",
       "      <td>-0.582501</td>\n",
       "    </tr>\n",
       "    <tr>\n",
       "      <th>3</th>\n",
       "      <td>EMB</td>\n",
       "      <td>0.005283</td>\n",
       "      <td>0.014772</td>\n",
       "      <td>0.185949</td>\n",
       "      <td>0.066495</td>\n",
       "      <td>-0.117455</td>\n",
       "    </tr>\n",
       "    <tr>\n",
       "      <th>4</th>\n",
       "      <td>EWH</td>\n",
       "      <td>0.037914</td>\n",
       "      <td>0.014772</td>\n",
       "      <td>0.134310</td>\n",
       "      <td>0.344708</td>\n",
       "      <td>0.036128</td>\n",
       "    </tr>\n",
       "  </tbody>\n",
       "</table>\n",
       "</div>"
      ],
      "text/plain": [
       "  underlying     stdev  spy_stdev  corr_spy      beta       pnl\n",
       "0        DIA  0.010383   0.014772  0.824586  0.579557  0.613557\n",
       "1        EEM  0.025753   0.014772  0.550046  0.958898  0.457594\n",
       "2        EFA  0.021988   0.014772  0.608328  0.905449 -0.582501\n",
       "3        EMB  0.005283   0.014772  0.185949  0.066495 -0.117455\n",
       "4        EWH  0.037914   0.014772  0.134310  0.344708  0.036128"
      ]
     },
     "execution_count": null,
     "metadata": {},
     "output_type": "execute_result"
    }
   ],
   "source": [
    "df_cluster = df_cluster[~df_cluster['underlying'].isin(['UNG', 'SLV', 'GDX'])].reset_index(drop=True)\n",
    "df_cluster.head()"
   ]
  },
  {
   "cell_type": "markdown",
   "metadata": {},
   "source": [
    "Let's regraph our cleaned data."
   ]
  },
  {
   "cell_type": "code",
   "execution_count": null,
   "metadata": {},
   "outputs": [
    {
     "data": {
      "image/png": "[encoded data removed]",
      "text/plain": [
       "<Figure size 655.2x504 with 1 Axes>"
      ]
     },
     "metadata": {},
     "output_type": "display_data"
    }
   ],
   "source": [
    "with sns.axes_style('whitegrid'):\n",
    "    g = sns.relplot(\n",
    "            x='beta'\n",
    "            , y='pnl'\n",
    "            , data=df_cluster\n",
    "            , color = 'black'\n",
    "            , alpha = 0.75\n",
    "            , height=7 \n",
    "            , aspect=1.3\n",
    "            , s=70\n",
    "        );\n",
    "    plt.subplots_adjust(top=0.93);\n",
    "    g.fig.suptitle('beta vs pnl');"
   ]
  },
  {
   "cell_type": "markdown",
   "metadata": {},
   "source": [
    "---"
   ]
  },
  {
   "cell_type": "markdown",
   "metadata": {},
   "source": [
    "**Discussion Question:** Inspect the graph above and see if you can predict a K-means clustering based on four clusters."
   ]
  },
  {
   "cell_type": "code",
   "execution_count": null,
   "metadata": {},
   "outputs": [],
   "source": [
    "#| code-fold: true\n",
    "#| code-summary: \"Solution\"\n",
    "#"
   ]
  },
  {
   "cell_type": "markdown",
   "metadata": {},
   "source": [
    "---"
   ]
  },
  {
   "cell_type": "markdown",
   "metadata": {},
   "source": [
    "## K-Means Clustering - First Try"
   ]
  },
  {
   "cell_type": "markdown",
   "metadata": {},
   "source": [
    "We are now ready to fit our clustering model.  We begin by importing the `KMeans` constructor."
   ]
  },
  {
   "cell_type": "code",
   "execution_count": null,
   "metadata": {},
   "outputs": [],
   "source": [
    "from sklearn.cluster import KMeans"
   ]
  },
  {
   "cell_type": "markdown",
   "metadata": {},
   "source": [
    "Next, we will isolate the features we want to use for grouping."
   ]
  },
  {
   "cell_type": "code",
   "execution_count": null,
   "metadata": {},
   "outputs": [
    {
     "data": {
      "text/html": [
       "<div>\n",
       "<style scoped>\n",
       "    .dataframe tbody tr th:only-of-type {\n",
       "        vertical-align: middle;\n",
       "    }\n",
       "\n",
       "    .dataframe tbody tr th {\n",
       "        vertical-align: top;\n",
       "    }\n",
       "\n",
       "    .dataframe thead th {\n",
       "        text-align: right;\n",
       "    }\n",
       "</style>\n",
       "<table border=\"1\" class=\"dataframe\">\n",
       "  <thead>\n",
       "    <tr style=\"text-align: right;\">\n",
       "      <th></th>\n",
       "      <th>beta</th>\n",
       "      <th>pnl</th>\n",
       "    </tr>\n",
       "  </thead>\n",
       "  <tbody>\n",
       "    <tr>\n",
       "      <th>0</th>\n",
       "      <td>0.579557</td>\n",
       "      <td>0.613557</td>\n",
       "    </tr>\n",
       "    <tr>\n",
       "      <th>1</th>\n",
       "      <td>0.958898</td>\n",
       "      <td>0.457594</td>\n",
       "    </tr>\n",
       "    <tr>\n",
       "      <th>2</th>\n",
       "      <td>0.905449</td>\n",
       "      <td>-0.582501</td>\n",
       "    </tr>\n",
       "    <tr>\n",
       "      <th>3</th>\n",
       "      <td>0.066495</td>\n",
       "      <td>-0.117455</td>\n",
       "    </tr>\n",
       "    <tr>\n",
       "      <th>4</th>\n",
       "      <td>0.344708</td>\n",
       "      <td>0.036128</td>\n",
       "    </tr>\n",
       "  </tbody>\n",
       "</table>\n",
       "</div>"
      ],
      "text/plain": [
       "       beta       pnl\n",
       "0  0.579557  0.613557\n",
       "1  0.958898  0.457594\n",
       "2  0.905449 -0.582501\n",
       "3  0.066495 -0.117455\n",
       "4  0.344708  0.036128"
      ]
     },
     "execution_count": null,
     "metadata": {},
     "output_type": "execute_result"
    }
   ],
   "source": [
    "X = df_cluster[['beta', 'pnl']]\n",
    "X.head()"
   ]
  },
  {
   "cell_type": "markdown",
   "metadata": {},
   "source": [
    "We are now ready to fit our clustering model.  I chose to use 4 groups in the hope that the groupings would align with the following categories:\n",
    "\n",
    "1. high beta, high pnl\n",
    "1. high beta, low pnl\n",
    "1. low beta, high pnl\n",
    "1. low beta, low pnl"
   ]
  },
  {
   "cell_type": "code",
   "execution_count": null,
   "metadata": {},
   "outputs": [
    {
     "data": {
      "text/plain": [
       "KMeans(n_clusters=4, n_init=100, random_state=0)"
      ]
     },
     "execution_count": null,
     "metadata": {},
     "output_type": "execute_result"
    }
   ],
   "source": [
    "kmeans = KMeans(n_clusters = 4, n_init=100, random_state=0)\n",
    "kmeans.fit(X)"
   ]
  },
  {
   "cell_type": "markdown",
   "metadata": {},
   "source": [
    "Let's add a column to our original data frame that includes the group number."
   ]
  },
  {
   "cell_type": "code",
   "execution_count": null,
   "metadata": {},
   "outputs": [
    {
     "data": {
      "text/html": [
       "<div>\n",
       "<style scoped>\n",
       "    .dataframe tbody tr th:only-of-type {\n",
       "        vertical-align: middle;\n",
       "    }\n",
       "\n",
       "    .dataframe tbody tr th {\n",
       "        vertical-align: top;\n",
       "    }\n",
       "\n",
       "    .dataframe thead th {\n",
       "        text-align: right;\n",
       "    }\n",
       "</style>\n",
       "<table border=\"1\" class=\"dataframe\">\n",
       "  <thead>\n",
       "    <tr style=\"text-align: right;\">\n",
       "      <th></th>\n",
       "      <th>underlying</th>\n",
       "      <th>stdev</th>\n",
       "      <th>spy_stdev</th>\n",
       "      <th>corr_spy</th>\n",
       "      <th>beta</th>\n",
       "      <th>pnl</th>\n",
       "      <th>group</th>\n",
       "    </tr>\n",
       "  </thead>\n",
       "  <tbody>\n",
       "    <tr>\n",
       "      <th>0</th>\n",
       "      <td>DIA</td>\n",
       "      <td>0.010383</td>\n",
       "      <td>0.014772</td>\n",
       "      <td>0.824586</td>\n",
       "      <td>0.579557</td>\n",
       "      <td>0.613557</td>\n",
       "      <td>0</td>\n",
       "    </tr>\n",
       "    <tr>\n",
       "      <th>31</th>\n",
       "      <td>XLU</td>\n",
       "      <td>0.011834</td>\n",
       "      <td>0.014772</td>\n",
       "      <td>0.236587</td>\n",
       "      <td>0.189522</td>\n",
       "      <td>-0.695763</td>\n",
       "      <td>0</td>\n",
       "    </tr>\n",
       "    <tr>\n",
       "      <th>30</th>\n",
       "      <td>XLP</td>\n",
       "      <td>0.009352</td>\n",
       "      <td>0.014772</td>\n",
       "      <td>0.408279</td>\n",
       "      <td>0.258476</td>\n",
       "      <td>-0.653215</td>\n",
       "      <td>0</td>\n",
       "    </tr>\n",
       "    <tr>\n",
       "      <th>28</th>\n",
       "      <td>XLI</td>\n",
       "      <td>0.018132</td>\n",
       "      <td>0.014772</td>\n",
       "      <td>0.605048</td>\n",
       "      <td>0.742666</td>\n",
       "      <td>-0.576125</td>\n",
       "      <td>0</td>\n",
       "    </tr>\n",
       "    <tr>\n",
       "      <th>27</th>\n",
       "      <td>XLF</td>\n",
       "      <td>0.031330</td>\n",
       "      <td>0.014772</td>\n",
       "      <td>0.444355</td>\n",
       "      <td>0.942399</td>\n",
       "      <td>-0.571652</td>\n",
       "      <td>0</td>\n",
       "    </tr>\n",
       "  </tbody>\n",
       "</table>\n",
       "</div>"
      ],
      "text/plain": [
       "   underlying     stdev  spy_stdev  corr_spy      beta       pnl group\n",
       "0         DIA  0.010383   0.014772  0.824586  0.579557  0.613557     0\n",
       "31        XLU  0.011834   0.014772  0.236587  0.189522 -0.695763     0\n",
       "30        XLP  0.009352   0.014772  0.408279  0.258476 -0.653215     0\n",
       "28        XLI  0.018132   0.014772  0.605048  0.742666 -0.576125     0\n",
       "27        XLF  0.031330   0.014772  0.444355  0.942399 -0.571652     0"
      ]
     },
     "execution_count": null,
     "metadata": {},
     "output_type": "execute_result"
    }
   ],
   "source": [
    "df_cluster['group'] = kmeans.labels_\n",
    "df_cluster['group'] = df_cluster['group'].apply(str)\n",
    "df_cluster.sort_values('group').head()"
   ]
  },
  {
   "cell_type": "markdown",
   "metadata": {},
   "source": [
    "And now let's graph our clustering with colors to show the grouping."
   ]
  },
  {
   "cell_type": "code",
   "execution_count": null,
   "metadata": {},
   "outputs": [
    {
     "data": {
      "image/png": "[encoded data removed]",
      "text/plain": [
       "<Figure size 720.075x504 with 1 Axes>"
      ]
     },
     "metadata": {},
     "output_type": "display_data"
    }
   ],
   "source": [
    "with sns.axes_style('whitegrid'):\n",
    "    sns.color_palette(\"Paired\")\n",
    "    g = sns.relplot(\n",
    "            x='beta'\n",
    "            , y='pnl'\n",
    "            , data=df_cluster\n",
    "            , height=7 \n",
    "            , aspect=1.3\n",
    "            , hue='group'\n",
    "            , palette=[\"b\", \"r\", 'k', 'y']\n",
    "            , s=100\n",
    "        );\n",
    "    plt.subplots_adjust(top=0.93);\n",
    "    g.fig.suptitle('beta vs pnl');"
   ]
  },
  {
   "cell_type": "markdown",
   "metadata": {},
   "source": [
    "---"
   ]
  },
  {
   "cell_type": "markdown",
   "metadata": {},
   "source": [
    "**Discussion Question:** What are your observations about this clustering?"
   ]
  },
  {
   "cell_type": "code",
   "execution_count": null,
   "metadata": {},
   "outputs": [],
   "source": [
    "#| code-fold: true\n",
    "#| code-summary: \"Solution\"\n",
    "# The PNL feature is dominating the clustering because of scale."
   ]
  },
  {
   "cell_type": "markdown",
   "metadata": {},
   "source": [
    "--- "
   ]
  },
  {
   "cell_type": "markdown",
   "metadata": {},
   "source": [
    "## K-Means Clustering - Second Try"
   ]
  },
  {
   "cell_type": "markdown",
   "metadata": {},
   "source": [
    "As we can see from the previous section, unless we perform scaling, the `pnl` feature will dominate because its values are an order of magnitude bigger than the `beta` feature. "
   ]
  },
  {
   "cell_type": "markdown",
   "metadata": {},
   "source": [
    "So let's scale and perform our analysis again."
   ]
  },
  {
   "cell_type": "code",
   "execution_count": null,
   "metadata": {},
   "outputs": [
    {
     "data": {
      "text/plain": [
       "KMeans(n_clusters=4, n_init=100, random_state=0)"
      ]
     },
     "execution_count": null,
     "metadata": {},
     "output_type": "execute_result"
    }
   ],
   "source": [
    "from sklearn.preprocessing import scale\n",
    "Xs = scale(X)\n",
    "kmeans = KMeans(n_clusters = 4, n_init=100, random_state=0)\n",
    "kmeans.fit(Xs)"
   ]
  },
  {
   "cell_type": "code",
   "execution_count": null,
   "metadata": {},
   "outputs": [
    {
     "data": {
      "text/html": [
       "<div>\n",
       "<style scoped>\n",
       "    .dataframe tbody tr th:only-of-type {\n",
       "        vertical-align: middle;\n",
       "    }\n",
       "\n",
       "    .dataframe tbody tr th {\n",
       "        vertical-align: top;\n",
       "    }\n",
       "\n",
       "    .dataframe thead th {\n",
       "        text-align: right;\n",
       "    }\n",
       "</style>\n",
       "<table border=\"1\" class=\"dataframe\">\n",
       "  <thead>\n",
       "    <tr style=\"text-align: right;\">\n",
       "      <th></th>\n",
       "      <th>underlying</th>\n",
       "      <th>stdev</th>\n",
       "      <th>spy_stdev</th>\n",
       "      <th>corr_spy</th>\n",
       "      <th>beta</th>\n",
       "      <th>pnl</th>\n",
       "      <th>group</th>\n",
       "      <th>name</th>\n",
       "    </tr>\n",
       "  </thead>\n",
       "  <tbody>\n",
       "    <tr>\n",
       "      <th>0</th>\n",
       "      <td>EEM</td>\n",
       "      <td>0.025753</td>\n",
       "      <td>0.014772</td>\n",
       "      <td>0.550046</td>\n",
       "      <td>0.958898</td>\n",
       "      <td>0.457594</td>\n",
       "      <td>0</td>\n",
       "      <td>ISHARES TR MSCI EMG MKT ETF</td>\n",
       "    </tr>\n",
       "    <tr>\n",
       "      <th>1</th>\n",
       "      <td>EFA</td>\n",
       "      <td>0.021988</td>\n",
       "      <td>0.014772</td>\n",
       "      <td>0.608328</td>\n",
       "      <td>0.905449</td>\n",
       "      <td>-0.582501</td>\n",
       "      <td>0</td>\n",
       "      <td>ISHARES TR MSCI EAFE ETF</td>\n",
       "    </tr>\n",
       "    <tr>\n",
       "      <th>2</th>\n",
       "      <td>EWJ</td>\n",
       "      <td>0.025301</td>\n",
       "      <td>0.014772</td>\n",
       "      <td>0.343123</td>\n",
       "      <td>0.587681</td>\n",
       "      <td>-2.597758</td>\n",
       "      <td>0</td>\n",
       "      <td>ISHARES INC MSCI JPN ETF NEW</td>\n",
       "    </tr>\n",
       "    <tr>\n",
       "      <th>3</th>\n",
       "      <td>EWU</td>\n",
       "      <td>0.050743</td>\n",
       "      <td>0.014772</td>\n",
       "      <td>0.268563</td>\n",
       "      <td>0.922505</td>\n",
       "      <td>-1.406626</td>\n",
       "      <td>0</td>\n",
       "      <td>ISHARES TR MSCI UK ETF NEW</td>\n",
       "    </tr>\n",
       "    <tr>\n",
       "      <th>4</th>\n",
       "      <td>EWW</td>\n",
       "      <td>0.026251</td>\n",
       "      <td>0.014772</td>\n",
       "      <td>0.372520</td>\n",
       "      <td>0.661983</td>\n",
       "      <td>-0.608147</td>\n",
       "      <td>0</td>\n",
       "      <td>ISHARES INC MSCI MEXICO ETF</td>\n",
       "    </tr>\n",
       "  </tbody>\n",
       "</table>\n",
       "</div>"
      ],
      "text/plain": [
       "  underlying     stdev  spy_stdev  corr_spy      beta       pnl group  \\\n",
       "0        EEM  0.025753   0.014772  0.550046  0.958898  0.457594     0   \n",
       "1        EFA  0.021988   0.014772  0.608328  0.905449 -0.582501     0   \n",
       "2        EWJ  0.025301   0.014772  0.343123  0.587681 -2.597758     0   \n",
       "3        EWU  0.050743   0.014772  0.268563  0.922505 -1.406626     0   \n",
       "4        EWW  0.026251   0.014772  0.372520  0.661983 -0.608147     0   \n",
       "\n",
       "                           name  \n",
       "0   ISHARES TR MSCI EMG MKT ETF  \n",
       "1      ISHARES TR MSCI EAFE ETF  \n",
       "2  ISHARES INC MSCI JPN ETF NEW  \n",
       "3    ISHARES TR MSCI UK ETF NEW  \n",
       "4   ISHARES INC MSCI MEXICO ETF  "
      ]
     },
     "execution_count": null,
     "metadata": {},
     "output_type": "execute_result"
    }
   ],
   "source": [
    "df_cluster['group'] = kmeans.labels_\n",
    "df_cluster['group'] = df_cluster['group'].apply(str)\n",
    "df_cluster = df_cluster.sort_values(['group', 'underlying']).merge(df_universe)\n",
    "df_cluster.head()"
   ]
  },
  {
   "cell_type": "markdown",
   "metadata": {},
   "source": [
    "And let's graph our new grouping."
   ]
  },
  {
   "cell_type": "code",
   "execution_count": null,
   "metadata": {},
   "outputs": [
    {
     "data": {
      "image/png": "[encoded data removed]",
      "text/plain": [
       "<Figure size 720.075x504 with 1 Axes>"
      ]
     },
     "metadata": {},
     "output_type": "display_data"
    }
   ],
   "source": [
    "with sns.axes_style('whitegrid'):\n",
    "    sns.color_palette(\"Paired\")\n",
    "    g = sns.relplot(\n",
    "            x='beta'\n",
    "            , y='pnl'\n",
    "            , data=df_cluster\n",
    "            , height=7 \n",
    "            , aspect=1.3\n",
    "            , hue='group'\n",
    "            , palette=[\"b\", \"r\", 'k', 'y']\n",
    "            , s=100\n",
    "        );\n",
    "    plt.subplots_adjust(top=0.93);\n",
    "    g.fig.suptitle('beta vs pnl');"
   ]
  },
  {
   "cell_type": "markdown",
   "metadata": {},
   "source": [
    "---"
   ]
  },
  {
   "cell_type": "markdown",
   "metadata": {},
   "source": [
    "**Discussion Question:** What are your observations about this grouping?"
   ]
  },
  {
   "cell_type": "code",
   "execution_count": null,
   "metadata": {},
   "outputs": [],
   "source": [
    "#| code-fold: true\n",
    "#| code-summary: \"Solution\"\n",
    "# group 0: high beta, zeroish pnl\n",
    "# group 1: low beta, zeroish pnl\n",
    "# group 2: extremely low performers\n",
    "# group 3: high beta, high performers\n",
    "\n",
    "# group 3 consists of: QQQ, SPY, IWM, USO, EWZ, FXI -- three of these are major stock indices, which is what I would expect\n",
    "# group 0 contains 7 of the 11 SPDR sector select funds (X--), which makes sense based on what I know of the strategy\n",
    "# group 0 also contains 5 emerging market related funds (E--), I don't have an opinion on this "
   ]
  },
  {
   "cell_type": "markdown",
   "metadata": {},
   "source": [
    " "
   ]
  },
  {
   "cell_type": "markdown",
   "metadata": {},
   "source": [
    "---"
   ]
  },
  {
   "cell_type": "markdown",
   "metadata": {},
   "source": [
    "**Code Challenge:** Redo the clustering for 3 groups."
   ]
  },
  {
   "cell_type": "code",
   "execution_count": null,
   "metadata": {},
   "outputs": [
    {
     "data": {
      "image/png": "[encoded data removed]",
      "text/plain": [
       "<Figure size 720.075x504 with 1 Axes>"
      ]
     },
     "metadata": {},
     "output_type": "display_data"
    }
   ],
   "source": [
    "#| code-fold: true\n",
    "#| code-summary: \"Solution\"\n",
    "# fitting\n",
    "X = df_cluster[['beta', 'pnl']]\n",
    "Xs = scale(X)\n",
    "kmeans = KMeans(n_clusters = 3, n_init=100, random_state=0)\n",
    "kmeans.fit(Xs)\n",
    "# adding labels to df_cluster\n",
    "df_cluster['group'] = kmeans.labels_\n",
    "df_cluster['group'] = df_cluster['group'].apply(str)\n",
    "df_cluster.sort_values('group')\n",
    "# graphing\n",
    "with sns.axes_style('whitegrid'):\n",
    "    sns.color_palette(\"Paired\")\n",
    "    g = sns.relplot(\n",
    "            x='beta'\n",
    "            , y='pnl'\n",
    "            , data=df_cluster\n",
    "            , height=7 \n",
    "            , aspect=1.3\n",
    "            , hue='group'\n",
    "            , palette=[\"b\", \"r\", 'k']\n",
    "            , s=100\n",
    "        );\n",
    "    plt.subplots_adjust(top=0.93);\n",
    "    g.fig.suptitle('beta vs pnl');"
   ]
  },
  {
   "cell_type": "markdown",
   "metadata": {},
   "source": [
    "---"
   ]
  }
 ],
 "metadata": {
  "kernelspec": {
   "display_name": "python3",
   "language": "python",
   "name": "python3"
  }
 },
 "nbformat": 4,
 "nbformat_minor": 4
}
