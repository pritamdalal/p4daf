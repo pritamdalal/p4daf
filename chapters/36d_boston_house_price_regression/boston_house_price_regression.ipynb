{
 "cells": [
  {
   "cell_type": "markdown",
   "id": "d06e950e-65f0-4bf3-affc-a3bbf20b08f4",
   "metadata": {},
   "source": [
    "# Boston Housing Prices"
   ]
  },
  {
   "cell_type": "markdown",
   "id": "2156ebbf-2c9e-490b-9022-da6bbdc18315",
   "metadata": {},
   "source": [
    "In this chapter, we’ll attempt to predict the median price of homes in a given Boston suburb in the mid-1970s, given data points about the suburb at the time, such as the crime rate, the local property tax rate, and so on. The dataset we’ll use has relatively few data points: only 506, split between 404 training samples and 102 test samples. Also, each feature in the input data (for example, the crime rate) has a different scale. For instance, some values are proportions, which take values between, others take values between 1 and 12, others between 0 and 100, and so on."
   ]
  },
  {
   "cell_type": "markdown",
   "id": "99993b91-53d0-4179-8d4b-6819443639e9",
   "metadata": {},
   "source": [
    "## Reading-In the Data"
   ]
  },
  {
   "cell_type": "markdown",
   "id": "56a476ea-ccf2-42ef-bc89-4ca3bef1213c",
   "metadata": {},
   "source": [
    "The Boston Housing data set is built into Keras."
   ]
  },
  {
   "cell_type": "code",
   "execution_count": null,
   "id": "d0696c43-27d4-42bc-948d-697a802deca3",
   "metadata": {},
   "outputs": [
    {
     "name": "stderr",
     "output_type": "stream",
     "text": [
      "2023-11-07 14:22:12.649785: I tensorflow/tsl/cuda/cudart_stub.cc:28] Could not find cuda drivers on your machine, GPU will not be used.\n",
      "2023-11-07 14:22:12.688270: E tensorflow/compiler/xla/stream_executor/cuda/cuda_dnn.cc:9342] Unable to register cuDNN factory: Attempting to register factory for plugin cuDNN when one has already been registered\n",
      "2023-11-07 14:22:12.688298: E tensorflow/compiler/xla/stream_executor/cuda/cuda_fft.cc:609] Unable to register cuFFT factory: Attempting to register factory for plugin cuFFT when one has already been registered\n",
      "2023-11-07 14:22:12.688330: E tensorflow/compiler/xla/stream_executor/cuda/cuda_blas.cc:1518] Unable to register cuBLAS factory: Attempting to register factory for plugin cuBLAS when one has already been registered\n",
      "2023-11-07 14:22:12.695200: I tensorflow/tsl/cuda/cudart_stub.cc:28] Could not find cuda drivers on your machine, GPU will not be used.\n",
      "2023-11-07 14:22:12.695469: I tensorflow/core/platform/cpu_feature_guard.cc:182] This TensorFlow binary is optimized to use available CPU instructions in performance-critical operations.\n",
      "To enable the following instructions: AVX2 FMA, in other operations, rebuild TensorFlow with the appropriate compiler flags.\n",
      "2023-11-07 14:22:13.558710: W tensorflow/compiler/tf2tensorrt/utils/py_utils.cc:38] TF-TRT Warning: Could not find TensorRT\n"
     ]
    }
   ],
   "source": [
    "from tensorflow.keras.datasets import boston_housing\n",
    "(train_data, train_targets), (test_data, test_targets) = boston_housing.load_data()"
   ]
  },
  {
   "cell_type": "markdown",
   "id": "1720064d-bf7c-4b06-b3b8-eb9837310728",
   "metadata": {},
   "source": [
    "Let's look at the data."
   ]
  },
  {
   "cell_type": "code",
   "execution_count": null,
   "id": "98e2ea63-cc8e-4971-9aba-def1af18b81a",
   "metadata": {},
   "outputs": [
    {
     "data": {
      "text/plain": [
       "(404, 13)"
      ]
     },
     "execution_count": null,
     "metadata": {},
     "output_type": "execute_result"
    }
   ],
   "source": [
    "train_data.shape"
   ]
  },
  {
   "cell_type": "code",
   "execution_count": null,
   "id": "a5a16622-39ab-4df0-a513-d3d76802f698",
   "metadata": {},
   "outputs": [
    {
     "data": {
      "text/plain": [
       "(102, 13)"
      ]
     },
     "execution_count": null,
     "metadata": {},
     "output_type": "execute_result"
    }
   ],
   "source": [
    "test_data.shape"
   ]
  },
  {
   "cell_type": "markdown",
   "id": "c1aa6a42-8055-4269-b464-e001df35e29c",
   "metadata": {},
   "source": [
    "The targets are the median values of owner-occupied homes, in thousands of dollars.  Note that these prices are from the mid-1970s and have not been adjusted for inflation."
   ]
  },
  {
   "cell_type": "code",
   "execution_count": null,
   "id": "3928d322-6cc7-4c6d-9f21-516da78a6602",
   "metadata": {},
   "outputs": [
    {
     "data": {
      "text/plain": [
       "array([15.2, 42.3, 50. , 21.1, 17.7, 18.5, 11.3, 15.6, 15.6, 14.4, 12.1,\n",
       "       17.9, 23.1, 19.9, 15.7,  8.8, 50. , 22.5, 24.1, 27.5, 10.9, 30.8,\n",
       "       32.9, 24. , 18.5, 13.3, 22.9, 34.7, 16.6, 17.5, 22.3, 16.1, 14.9,\n",
       "       23.1, 34.9, 25. , 13.9, 13.1, 20.4, 20. , 15.2, 24.7, 22.2, 16.7,\n",
       "       12.7, 15.6, 18.4, 21. , 30.1, 15.1, 18.7,  9.6, 31.5, 24.8, 19.1,\n",
       "       22. , 14.5, 11. , 32. , 29.4, 20.3, 24.4, 14.6, 19.5, 14.1, 14.3,\n",
       "       15.6, 10.5,  6.3, 19.3, 19.3, 13.4, 36.4, 17.8, 13.5, 16.5,  8.3,\n",
       "       14.3, 16. , 13.4, 28.6, 43.5, 20.2, 22. , 23. , 20.7, 12.5, 48.5,\n",
       "       14.6, 13.4, 23.7, 50. , 21.7, 39.8, 38.7, 22.2, 34.9, 22.5, 31.1,\n",
       "       28.7, 46. , 41.7, 21. , 26.6, 15. , 24.4, 13.3, 21.2, 11.7, 21.7,\n",
       "       19.4, 50. , 22.8, 19.7, 24.7, 36.2, 14.2, 18.9, 18.3, 20.6, 24.6,\n",
       "       18.2,  8.7, 44. , 10.4, 13.2, 21.2, 37. , 30.7, 22.9, 20. , 19.3,\n",
       "       31.7, 32. , 23.1, 18.8, 10.9, 50. , 19.6,  5. , 14.4, 19.8, 13.8,\n",
       "       19.6, 23.9, 24.5, 25. , 19.9, 17.2, 24.6, 13.5, 26.6, 21.4, 11.9,\n",
       "       22.6, 19.6,  8.5, 23.7, 23.1, 22.4, 20.5, 23.6, 18.4, 35.2, 23.1,\n",
       "       27.9, 20.6, 23.7, 28. , 13.6, 27.1, 23.6, 20.6, 18.2, 21.7, 17.1,\n",
       "        8.4, 25.3, 13.8, 22.2, 18.4, 20.7, 31.6, 30.5, 20.3,  8.8, 19.2,\n",
       "       19.4, 23.1, 23. , 14.8, 48.8, 22.6, 33.4, 21.1, 13.6, 32.2, 13.1,\n",
       "       23.4, 18.9, 23.9, 11.8, 23.3, 22.8, 19.6, 16.7, 13.4, 22.2, 20.4,\n",
       "       21.8, 26.4, 14.9, 24.1, 23.8, 12.3, 29.1, 21. , 19.5, 23.3, 23.8,\n",
       "       17.8, 11.5, 21.7, 19.9, 25. , 33.4, 28.5, 21.4, 24.3, 27.5, 33.1,\n",
       "       16.2, 23.3, 48.3, 22.9, 22.8, 13.1, 12.7, 22.6, 15. , 15.3, 10.5,\n",
       "       24. , 18.5, 21.7, 19.5, 33.2, 23.2,  5. , 19.1, 12.7, 22.3, 10.2,\n",
       "       13.9, 16.3, 17. , 20.1, 29.9, 17.2, 37.3, 45.4, 17.8, 23.2, 29. ,\n",
       "       22. , 18. , 17.4, 34.6, 20.1, 25. , 15.6, 24.8, 28.2, 21.2, 21.4,\n",
       "       23.8, 31. , 26.2, 17.4, 37.9, 17.5, 20. ,  8.3, 23.9,  8.4, 13.8,\n",
       "        7.2, 11.7, 17.1, 21.6, 50. , 16.1, 20.4, 20.6, 21.4, 20.6, 36.5,\n",
       "        8.5, 24.8, 10.8, 21.9, 17.3, 18.9, 36.2, 14.9, 18.2, 33.3, 21.8,\n",
       "       19.7, 31.6, 24.8, 19.4, 22.8,  7.5, 44.8, 16.8, 18.7, 50. , 50. ,\n",
       "       19.5, 20.1, 50. , 17.2, 20.8, 19.3, 41.3, 20.4, 20.5, 13.8, 16.5,\n",
       "       23.9, 20.6, 31.5, 23.3, 16.8, 14. , 33.8, 36.1, 12.8, 18.3, 18.7,\n",
       "       19.1, 29. , 30.1, 50. , 50. , 22. , 11.9, 37.6, 50. , 22.7, 20.8,\n",
       "       23.5, 27.9, 50. , 19.3, 23.9, 22.6, 15.2, 21.7, 19.2, 43.8, 20.3,\n",
       "       33.2, 19.9, 22.5, 32.7, 22. , 17.1, 19. , 15. , 16.1, 25.1, 23.7,\n",
       "       28.7, 37.2, 22.6, 16.4, 25. , 29.8, 22.1, 17.4, 18.1, 30.3, 17.5,\n",
       "       24.7, 12.6, 26.5, 28.7, 13.3, 10.4, 24.4, 23. , 20. , 17.8,  7. ,\n",
       "       11.8, 24.4, 13.8, 19.4, 25.2, 19.4, 19.4, 29.1])"
      ]
     },
     "execution_count": null,
     "metadata": {},
     "output_type": "execute_result"
    }
   ],
   "source": [
    "train_targets"
   ]
  },
  {
   "cell_type": "markdown",
   "id": "4939b231-604d-4671-8a25-425cb280d928",
   "metadata": {},
   "source": [
    "## Data Wrangling"
   ]
  },
  {
   "cell_type": "markdown",
   "id": "3d83ef7c-5743-463a-9aac-625eedff678a",
   "metadata": {},
   "source": [
    "It would be problematic to feed into a neural network values that all take wildly different ranges. The model might be able to automatically adapt to such heterogeneous\n",
    "data, but it would definitely make learning more difficult. A widespread best practice\n",
    "for dealing with such data is to do feature-wise normalization: for each feature in the\n",
    "input data (a column in the input data matrix), we subtract the mean of the feature\n",
    "and divide by the standard deviation, so that the feature is centered around 0 and has\n",
    "a unit standard deviation. This is easily done in **numpy**.\n",
    "\n",
    "Note that the quantities used for normalizing the `test_data` are computed using the\n",
    "`train_data`. You should never use any quantity computed on the test data in your\n",
    "workflow, even for something as simple as data normalization."
   ]
  },
  {
   "cell_type": "code",
   "execution_count": null,
   "id": "4dabce1b-fc18-41f9-8640-6fd91ba4cd9b",
   "metadata": {},
   "outputs": [],
   "source": [
    "mean = train_data.mean(axis=0)\n",
    "train_data -= mean\n",
    "std = train_data.std(axis=0)\n",
    "train_data /= std\n",
    "test_data -= mean\n",
    "test_data /= std"
   ]
  },
  {
   "cell_type": "markdown",
   "id": "99a758b8-e68d-4e35-86ef-a144c9ae5fec",
   "metadata": {},
   "source": [
    "## Building the Model"
   ]
  },
  {
   "cell_type": "markdown",
   "id": "69cea2cf-a27d-43eb-bde4-ff3c9d0f559e",
   "metadata": {},
   "source": [
    "We’ll use a small model with two intermediate layers, each with 64 units. In general, the less training data you have, the worse overfitting will be, and using a small model is one way to mitigate overfitting.  Since we'll need to instantiate the same model multiple times, we'll use a function to construct it.  This is a common coding pattern you will see in deep learning models."
   ]
  },
  {
   "cell_type": "code",
   "execution_count": null,
   "id": "cf05e72e-93e1-461a-941f-8e8291f0d003",
   "metadata": {},
   "outputs": [],
   "source": [
    "import numpy as np\n",
    "from tensorflow import keras\n",
    "from tensorflow.keras import layers"
   ]
  },
  {
   "cell_type": "code",
   "execution_count": null,
   "id": "f1116f90-9aa2-4d2f-b1b0-803b34b5ef8a",
   "metadata": {},
   "outputs": [],
   "source": [
    "def build_model():\n",
    "    model = keras.Sequential([\n",
    "        layers.Dense(64, activation=\"relu\"),\n",
    "        layers.Dense(64, activation=\"relu\"),\n",
    "        layers.Dense(1)\n",
    "    ])\n",
    "    model.compile(optimizer=\"rmsprop\", loss=\"mse\", metrics=[\"mae\"])\n",
    "    return model"
   ]
  },
  {
   "cell_type": "markdown",
   "id": "968d9d6d-3c3b-45a8-b427-87bb5b327762",
   "metadata": {},
   "source": [
    "The model ends with a single unit and no activation (it will be a linear layer). This is a\n",
    "typical setup for scalar regression (a regression where you’re trying to predict a single\n",
    "continuous value). Applying an activation function would constrain the range the output can take; for instance, if you applied a `sigmoid` activation function to the last layer,\n",
    "the model could only learn to predict values between 0 and 1. Here, because the last\n",
    "layer is purely linear, the model is free to learn to predict values in any range.\n",
    "\n",
    "Note that we compile the model with the `mse` loss function — mean squared error, the\n",
    "square of the difference between the predictions and the targets. This is a widely used\n",
    "loss function for regression problems.\n",
    "\n",
    "We’re also monitoring a new metric during training: mean absolute error (MAE). It’s the\n",
    "absolute value of the difference between the predictions and the targets. For instance, an\n",
    "MAE of 0.5 on this problem would mean your predictions are off by $500 on average"
   ]
  },
  {
   "cell_type": "markdown",
   "id": "d0364740-1138-4b51-a44a-06eb00fa8c8e",
   "metadata": {},
   "source": [
    "## Using K-Fold Cross-Validation"
   ]
  },
  {
   "cell_type": "markdown",
   "id": "18eff547-59b0-4633-8b32-c2a2d97c499d",
   "metadata": {},
   "source": [
    "We will use k-fold cross-validation to evaluate our model as we adjusts various fitting parameters.  Notice we are doing the cross-validation by hand since we don't have a `cross_validate` function like we do in **sklearn**."
   ]
  },
  {
   "cell_type": "code",
   "execution_count": null,
   "id": "9c27f373-0b9a-4b95-b3f2-cc5ca7f5d6a6",
   "metadata": {},
   "outputs": [
    {
     "name": "stdout",
     "output_type": "stream",
     "text": [
      "Processing fold #0\n",
      "Processing fold #1\n",
      "Processing fold #2\n",
      "Processing fold #3\n"
     ]
    }
   ],
   "source": [
    "k = 4\n",
    "num_val_samples = len(train_data) // k\n",
    "num_epochs = 100\n",
    "all_scores = []\n",
    "for i in range(k):\n",
    "    print(f\"Processing fold #{i}\")\n",
    "    \n",
    "    # preparing the the data from the kth partition\n",
    "    val_data = train_data[i * num_val_samples: (i + 1) * num_val_samples]\n",
    "    val_targets = train_targets[i * num_val_samples: (i + 1) * num_val_samples]\n",
    "    partial_train_data = np.concatenate(\n",
    "        [train_data[:i * num_val_samples],\n",
    "         train_data[(i + 1) * num_val_samples:]],\n",
    "        axis=0)\n",
    "    partial_train_targets = np.concatenate(\n",
    "        [train_targets[:i * num_val_samples],\n",
    "         train_targets[(i + 1) * num_val_samples:]],\n",
    "        axis=0)\n",
    "\n",
    "    # building and fitting the model\n",
    "    model = build_model()\n",
    "    model.fit(partial_train_data, partial_train_targets,\n",
    "              epochs=num_epochs, batch_size=16, verbose=0)\n",
    "    \n",
    "    # evaluating the model and storing the mae score\n",
    "    val_mse, val_mae = model.evaluate(val_data, val_targets, verbose=0)\n",
    "    all_scores.append(val_mae)"
   ]
  },
  {
   "cell_type": "code",
   "execution_count": null,
   "id": "2a61950c-5536-4b67-9a25-eef14c8f8a5b",
   "metadata": {},
   "outputs": [
    {
     "data": {
      "text/plain": [
       "[1.8698797225952148, 2.4602911472320557, 2.446345567703247, 2.5106492042541504]"
      ]
     },
     "execution_count": null,
     "metadata": {},
     "output_type": "execute_result"
    }
   ],
   "source": [
    "all_scores"
   ]
  },
  {
   "cell_type": "code",
   "execution_count": null,
   "id": "2893e57e-5787-467c-903d-e49d9a4f35a1",
   "metadata": {},
   "outputs": [
    {
     "data": {
      "text/plain": [
       "2.321791410446167"
      ]
     },
     "execution_count": null,
     "metadata": {},
     "output_type": "execute_result"
    }
   ],
   "source": [
    "np.mean(all_scores)"
   ]
  },
  {
   "cell_type": "markdown",
   "id": "b399865d-961a-4060-905b-af4956955276",
   "metadata": {},
   "source": [
    "Let’s try training the model a bit longer: 500 epochs. To keep a record of how well the model does at each epoch, we’ll modify the training loop to save the per-epoch validation score log for each fold."
   ]
  },
  {
   "cell_type": "code",
   "execution_count": null,
   "id": "337a61f2-c878-49a9-b7df-320c4baeb1de",
   "metadata": {},
   "outputs": [
    {
     "name": "stdout",
     "output_type": "stream",
     "text": [
      "Processing fold #0\n",
      "Processing fold #1\n",
      "Processing fold #2\n",
      "Processing fold #3\n"
     ]
    }
   ],
   "source": [
    "num_epochs = 500\n",
    "all_mae_histories = []\n",
    "for i in range(k):\n",
    "    print(f\"Processing fold #{i}\")\n",
    "    val_data = train_data[i * num_val_samples: (i + 1) * num_val_samples]\n",
    "    val_targets = train_targets[i * num_val_samples: (i + 1) * num_val_samples]\n",
    "    partial_train_data = np.concatenate(\n",
    "        [train_data[:i * num_val_samples],\n",
    "         train_data[(i + 1) * num_val_samples:]],\n",
    "        axis=0)\n",
    "    partial_train_targets = np.concatenate(\n",
    "        [train_targets[:i * num_val_samples],\n",
    "         train_targets[(i + 1) * num_val_samples:]],\n",
    "        axis=0)\n",
    "    model = build_model()\n",
    "    history = model.fit(partial_train_data, partial_train_targets,\n",
    "                        validation_data=(val_data, val_targets),\n",
    "                        epochs=num_epochs, batch_size=16, verbose=0)\n",
    "    mae_history = history.history[\"val_mae\"]\n",
    "    all_mae_histories.append(mae_history)"
   ]
  },
  {
   "cell_type": "markdown",
   "id": "5ba74559-48ef-4f77-9b0c-74afb1eab1ed",
   "metadata": {},
   "source": [
    "We can then compute the average of the per-epoch MAE scores for all folds."
   ]
  },
  {
   "cell_type": "code",
   "execution_count": null,
   "id": "ebc034e8-249d-4434-bccf-2c29c92e988c",
   "metadata": {},
   "outputs": [],
   "source": [
    "average_mae_history = [\n",
    "    np.mean([x[i] for x in all_mae_histories]) for i in range(num_epochs)\n",
    "]"
   ]
  },
  {
   "cell_type": "markdown",
   "id": "443db9b6-a835-4ac4-af04-802a185a3eae",
   "metadata": {},
   "source": [
    "## Plotting the Validation Scores"
   ]
  },
  {
   "cell_type": "markdown",
   "id": "c44ccc9c-063c-4e9d-a9c9-a59361628009",
   "metadata": {},
   "source": [
    "Let's plot the the k-fold MAE scores for all the epochs."
   ]
  },
  {
   "cell_type": "code",
   "execution_count": null,
   "id": "d45d0bdc-d308-4f36-b53e-d510fc5a7650",
   "metadata": {},
   "outputs": [
    {
     "data": {
      "image/png": "[encoded data removed]",
      "text/plain": [
       "<Figure size 640x480 with 1 Axes>"
      ]
     },
     "metadata": {},
     "output_type": "display_data"
    }
   ],
   "source": [
    "import matplotlib.pyplot as plt\n",
    "\n",
    "plt.plot(range(1, len(average_mae_history) + 1), average_mae_history)\n",
    "plt.xlabel(\"Epochs\")\n",
    "plt.ylabel(\"Validation MAE\")\n",
    "plt.show()"
   ]
  },
  {
   "cell_type": "markdown",
   "id": "9cf69e67-d48c-4cb9-804f-6f3b3945edf4",
   "metadata": {},
   "source": [
    "It may be a little difficult to read the plot, due to a scaling issue: the validation MAE\n",
    "for the first few epochs is dramatically higher than the values that follow. Let’s omit\n",
    "the first 10 data points, which are on a different scale than the rest of the curve."
   ]
  },
  {
   "cell_type": "code",
   "execution_count": null,
   "id": "fb04ce34-cca3-4a37-84ac-4abc79f0e139",
   "metadata": {},
   "outputs": [
    {
     "data": {
      "image/png": "[encoded data removed]",
      "text/plain": [
       "<Figure size 640x480 with 1 Axes>"
      ]
     },
     "metadata": {},
     "output_type": "display_data"
    }
   ],
   "source": [
    "truncated_mae_history = average_mae_history[10:]\n",
    "plt.plot(range(1, len(truncated_mae_history) + 1), truncated_mae_history)\n",
    "plt.xlabel(\"Epochs\")\n",
    "plt.ylabel(\"Validation MAE\")\n",
    "plt.show()"
   ]
  },
  {
   "cell_type": "markdown",
   "id": "87ad1cf3-7a03-4375-8b95-a3b6928d9ad6",
   "metadata": {},
   "source": [
    "As you can see validation MAE stops improving significantly after 120–140 epochs (this number includes the 10 epochs we omitted). Past that point,we start overfitting."
   ]
  },
  {
   "cell_type": "markdown",
   "id": "9b82bc47-febb-4ae6-8740-7068c6f4332d",
   "metadata": {},
   "source": [
    "## Training the Final Model"
   ]
  },
  {
   "cell_type": "markdown",
   "id": "fe944080-9eec-42cc-ab63-b8b644870df6",
   "metadata": {},
   "source": [
    "Once you’re finished tuning other parameters of the model (in addition to the\n",
    "number of epochs, you could also adjust the size of the intermediate layers), you can\n",
    "train a final production model on all of the training data, with the best parameters,\n",
    "and then look at its performance on the test data."
   ]
  },
  {
   "cell_type": "code",
   "execution_count": null,
   "id": "a0402615-ad60-4167-9f85-22a4ab234581",
   "metadata": {},
   "outputs": [
    {
     "name": "stdout",
     "output_type": "stream",
     "text": [
      "4/4 [==============================] - 0s 2ms/step - loss: 15.9311 - mae: 2.5011\n"
     ]
    }
   ],
   "source": [
    "model = build_model()\n",
    "model.fit(train_data, train_targets,\n",
    "          epochs=130, batch_size=16, verbose=0)\n",
    "test_mse_score, test_mae_score = model.evaluate(test_data, test_targets)"
   ]
  },
  {
   "cell_type": "markdown",
   "id": "00b5d152-a0b1-4d97-ad98-175b62f69b51",
   "metadata": {},
   "source": [
    "Here's the final result.  Performance doesn't seem to improve."
   ]
  },
  {
   "cell_type": "code",
   "execution_count": null,
   "id": "daf69493-95a2-4a71-8511-cd04b25486ff",
   "metadata": {},
   "outputs": [
    {
     "data": {
      "text/plain": [
       "2.5011422634124756"
      ]
     },
     "execution_count": null,
     "metadata": {},
     "output_type": "execute_result"
    }
   ],
   "source": [
    "test_mae_score"
   ]
  },
  {
   "cell_type": "markdown",
   "id": "37725261-8265-4181-bbe9-49e45c75bee8",
   "metadata": {},
   "source": [
    "## Generating Predictions on New Data"
   ]
  },
  {
   "cell_type": "markdown",
   "id": "0f967640-c0a8-4474-89f3-034f53e869a8",
   "metadata": {},
   "source": [
    "With this scalar regression model, predict() returns the model’s guess for the sample’s price in\n",
    "thousands of dollars:"
   ]
  },
  {
   "cell_type": "code",
   "execution_count": null,
   "id": "ae1fdff8-34f4-4f48-8448-a2e66c08f413",
   "metadata": {},
   "outputs": [
    {
     "name": "stdout",
     "output_type": "stream",
     "text": [
      "4/4 [==============================] - 0s 1ms/step\n"
     ]
    },
    {
     "data": {
      "text/plain": [
       "array([8.320552], dtype=float32)"
      ]
     },
     "execution_count": null,
     "metadata": {},
     "output_type": "execute_result"
    }
   ],
   "source": [
    "predictions = model.predict(test_data)\n",
    "predictions[0]"
   ]
  }
 ],
 "metadata": {
  "kernelspec": {
   "display_name": "python3",
   "language": "python",
   "name": "python3"
  }
 },
 "nbformat": 4,
 "nbformat_minor": 5
}
