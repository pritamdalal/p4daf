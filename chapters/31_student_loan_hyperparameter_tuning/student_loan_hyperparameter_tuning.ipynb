{
 "cells": [
  {
   "cell_type": "markdown",
   "metadata": {},
   "source": [
    "# Student Loan: Hyperparameter Tuning"
   ]
  },
  {
   "cell_type": "markdown",
   "metadata": {},
   "source": [
    "The *hyperparameters* of a machine learning algorithm control its *flexibility*.  Greater flexibility can be desirable because it allows the model to react to nuances of the data.  However, too much model flexibility can also lead to overfitting.  Therefore, it is sometimes preferable to restrict the flexibility of a model to reduce overfitting.  \n",
    "\n",
    "The trade-off between allowing for flexibility while at the same avoiding overfitting is referred to as the variance-bias tradeoff."
   ]
  },
  {
   "cell_type": "markdown",
   "metadata": {},
   "source": [
    "## Loading Packages"
   ]
  },
  {
   "cell_type": "markdown",
   "metadata": {},
   "source": [
    "Let's begin by loading the packages that we will need."
   ]
  },
  {
   "cell_type": "code",
   "execution_count": null,
   "metadata": {},
   "outputs": [],
   "source": [
    "import pandas as pd\n",
    "import numpy as np\n",
    "import sklearn\n",
    "import time\n",
    "import seaborn as sns; sns.set()\n",
    "import matplotlib.pyplot as plt"
   ]
  },
  {
   "cell_type": "markdown",
   "metadata": {},
   "source": [
    "## Reading-In Data"
   ]
  },
  {
   "cell_type": "markdown",
   "metadata": {},
   "source": [
    "Next, let's read-in our data set."
   ]
  },
  {
   "cell_type": "code",
   "execution_count": null,
   "metadata": {},
   "outputs": [
    {
     "data": {
      "text/html": [
       "<div>\n",
       "<style scoped>\n",
       "    .dataframe tbody tr th:only-of-type {\n",
       "        vertical-align: middle;\n",
       "    }\n",
       "\n",
       "    .dataframe tbody tr th {\n",
       "        vertical-align: top;\n",
       "    }\n",
       "\n",
       "    .dataframe thead th {\n",
       "        text-align: right;\n",
       "    }\n",
       "</style>\n",
       "<table border=\"1\" class=\"dataframe\">\n",
       "  <thead>\n",
       "    <tr style=\"text-align: right;\">\n",
       "      <th></th>\n",
       "      <th>load_id</th>\n",
       "      <th>deal_name</th>\n",
       "      <th>loan_age</th>\n",
       "      <th>cosign</th>\n",
       "      <th>income_annual</th>\n",
       "      <th>upb</th>\n",
       "      <th>monthly_payment</th>\n",
       "      <th>fico</th>\n",
       "      <th>origbalance</th>\n",
       "      <th>mos_to_repay</th>\n",
       "      <th>repay_status</th>\n",
       "      <th>mos_to_balln</th>\n",
       "      <th>paid_label</th>\n",
       "    </tr>\n",
       "  </thead>\n",
       "  <tbody>\n",
       "    <tr>\n",
       "      <th>0</th>\n",
       "      <td>765579</td>\n",
       "      <td>2014_b</td>\n",
       "      <td>56</td>\n",
       "      <td>0</td>\n",
       "      <td>113401.60</td>\n",
       "      <td>36011.11</td>\n",
       "      <td>397.91</td>\n",
       "      <td>814</td>\n",
       "      <td>51453.60</td>\n",
       "      <td>0</td>\n",
       "      <td>0</td>\n",
       "      <td>124</td>\n",
       "      <td>0</td>\n",
       "    </tr>\n",
       "    <tr>\n",
       "      <th>1</th>\n",
       "      <td>765580</td>\n",
       "      <td>2014_b</td>\n",
       "      <td>56</td>\n",
       "      <td>1</td>\n",
       "      <td>100742.34</td>\n",
       "      <td>101683.38</td>\n",
       "      <td>1172.10</td>\n",
       "      <td>711</td>\n",
       "      <td>130271.33</td>\n",
       "      <td>0</td>\n",
       "      <td>0</td>\n",
       "      <td>124</td>\n",
       "      <td>0</td>\n",
       "    </tr>\n",
       "    <tr>\n",
       "      <th>2</th>\n",
       "      <td>765581</td>\n",
       "      <td>2014_b</td>\n",
       "      <td>56</td>\n",
       "      <td>0</td>\n",
       "      <td>46000.24</td>\n",
       "      <td>49249.37</td>\n",
       "      <td>593.57</td>\n",
       "      <td>772</td>\n",
       "      <td>62918.96</td>\n",
       "      <td>0</td>\n",
       "      <td>0</td>\n",
       "      <td>124</td>\n",
       "      <td>0</td>\n",
       "    </tr>\n",
       "    <tr>\n",
       "      <th>3</th>\n",
       "      <td>765582</td>\n",
       "      <td>2014_b</td>\n",
       "      <td>56</td>\n",
       "      <td>0</td>\n",
       "      <td>428958.96</td>\n",
       "      <td>36554.85</td>\n",
       "      <td>404.63</td>\n",
       "      <td>849</td>\n",
       "      <td>48238.73</td>\n",
       "      <td>0</td>\n",
       "      <td>0</td>\n",
       "      <td>125</td>\n",
       "      <td>0</td>\n",
       "    </tr>\n",
       "    <tr>\n",
       "      <th>4</th>\n",
       "      <td>765583</td>\n",
       "      <td>2014_b</td>\n",
       "      <td>56</td>\n",
       "      <td>0</td>\n",
       "      <td>491649.96</td>\n",
       "      <td>7022.30</td>\n",
       "      <td>1967.46</td>\n",
       "      <td>815</td>\n",
       "      <td>106124.68</td>\n",
       "      <td>0</td>\n",
       "      <td>0</td>\n",
       "      <td>4</td>\n",
       "      <td>0</td>\n",
       "    </tr>\n",
       "    <tr>\n",
       "      <th>...</th>\n",
       "      <td>...</td>\n",
       "      <td>...</td>\n",
       "      <td>...</td>\n",
       "      <td>...</td>\n",
       "      <td>...</td>\n",
       "      <td>...</td>\n",
       "      <td>...</td>\n",
       "      <td>...</td>\n",
       "      <td>...</td>\n",
       "      <td>...</td>\n",
       "      <td>...</td>\n",
       "      <td>...</td>\n",
       "      <td>...</td>\n",
       "    </tr>\n",
       "    <tr>\n",
       "      <th>1043306</th>\n",
       "      <td>1808885</td>\n",
       "      <td>2019_c</td>\n",
       "      <td>2</td>\n",
       "      <td>0</td>\n",
       "      <td>152885.00</td>\n",
       "      <td>115363.12</td>\n",
       "      <td>1212.22</td>\n",
       "      <td>798</td>\n",
       "      <td>116834.64</td>\n",
       "      <td>0</td>\n",
       "      <td>0</td>\n",
       "      <td>118</td>\n",
       "      <td>0</td>\n",
       "    </tr>\n",
       "    <tr>\n",
       "      <th>1043307</th>\n",
       "      <td>1808886</td>\n",
       "      <td>2019_c</td>\n",
       "      <td>2</td>\n",
       "      <td>0</td>\n",
       "      <td>116480.00</td>\n",
       "      <td>77500.70</td>\n",
       "      <td>831.13</td>\n",
       "      <td>826</td>\n",
       "      <td>79566.03</td>\n",
       "      <td>0</td>\n",
       "      <td>0</td>\n",
       "      <td>118</td>\n",
       "      <td>0</td>\n",
       "    </tr>\n",
       "    <tr>\n",
       "      <th>1043308</th>\n",
       "      <td>1808887</td>\n",
       "      <td>2019_c</td>\n",
       "      <td>2</td>\n",
       "      <td>0</td>\n",
       "      <td>96800.00</td>\n",
       "      <td>16156.76</td>\n",
       "      <td>232.34</td>\n",
       "      <td>781</td>\n",
       "      <td>16472.50</td>\n",
       "      <td>0</td>\n",
       "      <td>0</td>\n",
       "      <td>82</td>\n",
       "      <td>0</td>\n",
       "    </tr>\n",
       "    <tr>\n",
       "      <th>1043309</th>\n",
       "      <td>1808888</td>\n",
       "      <td>2019_c</td>\n",
       "      <td>2</td>\n",
       "      <td>0</td>\n",
       "      <td>78400.14</td>\n",
       "      <td>77197.03</td>\n",
       "      <td>833.57</td>\n",
       "      <td>777</td>\n",
       "      <td>78135.54</td>\n",
       "      <td>0</td>\n",
       "      <td>0</td>\n",
       "      <td>118</td>\n",
       "      <td>0</td>\n",
       "    </tr>\n",
       "    <tr>\n",
       "      <th>1043310</th>\n",
       "      <td>1808889</td>\n",
       "      <td>2019_c</td>\n",
       "      <td>65</td>\n",
       "      <td>0</td>\n",
       "      <td>50447.28</td>\n",
       "      <td>65667.85</td>\n",
       "      <td>767.10</td>\n",
       "      <td>765</td>\n",
       "      <td>82602.38</td>\n",
       "      <td>0</td>\n",
       "      <td>0</td>\n",
       "      <td>119</td>\n",
       "      <td>0</td>\n",
       "    </tr>\n",
       "  </tbody>\n",
       "</table>\n",
       "<p>1043311 rows × 13 columns</p>\n",
       "</div>"
      ],
      "text/plain": [
       "         load_id deal_name  loan_age  cosign  income_annual        upb   \n",
       "0         765579    2014_b        56       0      113401.60   36011.11  \\\n",
       "1         765580    2014_b        56       1      100742.34  101683.38   \n",
       "2         765581    2014_b        56       0       46000.24   49249.37   \n",
       "3         765582    2014_b        56       0      428958.96   36554.85   \n",
       "4         765583    2014_b        56       0      491649.96    7022.30   \n",
       "...          ...       ...       ...     ...            ...        ...   \n",
       "1043306  1808885    2019_c         2       0      152885.00  115363.12   \n",
       "1043307  1808886    2019_c         2       0      116480.00   77500.70   \n",
       "1043308  1808887    2019_c         2       0       96800.00   16156.76   \n",
       "1043309  1808888    2019_c         2       0       78400.14   77197.03   \n",
       "1043310  1808889    2019_c        65       0       50447.28   65667.85   \n",
       "\n",
       "         monthly_payment  fico  origbalance  mos_to_repay  repay_status   \n",
       "0                 397.91   814     51453.60             0             0  \\\n",
       "1                1172.10   711    130271.33             0             0   \n",
       "2                 593.57   772     62918.96             0             0   \n",
       "3                 404.63   849     48238.73             0             0   \n",
       "4                1967.46   815    106124.68             0             0   \n",
       "...                  ...   ...          ...           ...           ...   \n",
       "1043306          1212.22   798    116834.64             0             0   \n",
       "1043307           831.13   826     79566.03             0             0   \n",
       "1043308           232.34   781     16472.50             0             0   \n",
       "1043309           833.57   777     78135.54             0             0   \n",
       "1043310           767.10   765     82602.38             0             0   \n",
       "\n",
       "         mos_to_balln  paid_label  \n",
       "0                 124           0  \n",
       "1                 124           0  \n",
       "2                 124           0  \n",
       "3                 125           0  \n",
       "4                   4           0  \n",
       "...               ...         ...  \n",
       "1043306           118           0  \n",
       "1043307           118           0  \n",
       "1043308            82           0  \n",
       "1043309           118           0  \n",
       "1043310           119           0  \n",
       "\n",
       "[1043311 rows x 13 columns]"
      ]
     },
     "execution_count": null,
     "metadata": {},
     "output_type": "execute_result"
    }
   ],
   "source": [
    "df_train = pd.read_csv('../data/student_loan.csv')\n",
    "df_train"
   ]
  },
  {
   "cell_type": "markdown",
   "metadata": {},
   "source": [
    "We can inspect the columns of our data set with the `DataFrame.info()` method."
   ]
  },
  {
   "cell_type": "code",
   "execution_count": null,
   "metadata": {},
   "outputs": [
    {
     "name": "stdout",
     "output_type": "stream",
     "text": [
      "<class 'pandas.core.frame.DataFrame'>\n",
      "RangeIndex: 1043311 entries, 0 to 1043310\n",
      "Data columns (total 13 columns):\n",
      " #   Column           Non-Null Count    Dtype  \n",
      "---  ------           --------------    -----  \n",
      " 0   load_id          1043311 non-null  int64  \n",
      " 1   deal_name        1043311 non-null  object \n",
      " 2   loan_age         1043311 non-null  int64  \n",
      " 3   cosign           1043311 non-null  int64  \n",
      " 4   income_annual    1043311 non-null  float64\n",
      " 5   upb              1043311 non-null  float64\n",
      " 6   monthly_payment  1043311 non-null  float64\n",
      " 7   fico             1043311 non-null  int64  \n",
      " 8   origbalance      1043311 non-null  float64\n",
      " 9   mos_to_repay     1043311 non-null  int64  \n",
      " 10  repay_status     1043311 non-null  int64  \n",
      " 11  mos_to_balln     1043311 non-null  int64  \n",
      " 12  paid_label       1043311 non-null  int64  \n",
      "dtypes: float64(4), int64(8), object(1)\n",
      "memory usage: 103.5+ MB\n"
     ]
    }
   ],
   "source": [
    "df_train.info()"
   ]
  },
  {
   "cell_type": "markdown",
   "metadata": {},
   "source": [
    " "
   ]
  },
  {
   "cell_type": "markdown",
   "metadata": {},
   "source": [
    "## Organizing Our Features and Labels"
   ]
  },
  {
   "cell_type": "markdown",
   "metadata": {},
   "source": [
    "Now that we have our data in memory, we can separate the features and labels in preparation for model fitting.  We begin with the features."
   ]
  },
  {
   "cell_type": "code",
   "execution_count": null,
   "metadata": {},
   "outputs": [],
   "source": [
    "lst_features = \\\n",
    "    ['loan_age','cosign','income_annual', 'upb',              \n",
    "    'monthly_payment','fico','origbalance',\n",
    "    'mos_to_repay','repay_status','mos_to_balln',]    \n",
    "df_X = df_train[lst_features]\n",
    "df_y = df_train['paid_label']"
   ]
  },
  {
   "cell_type": "markdown",
   "metadata": {},
   "source": [
    "And next we do the same for the labels.  Note that in our encoding a `1` stands for prepayment, while a `0` stands for non-prepayment."
   ]
  },
  {
   "cell_type": "code",
   "execution_count": null,
   "metadata": {},
   "outputs": [
    {
     "data": {
      "text/plain": [
       "0          0\n",
       "1          0\n",
       "2          0\n",
       "3          0\n",
       "4          0\n",
       "          ..\n",
       "1043306    0\n",
       "1043307    0\n",
       "1043308    0\n",
       "1043309    0\n",
       "1043310    0\n",
       "Name: paid_label, Length: 1043311, dtype: int64"
      ]
     },
     "execution_count": null,
     "metadata": {},
     "output_type": "execute_result"
    }
   ],
   "source": [
    "df_y = df_train['paid_label']\n",
    "df_y"
   ]
  },
  {
   "cell_type": "markdown",
   "metadata": {},
   "source": [
    " "
   ]
  },
  {
   "cell_type": "markdown",
   "metadata": {},
   "source": [
    "## `sklearn.model_selection.KFold`"
   ]
  },
  {
   "cell_type": "markdown",
   "metadata": {},
   "source": [
    "Cross-validation techniques are a useful for estimating out-of-sample goodness of fit metrics for a model.  Writing cross-validation code from scratch would involve a lot of boiler plate code, which basically amounts to lots of for-loops whose implementation yields very little insight.  \n",
    "\n",
    "One of great things about `sklearn` is that it contains a variety of convenience functions that take care a lot of this sort boiler-plate code for you.\n",
    "\n",
    "A great example of such a convenience function is `KFold()` which produces arrays of indexes that define a K-Fold cross validation.\n",
    "\n",
    "The following code returns an object that when applied to a data set will yield the indexes for the training set and test set for each iteration of a 2-fold cross validation."
   ]
  },
  {
   "cell_type": "code",
   "execution_count": null,
   "metadata": {},
   "outputs": [],
   "source": [
    "from sklearn.model_selection import KFold\n",
    "kf = KFold(n_splits = 2, shuffle = True, random_state = 0)"
   ]
  },
  {
   "cell_type": "markdown",
   "metadata": {},
   "source": [
    "We can use a for-loop to inspect these indexes:"
   ]
  },
  {
   "cell_type": "code",
   "execution_count": null,
   "metadata": {},
   "outputs": [
    {
     "name": "stdout",
     "output_type": "stream",
     "text": [
      "TRAIN: [      1       2       3 ... 1043303 1043307 1043309] TEST: [      0       5       6 ... 1043306 1043308 1043310]\n",
      "TRAIN: [      0       5       6 ... 1043306 1043308 1043310] TEST: [      1       2       3 ... 1043303 1043307 1043309]\n"
     ]
    }
   ],
   "source": [
    "for train_index, test_index in kf.split(df_X, df_y):\n",
    "    print(\"TRAIN:\", train_index, \"TEST:\", test_index)"
   ]
  },
  {
   "cell_type": "markdown",
   "metadata": {},
   "source": [
    " "
   ]
  },
  {
   "cell_type": "markdown",
   "metadata": {},
   "source": [
    "---"
   ]
  },
  {
   "cell_type": "markdown",
   "metadata": {},
   "source": [
    "**Research Challenge:** Google `sklearn.model_selection.StratifiedKFold` and describe the difference between it and `KFold()`."
   ]
  },
  {
   "cell_type": "code",
   "execution_count": null,
   "metadata": {},
   "outputs": [],
   "source": [
    "#| code-fold: true\n",
    "#| code-summary: \"Solution\"\n",
    "# The folds are made by preserving the percentage of samples for each class."
   ]
  },
  {
   "cell_type": "markdown",
   "metadata": {},
   "source": [
    "---"
   ]
  },
  {
   "cell_type": "markdown",
   "metadata": {},
   "source": [
    "## Choosing Optimal `max_depth` for `DecisionTreeClassifier`"
   ]
  },
  {
   "cell_type": "markdown",
   "metadata": {},
   "source": [
    "Recall that the decision tree algorithm is a process that iteratively partitions the feature space.  Specifically, for each iteration of the algorithm, a split is made along one particular dimension of the feature space.  The process is repeated until some kind of stopping criteria is met.  \n",
    "\n",
    "The hyperparameters of a decision tree model control various criteria for stopping this iterative splitting process.  The more strict the stopping criteria (i.e. stopping faster) the less flexible the model.  The more lenient the stopping criteria (i.e. stopping slower) the more flexible the model.\n",
    "\n",
    "Restricting the flexibility of a model by changing hyperparameters is also referred to as regularization.\n",
    "\n",
    "In this section we demonstrate choosing an optimal `max_depth` value for a decision tree classifier on our student loan data.  Towards this end we will use cross-validation.\n",
    "\n",
    "Let's import the functions that we will need."
   ]
  },
  {
   "cell_type": "code",
   "execution_count": null,
   "metadata": {},
   "outputs": [],
   "source": [
    "from sklearn.tree import DecisionTreeClassifier\n",
    "from sklearn.metrics import f1_score"
   ]
  },
  {
   "cell_type": "markdown",
   "metadata": {},
   "source": [
    "We will use 10-fold cross-validation, so let's invoke the required indexes with `KFold`."
   ]
  },
  {
   "cell_type": "code",
   "execution_count": null,
   "metadata": {},
   "outputs": [],
   "source": [
    "kf = KFold(n_splits = 10, shuffle = True, random_state = 0)"
   ]
  },
  {
   "cell_type": "markdown",
   "metadata": {},
   "source": [
    "The following code calculates a 10-fold CV F1-score, expected-balance ratio, and average fit-time for various levels of `max_depth`."
   ]
  },
  {
   "cell_type": "code",
   "execution_count": null,
   "metadata": {},
   "outputs": [
    {
     "name": "stdout",
     "output_type": "stream",
     "text": [
      "1\n",
      "2\n",
      "3\n",
      "4\n",
      "5\n",
      "10\n",
      "15\n",
      "20\n",
      "25\n"
     ]
    }
   ],
   "source": [
    "# various levels of max_depth we will try\n",
    "lst_depth = [1, 2, 3, 4, 5, 10, 15, 20, 25]\n",
    "\n",
    "# lists for storing average statistics \n",
    "lst_f1_avg = []\n",
    "lst_eb_ratio_avg = []\n",
    "lst_fit_time_avg = []\n",
    "for ix_depth in lst_depth:\n",
    "\n",
    "    # list for storing statitics for each fold of cross-validation\n",
    "    lst_f1 = []\n",
    "    lst_eb_ratio = []\n",
    "    lst_fit_time = []\n",
    "    for train_index, test_index in kf.split(df_X, df_y):    \n",
    "        # creating training set \n",
    "        X_train = df_X.iloc[train_index]\n",
    "        y_train = df_y.iloc[train_index]\n",
    "\n",
    "        # creating test set\n",
    "        X_test = df_X.iloc[test_index]\n",
    "        y_test = df_y.iloc[test_index]\n",
    "\n",
    "        # intantiating model\n",
    "        mdl = DecisionTreeClassifier(max_depth = ix_depth, random_state = 0)\n",
    "\n",
    "        # fit the model\n",
    "        start = time.time()\n",
    "        mdl.fit(X_train, y_train)\n",
    "        arr_pred = mdl.predict(X_test)\n",
    "        end = time.time()\n",
    "        \n",
    "        # fit time\n",
    "        dbl_fit_time = end - start\n",
    "        lst_fit_time.append(dbl_fit_time)\n",
    "\n",
    "        # f1-score\n",
    "        dbl_f1 = f1_score(y_test, arr_pred)\n",
    "        lst_f1.append(dbl_f1) \n",
    "\n",
    "        # expected-balance ratio\n",
    "        arr_pred_proba = mdl.predict_proba(X_test)[:,1]\n",
    "        dbl_eb_ratio = (arr_pred_proba * X_test['upb']).sum() / (y_test * X_test['upb']).sum()\n",
    "        lst_eb_ratio.append(dbl_eb_ratio)\n",
    "\n",
    "    # calculating and storing average metrics\n",
    "    fit_time_avg = np.round(np.mean(lst_fit_time), 1)\n",
    "    lst_fit_time_avg.append(fit_time_avg)\n",
    "    f1_avg = np.round(np.mean(lst_f1), 3)\n",
    "    lst_f1_avg.append(f1_avg)\n",
    "    eb_ratio_avg = np.round(np.mean(lst_eb_ratio), 3)\n",
    "    lst_eb_ratio_avg.append(eb_ratio_avg)\n",
    "    \n",
    "    # printing some output so I know my code is running\n",
    "    print(ix_depth)"
   ]
  },
  {
   "cell_type": "markdown",
   "metadata": {},
   "source": [
    "Let's put our results into a `DataFrame`, and then graph them."
   ]
  },
  {
   "cell_type": "code",
   "execution_count": null,
   "metadata": {},
   "outputs": [
    {
     "data": {
      "text/html": [
       "<div>\n",
       "<style scoped>\n",
       "    .dataframe tbody tr th:only-of-type {\n",
       "        vertical-align: middle;\n",
       "    }\n",
       "\n",
       "    .dataframe tbody tr th {\n",
       "        vertical-align: top;\n",
       "    }\n",
       "\n",
       "    .dataframe thead th {\n",
       "        text-align: right;\n",
       "    }\n",
       "</style>\n",
       "<table border=\"1\" class=\"dataframe\">\n",
       "  <thead>\n",
       "    <tr style=\"text-align: right;\">\n",
       "      <th></th>\n",
       "      <th>max_depth</th>\n",
       "      <th>f1</th>\n",
       "      <th>eb_ratio</th>\n",
       "      <th>fit_time</th>\n",
       "    </tr>\n",
       "  </thead>\n",
       "  <tbody>\n",
       "    <tr>\n",
       "      <th>0</th>\n",
       "      <td>1</td>\n",
       "      <td>0.374</td>\n",
       "      <td>1.261</td>\n",
       "      <td>0.7</td>\n",
       "    </tr>\n",
       "    <tr>\n",
       "      <th>1</th>\n",
       "      <td>2</td>\n",
       "      <td>0.464</td>\n",
       "      <td>1.128</td>\n",
       "      <td>1.1</td>\n",
       "    </tr>\n",
       "    <tr>\n",
       "      <th>2</th>\n",
       "      <td>3</td>\n",
       "      <td>0.444</td>\n",
       "      <td>1.048</td>\n",
       "      <td>1.8</td>\n",
       "    </tr>\n",
       "    <tr>\n",
       "      <th>3</th>\n",
       "      <td>4</td>\n",
       "      <td>0.459</td>\n",
       "      <td>1.054</td>\n",
       "      <td>2.3</td>\n",
       "    </tr>\n",
       "    <tr>\n",
       "      <th>4</th>\n",
       "      <td>5</td>\n",
       "      <td>0.470</td>\n",
       "      <td>0.984</td>\n",
       "      <td>2.9</td>\n",
       "    </tr>\n",
       "    <tr>\n",
       "      <th>5</th>\n",
       "      <td>10</td>\n",
       "      <td>0.486</td>\n",
       "      <td>1.043</td>\n",
       "      <td>5.8</td>\n",
       "    </tr>\n",
       "    <tr>\n",
       "      <th>6</th>\n",
       "      <td>15</td>\n",
       "      <td>0.478</td>\n",
       "      <td>1.016</td>\n",
       "      <td>8.4</td>\n",
       "    </tr>\n",
       "    <tr>\n",
       "      <th>7</th>\n",
       "      <td>20</td>\n",
       "      <td>0.463</td>\n",
       "      <td>0.997</td>\n",
       "      <td>10.5</td>\n",
       "    </tr>\n",
       "    <tr>\n",
       "      <th>8</th>\n",
       "      <td>25</td>\n",
       "      <td>0.441</td>\n",
       "      <td>0.978</td>\n",
       "      <td>12.2</td>\n",
       "    </tr>\n",
       "  </tbody>\n",
       "</table>\n",
       "</div>"
      ],
      "text/plain": [
       "   max_depth     f1  eb_ratio  fit_time\n",
       "0          1  0.374     1.261       0.7\n",
       "1          2  0.464     1.128       1.1\n",
       "2          3  0.444     1.048       1.8\n",
       "3          4  0.459     1.054       2.3\n",
       "4          5  0.470     0.984       2.9\n",
       "5         10  0.486     1.043       5.8\n",
       "6         15  0.478     1.016       8.4\n",
       "7         20  0.463     0.997      10.5\n",
       "8         25  0.441     0.978      12.2"
      ]
     },
     "execution_count": null,
     "metadata": {},
     "output_type": "execute_result"
    }
   ],
   "source": [
    "df_results = pd.DataFrame({'max_depth':lst_depth, 'f1':lst_f1_avg, 'eb_ratio':lst_eb_ratio_avg, 'fit_time':lst_fit_time_avg})\n",
    "df_results"
   ]
  },
  {
   "cell_type": "markdown",
   "metadata": {},
   "source": [
    "### **Graph of F1**"
   ]
  },
  {
   "cell_type": "code",
   "execution_count": null,
   "metadata": {},
   "outputs": [
    {
     "data": {
      "image/png": "[encoded data removed]",
      "text/plain": [
       "<Figure size 750x500 with 1 Axes>"
      ]
     },
     "metadata": {},
     "output_type": "display_data"
    }
   ],
   "source": [
    "%matplotlib inline\n",
    "with sns.axes_style('darkgrid'):\n",
    "    g = sns.relplot(\n",
    "            x = 'max_depth',\n",
    "            y = 'f1',\n",
    "            data = df_results,\n",
    "            alpha = 0.75,\n",
    "            height = 5, \n",
    "            aspect = 1.5,\n",
    "        );\n",
    "    plt.subplots_adjust(top = 0.93);\n",
    "    g.fig.suptitle('F1 for Various Levels of Max-Depth');"
   ]
  },
  {
   "cell_type": "markdown",
   "metadata": {},
   "source": [
    "### **Graph of Expected-Balance Ratio**"
   ]
  },
  {
   "cell_type": "code",
   "execution_count": null,
   "metadata": {},
   "outputs": [
    {
     "data": {
      "image/png": "[encoded data removed]",
      "text/plain": [
       "<Figure size 750x500 with 1 Axes>"
      ]
     },
     "metadata": {},
     "output_type": "display_data"
    }
   ],
   "source": [
    "with sns.axes_style('darkgrid'):\n",
    "    g = sns.relplot(\n",
    "            x = 'max_depth',\n",
    "            y = 'eb_ratio',\n",
    "            data = df_results,\n",
    "            alpha = 0.75,\n",
    "            height = 5, \n",
    "            aspect = 1.5,\n",
    "        );\n",
    "    plt.subplots_adjust(top = 0.93);\n",
    "    g.fig.suptitle('Expected-Balance Ratio for Various Levels of Max-Depth');"
   ]
  },
  {
   "cell_type": "markdown",
   "metadata": {},
   "source": [
    "### **Graph of Fit Time**"
   ]
  },
  {
   "cell_type": "code",
   "execution_count": null,
   "metadata": {},
   "outputs": [
    {
     "data": {
      "image/png": "[encoded data removed]",
      "text/plain": [
       "<Figure size 750x500 with 1 Axes>"
      ]
     },
     "metadata": {},
     "output_type": "display_data"
    }
   ],
   "source": [
    "with sns.axes_style('darkgrid'):\n",
    "    g = sns.relplot(\n",
    "            x = 'max_depth',\n",
    "            y = 'fit_time',\n",
    "            data = df_results,\n",
    "            alpha = 0.75,\n",
    "            height = 5, \n",
    "            aspect = 1.5,\n",
    "        );\n",
    "    plt.subplots_adjust(top = 0.93);\n",
    "    g.fig.suptitle('Fit-Time for Various Levels of Max-Depth');"
   ]
  },
  {
   "cell_type": "markdown",
   "metadata": {},
   "source": [
    " "
   ]
  },
  {
   "cell_type": "markdown",
   "metadata": {},
   "source": [
    "---"
   ]
  },
  {
   "cell_type": "markdown",
   "metadata": {},
   "source": [
    "**Discussion Question:** Based on these results, which what would you choose for `max_depth`?"
   ]
  },
  {
   "cell_type": "code",
   "execution_count": null,
   "metadata": {},
   "outputs": [],
   "source": [
    "#| code-fold: true\n",
    "#| code-summary: \"Solution\"\n",
    "# I would probaby choose something in the 5-10 range."
   ]
  },
  {
   "cell_type": "markdown",
   "metadata": {},
   "source": [
    "---"
   ]
  }
 ],
 "metadata": {
  "kernelspec": {
   "display_name": "python3",
   "language": "python",
   "name": "python3"
  }
 },
 "nbformat": 4,
 "nbformat_minor": 4
}
