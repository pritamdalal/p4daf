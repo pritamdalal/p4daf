{
 "cells": [
  {
   "cell_type": "markdown",
   "metadata": {},
   "source": [
    "# Principal Components Logistic Regression"
   ]
  },
  {
   "cell_type": "markdown",
   "metadata": {},
   "source": [
    "Numerai is a hedge fund that crowdsources their market predictions.  They disseminate data that is anonymized so that the data scientists who are working on the forecasting are not even aware of what features or labels they are working with.  The prediction problem is reduced to a classification of predicting a gain or loss.\n",
    "\n",
    "In this chapter we will fit principal components logistic regressions to Numerai data.\n",
    "\n",
    "The underlying idea behind PCR is that often a small number of principal components can sufficiently explain most of the variability in the data, as well as the predictors' relationship with the response. When utilizing PCR, we are tacitly assuming that the directions in which the predictors show the most variation are the directions that are most associated with the label. While this assumption is not guaranteed, it is reasonable enough that PCR can sometimes yield performance improvements over plain logistic regression."
   ]
  },
  {
   "cell_type": "markdown",
   "metadata": {},
   "source": [
    "## Importing Data"
   ]
  },
  {
   "cell_type": "markdown",
   "metadata": {},
   "source": [
    "Let's begin by importing the data and organizing our features and labels."
   ]
  },
  {
   "cell_type": "code",
   "execution_count": null,
   "metadata": {},
   "outputs": [],
   "source": [
    "import pandas as pd\n",
    "import numpy as np"
   ]
  },
  {
   "cell_type": "code",
   "execution_count": null,
   "metadata": {},
   "outputs": [
    {
     "data": {
      "text/html": [
       "<div>\n",
       "<style scoped>\n",
       "    .dataframe tbody tr th:only-of-type {\n",
       "        vertical-align: middle;\n",
       "    }\n",
       "\n",
       "    .dataframe tbody tr th {\n",
       "        vertical-align: top;\n",
       "    }\n",
       "\n",
       "    .dataframe thead th {\n",
       "        text-align: right;\n",
       "    }\n",
       "</style>\n",
       "<table border=\"1\" class=\"dataframe\">\n",
       "  <thead>\n",
       "    <tr style=\"text-align: right;\">\n",
       "      <th></th>\n",
       "      <th>0</th>\n",
       "      <th>1</th>\n",
       "      <th>2</th>\n",
       "      <th>3</th>\n",
       "      <th>4</th>\n",
       "    </tr>\n",
       "  </thead>\n",
       "  <tbody>\n",
       "    <tr>\n",
       "      <th>feature1</th>\n",
       "      <td>0.499664</td>\n",
       "      <td>0.099515</td>\n",
       "      <td>0.671993</td>\n",
       "      <td>0.578177</td>\n",
       "      <td>0.474311</td>\n",
       "    </tr>\n",
       "    <tr>\n",
       "      <th>feature2</th>\n",
       "      <td>0.951271</td>\n",
       "      <td>0.682824</td>\n",
       "      <td>0.383901</td>\n",
       "      <td>0.872357</td>\n",
       "      <td>0.639613</td>\n",
       "    </tr>\n",
       "    <tr>\n",
       "      <th>feature3</th>\n",
       "      <td>0.127110</td>\n",
       "      <td>0.867939</td>\n",
       "      <td>0.533011</td>\n",
       "      <td>0.679625</td>\n",
       "      <td>0.563562</td>\n",
       "    </tr>\n",
       "    <tr>\n",
       "      <th>feature4</th>\n",
       "      <td>0.469706</td>\n",
       "      <td>0.943828</td>\n",
       "      <td>0.690863</td>\n",
       "      <td>0.108961</td>\n",
       "      <td>0.169508</td>\n",
       "    </tr>\n",
       "    <tr>\n",
       "      <th>feature5</th>\n",
       "      <td>0.188336</td>\n",
       "      <td>0.505526</td>\n",
       "      <td>0.176539</td>\n",
       "      <td>0.945910</td>\n",
       "      <td>0.456858</td>\n",
       "    </tr>\n",
       "    <tr>\n",
       "      <th>feature6</th>\n",
       "      <td>0.113830</td>\n",
       "      <td>0.886766</td>\n",
       "      <td>0.600196</td>\n",
       "      <td>0.571062</td>\n",
       "      <td>0.580710</td>\n",
       "    </tr>\n",
       "    <tr>\n",
       "      <th>feature7</th>\n",
       "      <td>0.917618</td>\n",
       "      <td>0.530862</td>\n",
       "      <td>0.381543</td>\n",
       "      <td>0.891958</td>\n",
       "      <td>0.969811</td>\n",
       "    </tr>\n",
       "    <tr>\n",
       "      <th>feature8</th>\n",
       "      <td>0.398412</td>\n",
       "      <td>0.531002</td>\n",
       "      <td>0.648849</td>\n",
       "      <td>0.916592</td>\n",
       "      <td>0.357417</td>\n",
       "    </tr>\n",
       "    <tr>\n",
       "      <th>feature9</th>\n",
       "      <td>0.418910</td>\n",
       "      <td>0.980002</td>\n",
       "      <td>0.831643</td>\n",
       "      <td>0.141508</td>\n",
       "      <td>0.157594</td>\n",
       "    </tr>\n",
       "    <tr>\n",
       "      <th>feature10</th>\n",
       "      <td>0.452983</td>\n",
       "      <td>0.941859</td>\n",
       "      <td>0.861746</td>\n",
       "      <td>0.258504</td>\n",
       "      <td>0.251147</td>\n",
       "    </tr>\n",
       "    <tr>\n",
       "      <th>feature11</th>\n",
       "      <td>0.167463</td>\n",
       "      <td>0.311850</td>\n",
       "      <td>0.712546</td>\n",
       "      <td>0.108918</td>\n",
       "      <td>0.344988</td>\n",
       "    </tr>\n",
       "    <tr>\n",
       "      <th>feature12</th>\n",
       "      <td>0.430536</td>\n",
       "      <td>0.133233</td>\n",
       "      <td>0.406130</td>\n",
       "      <td>0.477112</td>\n",
       "      <td>0.289470</td>\n",
       "    </tr>\n",
       "    <tr>\n",
       "      <th>feature13</th>\n",
       "      <td>0.137192</td>\n",
       "      <td>0.642640</td>\n",
       "      <td>0.520068</td>\n",
       "      <td>0.037959</td>\n",
       "      <td>0.038095</td>\n",
       "    </tr>\n",
       "    <tr>\n",
       "      <th>feature14</th>\n",
       "      <td>0.201437</td>\n",
       "      <td>0.533367</td>\n",
       "      <td>0.660924</td>\n",
       "      <td>0.604539</td>\n",
       "      <td>0.770200</td>\n",
       "    </tr>\n",
       "    <tr>\n",
       "      <th>feature15</th>\n",
       "      <td>0.507708</td>\n",
       "      <td>0.616879</td>\n",
       "      <td>0.538882</td>\n",
       "      <td>0.974103</td>\n",
       "      <td>0.697395</td>\n",
       "    </tr>\n",
       "    <tr>\n",
       "      <th>feature16</th>\n",
       "      <td>0.919475</td>\n",
       "      <td>0.697038</td>\n",
       "      <td>0.160117</td>\n",
       "      <td>0.187519</td>\n",
       "      <td>0.792327</td>\n",
       "    </tr>\n",
       "    <tr>\n",
       "      <th>feature17</th>\n",
       "      <td>0.978169</td>\n",
       "      <td>0.741461</td>\n",
       "      <td>0.765317</td>\n",
       "      <td>0.938254</td>\n",
       "      <td>0.711650</td>\n",
       "    </tr>\n",
       "    <tr>\n",
       "      <th>feature18</th>\n",
       "      <td>0.177080</td>\n",
       "      <td>0.086690</td>\n",
       "      <td>0.301772</td>\n",
       "      <td>0.560129</td>\n",
       "      <td>0.177080</td>\n",
       "    </tr>\n",
       "    <tr>\n",
       "      <th>feature19</th>\n",
       "      <td>0.101372</td>\n",
       "      <td>0.109533</td>\n",
       "      <td>0.352097</td>\n",
       "      <td>0.136483</td>\n",
       "      <td>0.247403</td>\n",
       "    </tr>\n",
       "    <tr>\n",
       "      <th>feature20</th>\n",
       "      <td>0.722138</td>\n",
       "      <td>0.324666</td>\n",
       "      <td>0.638205</td>\n",
       "      <td>0.284507</td>\n",
       "      <td>0.666598</td>\n",
       "    </tr>\n",
       "    <tr>\n",
       "      <th>feature21</th>\n",
       "      <td>0.832319</td>\n",
       "      <td>0.552276</td>\n",
       "      <td>0.383552</td>\n",
       "      <td>0.199446</td>\n",
       "      <td>0.755557</td>\n",
       "    </tr>\n",
       "    <tr>\n",
       "      <th>target</th>\n",
       "      <td>0.000000</td>\n",
       "      <td>1.000000</td>\n",
       "      <td>0.000000</td>\n",
       "      <td>1.000000</td>\n",
       "      <td>0.000000</td>\n",
       "    </tr>\n",
       "  </tbody>\n",
       "</table>\n",
       "</div>"
      ],
      "text/plain": [
       "                  0         1         2         3         4\n",
       "feature1   0.499664  0.099515  0.671993  0.578177  0.474311\n",
       "feature2   0.951271  0.682824  0.383901  0.872357  0.639613\n",
       "feature3   0.127110  0.867939  0.533011  0.679625  0.563562\n",
       "feature4   0.469706  0.943828  0.690863  0.108961  0.169508\n",
       "feature5   0.188336  0.505526  0.176539  0.945910  0.456858\n",
       "feature6   0.113830  0.886766  0.600196  0.571062  0.580710\n",
       "feature7   0.917618  0.530862  0.381543  0.891958  0.969811\n",
       "feature8   0.398412  0.531002  0.648849  0.916592  0.357417\n",
       "feature9   0.418910  0.980002  0.831643  0.141508  0.157594\n",
       "feature10  0.452983  0.941859  0.861746  0.258504  0.251147\n",
       "feature11  0.167463  0.311850  0.712546  0.108918  0.344988\n",
       "feature12  0.430536  0.133233  0.406130  0.477112  0.289470\n",
       "feature13  0.137192  0.642640  0.520068  0.037959  0.038095\n",
       "feature14  0.201437  0.533367  0.660924  0.604539  0.770200\n",
       "feature15  0.507708  0.616879  0.538882  0.974103  0.697395\n",
       "feature16  0.919475  0.697038  0.160117  0.187519  0.792327\n",
       "feature17  0.978169  0.741461  0.765317  0.938254  0.711650\n",
       "feature18  0.177080  0.086690  0.301772  0.560129  0.177080\n",
       "feature19  0.101372  0.109533  0.352097  0.136483  0.247403\n",
       "feature20  0.722138  0.324666  0.638205  0.284507  0.666598\n",
       "feature21  0.832319  0.552276  0.383552  0.199446  0.755557\n",
       "target     0.000000  1.000000  0.000000  1.000000  0.000000"
      ]
     },
     "execution_count": null,
     "metadata": {},
     "output_type": "execute_result"
    }
   ],
   "source": [
    "df_data = pd.read_csv('../data/numerai_training_data.csv')\n",
    "df_data.head().T"
   ]
  },
  {
   "cell_type": "code",
   "execution_count": null,
   "metadata": {},
   "outputs": [],
   "source": [
    "df_X = df_data.drop(columns='target').copy()\n",
    "df_y = df_data['target'].copy()"
   ]
  },
  {
   "cell_type": "markdown",
   "metadata": {},
   "source": [
    "## The Data is Clean"
   ]
  },
  {
   "cell_type": "markdown",
   "metadata": {},
   "source": [
    "One nice thing about working with the Numerai data is that it is clean and normalized:  \n",
    "\n",
    "1. All the features are in the range of $[0, 1]$.\n",
    "1. All the features have a mean of 0.50 and a standard deviation of 0.28.\n",
    "1. The occurrence of labels is balanced at 50% gains and 50% losses."
   ]
  },
  {
   "cell_type": "code",
   "execution_count": null,
   "metadata": {},
   "outputs": [
    {
     "data": {
      "text/plain": [
       "feature1     0.511372\n",
       "feature2     0.492770\n",
       "feature3     0.492105\n",
       "feature4     0.499420\n",
       "feature5     0.502291\n",
       "feature6     0.493039\n",
       "feature7     0.480280\n",
       "feature8     0.494526\n",
       "feature9     0.492926\n",
       "feature10    0.489265\n",
       "feature11    0.495725\n",
       "feature12    0.510969\n",
       "feature13    0.489852\n",
       "feature14    0.509350\n",
       "feature15    0.487469\n",
       "feature16    0.509012\n",
       "feature17    0.488944\n",
       "feature18    0.484929\n",
       "feature19    0.491757\n",
       "feature20    0.509223\n",
       "feature21    0.498371\n",
       "dtype: float64"
      ]
     },
     "execution_count": null,
     "metadata": {},
     "output_type": "execute_result"
    }
   ],
   "source": [
    "df_X.mean()"
   ]
  },
  {
   "cell_type": "code",
   "execution_count": null,
   "metadata": {},
   "outputs": [
    {
     "data": {
      "text/plain": [
       "feature1     0.282260\n",
       "feature2     0.287446\n",
       "feature3     0.282481\n",
       "feature4     0.284493\n",
       "feature5     0.289867\n",
       "feature6     0.287061\n",
       "feature7     0.287526\n",
       "feature8     0.288087\n",
       "feature9     0.293945\n",
       "feature10    0.287046\n",
       "feature11    0.290922\n",
       "feature12    0.285451\n",
       "feature13    0.291276\n",
       "feature14    0.290140\n",
       "feature15    0.286997\n",
       "feature16    0.289279\n",
       "feature17    0.284790\n",
       "feature18    0.290445\n",
       "feature19    0.283742\n",
       "feature20    0.291001\n",
       "feature21    0.289637\n",
       "dtype: float64"
      ]
     },
     "execution_count": null,
     "metadata": {},
     "output_type": "execute_result"
    }
   ],
   "source": [
    "df_X.std()"
   ]
  },
  {
   "cell_type": "markdown",
   "metadata": {},
   "source": [
    "Notice that a guess of increase for all assets would yield an accuracy of 50.5%."
   ]
  },
  {
   "cell_type": "code",
   "execution_count": null,
   "metadata": {},
   "outputs": [
    {
     "data": {
      "text/plain": [
       "0.5051702657807309"
      ]
     },
     "execution_count": null,
     "metadata": {},
     "output_type": "execute_result"
    }
   ],
   "source": [
    "df_y.mean()"
   ]
  },
  {
   "cell_type": "markdown",
   "metadata": {},
   "source": [
    "## Analyzing Correlations"
   ]
  },
  {
   "cell_type": "markdown",
   "metadata": {},
   "source": [
    "PCA regression tends to work best when there are a large number of features, and many of the features are highly correlated (i.e. lots of multi-colinearity).  So let's analyze the correlation structure of our features.  We begin by using the `DataFrame.corr()` method in **pandas** and then applying a heat-map with the **seaborn** package."
   ]
  },
  {
   "cell_type": "code",
   "execution_count": null,
   "metadata": {},
   "outputs": [
    {
     "data": {
      "image/png": "[encoded data removed]",
      "text/plain": [
       "<Figure size 640x480 with 2 Axes>"
      ]
     },
     "metadata": {},
     "output_type": "display_data"
    }
   ],
   "source": [
    "import seaborn as sns\n",
    "sns.heatmap(df_X.corr());"
   ]
  },
  {
   "cell_type": "markdown",
   "metadata": {},
   "source": [
    "I find the heat-map a little hard to read, so let's try a different approach.  In particular, we'll create a histogram of all the correlations.\n",
    "\n",
    "I begin by creating a the correlation matrix using **numpy** and then I fill the diagonal with `np.nans` because I only want to focus on the pairwise correlations (why??)."
   ]
  },
  {
   "cell_type": "code",
   "execution_count": null,
   "metadata": {},
   "outputs": [
    {
     "data": {
      "image/png": "[encoded data removed]",
      "text/plain": [
       "<Figure size 640x480 with 1 Axes>"
      ]
     },
     "metadata": {},
     "output_type": "display_data"
    }
   ],
   "source": [
    "corr = np.corrcoef(df_X, rowvar=False) # calculating correlation matrix\n",
    "np.fill_diagonal(corr, np.nan) # filling the diagonal with nans\n",
    "sns.histplot(corr.flatten(), legend=False); # plotting histogram "
   ]
  },
  {
   "cell_type": "markdown",
   "metadata": {},
   "source": [
    "As we can see, all our correlations are in the range of -60% to +85% and there aren't that many on the high range - most are in the range of -40% to +40%.  So I wouldn't suspect that PCA regression is going to help performance that much."
   ]
  },
  {
   "cell_type": "markdown",
   "metadata": {},
   "source": [
    "## Principal Components"
   ]
  },
  {
   "cell_type": "markdown",
   "metadata": {},
   "source": [
    "Let's now turn our attention to actually calculating the loading vectors (`.components_`) and the scores of the principal components.  We begin by importing the constructor function `PCA()` and instantiating a model object which we will call `pca`."
   ]
  },
  {
   "cell_type": "code",
   "execution_count": null,
   "metadata": {},
   "outputs": [],
   "source": [
    "from sklearn.decomposition import PCA\n",
    "pca = PCA()"
   ]
  },
  {
   "cell_type": "markdown",
   "metadata": {},
   "source": [
    "Running the `pca.fit_transform()` method of our model does two things:\n",
    "1. Fits the PCA which calculates the loading vectors and the component scores.\n",
    "2. Returns an array that contains the component scores."
   ]
  },
  {
   "cell_type": "code",
   "execution_count": null,
   "metadata": {},
   "outputs": [
    {
     "data": {
      "text/html": [
       "<div>\n",
       "<style scoped>\n",
       "    .dataframe tbody tr th:only-of-type {\n",
       "        vertical-align: middle;\n",
       "    }\n",
       "\n",
       "    .dataframe tbody tr th {\n",
       "        vertical-align: top;\n",
       "    }\n",
       "\n",
       "    .dataframe thead th {\n",
       "        text-align: right;\n",
       "    }\n",
       "</style>\n",
       "<table border=\"1\" class=\"dataframe\">\n",
       "  <thead>\n",
       "    <tr style=\"text-align: right;\">\n",
       "      <th></th>\n",
       "      <th>0</th>\n",
       "      <th>1</th>\n",
       "      <th>2</th>\n",
       "      <th>3</th>\n",
       "      <th>4</th>\n",
       "      <th>5</th>\n",
       "      <th>6</th>\n",
       "      <th>7</th>\n",
       "      <th>8</th>\n",
       "      <th>9</th>\n",
       "    </tr>\n",
       "  </thead>\n",
       "  <tbody>\n",
       "    <tr>\n",
       "      <th>0</th>\n",
       "      <td>0.108582</td>\n",
       "      <td>0.047151</td>\n",
       "      <td>-0.090215</td>\n",
       "      <td>1.353407</td>\n",
       "      <td>0.543936</td>\n",
       "      <td>-1.337931</td>\n",
       "      <td>-1.065158</td>\n",
       "      <td>-0.897421</td>\n",
       "      <td>-0.009373</td>\n",
       "      <td>-0.126169</td>\n",
       "    </tr>\n",
       "    <tr>\n",
       "      <th>1</th>\n",
       "      <td>-0.574424</td>\n",
       "      <td>-0.716723</td>\n",
       "      <td>-0.211012</td>\n",
       "      <td>0.273582</td>\n",
       "      <td>-0.291230</td>\n",
       "      <td>-0.512642</td>\n",
       "      <td>-0.327780</td>\n",
       "      <td>-0.489651</td>\n",
       "      <td>-0.315189</td>\n",
       "      <td>-0.422283</td>\n",
       "    </tr>\n",
       "    <tr>\n",
       "      <th>2</th>\n",
       "      <td>0.537864</td>\n",
       "      <td>0.494604</td>\n",
       "      <td>-0.096291</td>\n",
       "      <td>0.451725</td>\n",
       "      <td>0.491375</td>\n",
       "      <td>-0.065085</td>\n",
       "      <td>-0.547790</td>\n",
       "      <td>0.823222</td>\n",
       "      <td>-0.750135</td>\n",
       "      <td>-0.353828</td>\n",
       "    </tr>\n",
       "    <tr>\n",
       "      <th>3</th>\n",
       "      <td>0.498702</td>\n",
       "      <td>0.406678</td>\n",
       "      <td>0.226609</td>\n",
       "      <td>0.129886</td>\n",
       "      <td>0.045200</td>\n",
       "      <td>-0.113888</td>\n",
       "      <td>-0.041263</td>\n",
       "      <td>-0.300901</td>\n",
       "      <td>-0.038114</td>\n",
       "      <td>-0.574432</td>\n",
       "    </tr>\n",
       "    <tr>\n",
       "      <th>4</th>\n",
       "      <td>-0.587933</td>\n",
       "      <td>0.489419</td>\n",
       "      <td>0.412921</td>\n",
       "      <td>0.066838</td>\n",
       "      <td>-0.686664</td>\n",
       "      <td>0.213407</td>\n",
       "      <td>-0.238949</td>\n",
       "      <td>0.207119</td>\n",
       "      <td>-0.039683</td>\n",
       "      <td>0.336750</td>\n",
       "    </tr>\n",
       "    <tr>\n",
       "      <th>5</th>\n",
       "      <td>0.456096</td>\n",
       "      <td>-0.508008</td>\n",
       "      <td>-0.250760</td>\n",
       "      <td>0.185151</td>\n",
       "      <td>-0.092568</td>\n",
       "      <td>0.031041</td>\n",
       "      <td>0.643533</td>\n",
       "      <td>0.040054</td>\n",
       "      <td>-0.214722</td>\n",
       "      <td>0.228547</td>\n",
       "    </tr>\n",
       "    <tr>\n",
       "      <th>6</th>\n",
       "      <td>0.279154</td>\n",
       "      <td>-0.373310</td>\n",
       "      <td>-0.040299</td>\n",
       "      <td>0.118741</td>\n",
       "      <td>0.321192</td>\n",
       "      <td>-0.059057</td>\n",
       "      <td>-0.296018</td>\n",
       "      <td>0.175180</td>\n",
       "      <td>-0.067271</td>\n",
       "      <td>0.003632</td>\n",
       "    </tr>\n",
       "    <tr>\n",
       "      <th>7</th>\n",
       "      <td>0.546058</td>\n",
       "      <td>-0.117602</td>\n",
       "      <td>-0.015733</td>\n",
       "      <td>0.150985</td>\n",
       "      <td>-0.087823</td>\n",
       "      <td>0.108120</td>\n",
       "      <td>0.124292</td>\n",
       "      <td>-0.246969</td>\n",
       "      <td>-0.200124</td>\n",
       "      <td>0.058870</td>\n",
       "    </tr>\n",
       "    <tr>\n",
       "      <th>8</th>\n",
       "      <td>0.082506</td>\n",
       "      <td>0.295906</td>\n",
       "      <td>-0.389367</td>\n",
       "      <td>-0.077537</td>\n",
       "      <td>-0.096548</td>\n",
       "      <td>0.052603</td>\n",
       "      <td>0.090922</td>\n",
       "      <td>-0.152764</td>\n",
       "      <td>-0.127075</td>\n",
       "      <td>-0.094810</td>\n",
       "    </tr>\n",
       "    <tr>\n",
       "      <th>9</th>\n",
       "      <td>-0.132753</td>\n",
       "      <td>-0.058394</td>\n",
       "      <td>-0.161979</td>\n",
       "      <td>0.054263</td>\n",
       "      <td>-0.186621</td>\n",
       "      <td>0.073997</td>\n",
       "      <td>0.006181</td>\n",
       "      <td>-0.038866</td>\n",
       "      <td>-0.227574</td>\n",
       "      <td>-0.058603</td>\n",
       "    </tr>\n",
       "    <tr>\n",
       "      <th>10</th>\n",
       "      <td>0.020061</td>\n",
       "      <td>0.114448</td>\n",
       "      <td>0.208979</td>\n",
       "      <td>0.008523</td>\n",
       "      <td>-0.003582</td>\n",
       "      <td>0.036240</td>\n",
       "      <td>-0.057146</td>\n",
       "      <td>-0.239290</td>\n",
       "      <td>-0.062074</td>\n",
       "      <td>-0.006718</td>\n",
       "    </tr>\n",
       "    <tr>\n",
       "      <th>11</th>\n",
       "      <td>-0.124765</td>\n",
       "      <td>0.108493</td>\n",
       "      <td>-0.050232</td>\n",
       "      <td>-0.048477</td>\n",
       "      <td>-0.192685</td>\n",
       "      <td>0.196224</td>\n",
       "      <td>-0.006818</td>\n",
       "      <td>-0.047599</td>\n",
       "      <td>-0.033631</td>\n",
       "      <td>0.055577</td>\n",
       "    </tr>\n",
       "    <tr>\n",
       "      <th>12</th>\n",
       "      <td>-0.061971</td>\n",
       "      <td>0.066483</td>\n",
       "      <td>0.032047</td>\n",
       "      <td>0.079159</td>\n",
       "      <td>-0.038498</td>\n",
       "      <td>-0.239024</td>\n",
       "      <td>-0.000349</td>\n",
       "      <td>0.158037</td>\n",
       "      <td>0.056380</td>\n",
       "      <td>-0.020836</td>\n",
       "    </tr>\n",
       "    <tr>\n",
       "      <th>13</th>\n",
       "      <td>0.155951</td>\n",
       "      <td>0.183960</td>\n",
       "      <td>-0.075008</td>\n",
       "      <td>0.042270</td>\n",
       "      <td>0.186666</td>\n",
       "      <td>0.083251</td>\n",
       "      <td>0.130578</td>\n",
       "      <td>0.035460</td>\n",
       "      <td>-0.113674</td>\n",
       "      <td>0.079207</td>\n",
       "    </tr>\n",
       "    <tr>\n",
       "      <th>14</th>\n",
       "      <td>0.094436</td>\n",
       "      <td>0.015976</td>\n",
       "      <td>0.352847</td>\n",
       "      <td>0.000650</td>\n",
       "      <td>-0.058494</td>\n",
       "      <td>0.106945</td>\n",
       "      <td>-0.081955</td>\n",
       "      <td>-0.043160</td>\n",
       "      <td>0.039765</td>\n",
       "      <td>-0.097706</td>\n",
       "    </tr>\n",
       "    <tr>\n",
       "      <th>15</th>\n",
       "      <td>-0.029417</td>\n",
       "      <td>0.205648</td>\n",
       "      <td>0.200973</td>\n",
       "      <td>0.012170</td>\n",
       "      <td>-0.003544</td>\n",
       "      <td>-0.006003</td>\n",
       "      <td>-0.208144</td>\n",
       "      <td>-0.020886</td>\n",
       "      <td>0.116896</td>\n",
       "      <td>-0.113330</td>\n",
       "    </tr>\n",
       "    <tr>\n",
       "      <th>16</th>\n",
       "      <td>-0.142508</td>\n",
       "      <td>0.097671</td>\n",
       "      <td>-0.014369</td>\n",
       "      <td>0.027975</td>\n",
       "      <td>0.029881</td>\n",
       "      <td>0.169603</td>\n",
       "      <td>-0.022507</td>\n",
       "      <td>-0.093937</td>\n",
       "      <td>-0.100857</td>\n",
       "      <td>0.129521</td>\n",
       "    </tr>\n",
       "    <tr>\n",
       "      <th>17</th>\n",
       "      <td>0.163273</td>\n",
       "      <td>0.092256</td>\n",
       "      <td>0.297362</td>\n",
       "      <td>-0.023787</td>\n",
       "      <td>-0.001466</td>\n",
       "      <td>-0.138810</td>\n",
       "      <td>-0.126334</td>\n",
       "      <td>0.051337</td>\n",
       "      <td>-0.110244</td>\n",
       "      <td>-0.009919</td>\n",
       "    </tr>\n",
       "    <tr>\n",
       "      <th>18</th>\n",
       "      <td>0.017856</td>\n",
       "      <td>-0.085099</td>\n",
       "      <td>0.085173</td>\n",
       "      <td>0.122379</td>\n",
       "      <td>-0.019062</td>\n",
       "      <td>0.035983</td>\n",
       "      <td>-0.016196</td>\n",
       "      <td>0.112267</td>\n",
       "      <td>0.080343</td>\n",
       "      <td>0.126598</td>\n",
       "    </tr>\n",
       "    <tr>\n",
       "      <th>19</th>\n",
       "      <td>0.059728</td>\n",
       "      <td>0.002044</td>\n",
       "      <td>0.077430</td>\n",
       "      <td>-0.020641</td>\n",
       "      <td>0.004201</td>\n",
       "      <td>-0.007187</td>\n",
       "      <td>0.131228</td>\n",
       "      <td>0.003170</td>\n",
       "      <td>0.002344</td>\n",
       "      <td>-0.008848</td>\n",
       "    </tr>\n",
       "    <tr>\n",
       "      <th>20</th>\n",
       "      <td>-0.032296</td>\n",
       "      <td>-0.069026</td>\n",
       "      <td>0.010650</td>\n",
       "      <td>-0.042135</td>\n",
       "      <td>0.002415</td>\n",
       "      <td>-0.002586</td>\n",
       "      <td>-0.026838</td>\n",
       "      <td>-0.093424</td>\n",
       "      <td>0.090696</td>\n",
       "      <td>-0.026539</td>\n",
       "    </tr>\n",
       "  </tbody>\n",
       "</table>\n",
       "</div>"
      ],
      "text/plain": [
       "           0         1         2         3         4         5         6   \n",
       "0   0.108582  0.047151 -0.090215  1.353407  0.543936 -1.337931 -1.065158  \\\n",
       "1  -0.574424 -0.716723 -0.211012  0.273582 -0.291230 -0.512642 -0.327780   \n",
       "2   0.537864  0.494604 -0.096291  0.451725  0.491375 -0.065085 -0.547790   \n",
       "3   0.498702  0.406678  0.226609  0.129886  0.045200 -0.113888 -0.041263   \n",
       "4  -0.587933  0.489419  0.412921  0.066838 -0.686664  0.213407 -0.238949   \n",
       "5   0.456096 -0.508008 -0.250760  0.185151 -0.092568  0.031041  0.643533   \n",
       "6   0.279154 -0.373310 -0.040299  0.118741  0.321192 -0.059057 -0.296018   \n",
       "7   0.546058 -0.117602 -0.015733  0.150985 -0.087823  0.108120  0.124292   \n",
       "8   0.082506  0.295906 -0.389367 -0.077537 -0.096548  0.052603  0.090922   \n",
       "9  -0.132753 -0.058394 -0.161979  0.054263 -0.186621  0.073997  0.006181   \n",
       "10  0.020061  0.114448  0.208979  0.008523 -0.003582  0.036240 -0.057146   \n",
       "11 -0.124765  0.108493 -0.050232 -0.048477 -0.192685  0.196224 -0.006818   \n",
       "12 -0.061971  0.066483  0.032047  0.079159 -0.038498 -0.239024 -0.000349   \n",
       "13  0.155951  0.183960 -0.075008  0.042270  0.186666  0.083251  0.130578   \n",
       "14  0.094436  0.015976  0.352847  0.000650 -0.058494  0.106945 -0.081955   \n",
       "15 -0.029417  0.205648  0.200973  0.012170 -0.003544 -0.006003 -0.208144   \n",
       "16 -0.142508  0.097671 -0.014369  0.027975  0.029881  0.169603 -0.022507   \n",
       "17  0.163273  0.092256  0.297362 -0.023787 -0.001466 -0.138810 -0.126334   \n",
       "18  0.017856 -0.085099  0.085173  0.122379 -0.019062  0.035983 -0.016196   \n",
       "19  0.059728  0.002044  0.077430 -0.020641  0.004201 -0.007187  0.131228   \n",
       "20 -0.032296 -0.069026  0.010650 -0.042135  0.002415 -0.002586 -0.026838   \n",
       "\n",
       "           7         8         9  \n",
       "0  -0.897421 -0.009373 -0.126169  \n",
       "1  -0.489651 -0.315189 -0.422283  \n",
       "2   0.823222 -0.750135 -0.353828  \n",
       "3  -0.300901 -0.038114 -0.574432  \n",
       "4   0.207119 -0.039683  0.336750  \n",
       "5   0.040054 -0.214722  0.228547  \n",
       "6   0.175180 -0.067271  0.003632  \n",
       "7  -0.246969 -0.200124  0.058870  \n",
       "8  -0.152764 -0.127075 -0.094810  \n",
       "9  -0.038866 -0.227574 -0.058603  \n",
       "10 -0.239290 -0.062074 -0.006718  \n",
       "11 -0.047599 -0.033631  0.055577  \n",
       "12  0.158037  0.056380 -0.020836  \n",
       "13  0.035460 -0.113674  0.079207  \n",
       "14 -0.043160  0.039765 -0.097706  \n",
       "15 -0.020886  0.116896 -0.113330  \n",
       "16 -0.093937 -0.100857  0.129521  \n",
       "17  0.051337 -0.110244 -0.009919  \n",
       "18  0.112267  0.080343  0.126598  \n",
       "19  0.003170  0.002344 -0.008848  \n",
       "20 -0.093424  0.090696 -0.026539  "
      ]
     },
     "execution_count": null,
     "metadata": {},
     "output_type": "execute_result"
    }
   ],
   "source": [
    "pc_scores = pca.fit_transform(df_X)\n",
    "pd.DataFrame(pc_scores).head(10).T"
   ]
  },
  {
   "cell_type": "markdown",
   "metadata": {},
   "source": [
    "Now that our `pca` object is fit, we can examine how much variance is explained by each component.  As you can see, 31% of the variance is explained by the first component."
   ]
  },
  {
   "cell_type": "code",
   "execution_count": null,
   "metadata": {},
   "outputs": [
    {
     "data": {
      "text/plain": [
       "array([0.31066213, 0.15675227, 0.12543453, 0.07790119, 0.06755613,\n",
       "       0.06360026, 0.03925333, 0.03386603, 0.01977618, 0.01712178,\n",
       "       0.01380059, 0.01331539, 0.01199815, 0.00946309, 0.00812939,\n",
       "       0.00801006, 0.00682141, 0.00512116, 0.00459589, 0.00373127,\n",
       "       0.00308978])"
      ]
     },
     "execution_count": null,
     "metadata": {},
     "output_type": "execute_result"
    }
   ],
   "source": [
    "pca.explained_variance_ratio_"
   ]
  },
  {
   "cell_type": "markdown",
   "metadata": {},
   "source": [
    "It's a little more enlightening to consider how much variance is explained by the first $n$ components cumulatively.  We can visualize this easily with the following code."
   ]
  },
  {
   "cell_type": "code",
   "execution_count": null,
   "metadata": {},
   "outputs": [
    {
     "data": {
      "image/png": "[encoded data removed]",
      "text/plain": [
       "<Figure size 640x480 with 1 Axes>"
      ]
     },
     "metadata": {},
     "output_type": "display_data"
    }
   ],
   "source": [
    "pd.DataFrame({\n",
    "    'num_components': range(1, 22),\n",
    "    'explained_variance':pca.explained_variance_ratio_.cumsum(),\n",
    "}).plot(x='num_components', y='explained_variance', grid=True, xticks=range(22));"
   ]
  },
  {
   "cell_type": "markdown",
   "metadata": {},
   "source": [
    "Notice that the first 9 (out of 21) components account for 90% of the variability in the features."
   ]
  },
  {
   "cell_type": "markdown",
   "metadata": {},
   "source": [
    "## Fitting Logistic Regressions with Increasing Numbers of Components"
   ]
  },
  {
   "cell_type": "markdown",
   "metadata": {},
   "source": [
    "Finally, we'll fit logistic regressions with increasing numbers of principal components and analyze how the performance of the model changes.  We'll use 10-fold cross-validation accuracy as our performance metric.\n",
    "\n",
    "Let's begin by importing the functions that we need from **sklearn** and instantiating our model object that we will call `log_reg`."
   ]
  },
  {
   "cell_type": "code",
   "execution_count": null,
   "metadata": {},
   "outputs": [],
   "source": [
    "from sklearn.linear_model import LogisticRegression\n",
    "from sklearn.model_selection import cross_val_score\n",
    "log_reg = LogisticRegression()"
   ]
  },
  {
   "cell_type": "markdown",
   "metadata": {},
   "source": [
    "The following `for`-loop iterates through the scores of the principal components and fits a logistic regression to cumulative subsets of them.  The first iteration uses the first principal component.  The second iteration uses the first two principal components.  The last iteration uses all the principal components."
   ]
  },
  {
   "cell_type": "code",
   "execution_count": null,
   "metadata": {},
   "outputs": [],
   "source": [
    "# creating lists to hold results\n",
    "components_used = []\n",
    "accuracy = []\n",
    "\n",
    "# performing 10-fold cross validation on and increasing number of principal components\n",
    "for ix_component in range(1, 21):\n",
    "\n",
    "    # 10-fold cross-validation\n",
    "    cv_scores = cross_val_score(estimator=log_reg,\n",
    "                                X=pc_scores[:, 0:ix_component],\n",
    "                                y=df_y,\n",
    "                                cv=10,\n",
    "                                scoring=\"accuracy\")\n",
    "\n",
    "    # calculating average accuracy\n",
    "    cv_accuracy = cv_scores.mean()\n",
    "\n",
    "    # appending to results list\n",
    "    components_used.append(ix_component)\n",
    "    accuracy.append(cv_accuracy)"
   ]
  },
  {
   "cell_type": "markdown",
   "metadata": {},
   "source": [
    "Let's visualize how our logistic regressions perform as we successively add principal components.  Using all principal components has the highest accuracy, but using about 12 seems to preform relatively well."
   ]
  },
  {
   "cell_type": "code",
   "execution_count": null,
   "metadata": {},
   "outputs": [
    {
     "data": {
      "image/png": "[encoded data removed]",
      "text/plain": [
       "<Figure size 640x480 with 1 Axes>"
      ]
     },
     "metadata": {},
     "output_type": "display_data"
    }
   ],
   "source": [
    "pd.DataFrame({\n",
    "    'num_components':components_used,\n",
    "    'accuracy':accuracy,\n",
    "}).plot(x='num_components', y='accuracy', grid=True, xticks=range(22));"
   ]
  },
  {
   "cell_type": "markdown",
   "metadata": {},
   "source": [
    "## References"
   ]
  },
  {
   "cell_type": "markdown",
   "metadata": {},
   "source": [
    "https://ethanwicker.com/2021-03-14-principal-components-regression-001/"
   ]
  }
 ],
 "metadata": {
  "kernelspec": {
   "display_name": "python3",
   "language": "python",
   "name": "python3"
  }
 },
 "nbformat": 4,
 "nbformat_minor": 4
}
